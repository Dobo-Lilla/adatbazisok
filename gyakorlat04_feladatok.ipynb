{
    "metadata": {
        "kernelspec": {
            "name": "SQL",
            "display_name": "SQL",
            "language": "sql"
        },
        "language_info": {
            "name": "sql",
            "version": ""
        }
    },
    "nbformat_minor": 2,
    "nbformat": 4,
    "cells": [
        {
            "cell_type": "markdown",
            "source": [
                "1. <span style=\"background-color: rgb(255, 255, 255); color: rgb(0, 0, 0); font-family: &quot;Open Sans&quot;, sans-serif; font-size: 14.44px;\">Készítsünk listát arról, hogy ügyfelenként (LOGIN), azon belül szállítási módonként hány megrendelés történt!&nbsp;</span> \n",
                "\n",
                "a. A lista tartalmazza a részösszegeket és a végösszeget is!  \n",
                "b. Használjuk a ROLLUP záradékot!"
            ],
            "metadata": {
                "azdata_cell_guid": "363cd270-6577-449b-9c89-d4b7c7972d52"
            },
            "attachments": {}
        },
        {
            "cell_type": "code",
            "source": [
                "SELECT [LOGIN], COUNT(SORSZAM),SZALL_MOD\r\n",
                "FROM Rendeles\r\n",
                "GROUP BY ROLLUP([LOGIN],SZALL_MOD)"
            ],
            "metadata": {
                "azdata_cell_guid": "6ab9f633-a3b5-48c9-a1dc-4fb8235ae85b",
                "language": "sql"
            },
            "outputs": [
                {
                    "output_type": "display_data",
                    "data": {
                        "text/html": "(766 rows affected)"
                    },
                    "metadata": {}
                },
                {
                    "output_type": "display_data",
                    "data": {
                        "text/html": "Total execution time: 00:00:00.038"
                    },
                    "metadata": {}
                },
                {
                    "output_type": "execute_result",
                    "execution_count": 2,
                    "data": {
                        "application/vnd.dataresource+json": {
                            "schema": {
                                "fields": [
                                    {
                                        "name": "LOGIN"
                                    },
                                    {
                                        "name": "(No column name)"
                                    },
                                    {
                                        "name": "SZALL_MOD"
                                    }
                                ]
                            },
                            "data": [
                                {
                                    "LOGIN": "adam1",
                                    "(No column name)": "129",
                                    "SZALL_MOD": "GLS"
                                },
                                {
                                    "LOGIN": "adam3",
                                    "(No column name)": "10",
                                    "SZALL_MOD": "GLS"
                                },
                                {
                                    "LOGIN": "adam4",
                                    "(No column name)": "12",
                                    "SZALL_MOD": "GLS"
                                },
                                {
                                    "LOGIN": "agnes",
                                    "(No column name)": "144",
                                    "SZALL_MOD": "GLS"
                                },
                                {
                                    "LOGIN": "agnes3",
                                    "(No column name)": "148",
                                    "SZALL_MOD": "GLS"
                                },
                                {
                                    "LOGIN": "AGNESH",
                                    "(No column name)": "2",
                                    "SZALL_MOD": "GLS"
                                },
                                {
                                    "LOGIN": "AGNESK",
                                    "(No column name)": "1",
                                    "SZALL_MOD": "GLS"
                                },
                                {
                                    "LOGIN": "akos",
                                    "(No column name)": "146",
                                    "SZALL_MOD": "GLS"
                                },
                                {
                                    "LOGIN": "aladar",
                                    "(No column name)": "156",
                                    "SZALL_MOD": "GLS"
                                },
                                {
                                    "LOGIN": "alexandra",
                                    "(No column name)": "5",
                                    "SZALL_MOD": "GLS"
                                },
                                {
                                    "LOGIN": "andi",
                                    "(No column name)": "7",
                                    "SZALL_MOD": "GLS"
                                },
                                {
                                    "LOGIN": "andras2",
                                    "(No column name)": "4",
                                    "SZALL_MOD": "GLS"
                                },
                                {
                                    "LOGIN": "andras21",
                                    "(No column name)": "140",
                                    "SZALL_MOD": "GLS"
                                },
                                {
                                    "LOGIN": "andras3",
                                    "(No column name)": "3",
                                    "SZALL_MOD": "GLS"
                                },
                                {
                                    "LOGIN": "andras4",
                                    "(No column name)": "4",
                                    "SZALL_MOD": "GLS"
                                },
                                {
                                    "LOGIN": "andras41",
                                    "(No column name)": "149",
                                    "SZALL_MOD": "GLS"
                                },
                                {
                                    "LOGIN": "ANDRASE",
                                    "(No column name)": "159",
                                    "SZALL_MOD": "GLS"
                                },
                                {
                                    "LOGIN": "ANDRASN",
                                    "(No column name)": "10",
                                    "SZALL_MOD": "GLS"
                                },
                                {
                                    "LOGIN": "andrea",
                                    "(No column name)": "12",
                                    "SZALL_MOD": "GLS"
                                },
                                {
                                    "LOGIN": "andrea3",
                                    "(No column name)": "131",
                                    "SZALL_MOD": "GLS"
                                },
                                {
                                    "LOGIN": "andrea4",
                                    "(No column name)": "7",
                                    "SZALL_MOD": "GLS"
                                },
                                {
                                    "LOGIN": "ANDREAT",
                                    "(No column name)": "3",
                                    "SZALL_MOD": "GLS"
                                },
                                {
                                    "LOGIN": "anett3",
                                    "(No column name)": "3",
                                    "SZALL_MOD": "GLS"
                                },
                                {
                                    "LOGIN": "aniko",
                                    "(No column name)": "128",
                                    "SZALL_MOD": "GLS"
                                },
                                {
                                    "LOGIN": "aniko4",
                                    "(No column name)": "6",
                                    "SZALL_MOD": "GLS"
                                },
                                {
                                    "LOGIN": "ANIKOS",
                                    "(No column name)": "128",
                                    "SZALL_MOD": "GLS"
                                },
                                {
                                    "LOGIN": "anita",
                                    "(No column name)": "5",
                                    "SZALL_MOD": "GLS"
                                },
                                {
                                    "LOGIN": "annamaria1",
                                    "(No column name)": "5",
                                    "SZALL_MOD": "GLS"
                                },
                                {
                                    "LOGIN": "ANNAMARIAR",
                                    "(No column name)": "8",
                                    "SZALL_MOD": "GLS"
                                },
                                {
                                    "LOGIN": "aron2",
                                    "(No column name)": "132",
                                    "SZALL_MOD": "GLS"
                                },
                                {
                                    "LOGIN": "ARONK",
                                    "(No column name)": "155",
                                    "SZALL_MOD": "GLS"
                                },
                                {
                                    "LOGIN": "arpad2",
                                    "(No column name)": "6",
                                    "SZALL_MOD": "GLS"
                                },
                                {
                                    "LOGIN": "ARPADH",
                                    "(No column name)": "6",
                                    "SZALL_MOD": "GLS"
                                },
                                {
                                    "LOGIN": "ARPADM",
                                    "(No column name)": "6",
                                    "SZALL_MOD": "GLS"
                                },
                                {
                                    "LOGIN": "attila1",
                                    "(No column name)": "5",
                                    "SZALL_MOD": "GLS"
                                },
                                {
                                    "LOGIN": "attila4",
                                    "(No column name)": "135",
                                    "SZALL_MOD": "GLS"
                                },
                                {
                                    "LOGIN": "ATTILAO",
                                    "(No column name)": "4",
                                    "SZALL_MOD": "GLS"
                                },
                                {
                                    "LOGIN": "balazs1",
                                    "(No column name)": "128",
                                    "SZALL_MOD": "GLS"
                                },
                                {
                                    "LOGIN": "balazs2",
                                    "(No column name)": "5",
                                    "SZALL_MOD": "GLS"
                                },
                                {
                                    "LOGIN": "balazs3",
                                    "(No column name)": "6",
                                    "SZALL_MOD": "GLS"
                                },
                                {
                                    "LOGIN": "balint",
                                    "(No column name)": "10",
                                    "SZALL_MOD": "GLS"
                                },
                                {
                                    "LOGIN": "balint1",
                                    "(No column name)": "158",
                                    "SZALL_MOD": "GLS"
                                },
                                {
                                    "LOGIN": "balint2",
                                    "(No column name)": "8",
                                    "SZALL_MOD": "GLS"
                                },
                                {
                                    "LOGIN": "balu",
                                    "(No column name)": "127",
                                    "SZALL_MOD": "GLS"
                                },
                                {
                                    "LOGIN": "BEATRIXK",
                                    "(No column name)": "135",
                                    "SZALL_MOD": "GLS"
                                },
                                {
                                    "LOGIN": "BEATRIXS",
                                    "(No column name)": "146",
                                    "SZALL_MOD": "GLS"
                                },
                                {
                                    "LOGIN": "BELAF",
                                    "(No column name)": "11",
                                    "SZALL_MOD": "GLS"
                                },
                                {
                                    "LOGIN": "bence",
                                    "(No column name)": "4",
                                    "SZALL_MOD": "GLS"
                                },
                                {
                                    "LOGIN": "BENCEB",
                                    "(No column name)": "5",
                                    "SZALL_MOD": "GLS"
                                },
                                {
                                    "LOGIN": "bernadett1",
                                    "(No column name)": "10",
                                    "SZALL_MOD": "GLS"
                                },
                                {
                                    "LOGIN": "bernadett2",
                                    "(No column name)": "6",
                                    "SZALL_MOD": "GLS"
                                },
                                {
                                    "LOGIN": "BERNADETTO",
                                    "(No column name)": "7",
                                    "SZALL_MOD": "GLS"
                                },
                                {
                                    "LOGIN": "bertalan",
                                    "(No column name)": "128",
                                    "SZALL_MOD": "GLS"
                                },
                                {
                                    "LOGIN": "brigitta",
                                    "(No column name)": "137",
                                    "SZALL_MOD": "GLS"
                                },
                                {
                                    "LOGIN": "brigitta3",
                                    "(No column name)": "144",
                                    "SZALL_MOD": "GLS"
                                },
                                {
                                    "LOGIN": "csongor3",
                                    "(No column name)": "5",
                                    "SZALL_MOD": "GLS"
                                },
                                {
                                    "LOGIN": "dani",
                                    "(No column name)": "5",
                                    "SZALL_MOD": "GLS"
                                },
                                {
                                    "LOGIN": "daniel",
                                    "(No column name)": "7",
                                    "SZALL_MOD": "GLS"
                                },
                                {
                                    "LOGIN": "daniel1",
                                    "(No column name)": "156",
                                    "SZALL_MOD": "GLS"
                                },
                                {
                                    "LOGIN": "david",
                                    "(No column name)": "161",
                                    "SZALL_MOD": "GLS"
                                },
                                {
                                    "LOGIN": "david1",
                                    "(No column name)": "8",
                                    "SZALL_MOD": "GLS"
                                },
                                {
                                    "LOGIN": "david4",
                                    "(No column name)": "3",
                                    "SZALL_MOD": "GLS"
                                },
                                {
                                    "LOGIN": "debora",
                                    "(No column name)": "7",
                                    "SZALL_MOD": "GLS"
                                },
                                {
                                    "LOGIN": "denes",
                                    "(No column name)": "3",
                                    "SZALL_MOD": "GLS"
                                },
                                {
                                    "LOGIN": "dora3",
                                    "(No column name)": "144",
                                    "SZALL_MOD": "GLS"
                                },
                                {
                                    "LOGIN": "edit",
                                    "(No column name)": "7",
                                    "SZALL_MOD": "GLS"
                                },
                                {
                                    "LOGIN": "emese",
                                    "(No column name)": "128",
                                    "SZALL_MOD": "GLS"
                                },
                                {
                                    "LOGIN": "eszter2",
                                    "(No column name)": "127",
                                    "SZALL_MOD": "GLS"
                                },
                                {
                                    "LOGIN": "eszter4",
                                    "(No column name)": "141",
                                    "SZALL_MOD": "GLS"
                                },
                                {
                                    "LOGIN": "ESZTERE",
                                    "(No column name)": "6",
                                    "SZALL_MOD": "GLS"
                                },
                                {
                                    "LOGIN": "eva",
                                    "(No column name)": "125",
                                    "SZALL_MOD": "GLS"
                                },
                                {
                                    "LOGIN": "eva2",
                                    "(No column name)": "154",
                                    "SZALL_MOD": "GLS"
                                },
                                {
                                    "LOGIN": "EVAV",
                                    "(No column name)": "2",
                                    "SZALL_MOD": "GLS"
                                },
                                {
                                    "LOGIN": "ferenc1",
                                    "(No column name)": "144",
                                    "SZALL_MOD": "GLS"
                                },
                                {
                                    "LOGIN": "fruzsina4",
                                    "(No column name)": "8",
                                    "SZALL_MOD": "GLS"
                                },
                                {
                                    "LOGIN": "gabor1",
                                    "(No column name)": "9",
                                    "SZALL_MOD": "GLS"
                                },
                                {
                                    "LOGIN": "gabor4",
                                    "(No column name)": "7",
                                    "SZALL_MOD": "GLS"
                                },
                                {
                                    "LOGIN": "GABORS",
                                    "(No column name)": "5",
                                    "SZALL_MOD": "GLS"
                                },
                                {
                                    "LOGIN": "gabriella1",
                                    "(No column name)": "5",
                                    "SZALL_MOD": "GLS"
                                },
                                {
                                    "LOGIN": "gabriella10",
                                    "(No column name)": "4",
                                    "SZALL_MOD": "GLS"
                                },
                                {
                                    "LOGIN": "georgij",
                                    "(No column name)": "9",
                                    "SZALL_MOD": "GLS"
                                },
                                {
                                    "LOGIN": "gusztav",
                                    "(No column name)": "5",
                                    "SZALL_MOD": "GLS"
                                },
                                {
                                    "LOGIN": "GYONGYIK",
                                    "(No column name)": "6",
                                    "SZALL_MOD": "GLS"
                                },
                                {
                                    "LOGIN": "GYORGYO",
                                    "(No column name)": "7",
                                    "SZALL_MOD": "GLS"
                                },
                                {
                                    "LOGIN": "henrik3",
                                    "(No column name)": "7",
                                    "SZALL_MOD": "GLS"
                                },
                                {
                                    "LOGIN": "IBOLYAA",
                                    "(No column name)": "140",
                                    "SZALL_MOD": "GLS"
                                },
                                {
                                    "LOGIN": "ilona3",
                                    "(No column name)": "9",
                                    "SZALL_MOD": "GLS"
                                },
                                {
                                    "LOGIN": "imre",
                                    "(No column name)": "5",
                                    "SZALL_MOD": "GLS"
                                },
                                {
                                    "LOGIN": "imre1",
                                    "(No column name)": "8",
                                    "SZALL_MOD": "GLS"
                                },
                                {
                                    "LOGIN": "istvan",
                                    "(No column name)": "3",
                                    "SZALL_MOD": "GLS"
                                },
                                {
                                    "LOGIN": "istvan1",
                                    "(No column name)": "8",
                                    "SZALL_MOD": "GLS"
                                },
                                {
                                    "LOGIN": "ISTVANV",
                                    "(No column name)": "4",
                                    "SZALL_MOD": "GLS"
                                },
                                {
                                    "LOGIN": "janos3",
                                    "(No column name)": "5",
                                    "SZALL_MOD": "GLS"
                                },
                                {
                                    "LOGIN": "JANOSG",
                                    "(No column name)": "3",
                                    "SZALL_MOD": "GLS"
                                },
                                {
                                    "LOGIN": "JANOSP",
                                    "(No column name)": "7",
                                    "SZALL_MOD": "GLS"
                                },
                                {
                                    "LOGIN": "jozsef",
                                    "(No column name)": "116",
                                    "SZALL_MOD": "GLS"
                                },
                                {
                                    "LOGIN": "jozsef2",
                                    "(No column name)": "7",
                                    "SZALL_MOD": "GLS"
                                },
                                {
                                    "LOGIN": "JOZSEFG",
                                    "(No column name)": "11",
                                    "SZALL_MOD": "GLS"
                                },
                                {
                                    "LOGIN": "JUDITH",
                                    "(No column name)": "170",
                                    "SZALL_MOD": "GLS"
                                },
                                {
                                    "LOGIN": "julia",
                                    "(No column name)": "137",
                                    "SZALL_MOD": "GLS"
                                },
                                {
                                    "LOGIN": "julia4",
                                    "(No column name)": "2",
                                    "SZALL_MOD": "GLS"
                                },
                                {
                                    "LOGIN": "julianna4",
                                    "(No column name)": "8",
                                    "SZALL_MOD": "GLS"
                                },
                                {
                                    "LOGIN": "kata",
                                    "(No column name)": "5",
                                    "SZALL_MOD": "GLS"
                                },
                                {
                                    "LOGIN": "katalin",
                                    "(No column name)": "7",
                                    "SZALL_MOD": "GLS"
                                },
                                {
                                    "LOGIN": "katalin4",
                                    "(No column name)": "7",
                                    "SZALL_MOD": "GLS"
                                },
                                {
                                    "LOGIN": "kati",
                                    "(No column name)": "4",
                                    "SZALL_MOD": "GLS"
                                },
                                {
                                    "LOGIN": "katka",
                                    "(No column name)": "6",
                                    "SZALL_MOD": "GLS"
                                },
                                {
                                    "LOGIN": "klaudia2",
                                    "(No column name)": "3",
                                    "SZALL_MOD": "GLS"
                                },
                                {
                                    "LOGIN": "kornel4",
                                    "(No column name)": "3",
                                    "SZALL_MOD": "GLS"
                                },
                                {
                                    "LOGIN": "kristof4",
                                    "(No column name)": "9",
                                    "SZALL_MOD": "GLS"
                                },
                                {
                                    "LOGIN": "kriszti",
                                    "(No column name)": "3",
                                    "SZALL_MOD": "GLS"
                                },
                                {
                                    "LOGIN": "krisztian4",
                                    "(No column name)": "5",
                                    "SZALL_MOD": "GLS"
                                },
                                {
                                    "LOGIN": "KRISZTIANM",
                                    "(No column name)": "118",
                                    "SZALL_MOD": "GLS"
                                },
                                {
                                    "LOGIN": "krisztina",
                                    "(No column name)": "149",
                                    "SZALL_MOD": "GLS"
                                },
                                {
                                    "LOGIN": "krisztina1",
                                    "(No column name)": "10",
                                    "SZALL_MOD": "GLS"
                                },
                                {
                                    "LOGIN": "KRISZTINAG",
                                    "(No column name)": "6",
                                    "SZALL_MOD": "GLS"
                                },
                                {
                                    "LOGIN": "lajos",
                                    "(No column name)": "5",
                                    "SZALL_MOD": "GLS"
                                },
                                {
                                    "LOGIN": "lala",
                                    "(No column name)": "5",
                                    "SZALL_MOD": "GLS"
                                },
                                {
                                    "LOGIN": "laszlo1",
                                    "(No column name)": "130",
                                    "SZALL_MOD": "GLS"
                                },
                                {
                                    "LOGIN": "laszlo2",
                                    "(No column name)": "12",
                                    "SZALL_MOD": "GLS"
                                },
                                {
                                    "LOGIN": "LASZLOA",
                                    "(No column name)": "156",
                                    "SZALL_MOD": "GLS"
                                },
                                {
                                    "LOGIN": "LASZLON",
                                    "(No column name)": "126",
                                    "SZALL_MOD": "GLS"
                                },
                                {
                                    "LOGIN": "maria1",
                                    "(No column name)": "4",
                                    "SZALL_MOD": "GLS"
                                },
                                {
                                    "LOGIN": "MARKH",
                                    "(No column name)": "128",
                                    "SZALL_MOD": "GLS"
                                },
                                {
                                    "LOGIN": "marton",
                                    "(No column name)": "5",
                                    "SZALL_MOD": "GLS"
                                },
                                {
                                    "LOGIN": "MATEK",
                                    "(No column name)": "6",
                                    "SZALL_MOD": "GLS"
                                },
                                {
                                    "LOGIN": "matyas2",
                                    "(No column name)": "138",
                                    "SZALL_MOD": "GLS"
                                },
                                {
                                    "LOGIN": "MATYASS",
                                    "(No column name)": "4",
                                    "SZALL_MOD": "GLS"
                                },
                                {
                                    "LOGIN": "MIHALYJ",
                                    "(No column name)": "3",
                                    "SZALL_MOD": "GLS"
                                },
                                {
                                    "LOGIN": "miklos2",
                                    "(No column name)": "7",
                                    "SZALL_MOD": "GLS"
                                },
                                {
                                    "LOGIN": "MIKLOSB",
                                    "(No column name)": "6",
                                    "SZALL_MOD": "GLS"
                                },
                                {
                                    "LOGIN": "MONIKAM",
                                    "(No column name)": "133",
                                    "SZALL_MOD": "GLS"
                                },
                                {
                                    "LOGIN": "NANDORF",
                                    "(No column name)": "147",
                                    "SZALL_MOD": "GLS"
                                },
                                {
                                    "LOGIN": "nikolett3",
                                    "(No column name)": "4",
                                    "SZALL_MOD": "GLS"
                                },
                                {
                                    "LOGIN": "nikoletta4",
                                    "(No column name)": "137",
                                    "SZALL_MOD": "GLS"
                                },
                                {
                                    "LOGIN": "NIKOLETTAT",
                                    "(No column name)": "13",
                                    "SZALL_MOD": "GLS"
                                },
                                {
                                    "LOGIN": "norbert2",
                                    "(No column name)": "7",
                                    "SZALL_MOD": "GLS"
                                },
                                {
                                    "LOGIN": "norbert4",
                                    "(No column name)": "1",
                                    "SZALL_MOD": "GLS"
                                },
                                {
                                    "LOGIN": "norbert5",
                                    "(No column name)": "1",
                                    "SZALL_MOD": "GLS"
                                },
                                {
                                    "LOGIN": "pal",
                                    "(No column name)": "152",
                                    "SZALL_MOD": "GLS"
                                },
                                {
                                    "LOGIN": "peter1",
                                    "(No column name)": "151",
                                    "SZALL_MOD": "GLS"
                                },
                                {
                                    "LOGIN": "peter2",
                                    "(No column name)": "7",
                                    "SZALL_MOD": "GLS"
                                },
                                {
                                    "LOGIN": "peter3",
                                    "(No column name)": "8",
                                    "SZALL_MOD": "GLS"
                                },
                                {
                                    "LOGIN": "peter4",
                                    "(No column name)": "266",
                                    "SZALL_MOD": "GLS"
                                },
                                {
                                    "LOGIN": "PETERB",
                                    "(No column name)": "2",
                                    "SZALL_MOD": "GLS"
                                },
                                {
                                    "LOGIN": "polla",
                                    "(No column name)": "9",
                                    "SZALL_MOD": "GLS"
                                },
                                {
                                    "LOGIN": "rajmond4",
                                    "(No column name)": "6",
                                    "SZALL_MOD": "GLS"
                                },
                                {
                                    "LOGIN": "reka4",
                                    "(No column name)": "5",
                                    "SZALL_MOD": "GLS"
                                },
                                {
                                    "LOGIN": "RENATAK",
                                    "(No column name)": "135",
                                    "SZALL_MOD": "GLS"
                                },
                                {
                                    "LOGIN": "RENATAS",
                                    "(No column name)": "6",
                                    "SZALL_MOD": "GLS"
                                },
                                {
                                    "LOGIN": "robert2",
                                    "(No column name)": "5",
                                    "SZALL_MOD": "GLS"
                                },
                                {
                                    "LOGIN": "ROBERTI",
                                    "(No column name)": "5",
                                    "SZALL_MOD": "GLS"
                                },
                                {
                                    "LOGIN": "ROBERTP",
                                    "(No column name)": "8",
                                    "SZALL_MOD": "GLS"
                                },
                                {
                                    "LOGIN": "roland",
                                    "(No column name)": "132",
                                    "SZALL_MOD": "GLS"
                                },
                                {
                                    "LOGIN": "roland1",
                                    "(No column name)": "142",
                                    "SZALL_MOD": "GLS"
                                },
                                {
                                    "LOGIN": "roza2",
                                    "(No column name)": "3",
                                    "SZALL_MOD": "GLS"
                                },
                                {
                                    "LOGIN": "sandor",
                                    "(No column name)": "4",
                                    "SZALL_MOD": "GLS"
                                },
                                {
                                    "LOGIN": "sandor3",
                                    "(No column name)": "4",
                                    "SZALL_MOD": "GLS"
                                },
                                {
                                    "LOGIN": "sandor4",
                                    "(No column name)": "4",
                                    "SZALL_MOD": "GLS"
                                },
                                {
                                    "LOGIN": "sara",
                                    "(No column name)": "4",
                                    "SZALL_MOD": "GLS"
                                },
                                {
                                    "LOGIN": "SEBASTIANF",
                                    "(No column name)": "6",
                                    "SZALL_MOD": "GLS"
                                },
                                {
                                    "LOGIN": "sebestyen",
                                    "(No column name)": "4",
                                    "SZALL_MOD": "GLS"
                                },
                                {
                                    "LOGIN": "szabolcs",
                                    "(No column name)": "145",
                                    "SZALL_MOD": "GLS"
                                },
                                {
                                    "LOGIN": "SZABOLCSM",
                                    "(No column name)": "126",
                                    "SZALL_MOD": "GLS"
                                },
                                {
                                    "LOGIN": "SZILARDS",
                                    "(No column name)": "144",
                                    "SZALL_MOD": "GLS"
                                },
                                {
                                    "LOGIN": "szilvia1",
                                    "(No column name)": "156",
                                    "SZALL_MOD": "GLS"
                                },
                                {
                                    "LOGIN": "tamara2",
                                    "(No column name)": "6",
                                    "SZALL_MOD": "GLS"
                                },
                                {
                                    "LOGIN": "tamas",
                                    "(No column name)": "143",
                                    "SZALL_MOD": "GLS"
                                },
                                {
                                    "LOGIN": "TAMASF",
                                    "(No column name)": "159",
                                    "SZALL_MOD": "GLS"
                                },
                                {
                                    "LOGIN": "tibor",
                                    "(No column name)": "115",
                                    "SZALL_MOD": "GLS"
                                },
                                {
                                    "LOGIN": "tibor2",
                                    "(No column name)": "7",
                                    "SZALL_MOD": "GLS"
                                },
                                {
                                    "LOGIN": "tihamer",
                                    "(No column name)": "9",
                                    "SZALL_MOD": "GLS"
                                },
                                {
                                    "LOGIN": "timea",
                                    "(No column name)": "14",
                                    "SZALL_MOD": "GLS"
                                },
                                {
                                    "LOGIN": "timea2",
                                    "(No column name)": "1",
                                    "SZALL_MOD": "GLS"
                                },
                                {
                                    "LOGIN": "tunde",
                                    "(No column name)": "6",
                                    "SZALL_MOD": "GLS"
                                },
                                {
                                    "LOGIN": "valentin",
                                    "(No column name)": "5",
                                    "SZALL_MOD": "GLS"
                                },
                                {
                                    "LOGIN": "veronika4",
                                    "(No column name)": "5",
                                    "SZALL_MOD": "GLS"
                                },
                                {
                                    "LOGIN": "VIKTORIAU",
                                    "(No column name)": "5",
                                    "SZALL_MOD": "GLS"
                                },
                                {
                                    "LOGIN": "VIKTORK",
                                    "(No column name)": "8",
                                    "SZALL_MOD": "GLS"
                                },
                                {
                                    "LOGIN": "vivien3",
                                    "(No column name)": "9",
                                    "SZALL_MOD": "GLS"
                                },
                                {
                                    "LOGIN": "zoltan",
                                    "(No column name)": "5",
                                    "SZALL_MOD": "GLS"
                                },
                                {
                                    "LOGIN": "zoltan4",
                                    "(No column name)": "129",
                                    "SZALL_MOD": "GLS"
                                },
                                {
                                    "LOGIN": "ZOLTANP",
                                    "(No column name)": "6",
                                    "SZALL_MOD": "GLS"
                                },
                                {
                                    "LOGIN": "ZOLTANT",
                                    "(No column name)": "127",
                                    "SZALL_MOD": "GLS"
                                },
                                {
                                    "LOGIN": "zsofi1",
                                    "(No column name)": "7",
                                    "SZALL_MOD": "GLS"
                                },
                                {
                                    "LOGIN": "zsolt1",
                                    "(No column name)": "11",
                                    "SZALL_MOD": "GLS"
                                },
                                {
                                    "LOGIN": "ZSOLTJ",
                                    "(No column name)": "1",
                                    "SZALL_MOD": "GLS"
                                },
                                {
                                    "LOGIN": "zsuzsa",
                                    "(No column name)": "8",
                                    "SZALL_MOD": "GLS"
                                },
                                {
                                    "LOGIN": "zsuzsa3",
                                    "(No column name)": "5",
                                    "SZALL_MOD": "GLS"
                                },
                                {
                                    "LOGIN": "zsuzsanna",
                                    "(No column name)": "7",
                                    "SZALL_MOD": "GLS"
                                },
                                {
                                    "LOGIN": "ZSUZSAV",
                                    "(No column name)": "139",
                                    "SZALL_MOD": "GLS"
                                },
                                {
                                    "LOGIN": "NULL",
                                    "(No column name)": "9426",
                                    "SZALL_MOD": "GLS"
                                },
                                {
                                    "LOGIN": "adam1",
                                    "(No column name)": "132",
                                    "SZALL_MOD": "Posta"
                                },
                                {
                                    "LOGIN": "adam3",
                                    "(No column name)": "3",
                                    "SZALL_MOD": "Posta"
                                },
                                {
                                    "LOGIN": "adam4",
                                    "(No column name)": "6",
                                    "SZALL_MOD": "Posta"
                                },
                                {
                                    "LOGIN": "agnes",
                                    "(No column name)": "130",
                                    "SZALL_MOD": "Posta"
                                },
                                {
                                    "LOGIN": "agnes3",
                                    "(No column name)": "146",
                                    "SZALL_MOD": "Posta"
                                },
                                {
                                    "LOGIN": "AGNESH",
                                    "(No column name)": "3",
                                    "SZALL_MOD": "Posta"
                                },
                                {
                                    "LOGIN": "AGNESK",
                                    "(No column name)": "7",
                                    "SZALL_MOD": "Posta"
                                },
                                {
                                    "LOGIN": "akos",
                                    "(No column name)": "143",
                                    "SZALL_MOD": "Posta"
                                },
                                {
                                    "LOGIN": "aladar",
                                    "(No column name)": "134",
                                    "SZALL_MOD": "Posta"
                                },
                                {
                                    "LOGIN": "alexandra",
                                    "(No column name)": "9",
                                    "SZALL_MOD": "Posta"
                                },
                                {
                                    "LOGIN": "andi",
                                    "(No column name)": "4",
                                    "SZALL_MOD": "Posta"
                                },
                                {
                                    "LOGIN": "andras2",
                                    "(No column name)": "7",
                                    "SZALL_MOD": "Posta"
                                },
                                {
                                    "LOGIN": "andras21",
                                    "(No column name)": "124",
                                    "SZALL_MOD": "Posta"
                                },
                                {
                                    "LOGIN": "andras3",
                                    "(No column name)": "1",
                                    "SZALL_MOD": "Posta"
                                },
                                {
                                    "LOGIN": "andras4",
                                    "(No column name)": "4",
                                    "SZALL_MOD": "Posta"
                                },
                                {
                                    "LOGIN": "andras41",
                                    "(No column name)": "137",
                                    "SZALL_MOD": "Posta"
                                },
                                {
                                    "LOGIN": "ANDRASE",
                                    "(No column name)": "141",
                                    "SZALL_MOD": "Posta"
                                },
                                {
                                    "LOGIN": "ANDRASN",
                                    "(No column name)": "9",
                                    "SZALL_MOD": "Posta"
                                },
                                {
                                    "LOGIN": "andrea",
                                    "(No column name)": "4",
                                    "SZALL_MOD": "Posta"
                                },
                                {
                                    "LOGIN": "andrea3",
                                    "(No column name)": "136",
                                    "SZALL_MOD": "Posta"
                                },
                                {
                                    "LOGIN": "andrea4",
                                    "(No column name)": "4",
                                    "SZALL_MOD": "Posta"
                                },
                                {
                                    "LOGIN": "ANDREAT",
                                    "(No column name)": "6",
                                    "SZALL_MOD": "Posta"
                                },
                                {
                                    "LOGIN": "anett3",
                                    "(No column name)": "6",
                                    "SZALL_MOD": "Posta"
                                },
                                {
                                    "LOGIN": "aniko",
                                    "(No column name)": "137",
                                    "SZALL_MOD": "Posta"
                                },
                                {
                                    "LOGIN": "aniko4",
                                    "(No column name)": "6",
                                    "SZALL_MOD": "Posta"
                                },
                                {
                                    "LOGIN": "ANIKOS",
                                    "(No column name)": "126",
                                    "SZALL_MOD": "Posta"
                                },
                                {
                                    "LOGIN": "anita",
                                    "(No column name)": "2",
                                    "SZALL_MOD": "Posta"
                                },
                                {
                                    "LOGIN": "annamaria1",
                                    "(No column name)": "4",
                                    "SZALL_MOD": "Posta"
                                },
                                {
                                    "LOGIN": "ANNAMARIAR",
                                    "(No column name)": "2",
                                    "SZALL_MOD": "Posta"
                                },
                                {
                                    "LOGIN": "aron2",
                                    "(No column name)": "133",
                                    "SZALL_MOD": "Posta"
                                },
                                {
                                    "LOGIN": "ARONK",
                                    "(No column name)": "120",
                                    "SZALL_MOD": "Posta"
                                },
                                {
                                    "LOGIN": "arpad2",
                                    "(No column name)": "1",
                                    "SZALL_MOD": "Posta"
                                },
                                {
                                    "LOGIN": "ARPADH",
                                    "(No column name)": "3",
                                    "SZALL_MOD": "Posta"
                                },
                                {
                                    "LOGIN": "ARPADM",
                                    "(No column name)": "3",
                                    "SZALL_MOD": "Posta"
                                },
                                {
                                    "LOGIN": "attila1",
                                    "(No column name)": "7",
                                    "SZALL_MOD": "Posta"
                                },
                                {
                                    "LOGIN": "attila4",
                                    "(No column name)": "125",
                                    "SZALL_MOD": "Posta"
                                },
                                {
                                    "LOGIN": "ATTILAO",
                                    "(No column name)": "4",
                                    "SZALL_MOD": "Posta"
                                },
                                {
                                    "LOGIN": "balazs1",
                                    "(No column name)": "136",
                                    "SZALL_MOD": "Posta"
                                },
                                {
                                    "LOGIN": "balazs2",
                                    "(No column name)": "7",
                                    "SZALL_MOD": "Posta"
                                },
                                {
                                    "LOGIN": "balazs3",
                                    "(No column name)": "6",
                                    "SZALL_MOD": "Posta"
                                },
                                {
                                    "LOGIN": "balint",
                                    "(No column name)": "4",
                                    "SZALL_MOD": "Posta"
                                },
                                {
                                    "LOGIN": "balint1",
                                    "(No column name)": "152",
                                    "SZALL_MOD": "Posta"
                                },
                                {
                                    "LOGIN": "balint2",
                                    "(No column name)": "6",
                                    "SZALL_MOD": "Posta"
                                },
                                {
                                    "LOGIN": "balu",
                                    "(No column name)": "137",
                                    "SZALL_MOD": "Posta"
                                },
                                {
                                    "LOGIN": "BEATRIXK",
                                    "(No column name)": "155",
                                    "SZALL_MOD": "Posta"
                                },
                                {
                                    "LOGIN": "BEATRIXS",
                                    "(No column name)": "141",
                                    "SZALL_MOD": "Posta"
                                },
                                {
                                    "LOGIN": "BELAF",
                                    "(No column name)": "2",
                                    "SZALL_MOD": "Posta"
                                },
                                {
                                    "LOGIN": "bence",
                                    "(No column name)": "6",
                                    "SZALL_MOD": "Posta"
                                },
                                {
                                    "LOGIN": "BENCEB",
                                    "(No column name)": "7",
                                    "SZALL_MOD": "Posta"
                                },
                                {
                                    "LOGIN": "bernadett1",
                                    "(No column name)": "5",
                                    "SZALL_MOD": "Posta"
                                },
                                {
                                    "LOGIN": "bernadett2",
                                    "(No column name)": "2",
                                    "SZALL_MOD": "Posta"
                                },
                                {
                                    "LOGIN": "BERNADETTO",
                                    "(No column name)": "2",
                                    "SZALL_MOD": "Posta"
                                },
                                {
                                    "LOGIN": "bertalan",
                                    "(No column name)": "124",
                                    "SZALL_MOD": "Posta"
                                },
                                {
                                    "LOGIN": "brigitta",
                                    "(No column name)": "137",
                                    "SZALL_MOD": "Posta"
                                },
                                {
                                    "LOGIN": "brigitta3",
                                    "(No column name)": "130",
                                    "SZALL_MOD": "Posta"
                                },
                                {
                                    "LOGIN": "csongor3",
                                    "(No column name)": "2",
                                    "SZALL_MOD": "Posta"
                                },
                                {
                                    "LOGIN": "daniel",
                                    "(No column name)": "2",
                                    "SZALL_MOD": "Posta"
                                },
                                {
                                    "LOGIN": "daniel1",
                                    "(No column name)": "131",
                                    "SZALL_MOD": "Posta"
                                },
                                {
                                    "LOGIN": "david",
                                    "(No column name)": "144",
                                    "SZALL_MOD": "Posta"
                                },
                                {
                                    "LOGIN": "david1",
                                    "(No column name)": "1",
                                    "SZALL_MOD": "Posta"
                                },
                                {
                                    "LOGIN": "david4",
                                    "(No column name)": "8",
                                    "SZALL_MOD": "Posta"
                                },
                                {
                                    "LOGIN": "debora",
                                    "(No column name)": "6",
                                    "SZALL_MOD": "Posta"
                                },
                                {
                                    "LOGIN": "denes",
                                    "(No column name)": "2",
                                    "SZALL_MOD": "Posta"
                                },
                                {
                                    "LOGIN": "dora3",
                                    "(No column name)": "124",
                                    "SZALL_MOD": "Posta"
                                },
                                {
                                    "LOGIN": "edit",
                                    "(No column name)": "2",
                                    "SZALL_MOD": "Posta"
                                },
                                {
                                    "LOGIN": "emese",
                                    "(No column name)": "136",
                                    "SZALL_MOD": "Posta"
                                },
                                {
                                    "LOGIN": "eszter2",
                                    "(No column name)": "136",
                                    "SZALL_MOD": "Posta"
                                },
                                {
                                    "LOGIN": "eszter4",
                                    "(No column name)": "134",
                                    "SZALL_MOD": "Posta"
                                },
                                {
                                    "LOGIN": "ESZTERE",
                                    "(No column name)": "9",
                                    "SZALL_MOD": "Posta"
                                },
                                {
                                    "LOGIN": "eva",
                                    "(No column name)": "140",
                                    "SZALL_MOD": "Posta"
                                },
                                {
                                    "LOGIN": "eva2",
                                    "(No column name)": "138",
                                    "SZALL_MOD": "Posta"
                                },
                                {
                                    "LOGIN": "EVAV",
                                    "(No column name)": "1",
                                    "SZALL_MOD": "Posta"
                                },
                                {
                                    "LOGIN": "ferenc1",
                                    "(No column name)": "158",
                                    "SZALL_MOD": "Posta"
                                },
                                {
                                    "LOGIN": "fruzsina4",
                                    "(No column name)": "3",
                                    "SZALL_MOD": "Posta"
                                },
                                {
                                    "LOGIN": "gabor1",
                                    "(No column name)": "5",
                                    "SZALL_MOD": "Posta"
                                },
                                {
                                    "LOGIN": "gabor4",
                                    "(No column name)": "9",
                                    "SZALL_MOD": "Posta"
                                },
                                {
                                    "LOGIN": "GABORS",
                                    "(No column name)": "6",
                                    "SZALL_MOD": "Posta"
                                },
                                {
                                    "LOGIN": "gabriella1",
                                    "(No column name)": "4",
                                    "SZALL_MOD": "Posta"
                                },
                                {
                                    "LOGIN": "gabriella10",
                                    "(No column name)": "5",
                                    "SZALL_MOD": "Posta"
                                },
                                {
                                    "LOGIN": "georgij",
                                    "(No column name)": "2",
                                    "SZALL_MOD": "Posta"
                                },
                                {
                                    "LOGIN": "gusztav",
                                    "(No column name)": "4",
                                    "SZALL_MOD": "Posta"
                                },
                                {
                                    "LOGIN": "GYONGYIK",
                                    "(No column name)": "6",
                                    "SZALL_MOD": "Posta"
                                },
                                {
                                    "LOGIN": "GYORGYO",
                                    "(No column name)": "4",
                                    "SZALL_MOD": "Posta"
                                },
                                {
                                    "LOGIN": "henrik3",
                                    "(No column name)": "4",
                                    "SZALL_MOD": "Posta"
                                },
                                {
                                    "LOGIN": "IBOLYAA",
                                    "(No column name)": "125",
                                    "SZALL_MOD": "Posta"
                                },
                                {
                                    "LOGIN": "ilona3",
                                    "(No column name)": "2",
                                    "SZALL_MOD": "Posta"
                                },
                                {
                                    "LOGIN": "imre",
                                    "(No column name)": "4",
                                    "SZALL_MOD": "Posta"
                                },
                                {
                                    "LOGIN": "imre1",
                                    "(No column name)": "4",
                                    "SZALL_MOD": "Posta"
                                },
                                {
                                    "LOGIN": "istvan",
                                    "(No column name)": "4",
                                    "SZALL_MOD": "Posta"
                                },
                                {
                                    "LOGIN": "istvan1",
                                    "(No column name)": "4",
                                    "SZALL_MOD": "Posta"
                                },
                                {
                                    "LOGIN": "ISTVANV",
                                    "(No column name)": "9",
                                    "SZALL_MOD": "Posta"
                                },
                                {
                                    "LOGIN": "janos3",
                                    "(No column name)": "2",
                                    "SZALL_MOD": "Posta"
                                },
                                {
                                    "LOGIN": "JANOSG",
                                    "(No column name)": "3",
                                    "SZALL_MOD": "Posta"
                                },
                                {
                                    "LOGIN": "JANOSP",
                                    "(No column name)": "7",
                                    "SZALL_MOD": "Posta"
                                },
                                {
                                    "LOGIN": "jozsef",
                                    "(No column name)": "132",
                                    "SZALL_MOD": "Posta"
                                },
                                {
                                    "LOGIN": "jozsef2",
                                    "(No column name)": "2",
                                    "SZALL_MOD": "Posta"
                                },
                                {
                                    "LOGIN": "JOZSEFG",
                                    "(No column name)": "1",
                                    "SZALL_MOD": "Posta"
                                },
                                {
                                    "LOGIN": "JUDITH",
                                    "(No column name)": "130",
                                    "SZALL_MOD": "Posta"
                                },
                                {
                                    "LOGIN": "julia",
                                    "(No column name)": "160",
                                    "SZALL_MOD": "Posta"
                                },
                                {
                                    "LOGIN": "julia4",
                                    "(No column name)": "4",
                                    "SZALL_MOD": "Posta"
                                },
                                {
                                    "LOGIN": "julianna4",
                                    "(No column name)": "12",
                                    "SZALL_MOD": "Posta"
                                },
                                {
                                    "LOGIN": "kata",
                                    "(No column name)": "4",
                                    "SZALL_MOD": "Posta"
                                },
                                {
                                    "LOGIN": "katalin",
                                    "(No column name)": "7",
                                    "SZALL_MOD": "Posta"
                                },
                                {
                                    "LOGIN": "katalin4",
                                    "(No column name)": "5",
                                    "SZALL_MOD": "Posta"
                                },
                                {
                                    "LOGIN": "kati",
                                    "(No column name)": "5",
                                    "SZALL_MOD": "Posta"
                                },
                                {
                                    "LOGIN": "katka",
                                    "(No column name)": "6",
                                    "SZALL_MOD": "Posta"
                                },
                                {
                                    "LOGIN": "klaudia2",
                                    "(No column name)": "9",
                                    "SZALL_MOD": "Posta"
                                },
                                {
                                    "LOGIN": "kornel4",
                                    "(No column name)": "1",
                                    "SZALL_MOD": "Posta"
                                },
                                {
                                    "LOGIN": "kristof4",
                                    "(No column name)": "4",
                                    "SZALL_MOD": "Posta"
                                },
                                {
                                    "LOGIN": "kriszti",
                                    "(No column name)": "5",
                                    "SZALL_MOD": "Posta"
                                },
                                {
                                    "LOGIN": "krisztian4",
                                    "(No column name)": "6",
                                    "SZALL_MOD": "Posta"
                                },
                                {
                                    "LOGIN": "KRISZTIANM",
                                    "(No column name)": "136",
                                    "SZALL_MOD": "Posta"
                                },
                                {
                                    "LOGIN": "krisztina",
                                    "(No column name)": "150",
                                    "SZALL_MOD": "Posta"
                                },
                                {
                                    "LOGIN": "krisztina1",
                                    "(No column name)": "4",
                                    "SZALL_MOD": "Posta"
                                },
                                {
                                    "LOGIN": "KRISZTINAG",
                                    "(No column name)": "6",
                                    "SZALL_MOD": "Posta"
                                },
                                {
                                    "LOGIN": "lajos",
                                    "(No column name)": "2",
                                    "SZALL_MOD": "Posta"
                                },
                                {
                                    "LOGIN": "lala",
                                    "(No column name)": "3",
                                    "SZALL_MOD": "Posta"
                                },
                                {
                                    "LOGIN": "laszlo1",
                                    "(No column name)": "129",
                                    "SZALL_MOD": "Posta"
                                },
                                {
                                    "LOGIN": "laszlo2",
                                    "(No column name)": "6",
                                    "SZALL_MOD": "Posta"
                                },
                                {
                                    "LOGIN": "LASZLOA",
                                    "(No column name)": "136",
                                    "SZALL_MOD": "Posta"
                                },
                                {
                                    "LOGIN": "LASZLON",
                                    "(No column name)": "131",
                                    "SZALL_MOD": "Posta"
                                },
                                {
                                    "LOGIN": "maria1",
                                    "(No column name)": "5",
                                    "SZALL_MOD": "Posta"
                                },
                                {
                                    "LOGIN": "MARKH",
                                    "(No column name)": "142",
                                    "SZALL_MOD": "Posta"
                                },
                                {
                                    "LOGIN": "marton",
                                    "(No column name)": "4",
                                    "SZALL_MOD": "Posta"
                                },
                                {
                                    "LOGIN": "MATEK",
                                    "(No column name)": "10",
                                    "SZALL_MOD": "Posta"
                                },
                                {
                                    "LOGIN": "matyas2",
                                    "(No column name)": "131",
                                    "SZALL_MOD": "Posta"
                                },
                                {
                                    "LOGIN": "MATYASS",
                                    "(No column name)": "5",
                                    "SZALL_MOD": "Posta"
                                },
                                {
                                    "LOGIN": "MIHALYJ",
                                    "(No column name)": "4",
                                    "SZALL_MOD": "Posta"
                                },
                                {
                                    "LOGIN": "miklos2",
                                    "(No column name)": "4",
                                    "SZALL_MOD": "Posta"
                                },
                                {
                                    "LOGIN": "MIKLOSB",
                                    "(No column name)": "1",
                                    "SZALL_MOD": "Posta"
                                },
                                {
                                    "LOGIN": "MONIKAM",
                                    "(No column name)": "151",
                                    "SZALL_MOD": "Posta"
                                },
                                {
                                    "LOGIN": "NANDORF",
                                    "(No column name)": "139",
                                    "SZALL_MOD": "Posta"
                                },
                                {
                                    "LOGIN": "nikolett3",
                                    "(No column name)": "3",
                                    "SZALL_MOD": "Posta"
                                },
                                {
                                    "LOGIN": "nikoletta4",
                                    "(No column name)": "158",
                                    "SZALL_MOD": "Posta"
                                },
                                {
                                    "LOGIN": "NIKOLETTAT",
                                    "(No column name)": "7",
                                    "SZALL_MOD": "Posta"
                                },
                                {
                                    "LOGIN": "norbert2",
                                    "(No column name)": "4",
                                    "SZALL_MOD": "Posta"
                                },
                                {
                                    "LOGIN": "norbert4",
                                    "(No column name)": "3",
                                    "SZALL_MOD": "Posta"
                                },
                                {
                                    "LOGIN": "norbert5",
                                    "(No column name)": "6",
                                    "SZALL_MOD": "Posta"
                                },
                                {
                                    "LOGIN": "pal",
                                    "(No column name)": "132",
                                    "SZALL_MOD": "Posta"
                                },
                                {
                                    "LOGIN": "peter1",
                                    "(No column name)": "135",
                                    "SZALL_MOD": "Posta"
                                },
                                {
                                    "LOGIN": "peter2",
                                    "(No column name)": "4",
                                    "SZALL_MOD": "Posta"
                                },
                                {
                                    "LOGIN": "peter3",
                                    "(No column name)": "7",
                                    "SZALL_MOD": "Posta"
                                },
                                {
                                    "LOGIN": "peter4",
                                    "(No column name)": "293",
                                    "SZALL_MOD": "Posta"
                                },
                                {
                                    "LOGIN": "PETERB",
                                    "(No column name)": "4",
                                    "SZALL_MOD": "Posta"
                                },
                                {
                                    "LOGIN": "polla",
                                    "(No column name)": "6",
                                    "SZALL_MOD": "Posta"
                                },
                                {
                                    "LOGIN": "rajmond4",
                                    "(No column name)": "5",
                                    "SZALL_MOD": "Posta"
                                },
                                {
                                    "LOGIN": "reka4",
                                    "(No column name)": "4",
                                    "SZALL_MOD": "Posta"
                                },
                                {
                                    "LOGIN": "RENATAK",
                                    "(No column name)": "140",
                                    "SZALL_MOD": "Posta"
                                },
                                {
                                    "LOGIN": "RENATAS",
                                    "(No column name)": "5",
                                    "SZALL_MOD": "Posta"
                                },
                                {
                                    "LOGIN": "robert2",
                                    "(No column name)": "1",
                                    "SZALL_MOD": "Posta"
                                },
                                {
                                    "LOGIN": "ROBERTI",
                                    "(No column name)": "3",
                                    "SZALL_MOD": "Posta"
                                },
                                {
                                    "LOGIN": "ROBERTP",
                                    "(No column name)": "8",
                                    "SZALL_MOD": "Posta"
                                },
                                {
                                    "LOGIN": "roland",
                                    "(No column name)": "157",
                                    "SZALL_MOD": "Posta"
                                },
                                {
                                    "LOGIN": "roland1",
                                    "(No column name)": "155",
                                    "SZALL_MOD": "Posta"
                                },
                                {
                                    "LOGIN": "roza2",
                                    "(No column name)": "2",
                                    "SZALL_MOD": "Posta"
                                },
                                {
                                    "LOGIN": "sandor",
                                    "(No column name)": "6",
                                    "SZALL_MOD": "Posta"
                                },
                                {
                                    "LOGIN": "sandor3",
                                    "(No column name)": "4",
                                    "SZALL_MOD": "Posta"
                                },
                                {
                                    "LOGIN": "sandor4",
                                    "(No column name)": "2",
                                    "SZALL_MOD": "Posta"
                                },
                                {
                                    "LOGIN": "sara",
                                    "(No column name)": "7",
                                    "SZALL_MOD": "Posta"
                                },
                                {
                                    "LOGIN": "SEBASTIANF",
                                    "(No column name)": "3",
                                    "SZALL_MOD": "Posta"
                                },
                                {
                                    "LOGIN": "sebestyen",
                                    "(No column name)": "6",
                                    "SZALL_MOD": "Posta"
                                },
                                {
                                    "LOGIN": "szabolcs",
                                    "(No column name)": "157",
                                    "SZALL_MOD": "Posta"
                                },
                                {
                                    "LOGIN": "SZABOLCSM",
                                    "(No column name)": "153",
                                    "SZALL_MOD": "Posta"
                                },
                                {
                                    "LOGIN": "SZILARDS",
                                    "(No column name)": "131",
                                    "SZALL_MOD": "Posta"
                                },
                                {
                                    "LOGIN": "szilvia1",
                                    "(No column name)": "151",
                                    "SZALL_MOD": "Posta"
                                },
                                {
                                    "LOGIN": "tamara2",
                                    "(No column name)": "4",
                                    "SZALL_MOD": "Posta"
                                },
                                {
                                    "LOGIN": "tamas",
                                    "(No column name)": "156",
                                    "SZALL_MOD": "Posta"
                                },
                                {
                                    "LOGIN": "TAMASF",
                                    "(No column name)": "145",
                                    "SZALL_MOD": "Posta"
                                },
                                {
                                    "LOGIN": "tibor",
                                    "(No column name)": "129",
                                    "SZALL_MOD": "Posta"
                                },
                                {
                                    "LOGIN": "tibor2",
                                    "(No column name)": "7",
                                    "SZALL_MOD": "Posta"
                                },
                                {
                                    "LOGIN": "tihamer",
                                    "(No column name)": "6",
                                    "SZALL_MOD": "Posta"
                                },
                                {
                                    "LOGIN": "timea",
                                    "(No column name)": "23",
                                    "SZALL_MOD": "Posta"
                                },
                                {
                                    "LOGIN": "timea2",
                                    "(No column name)": "5",
                                    "SZALL_MOD": "Posta"
                                },
                                {
                                    "LOGIN": "tunde",
                                    "(No column name)": "6",
                                    "SZALL_MOD": "Posta"
                                },
                                {
                                    "LOGIN": "valentin",
                                    "(No column name)": "5",
                                    "SZALL_MOD": "Posta"
                                },
                                {
                                    "LOGIN": "veronika4",
                                    "(No column name)": "6",
                                    "SZALL_MOD": "Posta"
                                },
                                {
                                    "LOGIN": "VIKTORIAU",
                                    "(No column name)": "4",
                                    "SZALL_MOD": "Posta"
                                },
                                {
                                    "LOGIN": "VIKTORK",
                                    "(No column name)": "6",
                                    "SZALL_MOD": "Posta"
                                },
                                {
                                    "LOGIN": "vivien3",
                                    "(No column name)": "6",
                                    "SZALL_MOD": "Posta"
                                },
                                {
                                    "LOGIN": "zoltan",
                                    "(No column name)": "3",
                                    "SZALL_MOD": "Posta"
                                },
                                {
                                    "LOGIN": "zoltan4",
                                    "(No column name)": "124",
                                    "SZALL_MOD": "Posta"
                                },
                                {
                                    "LOGIN": "ZOLTANP",
                                    "(No column name)": "3",
                                    "SZALL_MOD": "Posta"
                                },
                                {
                                    "LOGIN": "ZOLTANT",
                                    "(No column name)": "107",
                                    "SZALL_MOD": "Posta"
                                },
                                {
                                    "LOGIN": "zsofi1",
                                    "(No column name)": "6",
                                    "SZALL_MOD": "Posta"
                                },
                                {
                                    "LOGIN": "zsolt1",
                                    "(No column name)": "6",
                                    "SZALL_MOD": "Posta"
                                },
                                {
                                    "LOGIN": "ZSOLTJ",
                                    "(No column name)": "8",
                                    "SZALL_MOD": "Posta"
                                },
                                {
                                    "LOGIN": "zsuzsa",
                                    "(No column name)": "5",
                                    "SZALL_MOD": "Posta"
                                },
                                {
                                    "LOGIN": "zsuzsa3",
                                    "(No column name)": "5",
                                    "SZALL_MOD": "Posta"
                                },
                                {
                                    "LOGIN": "zsuzsanna",
                                    "(No column name)": "5",
                                    "SZALL_MOD": "Posta"
                                },
                                {
                                    "LOGIN": "ZSUZSAV",
                                    "(No column name)": "139",
                                    "SZALL_MOD": "Posta"
                                },
                                {
                                    "LOGIN": "NULL",
                                    "(No column name)": "9191",
                                    "SZALL_MOD": "Posta"
                                },
                                {
                                    "LOGIN": "adam1",
                                    "(No column name)": "131",
                                    "SZALL_MOD": "Személyes átvétel"
                                },
                                {
                                    "LOGIN": "adam3",
                                    "(No column name)": "2",
                                    "SZALL_MOD": "Személyes átvétel"
                                },
                                {
                                    "LOGIN": "adam4",
                                    "(No column name)": "11",
                                    "SZALL_MOD": "Személyes átvétel"
                                },
                                {
                                    "LOGIN": "agnes",
                                    "(No column name)": "144",
                                    "SZALL_MOD": "Személyes átvétel"
                                },
                                {
                                    "LOGIN": "agnes3",
                                    "(No column name)": "136",
                                    "SZALL_MOD": "Személyes átvétel"
                                },
                                {
                                    "LOGIN": "AGNESH",
                                    "(No column name)": "6",
                                    "SZALL_MOD": "Személyes átvétel"
                                },
                                {
                                    "LOGIN": "AGNESK",
                                    "(No column name)": "7",
                                    "SZALL_MOD": "Személyes átvétel"
                                },
                                {
                                    "LOGIN": "akos",
                                    "(No column name)": "140",
                                    "SZALL_MOD": "Személyes átvétel"
                                },
                                {
                                    "LOGIN": "aladar",
                                    "(No column name)": "118",
                                    "SZALL_MOD": "Személyes átvétel"
                                },
                                {
                                    "LOGIN": "alexandra",
                                    "(No column name)": "5",
                                    "SZALL_MOD": "Személyes átvétel"
                                },
                                {
                                    "LOGIN": "andi",
                                    "(No column name)": "7",
                                    "SZALL_MOD": "Személyes átvétel"
                                },
                                {
                                    "LOGIN": "andras2",
                                    "(No column name)": "11",
                                    "SZALL_MOD": "Személyes átvétel"
                                },
                                {
                                    "LOGIN": "andras21",
                                    "(No column name)": "126",
                                    "SZALL_MOD": "Személyes átvétel"
                                },
                                {
                                    "LOGIN": "andras3",
                                    "(No column name)": "5",
                                    "SZALL_MOD": "Személyes átvétel"
                                },
                                {
                                    "LOGIN": "andras4",
                                    "(No column name)": "4",
                                    "SZALL_MOD": "Személyes átvétel"
                                },
                                {
                                    "LOGIN": "andras41",
                                    "(No column name)": "133",
                                    "SZALL_MOD": "Személyes átvétel"
                                },
                                {
                                    "LOGIN": "ANDRASE",
                                    "(No column name)": "136",
                                    "SZALL_MOD": "Személyes átvétel"
                                },
                                {
                                    "LOGIN": "ANDRASN",
                                    "(No column name)": "5",
                                    "SZALL_MOD": "Személyes átvétel"
                                },
                                {
                                    "LOGIN": "andrea",
                                    "(No column name)": "8",
                                    "SZALL_MOD": "Személyes átvétel"
                                },
                                {
                                    "LOGIN": "andrea3",
                                    "(No column name)": "146",
                                    "SZALL_MOD": "Személyes átvétel"
                                },
                                {
                                    "LOGIN": "andrea4",
                                    "(No column name)": "7",
                                    "SZALL_MOD": "Személyes átvétel"
                                },
                                {
                                    "LOGIN": "ANDREAT",
                                    "(No column name)": "12",
                                    "SZALL_MOD": "Személyes átvétel"
                                },
                                {
                                    "LOGIN": "anett3",
                                    "(No column name)": "9",
                                    "SZALL_MOD": "Személyes átvétel"
                                },
                                {
                                    "LOGIN": "aniko",
                                    "(No column name)": "138",
                                    "SZALL_MOD": "Személyes átvétel"
                                },
                                {
                                    "LOGIN": "aniko4",
                                    "(No column name)": "3",
                                    "SZALL_MOD": "Személyes átvétel"
                                },
                                {
                                    "LOGIN": "ANIKOS",
                                    "(No column name)": "150",
                                    "SZALL_MOD": "Személyes átvétel"
                                },
                                {
                                    "LOGIN": "anita",
                                    "(No column name)": "5",
                                    "SZALL_MOD": "Személyes átvétel"
                                },
                                {
                                    "LOGIN": "annamaria1",
                                    "(No column name)": "7",
                                    "SZALL_MOD": "Személyes átvétel"
                                },
                                {
                                    "LOGIN": "ANNAMARIAR",
                                    "(No column name)": "3",
                                    "SZALL_MOD": "Személyes átvétel"
                                },
                                {
                                    "LOGIN": "aron2",
                                    "(No column name)": "144",
                                    "SZALL_MOD": "Személyes átvétel"
                                },
                                {
                                    "LOGIN": "ARONK",
                                    "(No column name)": "155",
                                    "SZALL_MOD": "Személyes átvétel"
                                },
                                {
                                    "LOGIN": "arpad2",
                                    "(No column name)": "10",
                                    "SZALL_MOD": "Személyes átvétel"
                                },
                                {
                                    "LOGIN": "ARPADH",
                                    "(No column name)": "5",
                                    "SZALL_MOD": "Személyes átvétel"
                                },
                                {
                                    "LOGIN": "ARPADM",
                                    "(No column name)": "7",
                                    "SZALL_MOD": "Személyes átvétel"
                                },
                                {
                                    "LOGIN": "attila1",
                                    "(No column name)": "6",
                                    "SZALL_MOD": "Személyes átvétel"
                                },
                                {
                                    "LOGIN": "attila4",
                                    "(No column name)": "141",
                                    "SZALL_MOD": "Személyes átvétel"
                                },
                                {
                                    "LOGIN": "ATTILAO",
                                    "(No column name)": "6",
                                    "SZALL_MOD": "Személyes átvétel"
                                },
                                {
                                    "LOGIN": "balazs1",
                                    "(No column name)": "155",
                                    "SZALL_MOD": "Személyes átvétel"
                                },
                                {
                                    "LOGIN": "balazs2",
                                    "(No column name)": "5",
                                    "SZALL_MOD": "Személyes átvétel"
                                },
                                {
                                    "LOGIN": "balazs3",
                                    "(No column name)": "3",
                                    "SZALL_MOD": "Személyes átvétel"
                                },
                                {
                                    "LOGIN": "balint",
                                    "(No column name)": "2",
                                    "SZALL_MOD": "Személyes átvétel"
                                },
                                {
                                    "LOGIN": "balint1",
                                    "(No column name)": "152",
                                    "SZALL_MOD": "Személyes átvétel"
                                },
                                {
                                    "LOGIN": "balint2",
                                    "(No column name)": "3",
                                    "SZALL_MOD": "Személyes átvétel"
                                },
                                {
                                    "LOGIN": "balu",
                                    "(No column name)": "123",
                                    "SZALL_MOD": "Személyes átvétel"
                                },
                                {
                                    "LOGIN": "BEATRIXK",
                                    "(No column name)": "145",
                                    "SZALL_MOD": "Személyes átvétel"
                                },
                                {
                                    "LOGIN": "BEATRIXS",
                                    "(No column name)": "133",
                                    "SZALL_MOD": "Személyes átvétel"
                                },
                                {
                                    "LOGIN": "BELAF",
                                    "(No column name)": "5",
                                    "SZALL_MOD": "Személyes átvétel"
                                },
                                {
                                    "LOGIN": "bence",
                                    "(No column name)": "8",
                                    "SZALL_MOD": "Személyes átvétel"
                                },
                                {
                                    "LOGIN": "BENCEB",
                                    "(No column name)": "5",
                                    "SZALL_MOD": "Személyes átvétel"
                                },
                                {
                                    "LOGIN": "bernadett1",
                                    "(No column name)": "5",
                                    "SZALL_MOD": "Személyes átvétel"
                                },
                                {
                                    "LOGIN": "bernadett2",
                                    "(No column name)": "7",
                                    "SZALL_MOD": "Személyes átvétel"
                                },
                                {
                                    "LOGIN": "BERNADETTO",
                                    "(No column name)": "7",
                                    "SZALL_MOD": "Személyes átvétel"
                                },
                                {
                                    "LOGIN": "bertalan",
                                    "(No column name)": "101",
                                    "SZALL_MOD": "Személyes átvétel"
                                },
                                {
                                    "LOGIN": "brigitta",
                                    "(No column name)": "119",
                                    "SZALL_MOD": "Személyes átvétel"
                                },
                                {
                                    "LOGIN": "brigitta3",
                                    "(No column name)": "139",
                                    "SZALL_MOD": "Személyes átvétel"
                                },
                                {
                                    "LOGIN": "csongor3",
                                    "(No column name)": "8",
                                    "SZALL_MOD": "Személyes átvétel"
                                },
                                {
                                    "LOGIN": "dani",
                                    "(No column name)": "8",
                                    "SZALL_MOD": "Személyes átvétel"
                                },
                                {
                                    "LOGIN": "daniel",
                                    "(No column name)": "4",
                                    "SZALL_MOD": "Személyes átvétel"
                                },
                                {
                                    "LOGIN": "daniel1",
                                    "(No column name)": "132",
                                    "SZALL_MOD": "Személyes átvétel"
                                },
                                {
                                    "LOGIN": "david",
                                    "(No column name)": "146",
                                    "SZALL_MOD": "Személyes átvétel"
                                },
                                {
                                    "LOGIN": "david1",
                                    "(No column name)": "8",
                                    "SZALL_MOD": "Személyes átvétel"
                                },
                                {
                                    "LOGIN": "david4",
                                    "(No column name)": "10",
                                    "SZALL_MOD": "Személyes átvétel"
                                },
                                {
                                    "LOGIN": "debora",
                                    "(No column name)": "3",
                                    "SZALL_MOD": "Személyes átvétel"
                                },
                                {
                                    "LOGIN": "denes",
                                    "(No column name)": "4",
                                    "SZALL_MOD": "Személyes átvétel"
                                },
                                {
                                    "LOGIN": "dora3",
                                    "(No column name)": "164",
                                    "SZALL_MOD": "Személyes átvétel"
                                },
                                {
                                    "LOGIN": "edit",
                                    "(No column name)": "4",
                                    "SZALL_MOD": "Személyes átvétel"
                                },
                                {
                                    "LOGIN": "emese",
                                    "(No column name)": "142",
                                    "SZALL_MOD": "Személyes átvétel"
                                },
                                {
                                    "LOGIN": "eszter2",
                                    "(No column name)": "152",
                                    "SZALL_MOD": "Személyes átvétel"
                                },
                                {
                                    "LOGIN": "eszter4",
                                    "(No column name)": "149",
                                    "SZALL_MOD": "Személyes átvétel"
                                },
                                {
                                    "LOGIN": "ESZTERE",
                                    "(No column name)": "7",
                                    "SZALL_MOD": "Személyes átvétel"
                                },
                                {
                                    "LOGIN": "eva",
                                    "(No column name)": "139",
                                    "SZALL_MOD": "Személyes átvétel"
                                },
                                {
                                    "LOGIN": "eva2",
                                    "(No column name)": "170",
                                    "SZALL_MOD": "Személyes átvétel"
                                },
                                {
                                    "LOGIN": "EVAV",
                                    "(No column name)": "4",
                                    "SZALL_MOD": "Személyes átvétel"
                                },
                                {
                                    "LOGIN": "ferenc1",
                                    "(No column name)": "135",
                                    "SZALL_MOD": "Személyes átvétel"
                                },
                                {
                                    "LOGIN": "fruzsina4",
                                    "(No column name)": "7",
                                    "SZALL_MOD": "Személyes átvétel"
                                },
                                {
                                    "LOGIN": "gabor1",
                                    "(No column name)": "5",
                                    "SZALL_MOD": "Személyes átvétel"
                                },
                                {
                                    "LOGIN": "gabor4",
                                    "(No column name)": "4",
                                    "SZALL_MOD": "Személyes átvétel"
                                },
                                {
                                    "LOGIN": "GABORS",
                                    "(No column name)": "4",
                                    "SZALL_MOD": "Személyes átvétel"
                                },
                                {
                                    "LOGIN": "gabriella1",
                                    "(No column name)": "5",
                                    "SZALL_MOD": "Személyes átvétel"
                                },
                                {
                                    "LOGIN": "gabriella10",
                                    "(No column name)": "7",
                                    "SZALL_MOD": "Személyes átvétel"
                                },
                                {
                                    "LOGIN": "georgij",
                                    "(No column name)": "10",
                                    "SZALL_MOD": "Személyes átvétel"
                                },
                                {
                                    "LOGIN": "gusztav",
                                    "(No column name)": "5",
                                    "SZALL_MOD": "Személyes átvétel"
                                },
                                {
                                    "LOGIN": "GYONGYIK",
                                    "(No column name)": "3",
                                    "SZALL_MOD": "Személyes átvétel"
                                },
                                {
                                    "LOGIN": "GYORGYO",
                                    "(No column name)": "5",
                                    "SZALL_MOD": "Személyes átvétel"
                                },
                                {
                                    "LOGIN": "henrik3",
                                    "(No column name)": "5",
                                    "SZALL_MOD": "Személyes átvétel"
                                },
                                {
                                    "LOGIN": "IBOLYAA",
                                    "(No column name)": "157",
                                    "SZALL_MOD": "Személyes átvétel"
                                },
                                {
                                    "LOGIN": "ilona3",
                                    "(No column name)": "7",
                                    "SZALL_MOD": "Személyes átvétel"
                                },
                                {
                                    "LOGIN": "imre",
                                    "(No column name)": "6",
                                    "SZALL_MOD": "Személyes átvétel"
                                },
                                {
                                    "LOGIN": "imre1",
                                    "(No column name)": "3",
                                    "SZALL_MOD": "Személyes átvétel"
                                },
                                {
                                    "LOGIN": "istvan",
                                    "(No column name)": "4",
                                    "SZALL_MOD": "Személyes átvétel"
                                },
                                {
                                    "LOGIN": "istvan1",
                                    "(No column name)": "7",
                                    "SZALL_MOD": "Személyes átvétel"
                                },
                                {
                                    "LOGIN": "ISTVANV",
                                    "(No column name)": "8",
                                    "SZALL_MOD": "Személyes átvétel"
                                },
                                {
                                    "LOGIN": "janos3",
                                    "(No column name)": "6",
                                    "SZALL_MOD": "Személyes átvétel"
                                },
                                {
                                    "LOGIN": "JANOSG",
                                    "(No column name)": "4",
                                    "SZALL_MOD": "Személyes átvétel"
                                },
                                {
                                    "LOGIN": "JANOSP",
                                    "(No column name)": "3",
                                    "SZALL_MOD": "Személyes átvétel"
                                },
                                {
                                    "LOGIN": "jozsef",
                                    "(No column name)": "134",
                                    "SZALL_MOD": "Személyes átvétel"
                                },
                                {
                                    "LOGIN": "jozsef2",
                                    "(No column name)": "4",
                                    "SZALL_MOD": "Személyes átvétel"
                                },
                                {
                                    "LOGIN": "JOZSEFG",
                                    "(No column name)": "9",
                                    "SZALL_MOD": "Személyes átvétel"
                                },
                                {
                                    "LOGIN": "JUDITH",
                                    "(No column name)": "150",
                                    "SZALL_MOD": "Személyes átvétel"
                                },
                                {
                                    "LOGIN": "julia",
                                    "(No column name)": "138",
                                    "SZALL_MOD": "Személyes átvétel"
                                },
                                {
                                    "LOGIN": "julia4",
                                    "(No column name)": "8",
                                    "SZALL_MOD": "Személyes átvétel"
                                },
                                {
                                    "LOGIN": "julianna4",
                                    "(No column name)": "7",
                                    "SZALL_MOD": "Személyes átvétel"
                                },
                                {
                                    "LOGIN": "kata",
                                    "(No column name)": "3",
                                    "SZALL_MOD": "Személyes átvétel"
                                },
                                {
                                    "LOGIN": "katalin",
                                    "(No column name)": "5",
                                    "SZALL_MOD": "Személyes átvétel"
                                },
                                {
                                    "LOGIN": "katalin4",
                                    "(No column name)": "11",
                                    "SZALL_MOD": "Személyes átvétel"
                                },
                                {
                                    "LOGIN": "kati",
                                    "(No column name)": "4",
                                    "SZALL_MOD": "Személyes átvétel"
                                },
                                {
                                    "LOGIN": "katka",
                                    "(No column name)": "10",
                                    "SZALL_MOD": "Személyes átvétel"
                                },
                                {
                                    "LOGIN": "klaudia2",
                                    "(No column name)": "5",
                                    "SZALL_MOD": "Személyes átvétel"
                                },
                                {
                                    "LOGIN": "kornel4",
                                    "(No column name)": "7",
                                    "SZALL_MOD": "Személyes átvétel"
                                },
                                {
                                    "LOGIN": "kristof4",
                                    "(No column name)": "8",
                                    "SZALL_MOD": "Személyes átvétel"
                                },
                                {
                                    "LOGIN": "kriszti",
                                    "(No column name)": "5",
                                    "SZALL_MOD": "Személyes átvétel"
                                },
                                {
                                    "LOGIN": "krisztian4",
                                    "(No column name)": "6",
                                    "SZALL_MOD": "Személyes átvétel"
                                },
                                {
                                    "LOGIN": "KRISZTIANM",
                                    "(No column name)": "130",
                                    "SZALL_MOD": "Személyes átvétel"
                                },
                                {
                                    "LOGIN": "krisztina",
                                    "(No column name)": "157",
                                    "SZALL_MOD": "Személyes átvétel"
                                },
                                {
                                    "LOGIN": "krisztina1",
                                    "(No column name)": "8",
                                    "SZALL_MOD": "Személyes átvétel"
                                },
                                {
                                    "LOGIN": "KRISZTINAG",
                                    "(No column name)": "10",
                                    "SZALL_MOD": "Személyes átvétel"
                                },
                                {
                                    "LOGIN": "lajos",
                                    "(No column name)": "9",
                                    "SZALL_MOD": "Személyes átvétel"
                                },
                                {
                                    "LOGIN": "lala",
                                    "(No column name)": "9",
                                    "SZALL_MOD": "Személyes átvétel"
                                },
                                {
                                    "LOGIN": "laszlo1",
                                    "(No column name)": "135",
                                    "SZALL_MOD": "Személyes átvétel"
                                },
                                {
                                    "LOGIN": "laszlo2",
                                    "(No column name)": "7",
                                    "SZALL_MOD": "Személyes átvétel"
                                },
                                {
                                    "LOGIN": "LASZLOA",
                                    "(No column name)": "154",
                                    "SZALL_MOD": "Személyes átvétel"
                                },
                                {
                                    "LOGIN": "LASZLON",
                                    "(No column name)": "143",
                                    "SZALL_MOD": "Személyes átvétel"
                                },
                                {
                                    "LOGIN": "maria1",
                                    "(No column name)": "1",
                                    "SZALL_MOD": "Személyes átvétel"
                                },
                                {
                                    "LOGIN": "MARKH",
                                    "(No column name)": "142",
                                    "SZALL_MOD": "Személyes átvétel"
                                },
                                {
                                    "LOGIN": "marton",
                                    "(No column name)": "5",
                                    "SZALL_MOD": "Személyes átvétel"
                                },
                                {
                                    "LOGIN": "MATEK",
                                    "(No column name)": "9",
                                    "SZALL_MOD": "Személyes átvétel"
                                },
                                {
                                    "LOGIN": "matyas2",
                                    "(No column name)": "164",
                                    "SZALL_MOD": "Személyes átvétel"
                                },
                                {
                                    "LOGIN": "MATYASS",
                                    "(No column name)": "3",
                                    "SZALL_MOD": "Személyes átvétel"
                                },
                                {
                                    "LOGIN": "MIHALYJ",
                                    "(No column name)": "6",
                                    "SZALL_MOD": "Személyes átvétel"
                                },
                                {
                                    "LOGIN": "miklos2",
                                    "(No column name)": "2",
                                    "SZALL_MOD": "Személyes átvétel"
                                },
                                {
                                    "LOGIN": "MIKLOSB",
                                    "(No column name)": "8",
                                    "SZALL_MOD": "Személyes átvétel"
                                },
                                {
                                    "LOGIN": "MONIKAM",
                                    "(No column name)": "123",
                                    "SZALL_MOD": "Személyes átvétel"
                                },
                                {
                                    "LOGIN": "NANDORF",
                                    "(No column name)": "134",
                                    "SZALL_MOD": "Személyes átvétel"
                                },
                                {
                                    "LOGIN": "nikolett3",
                                    "(No column name)": "10",
                                    "SZALL_MOD": "Személyes átvétel"
                                },
                                {
                                    "LOGIN": "nikoletta4",
                                    "(No column name)": "119",
                                    "SZALL_MOD": "Személyes átvétel"
                                },
                                {
                                    "LOGIN": "NIKOLETTAT",
                                    "(No column name)": "5",
                                    "SZALL_MOD": "Személyes átvétel"
                                },
                                {
                                    "LOGIN": "norbert4",
                                    "(No column name)": "9",
                                    "SZALL_MOD": "Személyes átvétel"
                                },
                                {
                                    "LOGIN": "norbert5",
                                    "(No column name)": "9",
                                    "SZALL_MOD": "Személyes átvétel"
                                },
                                {
                                    "LOGIN": "pal",
                                    "(No column name)": "154",
                                    "SZALL_MOD": "Személyes átvétel"
                                },
                                {
                                    "LOGIN": "peter1",
                                    "(No column name)": "126",
                                    "SZALL_MOD": "Személyes átvétel"
                                },
                                {
                                    "LOGIN": "peter2",
                                    "(No column name)": "7",
                                    "SZALL_MOD": "Személyes átvétel"
                                },
                                {
                                    "LOGIN": "peter3",
                                    "(No column name)": "10",
                                    "SZALL_MOD": "Személyes átvétel"
                                },
                                {
                                    "LOGIN": "peter4",
                                    "(No column name)": "293",
                                    "SZALL_MOD": "Személyes átvétel"
                                },
                                {
                                    "LOGIN": "PETERB",
                                    "(No column name)": "9",
                                    "SZALL_MOD": "Személyes átvétel"
                                },
                                {
                                    "LOGIN": "polla",
                                    "(No column name)": "7",
                                    "SZALL_MOD": "Személyes átvétel"
                                },
                                {
                                    "LOGIN": "rajmond4",
                                    "(No column name)": "6",
                                    "SZALL_MOD": "Személyes átvétel"
                                },
                                {
                                    "LOGIN": "reka4",
                                    "(No column name)": "11",
                                    "SZALL_MOD": "Személyes átvétel"
                                },
                                {
                                    "LOGIN": "RENATAK",
                                    "(No column name)": "147",
                                    "SZALL_MOD": "Személyes átvétel"
                                },
                                {
                                    "LOGIN": "RENATAS",
                                    "(No column name)": "5",
                                    "SZALL_MOD": "Személyes átvétel"
                                },
                                {
                                    "LOGIN": "robert2",
                                    "(No column name)": "7",
                                    "SZALL_MOD": "Személyes átvétel"
                                },
                                {
                                    "LOGIN": "ROBERTI",
                                    "(No column name)": "5",
                                    "SZALL_MOD": "Személyes átvétel"
                                },
                                {
                                    "LOGIN": "ROBERTP",
                                    "(No column name)": "10",
                                    "SZALL_MOD": "Személyes átvétel"
                                },
                                {
                                    "LOGIN": "roland",
                                    "(No column name)": "125",
                                    "SZALL_MOD": "Személyes átvétel"
                                },
                                {
                                    "LOGIN": "roland1",
                                    "(No column name)": "135",
                                    "SZALL_MOD": "Személyes átvétel"
                                },
                                {
                                    "LOGIN": "roza2",
                                    "(No column name)": "3",
                                    "SZALL_MOD": "Személyes átvétel"
                                },
                                {
                                    "LOGIN": "sandor",
                                    "(No column name)": "7",
                                    "SZALL_MOD": "Személyes átvétel"
                                },
                                {
                                    "LOGIN": "sandor3",
                                    "(No column name)": "6",
                                    "SZALL_MOD": "Személyes átvétel"
                                },
                                {
                                    "LOGIN": "sandor4",
                                    "(No column name)": "5",
                                    "SZALL_MOD": "Személyes átvétel"
                                },
                                {
                                    "LOGIN": "sara",
                                    "(No column name)": "9",
                                    "SZALL_MOD": "Személyes átvétel"
                                },
                                {
                                    "LOGIN": "SEBASTIANF",
                                    "(No column name)": "6",
                                    "SZALL_MOD": "Személyes átvétel"
                                },
                                {
                                    "LOGIN": "sebestyen",
                                    "(No column name)": "6",
                                    "SZALL_MOD": "Személyes átvétel"
                                },
                                {
                                    "LOGIN": "szabolcs",
                                    "(No column name)": "169",
                                    "SZALL_MOD": "Személyes átvétel"
                                },
                                {
                                    "LOGIN": "SZABOLCSM",
                                    "(No column name)": "129",
                                    "SZALL_MOD": "Személyes átvétel"
                                },
                                {
                                    "LOGIN": "SZILARDS",
                                    "(No column name)": "111",
                                    "SZALL_MOD": "Személyes átvétel"
                                },
                                {
                                    "LOGIN": "szilvia1",
                                    "(No column name)": "138",
                                    "SZALL_MOD": "Személyes átvétel"
                                },
                                {
                                    "LOGIN": "tamara2",
                                    "(No column name)": "3",
                                    "SZALL_MOD": "Személyes átvétel"
                                },
                                {
                                    "LOGIN": "tamas",
                                    "(No column name)": "122",
                                    "SZALL_MOD": "Személyes átvétel"
                                },
                                {
                                    "LOGIN": "TAMASF",
                                    "(No column name)": "129",
                                    "SZALL_MOD": "Személyes átvétel"
                                },
                                {
                                    "LOGIN": "tibor",
                                    "(No column name)": "130",
                                    "SZALL_MOD": "Személyes átvétel"
                                },
                                {
                                    "LOGIN": "tibor2",
                                    "(No column name)": "11",
                                    "SZALL_MOD": "Személyes átvétel"
                                },
                                {
                                    "LOGIN": "tihamer",
                                    "(No column name)": "5",
                                    "SZALL_MOD": "Személyes átvétel"
                                },
                                {
                                    "LOGIN": "timea",
                                    "(No column name)": "18",
                                    "SZALL_MOD": "Személyes átvétel"
                                },
                                {
                                    "LOGIN": "timea2",
                                    "(No column name)": "10",
                                    "SZALL_MOD": "Személyes átvétel"
                                },
                                {
                                    "LOGIN": "tunde",
                                    "(No column name)": "4",
                                    "SZALL_MOD": "Személyes átvétel"
                                },
                                {
                                    "LOGIN": "valentin",
                                    "(No column name)": "3",
                                    "SZALL_MOD": "Személyes átvétel"
                                },
                                {
                                    "LOGIN": "veronika4",
                                    "(No column name)": "7",
                                    "SZALL_MOD": "Személyes átvétel"
                                },
                                {
                                    "LOGIN": "VIKTORIAU",
                                    "(No column name)": "5",
                                    "SZALL_MOD": "Személyes átvétel"
                                },
                                {
                                    "LOGIN": "VIKTORK",
                                    "(No column name)": "6",
                                    "SZALL_MOD": "Személyes átvétel"
                                },
                                {
                                    "LOGIN": "vivien3",
                                    "(No column name)": "7",
                                    "SZALL_MOD": "Személyes átvétel"
                                },
                                {
                                    "LOGIN": "zoltan",
                                    "(No column name)": "7",
                                    "SZALL_MOD": "Személyes átvétel"
                                },
                                {
                                    "LOGIN": "zoltan4",
                                    "(No column name)": "171",
                                    "SZALL_MOD": "Személyes átvétel"
                                },
                                {
                                    "LOGIN": "ZOLTANP",
                                    "(No column name)": "4",
                                    "SZALL_MOD": "Személyes átvétel"
                                },
                                {
                                    "LOGIN": "ZOLTANT",
                                    "(No column name)": "123",
                                    "SZALL_MOD": "Személyes átvétel"
                                },
                                {
                                    "LOGIN": "zsofi1",
                                    "(No column name)": "6",
                                    "SZALL_MOD": "Személyes átvétel"
                                },
                                {
                                    "LOGIN": "zsolt1",
                                    "(No column name)": "3",
                                    "SZALL_MOD": "Személyes átvétel"
                                },
                                {
                                    "LOGIN": "ZSOLTJ",
                                    "(No column name)": "9",
                                    "SZALL_MOD": "Személyes átvétel"
                                },
                                {
                                    "LOGIN": "zsuzsa",
                                    "(No column name)": "3",
                                    "SZALL_MOD": "Személyes átvétel"
                                },
                                {
                                    "LOGIN": "zsuzsa3",
                                    "(No column name)": "6",
                                    "SZALL_MOD": "Személyes átvétel"
                                },
                                {
                                    "LOGIN": "zsuzsanna",
                                    "(No column name)": "3",
                                    "SZALL_MOD": "Személyes átvétel"
                                },
                                {
                                    "LOGIN": "ZSUZSAV",
                                    "(No column name)": "142",
                                    "SZALL_MOD": "Személyes átvétel"
                                },
                                {
                                    "LOGIN": "NULL",
                                    "(No column name)": "9468",
                                    "SZALL_MOD": "Személyes átvétel"
                                },
                                {
                                    "LOGIN": "NULL",
                                    "(No column name)": "28085",
                                    "SZALL_MOD": "NULL"
                                },
                                {
                                    "LOGIN": "adam1",
                                    "(No column name)": "392",
                                    "SZALL_MOD": "NULL"
                                },
                                {
                                    "LOGIN": "adam3",
                                    "(No column name)": "15",
                                    "SZALL_MOD": "NULL"
                                },
                                {
                                    "LOGIN": "adam4",
                                    "(No column name)": "29",
                                    "SZALL_MOD": "NULL"
                                },
                                {
                                    "LOGIN": "agnes",
                                    "(No column name)": "418",
                                    "SZALL_MOD": "NULL"
                                },
                                {
                                    "LOGIN": "agnes3",
                                    "(No column name)": "430",
                                    "SZALL_MOD": "NULL"
                                },
                                {
                                    "LOGIN": "AGNESH",
                                    "(No column name)": "11",
                                    "SZALL_MOD": "NULL"
                                },
                                {
                                    "LOGIN": "AGNESK",
                                    "(No column name)": "15",
                                    "SZALL_MOD": "NULL"
                                },
                                {
                                    "LOGIN": "akos",
                                    "(No column name)": "429",
                                    "SZALL_MOD": "NULL"
                                },
                                {
                                    "LOGIN": "aladar",
                                    "(No column name)": "408",
                                    "SZALL_MOD": "NULL"
                                },
                                {
                                    "LOGIN": "alexandra",
                                    "(No column name)": "19",
                                    "SZALL_MOD": "NULL"
                                },
                                {
                                    "LOGIN": "andi",
                                    "(No column name)": "18",
                                    "SZALL_MOD": "NULL"
                                },
                                {
                                    "LOGIN": "andras2",
                                    "(No column name)": "22",
                                    "SZALL_MOD": "NULL"
                                },
                                {
                                    "LOGIN": "andras21",
                                    "(No column name)": "390",
                                    "SZALL_MOD": "NULL"
                                },
                                {
                                    "LOGIN": "andras3",
                                    "(No column name)": "9",
                                    "SZALL_MOD": "NULL"
                                },
                                {
                                    "LOGIN": "andras4",
                                    "(No column name)": "12",
                                    "SZALL_MOD": "NULL"
                                },
                                {
                                    "LOGIN": "andras41",
                                    "(No column name)": "419",
                                    "SZALL_MOD": "NULL"
                                },
                                {
                                    "LOGIN": "ANDRASE",
                                    "(No column name)": "436",
                                    "SZALL_MOD": "NULL"
                                },
                                {
                                    "LOGIN": "ANDRASN",
                                    "(No column name)": "24",
                                    "SZALL_MOD": "NULL"
                                },
                                {
                                    "LOGIN": "andrea",
                                    "(No column name)": "24",
                                    "SZALL_MOD": "NULL"
                                },
                                {
                                    "LOGIN": "andrea3",
                                    "(No column name)": "413",
                                    "SZALL_MOD": "NULL"
                                },
                                {
                                    "LOGIN": "andrea4",
                                    "(No column name)": "18",
                                    "SZALL_MOD": "NULL"
                                },
                                {
                                    "LOGIN": "ANDREAT",
                                    "(No column name)": "21",
                                    "SZALL_MOD": "NULL"
                                },
                                {
                                    "LOGIN": "anett3",
                                    "(No column name)": "18",
                                    "SZALL_MOD": "NULL"
                                },
                                {
                                    "LOGIN": "aniko",
                                    "(No column name)": "403",
                                    "SZALL_MOD": "NULL"
                                },
                                {
                                    "LOGIN": "aniko4",
                                    "(No column name)": "15",
                                    "SZALL_MOD": "NULL"
                                },
                                {
                                    "LOGIN": "ANIKOS",
                                    "(No column name)": "404",
                                    "SZALL_MOD": "NULL"
                                },
                                {
                                    "LOGIN": "anita",
                                    "(No column name)": "12",
                                    "SZALL_MOD": "NULL"
                                },
                                {
                                    "LOGIN": "annamaria1",
                                    "(No column name)": "16",
                                    "SZALL_MOD": "NULL"
                                },
                                {
                                    "LOGIN": "ANNAMARIAR",
                                    "(No column name)": "13",
                                    "SZALL_MOD": "NULL"
                                },
                                {
                                    "LOGIN": "aron2",
                                    "(No column name)": "409",
                                    "SZALL_MOD": "NULL"
                                },
                                {
                                    "LOGIN": "ARONK",
                                    "(No column name)": "430",
                                    "SZALL_MOD": "NULL"
                                },
                                {
                                    "LOGIN": "arpad2",
                                    "(No column name)": "17",
                                    "SZALL_MOD": "NULL"
                                },
                                {
                                    "LOGIN": "ARPADH",
                                    "(No column name)": "14",
                                    "SZALL_MOD": "NULL"
                                },
                                {
                                    "LOGIN": "ARPADM",
                                    "(No column name)": "16",
                                    "SZALL_MOD": "NULL"
                                },
                                {
                                    "LOGIN": "attila1",
                                    "(No column name)": "18",
                                    "SZALL_MOD": "NULL"
                                },
                                {
                                    "LOGIN": "attila4",
                                    "(No column name)": "401",
                                    "SZALL_MOD": "NULL"
                                },
                                {
                                    "LOGIN": "ATTILAO",
                                    "(No column name)": "14",
                                    "SZALL_MOD": "NULL"
                                },
                                {
                                    "LOGIN": "balazs1",
                                    "(No column name)": "419",
                                    "SZALL_MOD": "NULL"
                                },
                                {
                                    "LOGIN": "balazs2",
                                    "(No column name)": "17",
                                    "SZALL_MOD": "NULL"
                                },
                                {
                                    "LOGIN": "balazs3",
                                    "(No column name)": "15",
                                    "SZALL_MOD": "NULL"
                                },
                                {
                                    "LOGIN": "balint",
                                    "(No column name)": "16",
                                    "SZALL_MOD": "NULL"
                                },
                                {
                                    "LOGIN": "balint1",
                                    "(No column name)": "462",
                                    "SZALL_MOD": "NULL"
                                },
                                {
                                    "LOGIN": "balint2",
                                    "(No column name)": "17",
                                    "SZALL_MOD": "NULL"
                                },
                                {
                                    "LOGIN": "balu",
                                    "(No column name)": "387",
                                    "SZALL_MOD": "NULL"
                                },
                                {
                                    "LOGIN": "BEATRIXK",
                                    "(No column name)": "435",
                                    "SZALL_MOD": "NULL"
                                },
                                {
                                    "LOGIN": "BEATRIXS",
                                    "(No column name)": "420",
                                    "SZALL_MOD": "NULL"
                                },
                                {
                                    "LOGIN": "BELAF",
                                    "(No column name)": "18",
                                    "SZALL_MOD": "NULL"
                                },
                                {
                                    "LOGIN": "bence",
                                    "(No column name)": "18",
                                    "SZALL_MOD": "NULL"
                                },
                                {
                                    "LOGIN": "BENCEB",
                                    "(No column name)": "17",
                                    "SZALL_MOD": "NULL"
                                },
                                {
                                    "LOGIN": "bernadett1",
                                    "(No column name)": "20",
                                    "SZALL_MOD": "NULL"
                                },
                                {
                                    "LOGIN": "bernadett2",
                                    "(No column name)": "15",
                                    "SZALL_MOD": "NULL"
                                },
                                {
                                    "LOGIN": "BERNADETTO",
                                    "(No column name)": "16",
                                    "SZALL_MOD": "NULL"
                                },
                                {
                                    "LOGIN": "bertalan",
                                    "(No column name)": "353",
                                    "SZALL_MOD": "NULL"
                                },
                                {
                                    "LOGIN": "brigitta",
                                    "(No column name)": "393",
                                    "SZALL_MOD": "NULL"
                                },
                                {
                                    "LOGIN": "brigitta3",
                                    "(No column name)": "413",
                                    "SZALL_MOD": "NULL"
                                },
                                {
                                    "LOGIN": "csongor3",
                                    "(No column name)": "15",
                                    "SZALL_MOD": "NULL"
                                },
                                {
                                    "LOGIN": "dani",
                                    "(No column name)": "13",
                                    "SZALL_MOD": "NULL"
                                },
                                {
                                    "LOGIN": "daniel",
                                    "(No column name)": "13",
                                    "SZALL_MOD": "NULL"
                                },
                                {
                                    "LOGIN": "daniel1",
                                    "(No column name)": "419",
                                    "SZALL_MOD": "NULL"
                                },
                                {
                                    "LOGIN": "david",
                                    "(No column name)": "451",
                                    "SZALL_MOD": "NULL"
                                },
                                {
                                    "LOGIN": "david1",
                                    "(No column name)": "17",
                                    "SZALL_MOD": "NULL"
                                },
                                {
                                    "LOGIN": "david4",
                                    "(No column name)": "21",
                                    "SZALL_MOD": "NULL"
                                },
                                {
                                    "LOGIN": "debora",
                                    "(No column name)": "16",
                                    "SZALL_MOD": "NULL"
                                },
                                {
                                    "LOGIN": "denes",
                                    "(No column name)": "9",
                                    "SZALL_MOD": "NULL"
                                },
                                {
                                    "LOGIN": "dora3",
                                    "(No column name)": "432",
                                    "SZALL_MOD": "NULL"
                                },
                                {
                                    "LOGIN": "edit",
                                    "(No column name)": "13",
                                    "SZALL_MOD": "NULL"
                                },
                                {
                                    "LOGIN": "emese",
                                    "(No column name)": "406",
                                    "SZALL_MOD": "NULL"
                                },
                                {
                                    "LOGIN": "eszter2",
                                    "(No column name)": "415",
                                    "SZALL_MOD": "NULL"
                                },
                                {
                                    "LOGIN": "eszter4",
                                    "(No column name)": "424",
                                    "SZALL_MOD": "NULL"
                                },
                                {
                                    "LOGIN": "ESZTERE",
                                    "(No column name)": "22",
                                    "SZALL_MOD": "NULL"
                                },
                                {
                                    "LOGIN": "eva",
                                    "(No column name)": "404",
                                    "SZALL_MOD": "NULL"
                                },
                                {
                                    "LOGIN": "eva2",
                                    "(No column name)": "462",
                                    "SZALL_MOD": "NULL"
                                },
                                {
                                    "LOGIN": "EVAV",
                                    "(No column name)": "7",
                                    "SZALL_MOD": "NULL"
                                },
                                {
                                    "LOGIN": "ferenc1",
                                    "(No column name)": "437",
                                    "SZALL_MOD": "NULL"
                                },
                                {
                                    "LOGIN": "fruzsina4",
                                    "(No column name)": "18",
                                    "SZALL_MOD": "NULL"
                                },
                                {
                                    "LOGIN": "gabor1",
                                    "(No column name)": "19",
                                    "SZALL_MOD": "NULL"
                                },
                                {
                                    "LOGIN": "gabor4",
                                    "(No column name)": "20",
                                    "SZALL_MOD": "NULL"
                                },
                                {
                                    "LOGIN": "GABORS",
                                    "(No column name)": "15",
                                    "SZALL_MOD": "NULL"
                                },
                                {
                                    "LOGIN": "gabriella1",
                                    "(No column name)": "14",
                                    "SZALL_MOD": "NULL"
                                },
                                {
                                    "LOGIN": "gabriella10",
                                    "(No column name)": "16",
                                    "SZALL_MOD": "NULL"
                                },
                                {
                                    "LOGIN": "georgij",
                                    "(No column name)": "21",
                                    "SZALL_MOD": "NULL"
                                },
                                {
                                    "LOGIN": "gusztav",
                                    "(No column name)": "14",
                                    "SZALL_MOD": "NULL"
                                },
                                {
                                    "LOGIN": "GYONGYIK",
                                    "(No column name)": "15",
                                    "SZALL_MOD": "NULL"
                                },
                                {
                                    "LOGIN": "GYORGYO",
                                    "(No column name)": "16",
                                    "SZALL_MOD": "NULL"
                                },
                                {
                                    "LOGIN": "henrik3",
                                    "(No column name)": "16",
                                    "SZALL_MOD": "NULL"
                                },
                                {
                                    "LOGIN": "IBOLYAA",
                                    "(No column name)": "422",
                                    "SZALL_MOD": "NULL"
                                },
                                {
                                    "LOGIN": "ilona3",
                                    "(No column name)": "18",
                                    "SZALL_MOD": "NULL"
                                },
                                {
                                    "LOGIN": "imre",
                                    "(No column name)": "15",
                                    "SZALL_MOD": "NULL"
                                },
                                {
                                    "LOGIN": "imre1",
                                    "(No column name)": "15",
                                    "SZALL_MOD": "NULL"
                                },
                                {
                                    "LOGIN": "istvan",
                                    "(No column name)": "11",
                                    "SZALL_MOD": "NULL"
                                },
                                {
                                    "LOGIN": "istvan1",
                                    "(No column name)": "19",
                                    "SZALL_MOD": "NULL"
                                },
                                {
                                    "LOGIN": "ISTVANV",
                                    "(No column name)": "21",
                                    "SZALL_MOD": "NULL"
                                },
                                {
                                    "LOGIN": "janos3",
                                    "(No column name)": "13",
                                    "SZALL_MOD": "NULL"
                                },
                                {
                                    "LOGIN": "JANOSG",
                                    "(No column name)": "10",
                                    "SZALL_MOD": "NULL"
                                },
                                {
                                    "LOGIN": "JANOSP",
                                    "(No column name)": "17",
                                    "SZALL_MOD": "NULL"
                                },
                                {
                                    "LOGIN": "jozsef",
                                    "(No column name)": "382",
                                    "SZALL_MOD": "NULL"
                                },
                                {
                                    "LOGIN": "jozsef2",
                                    "(No column name)": "13",
                                    "SZALL_MOD": "NULL"
                                },
                                {
                                    "LOGIN": "JOZSEFG",
                                    "(No column name)": "21",
                                    "SZALL_MOD": "NULL"
                                },
                                {
                                    "LOGIN": "JUDITH",
                                    "(No column name)": "450",
                                    "SZALL_MOD": "NULL"
                                },
                                {
                                    "LOGIN": "julia",
                                    "(No column name)": "435",
                                    "SZALL_MOD": "NULL"
                                },
                                {
                                    "LOGIN": "julia4",
                                    "(No column name)": "14",
                                    "SZALL_MOD": "NULL"
                                },
                                {
                                    "LOGIN": "julianna4",
                                    "(No column name)": "27",
                                    "SZALL_MOD": "NULL"
                                },
                                {
                                    "LOGIN": "kata",
                                    "(No column name)": "12",
                                    "SZALL_MOD": "NULL"
                                },
                                {
                                    "LOGIN": "katalin",
                                    "(No column name)": "19",
                                    "SZALL_MOD": "NULL"
                                },
                                {
                                    "LOGIN": "katalin4",
                                    "(No column name)": "23",
                                    "SZALL_MOD": "NULL"
                                },
                                {
                                    "LOGIN": "kati",
                                    "(No column name)": "13",
                                    "SZALL_MOD": "NULL"
                                },
                                {
                                    "LOGIN": "katka",
                                    "(No column name)": "22",
                                    "SZALL_MOD": "NULL"
                                },
                                {
                                    "LOGIN": "klaudia2",
                                    "(No column name)": "17",
                                    "SZALL_MOD": "NULL"
                                },
                                {
                                    "LOGIN": "kornel4",
                                    "(No column name)": "11",
                                    "SZALL_MOD": "NULL"
                                },
                                {
                                    "LOGIN": "kristof4",
                                    "(No column name)": "21",
                                    "SZALL_MOD": "NULL"
                                },
                                {
                                    "LOGIN": "kriszti",
                                    "(No column name)": "13",
                                    "SZALL_MOD": "NULL"
                                },
                                {
                                    "LOGIN": "krisztian4",
                                    "(No column name)": "17",
                                    "SZALL_MOD": "NULL"
                                },
                                {
                                    "LOGIN": "KRISZTIANM",
                                    "(No column name)": "384",
                                    "SZALL_MOD": "NULL"
                                },
                                {
                                    "LOGIN": "krisztina",
                                    "(No column name)": "456",
                                    "SZALL_MOD": "NULL"
                                },
                                {
                                    "LOGIN": "krisztina1",
                                    "(No column name)": "22",
                                    "SZALL_MOD": "NULL"
                                },
                                {
                                    "LOGIN": "KRISZTINAG",
                                    "(No column name)": "22",
                                    "SZALL_MOD": "NULL"
                                },
                                {
                                    "LOGIN": "lajos",
                                    "(No column name)": "16",
                                    "SZALL_MOD": "NULL"
                                },
                                {
                                    "LOGIN": "lala",
                                    "(No column name)": "17",
                                    "SZALL_MOD": "NULL"
                                },
                                {
                                    "LOGIN": "laszlo1",
                                    "(No column name)": "394",
                                    "SZALL_MOD": "NULL"
                                },
                                {
                                    "LOGIN": "laszlo2",
                                    "(No column name)": "25",
                                    "SZALL_MOD": "NULL"
                                },
                                {
                                    "LOGIN": "LASZLOA",
                                    "(No column name)": "446",
                                    "SZALL_MOD": "NULL"
                                },
                                {
                                    "LOGIN": "LASZLON",
                                    "(No column name)": "400",
                                    "SZALL_MOD": "NULL"
                                },
                                {
                                    "LOGIN": "maria1",
                                    "(No column name)": "10",
                                    "SZALL_MOD": "NULL"
                                },
                                {
                                    "LOGIN": "MARKH",
                                    "(No column name)": "412",
                                    "SZALL_MOD": "NULL"
                                },
                                {
                                    "LOGIN": "marton",
                                    "(No column name)": "14",
                                    "SZALL_MOD": "NULL"
                                },
                                {
                                    "LOGIN": "MATEK",
                                    "(No column name)": "25",
                                    "SZALL_MOD": "NULL"
                                },
                                {
                                    "LOGIN": "matyas2",
                                    "(No column name)": "433",
                                    "SZALL_MOD": "NULL"
                                },
                                {
                                    "LOGIN": "MATYASS",
                                    "(No column name)": "12",
                                    "SZALL_MOD": "NULL"
                                },
                                {
                                    "LOGIN": "MIHALYJ",
                                    "(No column name)": "13",
                                    "SZALL_MOD": "NULL"
                                },
                                {
                                    "LOGIN": "miklos2",
                                    "(No column name)": "13",
                                    "SZALL_MOD": "NULL"
                                },
                                {
                                    "LOGIN": "MIKLOSB",
                                    "(No column name)": "15",
                                    "SZALL_MOD": "NULL"
                                },
                                {
                                    "LOGIN": "MONIKAM",
                                    "(No column name)": "407",
                                    "SZALL_MOD": "NULL"
                                },
                                {
                                    "LOGIN": "NANDORF",
                                    "(No column name)": "420",
                                    "SZALL_MOD": "NULL"
                                },
                                {
                                    "LOGIN": "nikolett3",
                                    "(No column name)": "17",
                                    "SZALL_MOD": "NULL"
                                },
                                {
                                    "LOGIN": "nikoletta4",
                                    "(No column name)": "414",
                                    "SZALL_MOD": "NULL"
                                },
                                {
                                    "LOGIN": "NIKOLETTAT",
                                    "(No column name)": "25",
                                    "SZALL_MOD": "NULL"
                                },
                                {
                                    "LOGIN": "norbert2",
                                    "(No column name)": "11",
                                    "SZALL_MOD": "NULL"
                                },
                                {
                                    "LOGIN": "norbert4",
                                    "(No column name)": "13",
                                    "SZALL_MOD": "NULL"
                                },
                                {
                                    "LOGIN": "norbert5",
                                    "(No column name)": "16",
                                    "SZALL_MOD": "NULL"
                                },
                                {
                                    "LOGIN": "pal",
                                    "(No column name)": "438",
                                    "SZALL_MOD": "NULL"
                                },
                                {
                                    "LOGIN": "peter1",
                                    "(No column name)": "412",
                                    "SZALL_MOD": "NULL"
                                },
                                {
                                    "LOGIN": "peter2",
                                    "(No column name)": "18",
                                    "SZALL_MOD": "NULL"
                                },
                                {
                                    "LOGIN": "peter3",
                                    "(No column name)": "25",
                                    "SZALL_MOD": "NULL"
                                },
                                {
                                    "LOGIN": "peter4",
                                    "(No column name)": "852",
                                    "SZALL_MOD": "NULL"
                                },
                                {
                                    "LOGIN": "PETERB",
                                    "(No column name)": "15",
                                    "SZALL_MOD": "NULL"
                                },
                                {
                                    "LOGIN": "polla",
                                    "(No column name)": "22",
                                    "SZALL_MOD": "NULL"
                                },
                                {
                                    "LOGIN": "rajmond4",
                                    "(No column name)": "17",
                                    "SZALL_MOD": "NULL"
                                },
                                {
                                    "LOGIN": "reka4",
                                    "(No column name)": "20",
                                    "SZALL_MOD": "NULL"
                                },
                                {
                                    "LOGIN": "RENATAK",
                                    "(No column name)": "422",
                                    "SZALL_MOD": "NULL"
                                },
                                {
                                    "LOGIN": "RENATAS",
                                    "(No column name)": "16",
                                    "SZALL_MOD": "NULL"
                                },
                                {
                                    "LOGIN": "robert2",
                                    "(No column name)": "13",
                                    "SZALL_MOD": "NULL"
                                },
                                {
                                    "LOGIN": "ROBERTI",
                                    "(No column name)": "13",
                                    "SZALL_MOD": "NULL"
                                },
                                {
                                    "LOGIN": "ROBERTP",
                                    "(No column name)": "26",
                                    "SZALL_MOD": "NULL"
                                },
                                {
                                    "LOGIN": "roland",
                                    "(No column name)": "414",
                                    "SZALL_MOD": "NULL"
                                },
                                {
                                    "LOGIN": "roland1",
                                    "(No column name)": "432",
                                    "SZALL_MOD": "NULL"
                                },
                                {
                                    "LOGIN": "roza2",
                                    "(No column name)": "8",
                                    "SZALL_MOD": "NULL"
                                },
                                {
                                    "LOGIN": "sandor",
                                    "(No column name)": "17",
                                    "SZALL_MOD": "NULL"
                                },
                                {
                                    "LOGIN": "sandor3",
                                    "(No column name)": "14",
                                    "SZALL_MOD": "NULL"
                                },
                                {
                                    "LOGIN": "sandor4",
                                    "(No column name)": "11",
                                    "SZALL_MOD": "NULL"
                                },
                                {
                                    "LOGIN": "sara",
                                    "(No column name)": "20",
                                    "SZALL_MOD": "NULL"
                                },
                                {
                                    "LOGIN": "SEBASTIANF",
                                    "(No column name)": "15",
                                    "SZALL_MOD": "NULL"
                                },
                                {
                                    "LOGIN": "sebestyen",
                                    "(No column name)": "16",
                                    "SZALL_MOD": "NULL"
                                },
                                {
                                    "LOGIN": "szabolcs",
                                    "(No column name)": "471",
                                    "SZALL_MOD": "NULL"
                                },
                                {
                                    "LOGIN": "SZABOLCSM",
                                    "(No column name)": "408",
                                    "SZALL_MOD": "NULL"
                                },
                                {
                                    "LOGIN": "SZILARDS",
                                    "(No column name)": "386",
                                    "SZALL_MOD": "NULL"
                                },
                                {
                                    "LOGIN": "szilvia1",
                                    "(No column name)": "445",
                                    "SZALL_MOD": "NULL"
                                },
                                {
                                    "LOGIN": "tamara2",
                                    "(No column name)": "13",
                                    "SZALL_MOD": "NULL"
                                },
                                {
                                    "LOGIN": "tamas",
                                    "(No column name)": "421",
                                    "SZALL_MOD": "NULL"
                                },
                                {
                                    "LOGIN": "TAMASF",
                                    "(No column name)": "433",
                                    "SZALL_MOD": "NULL"
                                },
                                {
                                    "LOGIN": "tibor",
                                    "(No column name)": "374",
                                    "SZALL_MOD": "NULL"
                                },
                                {
                                    "LOGIN": "tibor2",
                                    "(No column name)": "25",
                                    "SZALL_MOD": "NULL"
                                },
                                {
                                    "LOGIN": "tihamer",
                                    "(No column name)": "20",
                                    "SZALL_MOD": "NULL"
                                },
                                {
                                    "LOGIN": "timea",
                                    "(No column name)": "55",
                                    "SZALL_MOD": "NULL"
                                },
                                {
                                    "LOGIN": "timea2",
                                    "(No column name)": "16",
                                    "SZALL_MOD": "NULL"
                                },
                                {
                                    "LOGIN": "tunde",
                                    "(No column name)": "16",
                                    "SZALL_MOD": "NULL"
                                },
                                {
                                    "LOGIN": "valentin",
                                    "(No column name)": "13",
                                    "SZALL_MOD": "NULL"
                                },
                                {
                                    "LOGIN": "veronika4",
                                    "(No column name)": "18",
                                    "SZALL_MOD": "NULL"
                                },
                                {
                                    "LOGIN": "VIKTORIAU",
                                    "(No column name)": "14",
                                    "SZALL_MOD": "NULL"
                                },
                                {
                                    "LOGIN": "VIKTORK",
                                    "(No column name)": "20",
                                    "SZALL_MOD": "NULL"
                                },
                                {
                                    "LOGIN": "vivien3",
                                    "(No column name)": "22",
                                    "SZALL_MOD": "NULL"
                                },
                                {
                                    "LOGIN": "zoltan",
                                    "(No column name)": "15",
                                    "SZALL_MOD": "NULL"
                                },
                                {
                                    "LOGIN": "zoltan4",
                                    "(No column name)": "424",
                                    "SZALL_MOD": "NULL"
                                },
                                {
                                    "LOGIN": "ZOLTANP",
                                    "(No column name)": "13",
                                    "SZALL_MOD": "NULL"
                                },
                                {
                                    "LOGIN": "ZOLTANT",
                                    "(No column name)": "357",
                                    "SZALL_MOD": "NULL"
                                },
                                {
                                    "LOGIN": "zsofi1",
                                    "(No column name)": "19",
                                    "SZALL_MOD": "NULL"
                                },
                                {
                                    "LOGIN": "zsolt1",
                                    "(No column name)": "20",
                                    "SZALL_MOD": "NULL"
                                },
                                {
                                    "LOGIN": "ZSOLTJ",
                                    "(No column name)": "18",
                                    "SZALL_MOD": "NULL"
                                },
                                {
                                    "LOGIN": "zsuzsa",
                                    "(No column name)": "16",
                                    "SZALL_MOD": "NULL"
                                },
                                {
                                    "LOGIN": "zsuzsa3",
                                    "(No column name)": "16",
                                    "SZALL_MOD": "NULL"
                                },
                                {
                                    "LOGIN": "zsuzsanna",
                                    "(No column name)": "15",
                                    "SZALL_MOD": "NULL"
                                },
                                {
                                    "LOGIN": "ZSUZSAV",
                                    "(No column name)": "420",
                                    "SZALL_MOD": "NULL"
                                }
                            ]
                        },
                        "text/html": "<table><tr><th>LOGIN</th><th>(No column name)</th><th>SZALL_MOD</th></tr><tr><td>adam1</td><td>129</td><td>GLS</td></tr><tr><td>adam3</td><td>10</td><td>GLS</td></tr><tr><td>adam4</td><td>12</td><td>GLS</td></tr><tr><td>agnes</td><td>144</td><td>GLS</td></tr><tr><td>agnes3</td><td>148</td><td>GLS</td></tr><tr><td>AGNESH</td><td>2</td><td>GLS</td></tr><tr><td>AGNESK</td><td>1</td><td>GLS</td></tr><tr><td>akos</td><td>146</td><td>GLS</td></tr><tr><td>aladar</td><td>156</td><td>GLS</td></tr><tr><td>alexandra</td><td>5</td><td>GLS</td></tr><tr><td>andi</td><td>7</td><td>GLS</td></tr><tr><td>andras2</td><td>4</td><td>GLS</td></tr><tr><td>andras21</td><td>140</td><td>GLS</td></tr><tr><td>andras3</td><td>3</td><td>GLS</td></tr><tr><td>andras4</td><td>4</td><td>GLS</td></tr><tr><td>andras41</td><td>149</td><td>GLS</td></tr><tr><td>ANDRASE</td><td>159</td><td>GLS</td></tr><tr><td>ANDRASN</td><td>10</td><td>GLS</td></tr><tr><td>andrea</td><td>12</td><td>GLS</td></tr><tr><td>andrea3</td><td>131</td><td>GLS</td></tr><tr><td>andrea4</td><td>7</td><td>GLS</td></tr><tr><td>ANDREAT</td><td>3</td><td>GLS</td></tr><tr><td>anett3</td><td>3</td><td>GLS</td></tr><tr><td>aniko</td><td>128</td><td>GLS</td></tr><tr><td>aniko4</td><td>6</td><td>GLS</td></tr><tr><td>ANIKOS</td><td>128</td><td>GLS</td></tr><tr><td>anita</td><td>5</td><td>GLS</td></tr><tr><td>annamaria1</td><td>5</td><td>GLS</td></tr><tr><td>ANNAMARIAR</td><td>8</td><td>GLS</td></tr><tr><td>aron2</td><td>132</td><td>GLS</td></tr><tr><td>ARONK</td><td>155</td><td>GLS</td></tr><tr><td>arpad2</td><td>6</td><td>GLS</td></tr><tr><td>ARPADH</td><td>6</td><td>GLS</td></tr><tr><td>ARPADM</td><td>6</td><td>GLS</td></tr><tr><td>attila1</td><td>5</td><td>GLS</td></tr><tr><td>attila4</td><td>135</td><td>GLS</td></tr><tr><td>ATTILAO</td><td>4</td><td>GLS</td></tr><tr><td>balazs1</td><td>128</td><td>GLS</td></tr><tr><td>balazs2</td><td>5</td><td>GLS</td></tr><tr><td>balazs3</td><td>6</td><td>GLS</td></tr><tr><td>balint</td><td>10</td><td>GLS</td></tr><tr><td>balint1</td><td>158</td><td>GLS</td></tr><tr><td>balint2</td><td>8</td><td>GLS</td></tr><tr><td>balu</td><td>127</td><td>GLS</td></tr><tr><td>BEATRIXK</td><td>135</td><td>GLS</td></tr><tr><td>BEATRIXS</td><td>146</td><td>GLS</td></tr><tr><td>BELAF</td><td>11</td><td>GLS</td></tr><tr><td>bence</td><td>4</td><td>GLS</td></tr><tr><td>BENCEB</td><td>5</td><td>GLS</td></tr><tr><td>bernadett1</td><td>10</td><td>GLS</td></tr><tr><td>bernadett2</td><td>6</td><td>GLS</td></tr><tr><td>BERNADETTO</td><td>7</td><td>GLS</td></tr><tr><td>bertalan</td><td>128</td><td>GLS</td></tr><tr><td>brigitta</td><td>137</td><td>GLS</td></tr><tr><td>brigitta3</td><td>144</td><td>GLS</td></tr><tr><td>csongor3</td><td>5</td><td>GLS</td></tr><tr><td>dani</td><td>5</td><td>GLS</td></tr><tr><td>daniel</td><td>7</td><td>GLS</td></tr><tr><td>daniel1</td><td>156</td><td>GLS</td></tr><tr><td>david</td><td>161</td><td>GLS</td></tr><tr><td>david1</td><td>8</td><td>GLS</td></tr><tr><td>david4</td><td>3</td><td>GLS</td></tr><tr><td>debora</td><td>7</td><td>GLS</td></tr><tr><td>denes</td><td>3</td><td>GLS</td></tr><tr><td>dora3</td><td>144</td><td>GLS</td></tr><tr><td>edit</td><td>7</td><td>GLS</td></tr><tr><td>emese</td><td>128</td><td>GLS</td></tr><tr><td>eszter2</td><td>127</td><td>GLS</td></tr><tr><td>eszter4</td><td>141</td><td>GLS</td></tr><tr><td>ESZTERE</td><td>6</td><td>GLS</td></tr><tr><td>eva</td><td>125</td><td>GLS</td></tr><tr><td>eva2</td><td>154</td><td>GLS</td></tr><tr><td>EVAV</td><td>2</td><td>GLS</td></tr><tr><td>ferenc1</td><td>144</td><td>GLS</td></tr><tr><td>fruzsina4</td><td>8</td><td>GLS</td></tr><tr><td>gabor1</td><td>9</td><td>GLS</td></tr><tr><td>gabor4</td><td>7</td><td>GLS</td></tr><tr><td>GABORS</td><td>5</td><td>GLS</td></tr><tr><td>gabriella1</td><td>5</td><td>GLS</td></tr><tr><td>gabriella10</td><td>4</td><td>GLS</td></tr><tr><td>georgij</td><td>9</td><td>GLS</td></tr><tr><td>gusztav</td><td>5</td><td>GLS</td></tr><tr><td>GYONGYIK</td><td>6</td><td>GLS</td></tr><tr><td>GYORGYO</td><td>7</td><td>GLS</td></tr><tr><td>henrik3</td><td>7</td><td>GLS</td></tr><tr><td>IBOLYAA</td><td>140</td><td>GLS</td></tr><tr><td>ilona3</td><td>9</td><td>GLS</td></tr><tr><td>imre</td><td>5</td><td>GLS</td></tr><tr><td>imre1</td><td>8</td><td>GLS</td></tr><tr><td>istvan</td><td>3</td><td>GLS</td></tr><tr><td>istvan1</td><td>8</td><td>GLS</td></tr><tr><td>ISTVANV</td><td>4</td><td>GLS</td></tr><tr><td>janos3</td><td>5</td><td>GLS</td></tr><tr><td>JANOSG</td><td>3</td><td>GLS</td></tr><tr><td>JANOSP</td><td>7</td><td>GLS</td></tr><tr><td>jozsef</td><td>116</td><td>GLS</td></tr><tr><td>jozsef2</td><td>7</td><td>GLS</td></tr><tr><td>JOZSEFG</td><td>11</td><td>GLS</td></tr><tr><td>JUDITH</td><td>170</td><td>GLS</td></tr><tr><td>julia</td><td>137</td><td>GLS</td></tr><tr><td>julia4</td><td>2</td><td>GLS</td></tr><tr><td>julianna4</td><td>8</td><td>GLS</td></tr><tr><td>kata</td><td>5</td><td>GLS</td></tr><tr><td>katalin</td><td>7</td><td>GLS</td></tr><tr><td>katalin4</td><td>7</td><td>GLS</td></tr><tr><td>kati</td><td>4</td><td>GLS</td></tr><tr><td>katka</td><td>6</td><td>GLS</td></tr><tr><td>klaudia2</td><td>3</td><td>GLS</td></tr><tr><td>kornel4</td><td>3</td><td>GLS</td></tr><tr><td>kristof4</td><td>9</td><td>GLS</td></tr><tr><td>kriszti</td><td>3</td><td>GLS</td></tr><tr><td>krisztian4</td><td>5</td><td>GLS</td></tr><tr><td>KRISZTIANM</td><td>118</td><td>GLS</td></tr><tr><td>krisztina</td><td>149</td><td>GLS</td></tr><tr><td>krisztina1</td><td>10</td><td>GLS</td></tr><tr><td>KRISZTINAG</td><td>6</td><td>GLS</td></tr><tr><td>lajos</td><td>5</td><td>GLS</td></tr><tr><td>lala</td><td>5</td><td>GLS</td></tr><tr><td>laszlo1</td><td>130</td><td>GLS</td></tr><tr><td>laszlo2</td><td>12</td><td>GLS</td></tr><tr><td>LASZLOA</td><td>156</td><td>GLS</td></tr><tr><td>LASZLON</td><td>126</td><td>GLS</td></tr><tr><td>maria1</td><td>4</td><td>GLS</td></tr><tr><td>MARKH</td><td>128</td><td>GLS</td></tr><tr><td>marton</td><td>5</td><td>GLS</td></tr><tr><td>MATEK</td><td>6</td><td>GLS</td></tr><tr><td>matyas2</td><td>138</td><td>GLS</td></tr><tr><td>MATYASS</td><td>4</td><td>GLS</td></tr><tr><td>MIHALYJ</td><td>3</td><td>GLS</td></tr><tr><td>miklos2</td><td>7</td><td>GLS</td></tr><tr><td>MIKLOSB</td><td>6</td><td>GLS</td></tr><tr><td>MONIKAM</td><td>133</td><td>GLS</td></tr><tr><td>NANDORF</td><td>147</td><td>GLS</td></tr><tr><td>nikolett3</td><td>4</td><td>GLS</td></tr><tr><td>nikoletta4</td><td>137</td><td>GLS</td></tr><tr><td>NIKOLETTAT</td><td>13</td><td>GLS</td></tr><tr><td>norbert2</td><td>7</td><td>GLS</td></tr><tr><td>norbert4</td><td>1</td><td>GLS</td></tr><tr><td>norbert5</td><td>1</td><td>GLS</td></tr><tr><td>pal</td><td>152</td><td>GLS</td></tr><tr><td>peter1</td><td>151</td><td>GLS</td></tr><tr><td>peter2</td><td>7</td><td>GLS</td></tr><tr><td>peter3</td><td>8</td><td>GLS</td></tr><tr><td>peter4</td><td>266</td><td>GLS</td></tr><tr><td>PETERB</td><td>2</td><td>GLS</td></tr><tr><td>polla</td><td>9</td><td>GLS</td></tr><tr><td>rajmond4</td><td>6</td><td>GLS</td></tr><tr><td>reka4</td><td>5</td><td>GLS</td></tr><tr><td>RENATAK</td><td>135</td><td>GLS</td></tr><tr><td>RENATAS</td><td>6</td><td>GLS</td></tr><tr><td>robert2</td><td>5</td><td>GLS</td></tr><tr><td>ROBERTI</td><td>5</td><td>GLS</td></tr><tr><td>ROBERTP</td><td>8</td><td>GLS</td></tr><tr><td>roland</td><td>132</td><td>GLS</td></tr><tr><td>roland1</td><td>142</td><td>GLS</td></tr><tr><td>roza2</td><td>3</td><td>GLS</td></tr><tr><td>sandor</td><td>4</td><td>GLS</td></tr><tr><td>sandor3</td><td>4</td><td>GLS</td></tr><tr><td>sandor4</td><td>4</td><td>GLS</td></tr><tr><td>sara</td><td>4</td><td>GLS</td></tr><tr><td>SEBASTIANF</td><td>6</td><td>GLS</td></tr><tr><td>sebestyen</td><td>4</td><td>GLS</td></tr><tr><td>szabolcs</td><td>145</td><td>GLS</td></tr><tr><td>SZABOLCSM</td><td>126</td><td>GLS</td></tr><tr><td>SZILARDS</td><td>144</td><td>GLS</td></tr><tr><td>szilvia1</td><td>156</td><td>GLS</td></tr><tr><td>tamara2</td><td>6</td><td>GLS</td></tr><tr><td>tamas</td><td>143</td><td>GLS</td></tr><tr><td>TAMASF</td><td>159</td><td>GLS</td></tr><tr><td>tibor</td><td>115</td><td>GLS</td></tr><tr><td>tibor2</td><td>7</td><td>GLS</td></tr><tr><td>tihamer</td><td>9</td><td>GLS</td></tr><tr><td>timea</td><td>14</td><td>GLS</td></tr><tr><td>timea2</td><td>1</td><td>GLS</td></tr><tr><td>tunde</td><td>6</td><td>GLS</td></tr><tr><td>valentin</td><td>5</td><td>GLS</td></tr><tr><td>veronika4</td><td>5</td><td>GLS</td></tr><tr><td>VIKTORIAU</td><td>5</td><td>GLS</td></tr><tr><td>VIKTORK</td><td>8</td><td>GLS</td></tr><tr><td>vivien3</td><td>9</td><td>GLS</td></tr><tr><td>zoltan</td><td>5</td><td>GLS</td></tr><tr><td>zoltan4</td><td>129</td><td>GLS</td></tr><tr><td>ZOLTANP</td><td>6</td><td>GLS</td></tr><tr><td>ZOLTANT</td><td>127</td><td>GLS</td></tr><tr><td>zsofi1</td><td>7</td><td>GLS</td></tr><tr><td>zsolt1</td><td>11</td><td>GLS</td></tr><tr><td>ZSOLTJ</td><td>1</td><td>GLS</td></tr><tr><td>zsuzsa</td><td>8</td><td>GLS</td></tr><tr><td>zsuzsa3</td><td>5</td><td>GLS</td></tr><tr><td>zsuzsanna</td><td>7</td><td>GLS</td></tr><tr><td>ZSUZSAV</td><td>139</td><td>GLS</td></tr><tr><td>NULL</td><td>9426</td><td>GLS</td></tr><tr><td>adam1</td><td>132</td><td>Posta</td></tr><tr><td>adam3</td><td>3</td><td>Posta</td></tr><tr><td>adam4</td><td>6</td><td>Posta</td></tr><tr><td>agnes</td><td>130</td><td>Posta</td></tr><tr><td>agnes3</td><td>146</td><td>Posta</td></tr><tr><td>AGNESH</td><td>3</td><td>Posta</td></tr><tr><td>AGNESK</td><td>7</td><td>Posta</td></tr><tr><td>akos</td><td>143</td><td>Posta</td></tr><tr><td>aladar</td><td>134</td><td>Posta</td></tr><tr><td>alexandra</td><td>9</td><td>Posta</td></tr><tr><td>andi</td><td>4</td><td>Posta</td></tr><tr><td>andras2</td><td>7</td><td>Posta</td></tr><tr><td>andras21</td><td>124</td><td>Posta</td></tr><tr><td>andras3</td><td>1</td><td>Posta</td></tr><tr><td>andras4</td><td>4</td><td>Posta</td></tr><tr><td>andras41</td><td>137</td><td>Posta</td></tr><tr><td>ANDRASE</td><td>141</td><td>Posta</td></tr><tr><td>ANDRASN</td><td>9</td><td>Posta</td></tr><tr><td>andrea</td><td>4</td><td>Posta</td></tr><tr><td>andrea3</td><td>136</td><td>Posta</td></tr><tr><td>andrea4</td><td>4</td><td>Posta</td></tr><tr><td>ANDREAT</td><td>6</td><td>Posta</td></tr><tr><td>anett3</td><td>6</td><td>Posta</td></tr><tr><td>aniko</td><td>137</td><td>Posta</td></tr><tr><td>aniko4</td><td>6</td><td>Posta</td></tr><tr><td>ANIKOS</td><td>126</td><td>Posta</td></tr><tr><td>anita</td><td>2</td><td>Posta</td></tr><tr><td>annamaria1</td><td>4</td><td>Posta</td></tr><tr><td>ANNAMARIAR</td><td>2</td><td>Posta</td></tr><tr><td>aron2</td><td>133</td><td>Posta</td></tr><tr><td>ARONK</td><td>120</td><td>Posta</td></tr><tr><td>arpad2</td><td>1</td><td>Posta</td></tr><tr><td>ARPADH</td><td>3</td><td>Posta</td></tr><tr><td>ARPADM</td><td>3</td><td>Posta</td></tr><tr><td>attila1</td><td>7</td><td>Posta</td></tr><tr><td>attila4</td><td>125</td><td>Posta</td></tr><tr><td>ATTILAO</td><td>4</td><td>Posta</td></tr><tr><td>balazs1</td><td>136</td><td>Posta</td></tr><tr><td>balazs2</td><td>7</td><td>Posta</td></tr><tr><td>balazs3</td><td>6</td><td>Posta</td></tr><tr><td>balint</td><td>4</td><td>Posta</td></tr><tr><td>balint1</td><td>152</td><td>Posta</td></tr><tr><td>balint2</td><td>6</td><td>Posta</td></tr><tr><td>balu</td><td>137</td><td>Posta</td></tr><tr><td>BEATRIXK</td><td>155</td><td>Posta</td></tr><tr><td>BEATRIXS</td><td>141</td><td>Posta</td></tr><tr><td>BELAF</td><td>2</td><td>Posta</td></tr><tr><td>bence</td><td>6</td><td>Posta</td></tr><tr><td>BENCEB</td><td>7</td><td>Posta</td></tr><tr><td>bernadett1</td><td>5</td><td>Posta</td></tr><tr><td>bernadett2</td><td>2</td><td>Posta</td></tr><tr><td>BERNADETTO</td><td>2</td><td>Posta</td></tr><tr><td>bertalan</td><td>124</td><td>Posta</td></tr><tr><td>brigitta</td><td>137</td><td>Posta</td></tr><tr><td>brigitta3</td><td>130</td><td>Posta</td></tr><tr><td>csongor3</td><td>2</td><td>Posta</td></tr><tr><td>daniel</td><td>2</td><td>Posta</td></tr><tr><td>daniel1</td><td>131</td><td>Posta</td></tr><tr><td>david</td><td>144</td><td>Posta</td></tr><tr><td>david1</td><td>1</td><td>Posta</td></tr><tr><td>david4</td><td>8</td><td>Posta</td></tr><tr><td>debora</td><td>6</td><td>Posta</td></tr><tr><td>denes</td><td>2</td><td>Posta</td></tr><tr><td>dora3</td><td>124</td><td>Posta</td></tr><tr><td>edit</td><td>2</td><td>Posta</td></tr><tr><td>emese</td><td>136</td><td>Posta</td></tr><tr><td>eszter2</td><td>136</td><td>Posta</td></tr><tr><td>eszter4</td><td>134</td><td>Posta</td></tr><tr><td>ESZTERE</td><td>9</td><td>Posta</td></tr><tr><td>eva</td><td>140</td><td>Posta</td></tr><tr><td>eva2</td><td>138</td><td>Posta</td></tr><tr><td>EVAV</td><td>1</td><td>Posta</td></tr><tr><td>ferenc1</td><td>158</td><td>Posta</td></tr><tr><td>fruzsina4</td><td>3</td><td>Posta</td></tr><tr><td>gabor1</td><td>5</td><td>Posta</td></tr><tr><td>gabor4</td><td>9</td><td>Posta</td></tr><tr><td>GABORS</td><td>6</td><td>Posta</td></tr><tr><td>gabriella1</td><td>4</td><td>Posta</td></tr><tr><td>gabriella10</td><td>5</td><td>Posta</td></tr><tr><td>georgij</td><td>2</td><td>Posta</td></tr><tr><td>gusztav</td><td>4</td><td>Posta</td></tr><tr><td>GYONGYIK</td><td>6</td><td>Posta</td></tr><tr><td>GYORGYO</td><td>4</td><td>Posta</td></tr><tr><td>henrik3</td><td>4</td><td>Posta</td></tr><tr><td>IBOLYAA</td><td>125</td><td>Posta</td></tr><tr><td>ilona3</td><td>2</td><td>Posta</td></tr><tr><td>imre</td><td>4</td><td>Posta</td></tr><tr><td>imre1</td><td>4</td><td>Posta</td></tr><tr><td>istvan</td><td>4</td><td>Posta</td></tr><tr><td>istvan1</td><td>4</td><td>Posta</td></tr><tr><td>ISTVANV</td><td>9</td><td>Posta</td></tr><tr><td>janos3</td><td>2</td><td>Posta</td></tr><tr><td>JANOSG</td><td>3</td><td>Posta</td></tr><tr><td>JANOSP</td><td>7</td><td>Posta</td></tr><tr><td>jozsef</td><td>132</td><td>Posta</td></tr><tr><td>jozsef2</td><td>2</td><td>Posta</td></tr><tr><td>JOZSEFG</td><td>1</td><td>Posta</td></tr><tr><td>JUDITH</td><td>130</td><td>Posta</td></tr><tr><td>julia</td><td>160</td><td>Posta</td></tr><tr><td>julia4</td><td>4</td><td>Posta</td></tr><tr><td>julianna4</td><td>12</td><td>Posta</td></tr><tr><td>kata</td><td>4</td><td>Posta</td></tr><tr><td>katalin</td><td>7</td><td>Posta</td></tr><tr><td>katalin4</td><td>5</td><td>Posta</td></tr><tr><td>kati</td><td>5</td><td>Posta</td></tr><tr><td>katka</td><td>6</td><td>Posta</td></tr><tr><td>klaudia2</td><td>9</td><td>Posta</td></tr><tr><td>kornel4</td><td>1</td><td>Posta</td></tr><tr><td>kristof4</td><td>4</td><td>Posta</td></tr><tr><td>kriszti</td><td>5</td><td>Posta</td></tr><tr><td>krisztian4</td><td>6</td><td>Posta</td></tr><tr><td>KRISZTIANM</td><td>136</td><td>Posta</td></tr><tr><td>krisztina</td><td>150</td><td>Posta</td></tr><tr><td>krisztina1</td><td>4</td><td>Posta</td></tr><tr><td>KRISZTINAG</td><td>6</td><td>Posta</td></tr><tr><td>lajos</td><td>2</td><td>Posta</td></tr><tr><td>lala</td><td>3</td><td>Posta</td></tr><tr><td>laszlo1</td><td>129</td><td>Posta</td></tr><tr><td>laszlo2</td><td>6</td><td>Posta</td></tr><tr><td>LASZLOA</td><td>136</td><td>Posta</td></tr><tr><td>LASZLON</td><td>131</td><td>Posta</td></tr><tr><td>maria1</td><td>5</td><td>Posta</td></tr><tr><td>MARKH</td><td>142</td><td>Posta</td></tr><tr><td>marton</td><td>4</td><td>Posta</td></tr><tr><td>MATEK</td><td>10</td><td>Posta</td></tr><tr><td>matyas2</td><td>131</td><td>Posta</td></tr><tr><td>MATYASS</td><td>5</td><td>Posta</td></tr><tr><td>MIHALYJ</td><td>4</td><td>Posta</td></tr><tr><td>miklos2</td><td>4</td><td>Posta</td></tr><tr><td>MIKLOSB</td><td>1</td><td>Posta</td></tr><tr><td>MONIKAM</td><td>151</td><td>Posta</td></tr><tr><td>NANDORF</td><td>139</td><td>Posta</td></tr><tr><td>nikolett3</td><td>3</td><td>Posta</td></tr><tr><td>nikoletta4</td><td>158</td><td>Posta</td></tr><tr><td>NIKOLETTAT</td><td>7</td><td>Posta</td></tr><tr><td>norbert2</td><td>4</td><td>Posta</td></tr><tr><td>norbert4</td><td>3</td><td>Posta</td></tr><tr><td>norbert5</td><td>6</td><td>Posta</td></tr><tr><td>pal</td><td>132</td><td>Posta</td></tr><tr><td>peter1</td><td>135</td><td>Posta</td></tr><tr><td>peter2</td><td>4</td><td>Posta</td></tr><tr><td>peter3</td><td>7</td><td>Posta</td></tr><tr><td>peter4</td><td>293</td><td>Posta</td></tr><tr><td>PETERB</td><td>4</td><td>Posta</td></tr><tr><td>polla</td><td>6</td><td>Posta</td></tr><tr><td>rajmond4</td><td>5</td><td>Posta</td></tr><tr><td>reka4</td><td>4</td><td>Posta</td></tr><tr><td>RENATAK</td><td>140</td><td>Posta</td></tr><tr><td>RENATAS</td><td>5</td><td>Posta</td></tr><tr><td>robert2</td><td>1</td><td>Posta</td></tr><tr><td>ROBERTI</td><td>3</td><td>Posta</td></tr><tr><td>ROBERTP</td><td>8</td><td>Posta</td></tr><tr><td>roland</td><td>157</td><td>Posta</td></tr><tr><td>roland1</td><td>155</td><td>Posta</td></tr><tr><td>roza2</td><td>2</td><td>Posta</td></tr><tr><td>sandor</td><td>6</td><td>Posta</td></tr><tr><td>sandor3</td><td>4</td><td>Posta</td></tr><tr><td>sandor4</td><td>2</td><td>Posta</td></tr><tr><td>sara</td><td>7</td><td>Posta</td></tr><tr><td>SEBASTIANF</td><td>3</td><td>Posta</td></tr><tr><td>sebestyen</td><td>6</td><td>Posta</td></tr><tr><td>szabolcs</td><td>157</td><td>Posta</td></tr><tr><td>SZABOLCSM</td><td>153</td><td>Posta</td></tr><tr><td>SZILARDS</td><td>131</td><td>Posta</td></tr><tr><td>szilvia1</td><td>151</td><td>Posta</td></tr><tr><td>tamara2</td><td>4</td><td>Posta</td></tr><tr><td>tamas</td><td>156</td><td>Posta</td></tr><tr><td>TAMASF</td><td>145</td><td>Posta</td></tr><tr><td>tibor</td><td>129</td><td>Posta</td></tr><tr><td>tibor2</td><td>7</td><td>Posta</td></tr><tr><td>tihamer</td><td>6</td><td>Posta</td></tr><tr><td>timea</td><td>23</td><td>Posta</td></tr><tr><td>timea2</td><td>5</td><td>Posta</td></tr><tr><td>tunde</td><td>6</td><td>Posta</td></tr><tr><td>valentin</td><td>5</td><td>Posta</td></tr><tr><td>veronika4</td><td>6</td><td>Posta</td></tr><tr><td>VIKTORIAU</td><td>4</td><td>Posta</td></tr><tr><td>VIKTORK</td><td>6</td><td>Posta</td></tr><tr><td>vivien3</td><td>6</td><td>Posta</td></tr><tr><td>zoltan</td><td>3</td><td>Posta</td></tr><tr><td>zoltan4</td><td>124</td><td>Posta</td></tr><tr><td>ZOLTANP</td><td>3</td><td>Posta</td></tr><tr><td>ZOLTANT</td><td>107</td><td>Posta</td></tr><tr><td>zsofi1</td><td>6</td><td>Posta</td></tr><tr><td>zsolt1</td><td>6</td><td>Posta</td></tr><tr><td>ZSOLTJ</td><td>8</td><td>Posta</td></tr><tr><td>zsuzsa</td><td>5</td><td>Posta</td></tr><tr><td>zsuzsa3</td><td>5</td><td>Posta</td></tr><tr><td>zsuzsanna</td><td>5</td><td>Posta</td></tr><tr><td>ZSUZSAV</td><td>139</td><td>Posta</td></tr><tr><td>NULL</td><td>9191</td><td>Posta</td></tr><tr><td>adam1</td><td>131</td><td>Személyes átvétel</td></tr><tr><td>adam3</td><td>2</td><td>Személyes átvétel</td></tr><tr><td>adam4</td><td>11</td><td>Személyes átvétel</td></tr><tr><td>agnes</td><td>144</td><td>Személyes átvétel</td></tr><tr><td>agnes3</td><td>136</td><td>Személyes átvétel</td></tr><tr><td>AGNESH</td><td>6</td><td>Személyes átvétel</td></tr><tr><td>AGNESK</td><td>7</td><td>Személyes átvétel</td></tr><tr><td>akos</td><td>140</td><td>Személyes átvétel</td></tr><tr><td>aladar</td><td>118</td><td>Személyes átvétel</td></tr><tr><td>alexandra</td><td>5</td><td>Személyes átvétel</td></tr><tr><td>andi</td><td>7</td><td>Személyes átvétel</td></tr><tr><td>andras2</td><td>11</td><td>Személyes átvétel</td></tr><tr><td>andras21</td><td>126</td><td>Személyes átvétel</td></tr><tr><td>andras3</td><td>5</td><td>Személyes átvétel</td></tr><tr><td>andras4</td><td>4</td><td>Személyes átvétel</td></tr><tr><td>andras41</td><td>133</td><td>Személyes átvétel</td></tr><tr><td>ANDRASE</td><td>136</td><td>Személyes átvétel</td></tr><tr><td>ANDRASN</td><td>5</td><td>Személyes átvétel</td></tr><tr><td>andrea</td><td>8</td><td>Személyes átvétel</td></tr><tr><td>andrea3</td><td>146</td><td>Személyes átvétel</td></tr><tr><td>andrea4</td><td>7</td><td>Személyes átvétel</td></tr><tr><td>ANDREAT</td><td>12</td><td>Személyes átvétel</td></tr><tr><td>anett3</td><td>9</td><td>Személyes átvétel</td></tr><tr><td>aniko</td><td>138</td><td>Személyes átvétel</td></tr><tr><td>aniko4</td><td>3</td><td>Személyes átvétel</td></tr><tr><td>ANIKOS</td><td>150</td><td>Személyes átvétel</td></tr><tr><td>anita</td><td>5</td><td>Személyes átvétel</td></tr><tr><td>annamaria1</td><td>7</td><td>Személyes átvétel</td></tr><tr><td>ANNAMARIAR</td><td>3</td><td>Személyes átvétel</td></tr><tr><td>aron2</td><td>144</td><td>Személyes átvétel</td></tr><tr><td>ARONK</td><td>155</td><td>Személyes átvétel</td></tr><tr><td>arpad2</td><td>10</td><td>Személyes átvétel</td></tr><tr><td>ARPADH</td><td>5</td><td>Személyes átvétel</td></tr><tr><td>ARPADM</td><td>7</td><td>Személyes átvétel</td></tr><tr><td>attila1</td><td>6</td><td>Személyes átvétel</td></tr><tr><td>attila4</td><td>141</td><td>Személyes átvétel</td></tr><tr><td>ATTILAO</td><td>6</td><td>Személyes átvétel</td></tr><tr><td>balazs1</td><td>155</td><td>Személyes átvétel</td></tr><tr><td>balazs2</td><td>5</td><td>Személyes átvétel</td></tr><tr><td>balazs3</td><td>3</td><td>Személyes átvétel</td></tr><tr><td>balint</td><td>2</td><td>Személyes átvétel</td></tr><tr><td>balint1</td><td>152</td><td>Személyes átvétel</td></tr><tr><td>balint2</td><td>3</td><td>Személyes átvétel</td></tr><tr><td>balu</td><td>123</td><td>Személyes átvétel</td></tr><tr><td>BEATRIXK</td><td>145</td><td>Személyes átvétel</td></tr><tr><td>BEATRIXS</td><td>133</td><td>Személyes átvétel</td></tr><tr><td>BELAF</td><td>5</td><td>Személyes átvétel</td></tr><tr><td>bence</td><td>8</td><td>Személyes átvétel</td></tr><tr><td>BENCEB</td><td>5</td><td>Személyes átvétel</td></tr><tr><td>bernadett1</td><td>5</td><td>Személyes átvétel</td></tr><tr><td>bernadett2</td><td>7</td><td>Személyes átvétel</td></tr><tr><td>BERNADETTO</td><td>7</td><td>Személyes átvétel</td></tr><tr><td>bertalan</td><td>101</td><td>Személyes átvétel</td></tr><tr><td>brigitta</td><td>119</td><td>Személyes átvétel</td></tr><tr><td>brigitta3</td><td>139</td><td>Személyes átvétel</td></tr><tr><td>csongor3</td><td>8</td><td>Személyes átvétel</td></tr><tr><td>dani</td><td>8</td><td>Személyes átvétel</td></tr><tr><td>daniel</td><td>4</td><td>Személyes átvétel</td></tr><tr><td>daniel1</td><td>132</td><td>Személyes átvétel</td></tr><tr><td>david</td><td>146</td><td>Személyes átvétel</td></tr><tr><td>david1</td><td>8</td><td>Személyes átvétel</td></tr><tr><td>david4</td><td>10</td><td>Személyes átvétel</td></tr><tr><td>debora</td><td>3</td><td>Személyes átvétel</td></tr><tr><td>denes</td><td>4</td><td>Személyes átvétel</td></tr><tr><td>dora3</td><td>164</td><td>Személyes átvétel</td></tr><tr><td>edit</td><td>4</td><td>Személyes átvétel</td></tr><tr><td>emese</td><td>142</td><td>Személyes átvétel</td></tr><tr><td>eszter2</td><td>152</td><td>Személyes átvétel</td></tr><tr><td>eszter4</td><td>149</td><td>Személyes átvétel</td></tr><tr><td>ESZTERE</td><td>7</td><td>Személyes átvétel</td></tr><tr><td>eva</td><td>139</td><td>Személyes átvétel</td></tr><tr><td>eva2</td><td>170</td><td>Személyes átvétel</td></tr><tr><td>EVAV</td><td>4</td><td>Személyes átvétel</td></tr><tr><td>ferenc1</td><td>135</td><td>Személyes átvétel</td></tr><tr><td>fruzsina4</td><td>7</td><td>Személyes átvétel</td></tr><tr><td>gabor1</td><td>5</td><td>Személyes átvétel</td></tr><tr><td>gabor4</td><td>4</td><td>Személyes átvétel</td></tr><tr><td>GABORS</td><td>4</td><td>Személyes átvétel</td></tr><tr><td>gabriella1</td><td>5</td><td>Személyes átvétel</td></tr><tr><td>gabriella10</td><td>7</td><td>Személyes átvétel</td></tr><tr><td>georgij</td><td>10</td><td>Személyes átvétel</td></tr><tr><td>gusztav</td><td>5</td><td>Személyes átvétel</td></tr><tr><td>GYONGYIK</td><td>3</td><td>Személyes átvétel</td></tr><tr><td>GYORGYO</td><td>5</td><td>Személyes átvétel</td></tr><tr><td>henrik3</td><td>5</td><td>Személyes átvétel</td></tr><tr><td>IBOLYAA</td><td>157</td><td>Személyes átvétel</td></tr><tr><td>ilona3</td><td>7</td><td>Személyes átvétel</td></tr><tr><td>imre</td><td>6</td><td>Személyes átvétel</td></tr><tr><td>imre1</td><td>3</td><td>Személyes átvétel</td></tr><tr><td>istvan</td><td>4</td><td>Személyes átvétel</td></tr><tr><td>istvan1</td><td>7</td><td>Személyes átvétel</td></tr><tr><td>ISTVANV</td><td>8</td><td>Személyes átvétel</td></tr><tr><td>janos3</td><td>6</td><td>Személyes átvétel</td></tr><tr><td>JANOSG</td><td>4</td><td>Személyes átvétel</td></tr><tr><td>JANOSP</td><td>3</td><td>Személyes átvétel</td></tr><tr><td>jozsef</td><td>134</td><td>Személyes átvétel</td></tr><tr><td>jozsef2</td><td>4</td><td>Személyes átvétel</td></tr><tr><td>JOZSEFG</td><td>9</td><td>Személyes átvétel</td></tr><tr><td>JUDITH</td><td>150</td><td>Személyes átvétel</td></tr><tr><td>julia</td><td>138</td><td>Személyes átvétel</td></tr><tr><td>julia4</td><td>8</td><td>Személyes átvétel</td></tr><tr><td>julianna4</td><td>7</td><td>Személyes átvétel</td></tr><tr><td>kata</td><td>3</td><td>Személyes átvétel</td></tr><tr><td>katalin</td><td>5</td><td>Személyes átvétel</td></tr><tr><td>katalin4</td><td>11</td><td>Személyes átvétel</td></tr><tr><td>kati</td><td>4</td><td>Személyes átvétel</td></tr><tr><td>katka</td><td>10</td><td>Személyes átvétel</td></tr><tr><td>klaudia2</td><td>5</td><td>Személyes átvétel</td></tr><tr><td>kornel4</td><td>7</td><td>Személyes átvétel</td></tr><tr><td>kristof4</td><td>8</td><td>Személyes átvétel</td></tr><tr><td>kriszti</td><td>5</td><td>Személyes átvétel</td></tr><tr><td>krisztian4</td><td>6</td><td>Személyes átvétel</td></tr><tr><td>KRISZTIANM</td><td>130</td><td>Személyes átvétel</td></tr><tr><td>krisztina</td><td>157</td><td>Személyes átvétel</td></tr><tr><td>krisztina1</td><td>8</td><td>Személyes átvétel</td></tr><tr><td>KRISZTINAG</td><td>10</td><td>Személyes átvétel</td></tr><tr><td>lajos</td><td>9</td><td>Személyes átvétel</td></tr><tr><td>lala</td><td>9</td><td>Személyes átvétel</td></tr><tr><td>laszlo1</td><td>135</td><td>Személyes átvétel</td></tr><tr><td>laszlo2</td><td>7</td><td>Személyes átvétel</td></tr><tr><td>LASZLOA</td><td>154</td><td>Személyes átvétel</td></tr><tr><td>LASZLON</td><td>143</td><td>Személyes átvétel</td></tr><tr><td>maria1</td><td>1</td><td>Személyes átvétel</td></tr><tr><td>MARKH</td><td>142</td><td>Személyes átvétel</td></tr><tr><td>marton</td><td>5</td><td>Személyes átvétel</td></tr><tr><td>MATEK</td><td>9</td><td>Személyes átvétel</td></tr><tr><td>matyas2</td><td>164</td><td>Személyes átvétel</td></tr><tr><td>MATYASS</td><td>3</td><td>Személyes átvétel</td></tr><tr><td>MIHALYJ</td><td>6</td><td>Személyes átvétel</td></tr><tr><td>miklos2</td><td>2</td><td>Személyes átvétel</td></tr><tr><td>MIKLOSB</td><td>8</td><td>Személyes átvétel</td></tr><tr><td>MONIKAM</td><td>123</td><td>Személyes átvétel</td></tr><tr><td>NANDORF</td><td>134</td><td>Személyes átvétel</td></tr><tr><td>nikolett3</td><td>10</td><td>Személyes átvétel</td></tr><tr><td>nikoletta4</td><td>119</td><td>Személyes átvétel</td></tr><tr><td>NIKOLETTAT</td><td>5</td><td>Személyes átvétel</td></tr><tr><td>norbert4</td><td>9</td><td>Személyes átvétel</td></tr><tr><td>norbert5</td><td>9</td><td>Személyes átvétel</td></tr><tr><td>pal</td><td>154</td><td>Személyes átvétel</td></tr><tr><td>peter1</td><td>126</td><td>Személyes átvétel</td></tr><tr><td>peter2</td><td>7</td><td>Személyes átvétel</td></tr><tr><td>peter3</td><td>10</td><td>Személyes átvétel</td></tr><tr><td>peter4</td><td>293</td><td>Személyes átvétel</td></tr><tr><td>PETERB</td><td>9</td><td>Személyes átvétel</td></tr><tr><td>polla</td><td>7</td><td>Személyes átvétel</td></tr><tr><td>rajmond4</td><td>6</td><td>Személyes átvétel</td></tr><tr><td>reka4</td><td>11</td><td>Személyes átvétel</td></tr><tr><td>RENATAK</td><td>147</td><td>Személyes átvétel</td></tr><tr><td>RENATAS</td><td>5</td><td>Személyes átvétel</td></tr><tr><td>robert2</td><td>7</td><td>Személyes átvétel</td></tr><tr><td>ROBERTI</td><td>5</td><td>Személyes átvétel</td></tr><tr><td>ROBERTP</td><td>10</td><td>Személyes átvétel</td></tr><tr><td>roland</td><td>125</td><td>Személyes átvétel</td></tr><tr><td>roland1</td><td>135</td><td>Személyes átvétel</td></tr><tr><td>roza2</td><td>3</td><td>Személyes átvétel</td></tr><tr><td>sandor</td><td>7</td><td>Személyes átvétel</td></tr><tr><td>sandor3</td><td>6</td><td>Személyes átvétel</td></tr><tr><td>sandor4</td><td>5</td><td>Személyes átvétel</td></tr><tr><td>sara</td><td>9</td><td>Személyes átvétel</td></tr><tr><td>SEBASTIANF</td><td>6</td><td>Személyes átvétel</td></tr><tr><td>sebestyen</td><td>6</td><td>Személyes átvétel</td></tr><tr><td>szabolcs</td><td>169</td><td>Személyes átvétel</td></tr><tr><td>SZABOLCSM</td><td>129</td><td>Személyes átvétel</td></tr><tr><td>SZILARDS</td><td>111</td><td>Személyes átvétel</td></tr><tr><td>szilvia1</td><td>138</td><td>Személyes átvétel</td></tr><tr><td>tamara2</td><td>3</td><td>Személyes átvétel</td></tr><tr><td>tamas</td><td>122</td><td>Személyes átvétel</td></tr><tr><td>TAMASF</td><td>129</td><td>Személyes átvétel</td></tr><tr><td>tibor</td><td>130</td><td>Személyes átvétel</td></tr><tr><td>tibor2</td><td>11</td><td>Személyes átvétel</td></tr><tr><td>tihamer</td><td>5</td><td>Személyes átvétel</td></tr><tr><td>timea</td><td>18</td><td>Személyes átvétel</td></tr><tr><td>timea2</td><td>10</td><td>Személyes átvétel</td></tr><tr><td>tunde</td><td>4</td><td>Személyes átvétel</td></tr><tr><td>valentin</td><td>3</td><td>Személyes átvétel</td></tr><tr><td>veronika4</td><td>7</td><td>Személyes átvétel</td></tr><tr><td>VIKTORIAU</td><td>5</td><td>Személyes átvétel</td></tr><tr><td>VIKTORK</td><td>6</td><td>Személyes átvétel</td></tr><tr><td>vivien3</td><td>7</td><td>Személyes átvétel</td></tr><tr><td>zoltan</td><td>7</td><td>Személyes átvétel</td></tr><tr><td>zoltan4</td><td>171</td><td>Személyes átvétel</td></tr><tr><td>ZOLTANP</td><td>4</td><td>Személyes átvétel</td></tr><tr><td>ZOLTANT</td><td>123</td><td>Személyes átvétel</td></tr><tr><td>zsofi1</td><td>6</td><td>Személyes átvétel</td></tr><tr><td>zsolt1</td><td>3</td><td>Személyes átvétel</td></tr><tr><td>ZSOLTJ</td><td>9</td><td>Személyes átvétel</td></tr><tr><td>zsuzsa</td><td>3</td><td>Személyes átvétel</td></tr><tr><td>zsuzsa3</td><td>6</td><td>Személyes átvétel</td></tr><tr><td>zsuzsanna</td><td>3</td><td>Személyes átvétel</td></tr><tr><td>ZSUZSAV</td><td>142</td><td>Személyes átvétel</td></tr><tr><td>NULL</td><td>9468</td><td>Személyes átvétel</td></tr><tr><td>NULL</td><td>28085</td><td>NULL</td></tr><tr><td>adam1</td><td>392</td><td>NULL</td></tr><tr><td>adam3</td><td>15</td><td>NULL</td></tr><tr><td>adam4</td><td>29</td><td>NULL</td></tr><tr><td>agnes</td><td>418</td><td>NULL</td></tr><tr><td>agnes3</td><td>430</td><td>NULL</td></tr><tr><td>AGNESH</td><td>11</td><td>NULL</td></tr><tr><td>AGNESK</td><td>15</td><td>NULL</td></tr><tr><td>akos</td><td>429</td><td>NULL</td></tr><tr><td>aladar</td><td>408</td><td>NULL</td></tr><tr><td>alexandra</td><td>19</td><td>NULL</td></tr><tr><td>andi</td><td>18</td><td>NULL</td></tr><tr><td>andras2</td><td>22</td><td>NULL</td></tr><tr><td>andras21</td><td>390</td><td>NULL</td></tr><tr><td>andras3</td><td>9</td><td>NULL</td></tr><tr><td>andras4</td><td>12</td><td>NULL</td></tr><tr><td>andras41</td><td>419</td><td>NULL</td></tr><tr><td>ANDRASE</td><td>436</td><td>NULL</td></tr><tr><td>ANDRASN</td><td>24</td><td>NULL</td></tr><tr><td>andrea</td><td>24</td><td>NULL</td></tr><tr><td>andrea3</td><td>413</td><td>NULL</td></tr><tr><td>andrea4</td><td>18</td><td>NULL</td></tr><tr><td>ANDREAT</td><td>21</td><td>NULL</td></tr><tr><td>anett3</td><td>18</td><td>NULL</td></tr><tr><td>aniko</td><td>403</td><td>NULL</td></tr><tr><td>aniko4</td><td>15</td><td>NULL</td></tr><tr><td>ANIKOS</td><td>404</td><td>NULL</td></tr><tr><td>anita</td><td>12</td><td>NULL</td></tr><tr><td>annamaria1</td><td>16</td><td>NULL</td></tr><tr><td>ANNAMARIAR</td><td>13</td><td>NULL</td></tr><tr><td>aron2</td><td>409</td><td>NULL</td></tr><tr><td>ARONK</td><td>430</td><td>NULL</td></tr><tr><td>arpad2</td><td>17</td><td>NULL</td></tr><tr><td>ARPADH</td><td>14</td><td>NULL</td></tr><tr><td>ARPADM</td><td>16</td><td>NULL</td></tr><tr><td>attila1</td><td>18</td><td>NULL</td></tr><tr><td>attila4</td><td>401</td><td>NULL</td></tr><tr><td>ATTILAO</td><td>14</td><td>NULL</td></tr><tr><td>balazs1</td><td>419</td><td>NULL</td></tr><tr><td>balazs2</td><td>17</td><td>NULL</td></tr><tr><td>balazs3</td><td>15</td><td>NULL</td></tr><tr><td>balint</td><td>16</td><td>NULL</td></tr><tr><td>balint1</td><td>462</td><td>NULL</td></tr><tr><td>balint2</td><td>17</td><td>NULL</td></tr><tr><td>balu</td><td>387</td><td>NULL</td></tr><tr><td>BEATRIXK</td><td>435</td><td>NULL</td></tr><tr><td>BEATRIXS</td><td>420</td><td>NULL</td></tr><tr><td>BELAF</td><td>18</td><td>NULL</td></tr><tr><td>bence</td><td>18</td><td>NULL</td></tr><tr><td>BENCEB</td><td>17</td><td>NULL</td></tr><tr><td>bernadett1</td><td>20</td><td>NULL</td></tr><tr><td>bernadett2</td><td>15</td><td>NULL</td></tr><tr><td>BERNADETTO</td><td>16</td><td>NULL</td></tr><tr><td>bertalan</td><td>353</td><td>NULL</td></tr><tr><td>brigitta</td><td>393</td><td>NULL</td></tr><tr><td>brigitta3</td><td>413</td><td>NULL</td></tr><tr><td>csongor3</td><td>15</td><td>NULL</td></tr><tr><td>dani</td><td>13</td><td>NULL</td></tr><tr><td>daniel</td><td>13</td><td>NULL</td></tr><tr><td>daniel1</td><td>419</td><td>NULL</td></tr><tr><td>david</td><td>451</td><td>NULL</td></tr><tr><td>david1</td><td>17</td><td>NULL</td></tr><tr><td>david4</td><td>21</td><td>NULL</td></tr><tr><td>debora</td><td>16</td><td>NULL</td></tr><tr><td>denes</td><td>9</td><td>NULL</td></tr><tr><td>dora3</td><td>432</td><td>NULL</td></tr><tr><td>edit</td><td>13</td><td>NULL</td></tr><tr><td>emese</td><td>406</td><td>NULL</td></tr><tr><td>eszter2</td><td>415</td><td>NULL</td></tr><tr><td>eszter4</td><td>424</td><td>NULL</td></tr><tr><td>ESZTERE</td><td>22</td><td>NULL</td></tr><tr><td>eva</td><td>404</td><td>NULL</td></tr><tr><td>eva2</td><td>462</td><td>NULL</td></tr><tr><td>EVAV</td><td>7</td><td>NULL</td></tr><tr><td>ferenc1</td><td>437</td><td>NULL</td></tr><tr><td>fruzsina4</td><td>18</td><td>NULL</td></tr><tr><td>gabor1</td><td>19</td><td>NULL</td></tr><tr><td>gabor4</td><td>20</td><td>NULL</td></tr><tr><td>GABORS</td><td>15</td><td>NULL</td></tr><tr><td>gabriella1</td><td>14</td><td>NULL</td></tr><tr><td>gabriella10</td><td>16</td><td>NULL</td></tr><tr><td>georgij</td><td>21</td><td>NULL</td></tr><tr><td>gusztav</td><td>14</td><td>NULL</td></tr><tr><td>GYONGYIK</td><td>15</td><td>NULL</td></tr><tr><td>GYORGYO</td><td>16</td><td>NULL</td></tr><tr><td>henrik3</td><td>16</td><td>NULL</td></tr><tr><td>IBOLYAA</td><td>422</td><td>NULL</td></tr><tr><td>ilona3</td><td>18</td><td>NULL</td></tr><tr><td>imre</td><td>15</td><td>NULL</td></tr><tr><td>imre1</td><td>15</td><td>NULL</td></tr><tr><td>istvan</td><td>11</td><td>NULL</td></tr><tr><td>istvan1</td><td>19</td><td>NULL</td></tr><tr><td>ISTVANV</td><td>21</td><td>NULL</td></tr><tr><td>janos3</td><td>13</td><td>NULL</td></tr><tr><td>JANOSG</td><td>10</td><td>NULL</td></tr><tr><td>JANOSP</td><td>17</td><td>NULL</td></tr><tr><td>jozsef</td><td>382</td><td>NULL</td></tr><tr><td>jozsef2</td><td>13</td><td>NULL</td></tr><tr><td>JOZSEFG</td><td>21</td><td>NULL</td></tr><tr><td>JUDITH</td><td>450</td><td>NULL</td></tr><tr><td>julia</td><td>435</td><td>NULL</td></tr><tr><td>julia4</td><td>14</td><td>NULL</td></tr><tr><td>julianna4</td><td>27</td><td>NULL</td></tr><tr><td>kata</td><td>12</td><td>NULL</td></tr><tr><td>katalin</td><td>19</td><td>NULL</td></tr><tr><td>katalin4</td><td>23</td><td>NULL</td></tr><tr><td>kati</td><td>13</td><td>NULL</td></tr><tr><td>katka</td><td>22</td><td>NULL</td></tr><tr><td>klaudia2</td><td>17</td><td>NULL</td></tr><tr><td>kornel4</td><td>11</td><td>NULL</td></tr><tr><td>kristof4</td><td>21</td><td>NULL</td></tr><tr><td>kriszti</td><td>13</td><td>NULL</td></tr><tr><td>krisztian4</td><td>17</td><td>NULL</td></tr><tr><td>KRISZTIANM</td><td>384</td><td>NULL</td></tr><tr><td>krisztina</td><td>456</td><td>NULL</td></tr><tr><td>krisztina1</td><td>22</td><td>NULL</td></tr><tr><td>KRISZTINAG</td><td>22</td><td>NULL</td></tr><tr><td>lajos</td><td>16</td><td>NULL</td></tr><tr><td>lala</td><td>17</td><td>NULL</td></tr><tr><td>laszlo1</td><td>394</td><td>NULL</td></tr><tr><td>laszlo2</td><td>25</td><td>NULL</td></tr><tr><td>LASZLOA</td><td>446</td><td>NULL</td></tr><tr><td>LASZLON</td><td>400</td><td>NULL</td></tr><tr><td>maria1</td><td>10</td><td>NULL</td></tr><tr><td>MARKH</td><td>412</td><td>NULL</td></tr><tr><td>marton</td><td>14</td><td>NULL</td></tr><tr><td>MATEK</td><td>25</td><td>NULL</td></tr><tr><td>matyas2</td><td>433</td><td>NULL</td></tr><tr><td>MATYASS</td><td>12</td><td>NULL</td></tr><tr><td>MIHALYJ</td><td>13</td><td>NULL</td></tr><tr><td>miklos2</td><td>13</td><td>NULL</td></tr><tr><td>MIKLOSB</td><td>15</td><td>NULL</td></tr><tr><td>MONIKAM</td><td>407</td><td>NULL</td></tr><tr><td>NANDORF</td><td>420</td><td>NULL</td></tr><tr><td>nikolett3</td><td>17</td><td>NULL</td></tr><tr><td>nikoletta4</td><td>414</td><td>NULL</td></tr><tr><td>NIKOLETTAT</td><td>25</td><td>NULL</td></tr><tr><td>norbert2</td><td>11</td><td>NULL</td></tr><tr><td>norbert4</td><td>13</td><td>NULL</td></tr><tr><td>norbert5</td><td>16</td><td>NULL</td></tr><tr><td>pal</td><td>438</td><td>NULL</td></tr><tr><td>peter1</td><td>412</td><td>NULL</td></tr><tr><td>peter2</td><td>18</td><td>NULL</td></tr><tr><td>peter3</td><td>25</td><td>NULL</td></tr><tr><td>peter4</td><td>852</td><td>NULL</td></tr><tr><td>PETERB</td><td>15</td><td>NULL</td></tr><tr><td>polla</td><td>22</td><td>NULL</td></tr><tr><td>rajmond4</td><td>17</td><td>NULL</td></tr><tr><td>reka4</td><td>20</td><td>NULL</td></tr><tr><td>RENATAK</td><td>422</td><td>NULL</td></tr><tr><td>RENATAS</td><td>16</td><td>NULL</td></tr><tr><td>robert2</td><td>13</td><td>NULL</td></tr><tr><td>ROBERTI</td><td>13</td><td>NULL</td></tr><tr><td>ROBERTP</td><td>26</td><td>NULL</td></tr><tr><td>roland</td><td>414</td><td>NULL</td></tr><tr><td>roland1</td><td>432</td><td>NULL</td></tr><tr><td>roza2</td><td>8</td><td>NULL</td></tr><tr><td>sandor</td><td>17</td><td>NULL</td></tr><tr><td>sandor3</td><td>14</td><td>NULL</td></tr><tr><td>sandor4</td><td>11</td><td>NULL</td></tr><tr><td>sara</td><td>20</td><td>NULL</td></tr><tr><td>SEBASTIANF</td><td>15</td><td>NULL</td></tr><tr><td>sebestyen</td><td>16</td><td>NULL</td></tr><tr><td>szabolcs</td><td>471</td><td>NULL</td></tr><tr><td>SZABOLCSM</td><td>408</td><td>NULL</td></tr><tr><td>SZILARDS</td><td>386</td><td>NULL</td></tr><tr><td>szilvia1</td><td>445</td><td>NULL</td></tr><tr><td>tamara2</td><td>13</td><td>NULL</td></tr><tr><td>tamas</td><td>421</td><td>NULL</td></tr><tr><td>TAMASF</td><td>433</td><td>NULL</td></tr><tr><td>tibor</td><td>374</td><td>NULL</td></tr><tr><td>tibor2</td><td>25</td><td>NULL</td></tr><tr><td>tihamer</td><td>20</td><td>NULL</td></tr><tr><td>timea</td><td>55</td><td>NULL</td></tr><tr><td>timea2</td><td>16</td><td>NULL</td></tr><tr><td>tunde</td><td>16</td><td>NULL</td></tr><tr><td>valentin</td><td>13</td><td>NULL</td></tr><tr><td>veronika4</td><td>18</td><td>NULL</td></tr><tr><td>VIKTORIAU</td><td>14</td><td>NULL</td></tr><tr><td>VIKTORK</td><td>20</td><td>NULL</td></tr><tr><td>vivien3</td><td>22</td><td>NULL</td></tr><tr><td>zoltan</td><td>15</td><td>NULL</td></tr><tr><td>zoltan4</td><td>424</td><td>NULL</td></tr><tr><td>ZOLTANP</td><td>13</td><td>NULL</td></tr><tr><td>ZOLTANT</td><td>357</td><td>NULL</td></tr><tr><td>zsofi1</td><td>19</td><td>NULL</td></tr><tr><td>zsolt1</td><td>20</td><td>NULL</td></tr><tr><td>ZSOLTJ</td><td>18</td><td>NULL</td></tr><tr><td>zsuzsa</td><td>16</td><td>NULL</td></tr><tr><td>zsuzsa3</td><td>16</td><td>NULL</td></tr><tr><td>zsuzsanna</td><td>15</td><td>NULL</td></tr><tr><td>ZSUZSAV</td><td>420</td><td>NULL</td></tr></table>"
                    },
                    "metadata": {}
                }
            ],
            "execution_count": 2
        },
        {
            "cell_type": "markdown",
            "source": [
                "2. <span style=\"background-color: rgb(255, 255, 255); color: rgb(0, 0, 0); font-family: &quot;Open Sans&quot;, sans-serif; font-size: 14.44px;\">Készítsünk listát a termékek számáról a következő csoportosítási szempontok szerint:<br>kategória azonosító, raktárkód, raktárkód+mennyiségi egység!</span>\n",
                "\n",
                "a. A listát szűrjük azokra a csoportokra, ahol a termékek száma legalább 6!"
            ],
            "metadata": {
                "azdata_cell_guid": "ea75c103-911f-41a3-a32c-3d40fb3e4e4a"
            },
            "attachments": {}
        },
        {
            "cell_type": "code",
            "source": [
                "SELECT KAT_ID, \r\n",
                "    COUNT(*),\r\n",
                "    RAKTAR_KOD,\r\n",
                "    MEGYS\r\n",
                "FROM Termek\r\n",
                "GROUP BY GROUPING SETS(KAT_ID, RAKTAR_KOD,(RAKTAR_KOD,MEGYS)) -- ha egyetlen selectel több csoportot kell létrehozni egyszerűt vagy összetettet akkor az így kell\r\n",
                "HAVING COUNT(*) >= 6\r\n",
                "\r\n",
                "--null-ok akkor összegzés\r\n",
                "--ha group by után nem egy csoport van hanem több, veszsővel elválasztbva\r\n",
                "-- zárojelezni kell ha összetett csoport kell"
            ],
            "metadata": {
                "azdata_cell_guid": "222b9618-a8e8-42b4-a8e8-d002257122b7",
                "language": "sql"
            },
            "outputs": [
                {
                    "output_type": "display_data",
                    "data": {
                        "text/html": "(49 rows affected)"
                    },
                    "metadata": {}
                },
                {
                    "output_type": "display_data",
                    "data": {
                        "text/html": "Total execution time: 00:00:00.011"
                    },
                    "metadata": {}
                },
                {
                    "output_type": "execute_result",
                    "execution_count": 21,
                    "data": {
                        "application/vnd.dataresource+json": {
                            "schema": {
                                "fields": [
                                    {
                                        "name": "KAT_ID"
                                    },
                                    {
                                        "name": "(No column name)"
                                    },
                                    {
                                        "name": "RAKTAR_KOD"
                                    },
                                    {
                                        "name": "MEGYS"
                                    }
                                ]
                            },
                            "data": [
                                {
                                    "KAT_ID": "NULL",
                                    "(No column name)": "11",
                                    "RAKTAR_KOD": "1",
                                    "MEGYS": "db"
                                },
                                {
                                    "KAT_ID": "NULL",
                                    "(No column name)": "11",
                                    "RAKTAR_KOD": "1",
                                    "MEGYS": "NULL"
                                },
                                {
                                    "KAT_ID": "NULL",
                                    "(No column name)": "14",
                                    "RAKTAR_KOD": "3",
                                    "MEGYS": "db"
                                },
                                {
                                    "KAT_ID": "NULL",
                                    "(No column name)": "14",
                                    "RAKTAR_KOD": "3",
                                    "MEGYS": "NULL"
                                },
                                {
                                    "KAT_ID": "NULL",
                                    "(No column name)": "7",
                                    "RAKTAR_KOD": "5",
                                    "MEGYS": "csomag"
                                },
                                {
                                    "KAT_ID": "NULL",
                                    "(No column name)": "72",
                                    "RAKTAR_KOD": "5",
                                    "MEGYS": "db"
                                },
                                {
                                    "KAT_ID": "NULL",
                                    "(No column name)": "86",
                                    "RAKTAR_KOD": "5",
                                    "MEGYS": "NULL"
                                },
                                {
                                    "KAT_ID": "NULL",
                                    "(No column name)": "9",
                                    "RAKTAR_KOD": "6",
                                    "MEGYS": "csomag"
                                },
                                {
                                    "KAT_ID": "NULL",
                                    "(No column name)": "94",
                                    "RAKTAR_KOD": "6",
                                    "MEGYS": "db"
                                },
                                {
                                    "KAT_ID": "NULL",
                                    "(No column name)": "106",
                                    "RAKTAR_KOD": "6",
                                    "MEGYS": "NULL"
                                },
                                {
                                    "KAT_ID": "NULL",
                                    "(No column name)": "9",
                                    "RAKTAR_KOD": "7",
                                    "MEGYS": "csomag"
                                },
                                {
                                    "KAT_ID": "NULL",
                                    "(No column name)": "88",
                                    "RAKTAR_KOD": "7",
                                    "MEGYS": "db"
                                },
                                {
                                    "KAT_ID": "NULL",
                                    "(No column name)": "100",
                                    "RAKTAR_KOD": "7",
                                    "MEGYS": "NULL"
                                },
                                {
                                    "KAT_ID": "NULL",
                                    "(No column name)": "8",
                                    "RAKTAR_KOD": "8",
                                    "MEGYS": "csomag"
                                },
                                {
                                    "KAT_ID": "NULL",
                                    "(No column name)": "109",
                                    "RAKTAR_KOD": "8",
                                    "MEGYS": "db"
                                },
                                {
                                    "KAT_ID": "NULL",
                                    "(No column name)": "6",
                                    "RAKTAR_KOD": "8",
                                    "MEGYS": "ív"
                                },
                                {
                                    "KAT_ID": "NULL",
                                    "(No column name)": "123",
                                    "RAKTAR_KOD": "8",
                                    "MEGYS": "NULL"
                                },
                                {
                                    "KAT_ID": "NULL",
                                    "(No column name)": "11",
                                    "RAKTAR_KOD": "9",
                                    "MEGYS": "csomag"
                                },
                                {
                                    "KAT_ID": "NULL",
                                    "(No column name)": "86",
                                    "RAKTAR_KOD": "9",
                                    "MEGYS": "db"
                                },
                                {
                                    "KAT_ID": "NULL",
                                    "(No column name)": "102",
                                    "RAKTAR_KOD": "9",
                                    "MEGYS": "NULL"
                                },
                                {
                                    "KAT_ID": "4",
                                    "(No column name)": "15",
                                    "RAKTAR_KOD": "NULL",
                                    "MEGYS": "NULL"
                                },
                                {
                                    "KAT_ID": "6",
                                    "(No column name)": "20",
                                    "RAKTAR_KOD": "NULL",
                                    "MEGYS": "NULL"
                                },
                                {
                                    "KAT_ID": "16",
                                    "(No column name)": "7",
                                    "RAKTAR_KOD": "NULL",
                                    "MEGYS": "NULL"
                                },
                                {
                                    "KAT_ID": "19",
                                    "(No column name)": "19",
                                    "RAKTAR_KOD": "NULL",
                                    "MEGYS": "NULL"
                                },
                                {
                                    "KAT_ID": "24",
                                    "(No column name)": "7",
                                    "RAKTAR_KOD": "NULL",
                                    "MEGYS": "NULL"
                                },
                                {
                                    "KAT_ID": "30",
                                    "(No column name)": "7",
                                    "RAKTAR_KOD": "NULL",
                                    "MEGYS": "NULL"
                                },
                                {
                                    "KAT_ID": "35",
                                    "(No column name)": "7",
                                    "RAKTAR_KOD": "NULL",
                                    "MEGYS": "NULL"
                                },
                                {
                                    "KAT_ID": "41",
                                    "(No column name)": "13",
                                    "RAKTAR_KOD": "NULL",
                                    "MEGYS": "NULL"
                                },
                                {
                                    "KAT_ID": "45",
                                    "(No column name)": "11",
                                    "RAKTAR_KOD": "NULL",
                                    "MEGYS": "NULL"
                                },
                                {
                                    "KAT_ID": "46",
                                    "(No column name)": "7",
                                    "RAKTAR_KOD": "NULL",
                                    "MEGYS": "NULL"
                                },
                                {
                                    "KAT_ID": "52",
                                    "(No column name)": "26",
                                    "RAKTAR_KOD": "NULL",
                                    "MEGYS": "NULL"
                                },
                                {
                                    "KAT_ID": "54",
                                    "(No column name)": "6",
                                    "RAKTAR_KOD": "NULL",
                                    "MEGYS": "NULL"
                                },
                                {
                                    "KAT_ID": "66",
                                    "(No column name)": "7",
                                    "RAKTAR_KOD": "NULL",
                                    "MEGYS": "NULL"
                                },
                                {
                                    "KAT_ID": "78",
                                    "(No column name)": "24",
                                    "RAKTAR_KOD": "NULL",
                                    "MEGYS": "NULL"
                                },
                                {
                                    "KAT_ID": "83",
                                    "(No column name)": "6",
                                    "RAKTAR_KOD": "NULL",
                                    "MEGYS": "NULL"
                                },
                                {
                                    "KAT_ID": "85",
                                    "(No column name)": "16",
                                    "RAKTAR_KOD": "NULL",
                                    "MEGYS": "NULL"
                                },
                                {
                                    "KAT_ID": "91",
                                    "(No column name)": "7",
                                    "RAKTAR_KOD": "NULL",
                                    "MEGYS": "NULL"
                                },
                                {
                                    "KAT_ID": "93",
                                    "(No column name)": "7",
                                    "RAKTAR_KOD": "NULL",
                                    "MEGYS": "NULL"
                                },
                                {
                                    "KAT_ID": "96",
                                    "(No column name)": "9",
                                    "RAKTAR_KOD": "NULL",
                                    "MEGYS": "NULL"
                                },
                                {
                                    "KAT_ID": "97",
                                    "(No column name)": "10",
                                    "RAKTAR_KOD": "NULL",
                                    "MEGYS": "NULL"
                                },
                                {
                                    "KAT_ID": "100",
                                    "(No column name)": "9",
                                    "RAKTAR_KOD": "NULL",
                                    "MEGYS": "NULL"
                                },
                                {
                                    "KAT_ID": "118",
                                    "(No column name)": "9",
                                    "RAKTAR_KOD": "NULL",
                                    "MEGYS": "NULL"
                                },
                                {
                                    "KAT_ID": "122",
                                    "(No column name)": "7",
                                    "RAKTAR_KOD": "NULL",
                                    "MEGYS": "NULL"
                                },
                                {
                                    "KAT_ID": "124",
                                    "(No column name)": "10",
                                    "RAKTAR_KOD": "NULL",
                                    "MEGYS": "NULL"
                                },
                                {
                                    "KAT_ID": "133",
                                    "(No column name)": "6",
                                    "RAKTAR_KOD": "NULL",
                                    "MEGYS": "NULL"
                                },
                                {
                                    "KAT_ID": "145",
                                    "(No column name)": "18",
                                    "RAKTAR_KOD": "NULL",
                                    "MEGYS": "NULL"
                                },
                                {
                                    "KAT_ID": "146",
                                    "(No column name)": "7",
                                    "RAKTAR_KOD": "NULL",
                                    "MEGYS": "NULL"
                                },
                                {
                                    "KAT_ID": "149",
                                    "(No column name)": "6",
                                    "RAKTAR_KOD": "NULL",
                                    "MEGYS": "NULL"
                                },
                                {
                                    "KAT_ID": "152",
                                    "(No column name)": "6",
                                    "RAKTAR_KOD": "NULL",
                                    "MEGYS": "NULL"
                                }
                            ]
                        },
                        "text/html": "<table><tr><th>KAT_ID</th><th>(No column name)</th><th>RAKTAR_KOD</th><th>MEGYS</th></tr><tr><td>NULL</td><td>11</td><td>1</td><td>db</td></tr><tr><td>NULL</td><td>11</td><td>1</td><td>NULL</td></tr><tr><td>NULL</td><td>14</td><td>3</td><td>db</td></tr><tr><td>NULL</td><td>14</td><td>3</td><td>NULL</td></tr><tr><td>NULL</td><td>7</td><td>5</td><td>csomag</td></tr><tr><td>NULL</td><td>72</td><td>5</td><td>db</td></tr><tr><td>NULL</td><td>86</td><td>5</td><td>NULL</td></tr><tr><td>NULL</td><td>9</td><td>6</td><td>csomag</td></tr><tr><td>NULL</td><td>94</td><td>6</td><td>db</td></tr><tr><td>NULL</td><td>106</td><td>6</td><td>NULL</td></tr><tr><td>NULL</td><td>9</td><td>7</td><td>csomag</td></tr><tr><td>NULL</td><td>88</td><td>7</td><td>db</td></tr><tr><td>NULL</td><td>100</td><td>7</td><td>NULL</td></tr><tr><td>NULL</td><td>8</td><td>8</td><td>csomag</td></tr><tr><td>NULL</td><td>109</td><td>8</td><td>db</td></tr><tr><td>NULL</td><td>6</td><td>8</td><td>ív</td></tr><tr><td>NULL</td><td>123</td><td>8</td><td>NULL</td></tr><tr><td>NULL</td><td>11</td><td>9</td><td>csomag</td></tr><tr><td>NULL</td><td>86</td><td>9</td><td>db</td></tr><tr><td>NULL</td><td>102</td><td>9</td><td>NULL</td></tr><tr><td>4</td><td>15</td><td>NULL</td><td>NULL</td></tr><tr><td>6</td><td>20</td><td>NULL</td><td>NULL</td></tr><tr><td>16</td><td>7</td><td>NULL</td><td>NULL</td></tr><tr><td>19</td><td>19</td><td>NULL</td><td>NULL</td></tr><tr><td>24</td><td>7</td><td>NULL</td><td>NULL</td></tr><tr><td>30</td><td>7</td><td>NULL</td><td>NULL</td></tr><tr><td>35</td><td>7</td><td>NULL</td><td>NULL</td></tr><tr><td>41</td><td>13</td><td>NULL</td><td>NULL</td></tr><tr><td>45</td><td>11</td><td>NULL</td><td>NULL</td></tr><tr><td>46</td><td>7</td><td>NULL</td><td>NULL</td></tr><tr><td>52</td><td>26</td><td>NULL</td><td>NULL</td></tr><tr><td>54</td><td>6</td><td>NULL</td><td>NULL</td></tr><tr><td>66</td><td>7</td><td>NULL</td><td>NULL</td></tr><tr><td>78</td><td>24</td><td>NULL</td><td>NULL</td></tr><tr><td>83</td><td>6</td><td>NULL</td><td>NULL</td></tr><tr><td>85</td><td>16</td><td>NULL</td><td>NULL</td></tr><tr><td>91</td><td>7</td><td>NULL</td><td>NULL</td></tr><tr><td>93</td><td>7</td><td>NULL</td><td>NULL</td></tr><tr><td>96</td><td>9</td><td>NULL</td><td>NULL</td></tr><tr><td>97</td><td>10</td><td>NULL</td><td>NULL</td></tr><tr><td>100</td><td>9</td><td>NULL</td><td>NULL</td></tr><tr><td>118</td><td>9</td><td>NULL</td><td>NULL</td></tr><tr><td>122</td><td>7</td><td>NULL</td><td>NULL</td></tr><tr><td>124</td><td>10</td><td>NULL</td><td>NULL</td></tr><tr><td>133</td><td>6</td><td>NULL</td><td>NULL</td></tr><tr><td>145</td><td>18</td><td>NULL</td><td>NULL</td></tr><tr><td>146</td><td>7</td><td>NULL</td><td>NULL</td></tr><tr><td>149</td><td>6</td><td>NULL</td><td>NULL</td></tr><tr><td>152</td><td>6</td><td>NULL</td><td>NULL</td></tr></table>"
                    },
                    "metadata": {}
                }
            ],
            "execution_count": 21
        },
        {
            "cell_type": "markdown",
            "source": [
                "```\n",
                "3. Készítsünk listát az egyes termékkategóriákban lévő termékek számáról! \n",
                "\n",
                "```\n",
                "\n",
                "a. Elég megjeleníteni a kategóriák azonosítóit és a darabszámokat!   \n",
                "<span style=\"color: var(--vscode-foreground);\">b. A lista megfelelően jelölve tartalmazza a végösszeget is!&nbsp;<br></span> <span style=\"color: var(--vscode-foreground);\">c. Az oszlopokat nevezzük el értelemszerűen!&nbsp;<br></span> <span style=\"color: var(--vscode-foreground);\">d. A listát rendezzük a darabszám szerint növekvő sorrendbe!</span>\n",
                "\n",
                "  \n",
                "\n",
                "![](https://moodle.uni-corvinus.hu/theme/image.php/adaptable/atto_h5p/1709548862/icon)"
            ],
            "metadata": {
                "azdata_cell_guid": "d7876bb9-76d0-4d07-baed-3cb17b2f96c3"
            },
            "attachments": {}
        },
        {
            "cell_type": "code",
            "source": [
                "SELECT IIF(GROUPING_ID(KAT_ID) = 1, 'Összesen', CAST(KAT_ID AS nvarchar(5))) AS 'Azonosító',\r\n",
                "    KAT_ID AS 'Kategória azonosító', \r\n",
                "    COUNT(*) AS 'Darab',\r\n",
                "    GROUPING_ID(KAT_ID) --mindig nulla kivéve a rész és végösszegeket\r\n",
                "FROM Termek \r\n",
                "GROUP BY ROLLUP(KAT_ID)\r\n",
                "ORDER BY COUNT(*)\r\n",
                "\r\n",
                "-- SELECT IIF(KAT_ID IS NULL, 'Összesen', CAST(KAT_ID AS nvarchar(5))) AS 'Azonosító',\r\n",
                "--     KAT_ID AS 'Kategória azonosító', \r\n",
                "--     COUNT(*) AS 'Darab'\r\n",
                "-- FROM Termek \r\n",
                "-- GROUP BY ROLLUP(KAT_ID)\r\n",
                "-- ORDER BY 2"
            ],
            "metadata": {
                "azdata_cell_guid": "56ec19ce-e249-4551-b2a8-f17569765acc",
                "language": "sql"
            },
            "outputs": [
                {
                    "output_type": "display_data",
                    "data": {
                        "text/html": "(144 rows affected)"
                    },
                    "metadata": {}
                },
                {
                    "output_type": "display_data",
                    "data": {
                        "text/html": "Total execution time: 00:00:00.010"
                    },
                    "metadata": {}
                },
                {
                    "output_type": "execute_result",
                    "execution_count": 8,
                    "data": {
                        "application/vnd.dataresource+json": {
                            "schema": {
                                "fields": [
                                    {
                                        "name": "Azonosító"
                                    },
                                    {
                                        "name": "Kategória azonosító"
                                    },
                                    {
                                        "name": "Darab"
                                    }
                                ]
                            },
                            "data": [
                                {
                                    "Azonosító": "10",
                                    "Kategória azonosító": "10",
                                    "Darab": "1"
                                },
                                {
                                    "Azonosító": "11",
                                    "Kategória azonosító": "11",
                                    "Darab": "1"
                                },
                                {
                                    "Azonosító": "12",
                                    "Kategória azonosító": "12",
                                    "Darab": "1"
                                },
                                {
                                    "Azonosító": "15",
                                    "Kategória azonosító": "15",
                                    "Darab": "1"
                                },
                                {
                                    "Azonosító": "17",
                                    "Kategória azonosító": "17",
                                    "Darab": "1"
                                },
                                {
                                    "Azonosító": "26",
                                    "Kategória azonosító": "26",
                                    "Darab": "1"
                                },
                                {
                                    "Azonosító": "29",
                                    "Kategória azonosító": "29",
                                    "Darab": "1"
                                },
                                {
                                    "Azonosító": "31",
                                    "Kategória azonosító": "31",
                                    "Darab": "1"
                                },
                                {
                                    "Azonosító": "33",
                                    "Kategória azonosító": "33",
                                    "Darab": "1"
                                },
                                {
                                    "Azonosító": "34",
                                    "Kategória azonosító": "34",
                                    "Darab": "1"
                                },
                                {
                                    "Azonosító": "37",
                                    "Kategória azonosító": "37",
                                    "Darab": "1"
                                },
                                {
                                    "Azonosító": "38",
                                    "Kategória azonosító": "38",
                                    "Darab": "1"
                                },
                                {
                                    "Azonosító": "40",
                                    "Kategória azonosító": "40",
                                    "Darab": "1"
                                },
                                {
                                    "Azonosító": "42",
                                    "Kategória azonosító": "42",
                                    "Darab": "1"
                                },
                                {
                                    "Azonosító": "44",
                                    "Kategória azonosító": "44",
                                    "Darab": "1"
                                },
                                {
                                    "Azonosító": "50",
                                    "Kategória azonosító": "50",
                                    "Darab": "1"
                                },
                                {
                                    "Azonosító": "53",
                                    "Kategória azonosító": "53",
                                    "Darab": "1"
                                },
                                {
                                    "Azonosító": "61",
                                    "Kategória azonosító": "61",
                                    "Darab": "1"
                                },
                                {
                                    "Azonosító": "74",
                                    "Kategória azonosító": "74",
                                    "Darab": "1"
                                },
                                {
                                    "Azonosító": "80",
                                    "Kategória azonosító": "80",
                                    "Darab": "1"
                                },
                                {
                                    "Azonosító": "82",
                                    "Kategória azonosító": "82",
                                    "Darab": "1"
                                },
                                {
                                    "Azonosító": "84",
                                    "Kategória azonosító": "84",
                                    "Darab": "1"
                                },
                                {
                                    "Azonosító": "86",
                                    "Kategória azonosító": "86",
                                    "Darab": "1"
                                },
                                {
                                    "Azonosító": "99",
                                    "Kategória azonosító": "99",
                                    "Darab": "1"
                                },
                                {
                                    "Azonosító": "101",
                                    "Kategória azonosító": "101",
                                    "Darab": "1"
                                },
                                {
                                    "Azonosító": "103",
                                    "Kategória azonosító": "103",
                                    "Darab": "1"
                                },
                                {
                                    "Azonosító": "105",
                                    "Kategória azonosító": "105",
                                    "Darab": "1"
                                },
                                {
                                    "Azonosító": "107",
                                    "Kategória azonosító": "107",
                                    "Darab": "1"
                                },
                                {
                                    "Azonosító": "108",
                                    "Kategória azonosító": "108",
                                    "Darab": "1"
                                },
                                {
                                    "Azonosító": "109",
                                    "Kategória azonosító": "109",
                                    "Darab": "1"
                                },
                                {
                                    "Azonosító": "114",
                                    "Kategória azonosító": "114",
                                    "Darab": "1"
                                },
                                {
                                    "Azonosító": "115",
                                    "Kategória azonosító": "115",
                                    "Darab": "1"
                                },
                                {
                                    "Azonosító": "126",
                                    "Kategória azonosító": "126",
                                    "Darab": "1"
                                },
                                {
                                    "Azonosító": "130",
                                    "Kategória azonosító": "130",
                                    "Darab": "1"
                                },
                                {
                                    "Azonosító": "131",
                                    "Kategória azonosító": "131",
                                    "Darab": "1"
                                },
                                {
                                    "Azonosító": "132",
                                    "Kategória azonosító": "132",
                                    "Darab": "1"
                                },
                                {
                                    "Azonosító": "135",
                                    "Kategória azonosító": "135",
                                    "Darab": "1"
                                },
                                {
                                    "Azonosító": "139",
                                    "Kategória azonosító": "139",
                                    "Darab": "1"
                                },
                                {
                                    "Azonosító": "140",
                                    "Kategória azonosító": "140",
                                    "Darab": "1"
                                },
                                {
                                    "Azonosító": "142",
                                    "Kategória azonosító": "142",
                                    "Darab": "1"
                                },
                                {
                                    "Azonosító": "147",
                                    "Kategória azonosító": "147",
                                    "Darab": "1"
                                },
                                {
                                    "Azonosító": "148",
                                    "Kategória azonosító": "148",
                                    "Darab": "1"
                                },
                                {
                                    "Azonosító": "153",
                                    "Kategória azonosító": "153",
                                    "Darab": "1"
                                },
                                {
                                    "Azonosító": "155",
                                    "Kategória azonosító": "155",
                                    "Darab": "1"
                                },
                                {
                                    "Azonosító": "150",
                                    "Kategória azonosító": "150",
                                    "Darab": "2"
                                },
                                {
                                    "Azonosító": "144",
                                    "Kategória azonosító": "144",
                                    "Darab": "2"
                                },
                                {
                                    "Azonosító": "141",
                                    "Kategória azonosító": "141",
                                    "Darab": "2"
                                },
                                {
                                    "Azonosító": "136",
                                    "Kategória azonosító": "136",
                                    "Darab": "2"
                                },
                                {
                                    "Azonosító": "123",
                                    "Kategória azonosító": "123",
                                    "Darab": "2"
                                },
                                {
                                    "Azonosító": "134",
                                    "Kategória azonosító": "134",
                                    "Darab": "2"
                                },
                                {
                                    "Azonosító": "127",
                                    "Kategória azonosító": "127",
                                    "Darab": "2"
                                },
                                {
                                    "Azonosító": "128",
                                    "Kategória azonosító": "128",
                                    "Darab": "2"
                                },
                                {
                                    "Azonosító": "129",
                                    "Kategória azonosító": "129",
                                    "Darab": "2"
                                },
                                {
                                    "Azonosító": "116",
                                    "Kategória azonosító": "116",
                                    "Darab": "2"
                                },
                                {
                                    "Azonosító": "117",
                                    "Kategória azonosító": "117",
                                    "Darab": "2"
                                },
                                {
                                    "Azonosító": "112",
                                    "Kategória azonosító": "112",
                                    "Darab": "2"
                                },
                                {
                                    "Azonosító": "121",
                                    "Kategória azonosító": "121",
                                    "Darab": "2"
                                },
                                {
                                    "Azonosító": "110",
                                    "Kategória azonosító": "110",
                                    "Darab": "2"
                                },
                                {
                                    "Azonosító": "104",
                                    "Kategória azonosító": "104",
                                    "Darab": "2"
                                },
                                {
                                    "Azonosító": "94",
                                    "Kategória azonosító": "94",
                                    "Darab": "2"
                                },
                                {
                                    "Azonosító": "95",
                                    "Kategória azonosító": "95",
                                    "Darab": "2"
                                },
                                {
                                    "Azonosító": "88",
                                    "Kategória azonosító": "88",
                                    "Darab": "2"
                                },
                                {
                                    "Azonosító": "90",
                                    "Kategória azonosító": "90",
                                    "Darab": "2"
                                },
                                {
                                    "Azonosító": "92",
                                    "Kategória azonosító": "92",
                                    "Darab": "2"
                                },
                                {
                                    "Azonosító": "71",
                                    "Kategória azonosító": "71",
                                    "Darab": "2"
                                },
                                {
                                    "Azonosító": "72",
                                    "Kategória azonosító": "72",
                                    "Darab": "2"
                                },
                                {
                                    "Azonosító": "73",
                                    "Kategória azonosító": "73",
                                    "Darab": "2"
                                },
                                {
                                    "Azonosító": "75",
                                    "Kategória azonosító": "75",
                                    "Darab": "2"
                                },
                                {
                                    "Azonosító": "62",
                                    "Kategória azonosító": "62",
                                    "Darab": "2"
                                },
                                {
                                    "Azonosító": "55",
                                    "Kategória azonosító": "55",
                                    "Darab": "2"
                                },
                                {
                                    "Azonosító": "65",
                                    "Kategória azonosító": "65",
                                    "Darab": "2"
                                },
                                {
                                    "Azonosító": "67",
                                    "Kategória azonosító": "67",
                                    "Darab": "2"
                                },
                                {
                                    "Azonosító": "68",
                                    "Kategória azonosító": "68",
                                    "Darab": "2"
                                },
                                {
                                    "Azonosító": "57",
                                    "Kategória azonosító": "57",
                                    "Darab": "2"
                                },
                                {
                                    "Azonosító": "48",
                                    "Kategória azonosító": "48",
                                    "Darab": "2"
                                },
                                {
                                    "Azonosító": "49",
                                    "Kategória azonosító": "49",
                                    "Darab": "2"
                                },
                                {
                                    "Azonosító": "39",
                                    "Kategória azonosító": "39",
                                    "Darab": "2"
                                },
                                {
                                    "Azonosító": "22",
                                    "Kategória azonosító": "22",
                                    "Darab": "2"
                                },
                                {
                                    "Azonosító": "18",
                                    "Kategória azonosító": "18",
                                    "Darab": "2"
                                },
                                {
                                    "Azonosító": "9",
                                    "Kategória azonosító": "9",
                                    "Darab": "2"
                                },
                                {
                                    "Azonosító": "13",
                                    "Kategória azonosító": "13",
                                    "Darab": "2"
                                },
                                {
                                    "Azonosító": "5",
                                    "Kategória azonosító": "5",
                                    "Darab": "3"
                                },
                                {
                                    "Azonosító": "7",
                                    "Kategória azonosító": "7",
                                    "Darab": "3"
                                },
                                {
                                    "Azonosító": "8",
                                    "Kategória azonosító": "8",
                                    "Darab": "3"
                                },
                                {
                                    "Azonosító": "20",
                                    "Kategória azonosító": "20",
                                    "Darab": "3"
                                },
                                {
                                    "Azonosító": "27",
                                    "Kategória azonosító": "27",
                                    "Darab": "3"
                                },
                                {
                                    "Azonosító": "32",
                                    "Kategória azonosító": "32",
                                    "Darab": "3"
                                },
                                {
                                    "Azonosító": "43",
                                    "Kategória azonosító": "43",
                                    "Darab": "3"
                                },
                                {
                                    "Azonosító": "58",
                                    "Kategória azonosító": "58",
                                    "Darab": "3"
                                },
                                {
                                    "Azonosító": "51",
                                    "Kategória azonosító": "51",
                                    "Darab": "3"
                                },
                                {
                                    "Azonosító": "70",
                                    "Kategória azonosító": "70",
                                    "Darab": "3"
                                },
                                {
                                    "Azonosító": "89",
                                    "Kategória azonosító": "89",
                                    "Darab": "3"
                                },
                                {
                                    "Azonosító": "111",
                                    "Kategória azonosító": "111",
                                    "Darab": "3"
                                },
                                {
                                    "Azonosító": "119",
                                    "Kategória azonosító": "119",
                                    "Darab": "3"
                                },
                                {
                                    "Azonosító": "137",
                                    "Kategória azonosító": "137",
                                    "Darab": "3"
                                },
                                {
                                    "Azonosító": "143",
                                    "Kategória azonosító": "143",
                                    "Darab": "3"
                                },
                                {
                                    "Azonosító": "151",
                                    "Kategória azonosító": "151",
                                    "Darab": "4"
                                },
                                {
                                    "Azonosító": "154",
                                    "Kategória azonosító": "154",
                                    "Darab": "4"
                                },
                                {
                                    "Azonosító": "125",
                                    "Kategória azonosító": "125",
                                    "Darab": "4"
                                },
                                {
                                    "Azonosító": "79",
                                    "Kategória azonosító": "79",
                                    "Darab": "4"
                                },
                                {
                                    "Azonosító": "98",
                                    "Kategória azonosító": "98",
                                    "Darab": "4"
                                },
                                {
                                    "Azonosító": "56",
                                    "Kategória azonosító": "56",
                                    "Darab": "4"
                                },
                                {
                                    "Azonosító": "64",
                                    "Kategória azonosító": "64",
                                    "Darab": "4"
                                },
                                {
                                    "Azonosító": "59",
                                    "Kategória azonosító": "59",
                                    "Darab": "4"
                                },
                                {
                                    "Azonosító": "47",
                                    "Kategória azonosító": "47",
                                    "Darab": "4"
                                },
                                {
                                    "Azonosító": "25",
                                    "Kategória azonosító": "25",
                                    "Darab": "4"
                                },
                                {
                                    "Azonosító": "14",
                                    "Kategória azonosító": "14",
                                    "Darab": "4"
                                },
                                {
                                    "Azonosító": "21",
                                    "Kategória azonosító": "21",
                                    "Darab": "5"
                                },
                                {
                                    "Azonosító": "36",
                                    "Kategória azonosító": "36",
                                    "Darab": "5"
                                },
                                {
                                    "Azonosító": "28",
                                    "Kategória azonosító": "28",
                                    "Darab": "5"
                                },
                                {
                                    "Azonosító": "60",
                                    "Kategória azonosító": "60",
                                    "Darab": "5"
                                },
                                {
                                    "Azonosító": "76",
                                    "Kategória azonosító": "76",
                                    "Darab": "5"
                                },
                                {
                                    "Azonosító": "106",
                                    "Kategória azonosító": "106",
                                    "Darab": "5"
                                },
                                {
                                    "Azonosító": "138",
                                    "Kategória azonosító": "138",
                                    "Darab": "5"
                                },
                                {
                                    "Azonosító": "133",
                                    "Kategória azonosító": "133",
                                    "Darab": "6"
                                },
                                {
                                    "Azonosító": "152",
                                    "Kategória azonosító": "152",
                                    "Darab": "6"
                                },
                                {
                                    "Azonosító": "149",
                                    "Kategória azonosító": "149",
                                    "Darab": "6"
                                },
                                {
                                    "Azonosító": "83",
                                    "Kategória azonosító": "83",
                                    "Darab": "6"
                                },
                                {
                                    "Azonosító": "54",
                                    "Kategória azonosító": "54",
                                    "Darab": "6"
                                },
                                {
                                    "Azonosító": "46",
                                    "Kategória azonosító": "46",
                                    "Darab": "7"
                                },
                                {
                                    "Azonosító": "66",
                                    "Kategória azonosító": "66",
                                    "Darab": "7"
                                },
                                {
                                    "Azonosító": "24",
                                    "Kategória azonosító": "24",
                                    "Darab": "7"
                                },
                                {
                                    "Azonosító": "30",
                                    "Kategória azonosító": "30",
                                    "Darab": "7"
                                },
                                {
                                    "Azonosító": "35",
                                    "Kategória azonosító": "35",
                                    "Darab": "7"
                                },
                                {
                                    "Azonosító": "16",
                                    "Kategória azonosító": "16",
                                    "Darab": "7"
                                },
                                {
                                    "Azonosító": "146",
                                    "Kategória azonosító": "146",
                                    "Darab": "7"
                                },
                                {
                                    "Azonosító": "122",
                                    "Kategória azonosító": "122",
                                    "Darab": "7"
                                },
                                {
                                    "Azonosító": "93",
                                    "Kategória azonosító": "93",
                                    "Darab": "7"
                                },
                                {
                                    "Azonosító": "91",
                                    "Kategória azonosító": "91",
                                    "Darab": "7"
                                },
                                {
                                    "Azonosító": "100",
                                    "Kategória azonosító": "100",
                                    "Darab": "9"
                                },
                                {
                                    "Azonosító": "96",
                                    "Kategória azonosító": "96",
                                    "Darab": "9"
                                },
                                {
                                    "Azonosító": "118",
                                    "Kategória azonosító": "118",
                                    "Darab": "9"
                                },
                                {
                                    "Azonosító": "97",
                                    "Kategória azonosító": "97",
                                    "Darab": "10"
                                },
                                {
                                    "Azonosító": "124",
                                    "Kategória azonosító": "124",
                                    "Darab": "10"
                                },
                                {
                                    "Azonosító": "45",
                                    "Kategória azonosító": "45",
                                    "Darab": "11"
                                },
                                {
                                    "Azonosító": "41",
                                    "Kategória azonosító": "41",
                                    "Darab": "13"
                                },
                                {
                                    "Azonosító": "4",
                                    "Kategória azonosító": "4",
                                    "Darab": "15"
                                },
                                {
                                    "Azonosító": "85",
                                    "Kategória azonosító": "85",
                                    "Darab": "16"
                                },
                                {
                                    "Azonosító": "145",
                                    "Kategória azonosító": "145",
                                    "Darab": "18"
                                },
                                {
                                    "Azonosító": "19",
                                    "Kategória azonosító": "19",
                                    "Darab": "19"
                                },
                                {
                                    "Azonosító": "6",
                                    "Kategória azonosító": "6",
                                    "Darab": "20"
                                },
                                {
                                    "Azonosító": "78",
                                    "Kategória azonosító": "78",
                                    "Darab": "24"
                                },
                                {
                                    "Azonosító": "52",
                                    "Kategória azonosító": "52",
                                    "Darab": "26"
                                },
                                {
                                    "Azonosító": "Összesen",
                                    "Kategória azonosító": "NULL",
                                    "Darab": "551"
                                }
                            ]
                        },
                        "text/html": "<table><tr><th>Azonosító</th><th>Kategória azonosító</th><th>Darab</th></tr><tr><td>10</td><td>10</td><td>1</td></tr><tr><td>11</td><td>11</td><td>1</td></tr><tr><td>12</td><td>12</td><td>1</td></tr><tr><td>15</td><td>15</td><td>1</td></tr><tr><td>17</td><td>17</td><td>1</td></tr><tr><td>26</td><td>26</td><td>1</td></tr><tr><td>29</td><td>29</td><td>1</td></tr><tr><td>31</td><td>31</td><td>1</td></tr><tr><td>33</td><td>33</td><td>1</td></tr><tr><td>34</td><td>34</td><td>1</td></tr><tr><td>37</td><td>37</td><td>1</td></tr><tr><td>38</td><td>38</td><td>1</td></tr><tr><td>40</td><td>40</td><td>1</td></tr><tr><td>42</td><td>42</td><td>1</td></tr><tr><td>44</td><td>44</td><td>1</td></tr><tr><td>50</td><td>50</td><td>1</td></tr><tr><td>53</td><td>53</td><td>1</td></tr><tr><td>61</td><td>61</td><td>1</td></tr><tr><td>74</td><td>74</td><td>1</td></tr><tr><td>80</td><td>80</td><td>1</td></tr><tr><td>82</td><td>82</td><td>1</td></tr><tr><td>84</td><td>84</td><td>1</td></tr><tr><td>86</td><td>86</td><td>1</td></tr><tr><td>99</td><td>99</td><td>1</td></tr><tr><td>101</td><td>101</td><td>1</td></tr><tr><td>103</td><td>103</td><td>1</td></tr><tr><td>105</td><td>105</td><td>1</td></tr><tr><td>107</td><td>107</td><td>1</td></tr><tr><td>108</td><td>108</td><td>1</td></tr><tr><td>109</td><td>109</td><td>1</td></tr><tr><td>114</td><td>114</td><td>1</td></tr><tr><td>115</td><td>115</td><td>1</td></tr><tr><td>126</td><td>126</td><td>1</td></tr><tr><td>130</td><td>130</td><td>1</td></tr><tr><td>131</td><td>131</td><td>1</td></tr><tr><td>132</td><td>132</td><td>1</td></tr><tr><td>135</td><td>135</td><td>1</td></tr><tr><td>139</td><td>139</td><td>1</td></tr><tr><td>140</td><td>140</td><td>1</td></tr><tr><td>142</td><td>142</td><td>1</td></tr><tr><td>147</td><td>147</td><td>1</td></tr><tr><td>148</td><td>148</td><td>1</td></tr><tr><td>153</td><td>153</td><td>1</td></tr><tr><td>155</td><td>155</td><td>1</td></tr><tr><td>150</td><td>150</td><td>2</td></tr><tr><td>144</td><td>144</td><td>2</td></tr><tr><td>141</td><td>141</td><td>2</td></tr><tr><td>136</td><td>136</td><td>2</td></tr><tr><td>123</td><td>123</td><td>2</td></tr><tr><td>134</td><td>134</td><td>2</td></tr><tr><td>127</td><td>127</td><td>2</td></tr><tr><td>128</td><td>128</td><td>2</td></tr><tr><td>129</td><td>129</td><td>2</td></tr><tr><td>116</td><td>116</td><td>2</td></tr><tr><td>117</td><td>117</td><td>2</td></tr><tr><td>112</td><td>112</td><td>2</td></tr><tr><td>121</td><td>121</td><td>2</td></tr><tr><td>110</td><td>110</td><td>2</td></tr><tr><td>104</td><td>104</td><td>2</td></tr><tr><td>94</td><td>94</td><td>2</td></tr><tr><td>95</td><td>95</td><td>2</td></tr><tr><td>88</td><td>88</td><td>2</td></tr><tr><td>90</td><td>90</td><td>2</td></tr><tr><td>92</td><td>92</td><td>2</td></tr><tr><td>71</td><td>71</td><td>2</td></tr><tr><td>72</td><td>72</td><td>2</td></tr><tr><td>73</td><td>73</td><td>2</td></tr><tr><td>75</td><td>75</td><td>2</td></tr><tr><td>62</td><td>62</td><td>2</td></tr><tr><td>55</td><td>55</td><td>2</td></tr><tr><td>65</td><td>65</td><td>2</td></tr><tr><td>67</td><td>67</td><td>2</td></tr><tr><td>68</td><td>68</td><td>2</td></tr><tr><td>57</td><td>57</td><td>2</td></tr><tr><td>48</td><td>48</td><td>2</td></tr><tr><td>49</td><td>49</td><td>2</td></tr><tr><td>39</td><td>39</td><td>2</td></tr><tr><td>22</td><td>22</td><td>2</td></tr><tr><td>18</td><td>18</td><td>2</td></tr><tr><td>9</td><td>9</td><td>2</td></tr><tr><td>13</td><td>13</td><td>2</td></tr><tr><td>5</td><td>5</td><td>3</td></tr><tr><td>7</td><td>7</td><td>3</td></tr><tr><td>8</td><td>8</td><td>3</td></tr><tr><td>20</td><td>20</td><td>3</td></tr><tr><td>27</td><td>27</td><td>3</td></tr><tr><td>32</td><td>32</td><td>3</td></tr><tr><td>43</td><td>43</td><td>3</td></tr><tr><td>58</td><td>58</td><td>3</td></tr><tr><td>51</td><td>51</td><td>3</td></tr><tr><td>70</td><td>70</td><td>3</td></tr><tr><td>89</td><td>89</td><td>3</td></tr><tr><td>111</td><td>111</td><td>3</td></tr><tr><td>119</td><td>119</td><td>3</td></tr><tr><td>137</td><td>137</td><td>3</td></tr><tr><td>143</td><td>143</td><td>3</td></tr><tr><td>151</td><td>151</td><td>4</td></tr><tr><td>154</td><td>154</td><td>4</td></tr><tr><td>125</td><td>125</td><td>4</td></tr><tr><td>79</td><td>79</td><td>4</td></tr><tr><td>98</td><td>98</td><td>4</td></tr><tr><td>56</td><td>56</td><td>4</td></tr><tr><td>64</td><td>64</td><td>4</td></tr><tr><td>59</td><td>59</td><td>4</td></tr><tr><td>47</td><td>47</td><td>4</td></tr><tr><td>25</td><td>25</td><td>4</td></tr><tr><td>14</td><td>14</td><td>4</td></tr><tr><td>21</td><td>21</td><td>5</td></tr><tr><td>36</td><td>36</td><td>5</td></tr><tr><td>28</td><td>28</td><td>5</td></tr><tr><td>60</td><td>60</td><td>5</td></tr><tr><td>76</td><td>76</td><td>5</td></tr><tr><td>106</td><td>106</td><td>5</td></tr><tr><td>138</td><td>138</td><td>5</td></tr><tr><td>133</td><td>133</td><td>6</td></tr><tr><td>152</td><td>152</td><td>6</td></tr><tr><td>149</td><td>149</td><td>6</td></tr><tr><td>83</td><td>83</td><td>6</td></tr><tr><td>54</td><td>54</td><td>6</td></tr><tr><td>46</td><td>46</td><td>7</td></tr><tr><td>66</td><td>66</td><td>7</td></tr><tr><td>24</td><td>24</td><td>7</td></tr><tr><td>30</td><td>30</td><td>7</td></tr><tr><td>35</td><td>35</td><td>7</td></tr><tr><td>16</td><td>16</td><td>7</td></tr><tr><td>146</td><td>146</td><td>7</td></tr><tr><td>122</td><td>122</td><td>7</td></tr><tr><td>93</td><td>93</td><td>7</td></tr><tr><td>91</td><td>91</td><td>7</td></tr><tr><td>100</td><td>100</td><td>9</td></tr><tr><td>96</td><td>96</td><td>9</td></tr><tr><td>118</td><td>118</td><td>9</td></tr><tr><td>97</td><td>97</td><td>10</td></tr><tr><td>124</td><td>124</td><td>10</td></tr><tr><td>45</td><td>45</td><td>11</td></tr><tr><td>41</td><td>41</td><td>13</td></tr><tr><td>4</td><td>4</td><td>15</td></tr><tr><td>85</td><td>85</td><td>16</td></tr><tr><td>145</td><td>145</td><td>18</td></tr><tr><td>19</td><td>19</td><td>19</td></tr><tr><td>6</td><td>6</td><td>20</td></tr><tr><td>78</td><td>78</td><td>24</td></tr><tr><td>52</td><td>52</td><td>26</td></tr><tr><td>Összesen</td><td>NULL</td><td>551</td></tr></table>"
                    },
                    "metadata": {}
                }
            ],
            "execution_count": 8
        },
        {
            "cell_type": "markdown",
            "source": [
                "4. <span style=\"background-color: rgb(255, 255, 255); color: rgb(0, 0, 0); font-family: &quot;Open Sans&quot;, sans-serif; font-size: 14.44px;\">Készítsünk listát az ügyfelek számáról születési év szerint, azon belül nem szerinti bontásban!&nbsp;</span> \n",
                "\n",
                "a. A lista megfelelően jelölve tartalmazza a részösszegeket és a végösszeget is!  \n",
                "b. Az oszlopoknak adjunk nevet értelemszerűen!"
            ],
            "metadata": {
                "azdata_cell_guid": "8e7fef82-8022-49a0-8255-fc2846c2134b"
            },
            "attachments": {}
        },
        {
            "cell_type": "code",
            "source": [
                "SELECT IIF(GROUPING_ID(szulev) = 1, 'Végösszeg', CAST(szulev as nvarchar(4))) AS 'Születési év',\r\n",
                "       CASE \r\n",
                "         WHEN GROUPING_ID(szulev, nem) = 1 THEN 'Részösszeg'\r\n",
                "         WHEN GROUPING_ID(szulev, nem) = 3 THEN 'Végösszeg'\r\n",
                "         ELSE nem \r\n",
                "         END AS 'Nem',\r\n",
                "       count(*) AS 'Ügyfelek száma'\r\n",
                "FROM ugyfel\r\n",
                "GROUP BY ROLLUP(szulev, nem)"
            ],
            "metadata": {
                "azdata_cell_guid": "36f7b396-4a1f-45e5-8720-2302537c91bc",
                "language": "sql"
            },
            "outputs": [
                {
                    "output_type": "display_data",
                    "data": {
                        "text/html": "(96 rows affected)"
                    },
                    "metadata": {}
                },
                {
                    "output_type": "display_data",
                    "data": {
                        "text/html": "Total execution time: 00:00:00.219"
                    },
                    "metadata": {}
                },
                {
                    "output_type": "execute_result",
                    "metadata": {},
                    "execution_count": 5,
                    "data": {
                        "application/vnd.dataresource+json": {
                            "schema": {
                                "fields": [
                                    {
                                        "name": "Születési év"
                                    },
                                    {
                                        "name": "Nem"
                                    },
                                    {
                                        "name": "Ügyfelek száma"
                                    }
                                ]
                            },
                            "data": [
                                {
                                    "Születési év": "1967",
                                    "Nem": "F",
                                    "Ügyfelek száma": "5"
                                },
                                {
                                    "Születési év": "1967",
                                    "Nem": "N",
                                    "Ügyfelek száma": "3"
                                },
                                {
                                    "Születési év": "1967",
                                    "Nem": "Részösszeg",
                                    "Ügyfelek száma": "8"
                                },
                                {
                                    "Születési év": "1968",
                                    "Nem": "F",
                                    "Ügyfelek száma": "5"
                                },
                                {
                                    "Születési év": "1968",
                                    "Nem": "N",
                                    "Ügyfelek száma": "3"
                                },
                                {
                                    "Születési év": "1968",
                                    "Nem": "Részösszeg",
                                    "Ügyfelek száma": "8"
                                },
                                {
                                    "Születési év": "1969",
                                    "Nem": "F",
                                    "Ügyfelek száma": "5"
                                },
                                {
                                    "Születési év": "1969",
                                    "Nem": "N",
                                    "Ügyfelek száma": "3"
                                },
                                {
                                    "Születési év": "1969",
                                    "Nem": "Részösszeg",
                                    "Ügyfelek száma": "8"
                                },
                                {
                                    "Születési év": "1970",
                                    "Nem": "F",
                                    "Ügyfelek száma": "4"
                                },
                                {
                                    "Születési év": "1970",
                                    "Nem": "Részösszeg",
                                    "Ügyfelek száma": "4"
                                },
                                {
                                    "Születési év": "1971",
                                    "Nem": "F",
                                    "Ügyfelek száma": "2"
                                },
                                {
                                    "Születési év": "1971",
                                    "Nem": "N",
                                    "Ügyfelek száma": "3"
                                },
                                {
                                    "Születési év": "1971",
                                    "Nem": "Részösszeg",
                                    "Ügyfelek száma": "5"
                                },
                                {
                                    "Születési év": "1972",
                                    "Nem": "F",
                                    "Ügyfelek száma": "2"
                                },
                                {
                                    "Születési év": "1972",
                                    "Nem": "N",
                                    "Ügyfelek száma": "2"
                                },
                                {
                                    "Születési év": "1972",
                                    "Nem": "Részösszeg",
                                    "Ügyfelek száma": "4"
                                },
                                {
                                    "Születési év": "1973",
                                    "Nem": "F",
                                    "Ügyfelek száma": "2"
                                },
                                {
                                    "Születési év": "1973",
                                    "Nem": "N",
                                    "Ügyfelek száma": "2"
                                },
                                {
                                    "Születési év": "1973",
                                    "Nem": "Részösszeg",
                                    "Ügyfelek száma": "4"
                                },
                                {
                                    "Születési év": "1974",
                                    "Nem": "F",
                                    "Ügyfelek száma": "1"
                                },
                                {
                                    "Születési év": "1974",
                                    "Nem": "N",
                                    "Ügyfelek száma": "3"
                                },
                                {
                                    "Születési év": "1974",
                                    "Nem": "Részösszeg",
                                    "Ügyfelek száma": "4"
                                },
                                {
                                    "Születési év": "1975",
                                    "Nem": "F",
                                    "Ügyfelek száma": "8"
                                },
                                {
                                    "Születési év": "1975",
                                    "Nem": "N",
                                    "Ügyfelek száma": "3"
                                },
                                {
                                    "Születési év": "1975",
                                    "Nem": "Részösszeg",
                                    "Ügyfelek száma": "11"
                                },
                                {
                                    "Születési év": "1976",
                                    "Nem": "F",
                                    "Ügyfelek száma": "5"
                                },
                                {
                                    "Születési év": "1976",
                                    "Nem": "N",
                                    "Ügyfelek száma": "2"
                                },
                                {
                                    "Születési év": "1976",
                                    "Nem": "Részösszeg",
                                    "Ügyfelek száma": "7"
                                },
                                {
                                    "Születési év": "1977",
                                    "Nem": "F",
                                    "Ügyfelek száma": "4"
                                },
                                {
                                    "Születési év": "1977",
                                    "Nem": "N",
                                    "Ügyfelek száma": "1"
                                },
                                {
                                    "Születési év": "1977",
                                    "Nem": "Részösszeg",
                                    "Ügyfelek száma": "5"
                                },
                                {
                                    "Születési év": "1978",
                                    "Nem": "F",
                                    "Ügyfelek száma": "3"
                                },
                                {
                                    "Születési év": "1978",
                                    "Nem": "N",
                                    "Ügyfelek száma": "4"
                                },
                                {
                                    "Születési év": "1978",
                                    "Nem": "Részösszeg",
                                    "Ügyfelek száma": "7"
                                },
                                {
                                    "Születési év": "1979",
                                    "Nem": "F",
                                    "Ügyfelek száma": "4"
                                },
                                {
                                    "Születési év": "1979",
                                    "Nem": "N",
                                    "Ügyfelek száma": "3"
                                },
                                {
                                    "Születési év": "1979",
                                    "Nem": "Részösszeg",
                                    "Ügyfelek száma": "7"
                                },
                                {
                                    "Születési év": "1980",
                                    "Nem": "F",
                                    "Ügyfelek száma": "4"
                                },
                                {
                                    "Születési év": "1980",
                                    "Nem": "N",
                                    "Ügyfelek száma": "3"
                                },
                                {
                                    "Születési év": "1980",
                                    "Nem": "Részösszeg",
                                    "Ügyfelek száma": "7"
                                },
                                {
                                    "Születési év": "1981",
                                    "Nem": "N",
                                    "Ügyfelek száma": "4"
                                },
                                {
                                    "Születési év": "1981",
                                    "Nem": "Részösszeg",
                                    "Ügyfelek száma": "4"
                                },
                                {
                                    "Születési év": "1982",
                                    "Nem": "F",
                                    "Ügyfelek száma": "2"
                                },
                                {
                                    "Születési év": "1982",
                                    "Nem": "N",
                                    "Ügyfelek száma": "2"
                                },
                                {
                                    "Születési év": "1982",
                                    "Nem": "Részösszeg",
                                    "Ügyfelek száma": "4"
                                },
                                {
                                    "Születési év": "1983",
                                    "Nem": "F",
                                    "Ügyfelek száma": "5"
                                },
                                {
                                    "Születési év": "1983",
                                    "Nem": "N",
                                    "Ügyfelek száma": "3"
                                },
                                {
                                    "Születési év": "1983",
                                    "Nem": "Részösszeg",
                                    "Ügyfelek száma": "8"
                                },
                                {
                                    "Születési év": "1984",
                                    "Nem": "F",
                                    "Ügyfelek száma": "6"
                                },
                                {
                                    "Születési év": "1984",
                                    "Nem": "N",
                                    "Ügyfelek száma": "2"
                                },
                                {
                                    "Születési év": "1984",
                                    "Nem": "Részösszeg",
                                    "Ügyfelek száma": "8"
                                },
                                {
                                    "Születési év": "1985",
                                    "Nem": "F",
                                    "Ügyfelek száma": "5"
                                },
                                {
                                    "Születési év": "1985",
                                    "Nem": "N",
                                    "Ügyfelek száma": "1"
                                },
                                {
                                    "Születési év": "1985",
                                    "Nem": "Részösszeg",
                                    "Ügyfelek száma": "6"
                                },
                                {
                                    "Születési év": "1986",
                                    "Nem": "F",
                                    "Ügyfelek száma": "7"
                                },
                                {
                                    "Születési év": "1986",
                                    "Nem": "N",
                                    "Ügyfelek száma": "2"
                                },
                                {
                                    "Születési év": "1986",
                                    "Nem": "Részösszeg",
                                    "Ügyfelek száma": "9"
                                },
                                {
                                    "Születési év": "1987",
                                    "Nem": "F",
                                    "Ügyfelek száma": "2"
                                },
                                {
                                    "Születési év": "1987",
                                    "Nem": "N",
                                    "Ügyfelek száma": "3"
                                },
                                {
                                    "Születési év": "1987",
                                    "Nem": "Részösszeg",
                                    "Ügyfelek száma": "5"
                                },
                                {
                                    "Születési év": "1988",
                                    "Nem": "F",
                                    "Ügyfelek száma": "2"
                                },
                                {
                                    "Születési év": "1988",
                                    "Nem": "N",
                                    "Ügyfelek száma": "4"
                                },
                                {
                                    "Születési év": "1988",
                                    "Nem": "Részösszeg",
                                    "Ügyfelek száma": "6"
                                },
                                {
                                    "Születési év": "1989",
                                    "Nem": "F",
                                    "Ügyfelek száma": "6"
                                },
                                {
                                    "Születési év": "1989",
                                    "Nem": "N",
                                    "Ügyfelek száma": "1"
                                },
                                {
                                    "Születési év": "1989",
                                    "Nem": "Részösszeg",
                                    "Ügyfelek száma": "7"
                                },
                                {
                                    "Születési év": "1990",
                                    "Nem": "F",
                                    "Ügyfelek száma": "5"
                                },
                                {
                                    "Születési év": "1990",
                                    "Nem": "N",
                                    "Ügyfelek száma": "3"
                                },
                                {
                                    "Születési év": "1990",
                                    "Nem": "Részösszeg",
                                    "Ügyfelek száma": "8"
                                },
                                {
                                    "Születési év": "1991",
                                    "Nem": "F",
                                    "Ügyfelek száma": "3"
                                },
                                {
                                    "Születési év": "1991",
                                    "Nem": "N",
                                    "Ügyfelek száma": "3"
                                },
                                {
                                    "Születési év": "1991",
                                    "Nem": "Részösszeg",
                                    "Ügyfelek száma": "6"
                                },
                                {
                                    "Születési év": "1992",
                                    "Nem": "F",
                                    "Ügyfelek száma": "3"
                                },
                                {
                                    "Születési év": "1992",
                                    "Nem": "N",
                                    "Ügyfelek száma": "1"
                                },
                                {
                                    "Születési év": "1992",
                                    "Nem": "Részösszeg",
                                    "Ügyfelek száma": "4"
                                },
                                {
                                    "Születési év": "1993",
                                    "Nem": "F",
                                    "Ügyfelek száma": "2"
                                },
                                {
                                    "Születési év": "1993",
                                    "Nem": "N",
                                    "Ügyfelek száma": "3"
                                },
                                {
                                    "Születési év": "1993",
                                    "Nem": "Részösszeg",
                                    "Ügyfelek száma": "5"
                                },
                                {
                                    "Születési év": "1994",
                                    "Nem": "N",
                                    "Ügyfelek száma": "3"
                                },
                                {
                                    "Születési év": "1994",
                                    "Nem": "Részösszeg",
                                    "Ügyfelek száma": "3"
                                },
                                {
                                    "Születési év": "1995",
                                    "Nem": "F",
                                    "Ügyfelek száma": "3"
                                },
                                {
                                    "Születési év": "1995",
                                    "Nem": "N",
                                    "Ügyfelek száma": "3"
                                },
                                {
                                    "Születési év": "1995",
                                    "Nem": "Részösszeg",
                                    "Ügyfelek száma": "6"
                                },
                                {
                                    "Születési év": "1996",
                                    "Nem": "F",
                                    "Ügyfelek száma": "2"
                                },
                                {
                                    "Születési év": "1996",
                                    "Nem": "N",
                                    "Ügyfelek száma": "5"
                                },
                                {
                                    "Születési év": "1996",
                                    "Nem": "Részösszeg",
                                    "Ügyfelek száma": "7"
                                },
                                {
                                    "Születési év": "1997",
                                    "Nem": "F",
                                    "Ügyfelek száma": "10"
                                },
                                {
                                    "Születési év": "1997",
                                    "Nem": "N",
                                    "Ügyfelek száma": "2"
                                },
                                {
                                    "Születési év": "1997",
                                    "Nem": "Részösszeg",
                                    "Ügyfelek száma": "12"
                                },
                                {
                                    "Születési év": "1998",
                                    "Nem": "F",
                                    "Ügyfelek száma": "1"
                                },
                                {
                                    "Születési év": "1998",
                                    "Nem": "N",
                                    "Ügyfelek száma": "1"
                                },
                                {
                                    "Születési év": "1998",
                                    "Nem": "Részösszeg",
                                    "Ügyfelek száma": "2"
                                },
                                {
                                    "Születési év": "2000",
                                    "Nem": "F",
                                    "Ügyfelek száma": "1"
                                },
                                {
                                    "Születési év": "2000",
                                    "Nem": "Részösszeg",
                                    "Ügyfelek száma": "1"
                                },
                                {
                                    "Születési év": "Végösszeg",
                                    "Nem": "Végösszeg",
                                    "Ügyfelek száma": "200"
                                }
                            ]
                        },
                        "text/html": [
                            "<table>",
                            "<tr><th>Születési év</th><th>Nem</th><th>Ügyfelek száma</th></tr>",
                            "<tr><td>1967</td><td>F</td><td>5</td></tr>",
                            "<tr><td>1967</td><td>N</td><td>3</td></tr>",
                            "<tr><td>1967</td><td>Részösszeg</td><td>8</td></tr>",
                            "<tr><td>1968</td><td>F</td><td>5</td></tr>",
                            "<tr><td>1968</td><td>N</td><td>3</td></tr>",
                            "<tr><td>1968</td><td>Részösszeg</td><td>8</td></tr>",
                            "<tr><td>1969</td><td>F</td><td>5</td></tr>",
                            "<tr><td>1969</td><td>N</td><td>3</td></tr>",
                            "<tr><td>1969</td><td>Részösszeg</td><td>8</td></tr>",
                            "<tr><td>1970</td><td>F</td><td>4</td></tr>",
                            "<tr><td>1970</td><td>Részösszeg</td><td>4</td></tr>",
                            "<tr><td>1971</td><td>F</td><td>2</td></tr>",
                            "<tr><td>1971</td><td>N</td><td>3</td></tr>",
                            "<tr><td>1971</td><td>Részösszeg</td><td>5</td></tr>",
                            "<tr><td>1972</td><td>F</td><td>2</td></tr>",
                            "<tr><td>1972</td><td>N</td><td>2</td></tr>",
                            "<tr><td>1972</td><td>Részösszeg</td><td>4</td></tr>",
                            "<tr><td>1973</td><td>F</td><td>2</td></tr>",
                            "<tr><td>1973</td><td>N</td><td>2</td></tr>",
                            "<tr><td>1973</td><td>Részösszeg</td><td>4</td></tr>",
                            "<tr><td>1974</td><td>F</td><td>1</td></tr>",
                            "<tr><td>1974</td><td>N</td><td>3</td></tr>",
                            "<tr><td>1974</td><td>Részösszeg</td><td>4</td></tr>",
                            "<tr><td>1975</td><td>F</td><td>8</td></tr>",
                            "<tr><td>1975</td><td>N</td><td>3</td></tr>",
                            "<tr><td>1975</td><td>Részösszeg</td><td>11</td></tr>",
                            "<tr><td>1976</td><td>F</td><td>5</td></tr>",
                            "<tr><td>1976</td><td>N</td><td>2</td></tr>",
                            "<tr><td>1976</td><td>Részösszeg</td><td>7</td></tr>",
                            "<tr><td>1977</td><td>F</td><td>4</td></tr>",
                            "<tr><td>1977</td><td>N</td><td>1</td></tr>",
                            "<tr><td>1977</td><td>Részösszeg</td><td>5</td></tr>",
                            "<tr><td>1978</td><td>F</td><td>3</td></tr>",
                            "<tr><td>1978</td><td>N</td><td>4</td></tr>",
                            "<tr><td>1978</td><td>Részösszeg</td><td>7</td></tr>",
                            "<tr><td>1979</td><td>F</td><td>4</td></tr>",
                            "<tr><td>1979</td><td>N</td><td>3</td></tr>",
                            "<tr><td>1979</td><td>Részösszeg</td><td>7</td></tr>",
                            "<tr><td>1980</td><td>F</td><td>4</td></tr>",
                            "<tr><td>1980</td><td>N</td><td>3</td></tr>",
                            "<tr><td>1980</td><td>Részösszeg</td><td>7</td></tr>",
                            "<tr><td>1981</td><td>N</td><td>4</td></tr>",
                            "<tr><td>1981</td><td>Részösszeg</td><td>4</td></tr>",
                            "<tr><td>1982</td><td>F</td><td>2</td></tr>",
                            "<tr><td>1982</td><td>N</td><td>2</td></tr>",
                            "<tr><td>1982</td><td>Részösszeg</td><td>4</td></tr>",
                            "<tr><td>1983</td><td>F</td><td>5</td></tr>",
                            "<tr><td>1983</td><td>N</td><td>3</td></tr>",
                            "<tr><td>1983</td><td>Részösszeg</td><td>8</td></tr>",
                            "<tr><td>1984</td><td>F</td><td>6</td></tr>",
                            "<tr><td>1984</td><td>N</td><td>2</td></tr>",
                            "<tr><td>1984</td><td>Részösszeg</td><td>8</td></tr>",
                            "<tr><td>1985</td><td>F</td><td>5</td></tr>",
                            "<tr><td>1985</td><td>N</td><td>1</td></tr>",
                            "<tr><td>1985</td><td>Részösszeg</td><td>6</td></tr>",
                            "<tr><td>1986</td><td>F</td><td>7</td></tr>",
                            "<tr><td>1986</td><td>N</td><td>2</td></tr>",
                            "<tr><td>1986</td><td>Részösszeg</td><td>9</td></tr>",
                            "<tr><td>1987</td><td>F</td><td>2</td></tr>",
                            "<tr><td>1987</td><td>N</td><td>3</td></tr>",
                            "<tr><td>1987</td><td>Részösszeg</td><td>5</td></tr>",
                            "<tr><td>1988</td><td>F</td><td>2</td></tr>",
                            "<tr><td>1988</td><td>N</td><td>4</td></tr>",
                            "<tr><td>1988</td><td>Részösszeg</td><td>6</td></tr>",
                            "<tr><td>1989</td><td>F</td><td>6</td></tr>",
                            "<tr><td>1989</td><td>N</td><td>1</td></tr>",
                            "<tr><td>1989</td><td>Részösszeg</td><td>7</td></tr>",
                            "<tr><td>1990</td><td>F</td><td>5</td></tr>",
                            "<tr><td>1990</td><td>N</td><td>3</td></tr>",
                            "<tr><td>1990</td><td>Részösszeg</td><td>8</td></tr>",
                            "<tr><td>1991</td><td>F</td><td>3</td></tr>",
                            "<tr><td>1991</td><td>N</td><td>3</td></tr>",
                            "<tr><td>1991</td><td>Részösszeg</td><td>6</td></tr>",
                            "<tr><td>1992</td><td>F</td><td>3</td></tr>",
                            "<tr><td>1992</td><td>N</td><td>1</td></tr>",
                            "<tr><td>1992</td><td>Részösszeg</td><td>4</td></tr>",
                            "<tr><td>1993</td><td>F</td><td>2</td></tr>",
                            "<tr><td>1993</td><td>N</td><td>3</td></tr>",
                            "<tr><td>1993</td><td>Részösszeg</td><td>5</td></tr>",
                            "<tr><td>1994</td><td>N</td><td>3</td></tr>",
                            "<tr><td>1994</td><td>Részösszeg</td><td>3</td></tr>",
                            "<tr><td>1995</td><td>F</td><td>3</td></tr>",
                            "<tr><td>1995</td><td>N</td><td>3</td></tr>",
                            "<tr><td>1995</td><td>Részösszeg</td><td>6</td></tr>",
                            "<tr><td>1996</td><td>F</td><td>2</td></tr>",
                            "<tr><td>1996</td><td>N</td><td>5</td></tr>",
                            "<tr><td>1996</td><td>Részösszeg</td><td>7</td></tr>",
                            "<tr><td>1997</td><td>F</td><td>10</td></tr>",
                            "<tr><td>1997</td><td>N</td><td>2</td></tr>",
                            "<tr><td>1997</td><td>Részösszeg</td><td>12</td></tr>",
                            "<tr><td>1998</td><td>F</td><td>1</td></tr>",
                            "<tr><td>1998</td><td>N</td><td>1</td></tr>",
                            "<tr><td>1998</td><td>Részösszeg</td><td>2</td></tr>",
                            "<tr><td>2000</td><td>F</td><td>1</td></tr>",
                            "<tr><td>2000</td><td>Részösszeg</td><td>1</td></tr>",
                            "<tr><td>Végösszeg</td><td>Végösszeg</td><td>200</td></tr>",
                            "</table>"
                        ]
                    }
                }
            ],
            "execution_count": 5
        },
        {
            "cell_type": "markdown",
            "source": [
                "5. <span style=\"background-color: rgb(255, 255, 255); color: rgb(0, 0, 0); font-family: &quot;Open Sans&quot;, sans-serif; font-size: 14.44px;\">Készítsünk listát a termékek számáról a felvitel hónapja, azon belül napja szerint csoportosítva.&nbsp;</span> \n",
                "\n",
                "a. A lista csak a részösszegeket és a végösszeget tartalmazza!  \n",
                "b. Az oszlopoknak adjunk megfelelő nevet!  \n",
                "c. Ötlet: HAVING + GROUPING\\_ID fv együttes használata"
            ],
            "metadata": {
                "azdata_cell_guid": "84239ca2-6b5e-49f5-9860-d44c11d6de32"
            },
            "attachments": {}
        },
        {
            "cell_type": "code",
            "source": [
                "SELECT MONTH(FELVITEL) AS 'Hónap',\r\n",
                "    DAY(FELVITEL) AS 'Nap',\r\n",
                "    COUNT(*) AS 'Darab',\r\n",
                "    GROUPING_ID(MONTH(FELVITEL), DAY(FELVITEL))\r\n",
                "FROM Termek\r\n",
                "GROUP BY ROLLUP(MONTH(FELVITEL), DAY(FELVITEL))\r\n",
                "HAVING GROUPING_ID(MONTH(FELVITEL), DAY(FELVITEL)) IN (1,3) -- 1 részösszeg, 3 végösszeg vagy nagyobb mint 0 vagy IS NULL oldjuk meg\r\n",
                "--ahány oszlop van oda kerül egy 1-es és 1 0 -kettő, 1 1 - három mert kettes számrendszer"
            ],
            "metadata": {
                "azdata_cell_guid": "06d9a62b-9430-424b-a135-d80e675f0eb3",
                "language": "sql"
            },
            "outputs": [
                {
                    "output_type": "display_data",
                    "data": {
                        "text/html": "(5 rows affected)"
                    },
                    "metadata": {}
                },
                {
                    "output_type": "display_data",
                    "data": {
                        "text/html": "Total execution time: 00:00:00.012"
                    },
                    "metadata": {}
                },
                {
                    "output_type": "execute_result",
                    "execution_count": 20,
                    "data": {
                        "application/vnd.dataresource+json": {
                            "schema": {
                                "fields": [
                                    {
                                        "name": "Hónap"
                                    },
                                    {
                                        "name": "Nap"
                                    },
                                    {
                                        "name": "Darab"
                                    },
                                    {
                                        "name": "(No column name)"
                                    }
                                ]
                            },
                            "data": [
                                {
                                    "Hónap": "7",
                                    "Nap": "NULL",
                                    "Darab": "355",
                                    "(No column name)": "1"
                                },
                                {
                                    "Hónap": "8",
                                    "Nap": "NULL",
                                    "Darab": "194",
                                    "(No column name)": "1"
                                },
                                {
                                    "Hónap": "9",
                                    "Nap": "NULL",
                                    "Darab": "1",
                                    "(No column name)": "1"
                                },
                                {
                                    "Hónap": "12",
                                    "Nap": "NULL",
                                    "Darab": "1",
                                    "(No column name)": "1"
                                },
                                {
                                    "Hónap": "NULL",
                                    "Nap": "NULL",
                                    "Darab": "551",
                                    "(No column name)": "3"
                                }
                            ]
                        },
                        "text/html": "<table><tr><th>Hónap</th><th>Nap</th><th>Darab</th><th>(No column name)</th></tr><tr><td>7</td><td>NULL</td><td>355</td><td>1</td></tr><tr><td>8</td><td>NULL</td><td>194</td><td>1</td></tr><tr><td>9</td><td>NULL</td><td>1</td><td>1</td></tr><tr><td>12</td><td>NULL</td><td>1</td><td>1</td></tr><tr><td>NULL</td><td>NULL</td><td>551</td><td>3</td></tr></table>"
                    },
                    "metadata": {}
                }
            ],
            "execution_count": 20
        }
    ]
}