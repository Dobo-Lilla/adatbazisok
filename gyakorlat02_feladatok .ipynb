{
    "metadata": {
        "kernelspec": {
            "name": "SQL",
            "display_name": "SQL",
            "language": "sql"
        },
        "language_info": {
            "name": "sql",
            "version": ""
        },
        "extensions": {
            "azuredatastudio": {
                "version": 1,
                "views": []
            }
        }
    },
    "nbformat_minor": 2,
    "nbformat": 4,
    "cells": [
        {
            "cell_type": "markdown",
            "source": [
                "1. <span style=\"color:rgb(36, 41, 47);font-family:-apple-system, BlinkMacSystemFont, &quot;Segoe UI&quot;, Helvetica, Arial, sans-serif, &quot;Apple Color Emoji&quot;, &quot;Segoe UI Emoji&quot;;font-size:16px;\">Készítsünk lekérdezést, amely listázza, hogy mely napokon hány db kölcsönzés történt!</span>\n",
                "\n",
                "<span style=\"font-size: 16px;\">a.&nbsp;</span> Az oszlopok neve legyen 'Dátum' és 'Kölcsönzések száma'  \n",
                "b. A listát rendezzük a kölcsönzés dátuma szerint csökkenő sorrendbe!"
            ],
            "metadata": {
                "azdata_cell_guid": "77f2d5b3-38e9-41cc-893f-f5afd02b97ef"
            },
            "attachments": {}
        },
        {
            "cell_type": "code",
            "source": [
                "SELECT ki_datum As 'Dátum', COUNT(ID) AS 'Kölcsönzések száma'\r\n",
                "FROM kolcsonzesek\r\n",
                "GROUP BY ki_datum\r\n",
                "ORDER BY ki_datum DESC"
            ],
            "metadata": {
                "azdata_cell_guid": "bd3cef1a-4e6e-4ece-9dc3-aaa9d2b5d66d",
                "language": "sql",
                "tags": []
            },
            "outputs": [
                {
                    "output_type": "display_data",
                    "data": {
                        "text/html": "(3 rows affected)"
                    },
                    "metadata": {}
                },
                {
                    "output_type": "display_data",
                    "data": {
                        "text/html": "Total execution time: 00:00:00.047"
                    },
                    "metadata": {}
                },
                {
                    "output_type": "execute_result",
                    "execution_count": 1,
                    "data": {
                        "application/vnd.dataresource+json": {
                            "schema": {
                                "fields": [
                                    {
                                        "name": "Dátum"
                                    },
                                    {
                                        "name": "Kölcsönzések száma"
                                    }
                                ]
                            },
                            "data": [
                                {
                                    "Dátum": "2006-10-02",
                                    "Kölcsönzések száma": "1"
                                },
                                {
                                    "Dátum": "2006-10-01",
                                    "Kölcsönzések száma": "1"
                                },
                                {
                                    "Dátum": "2003-12-11",
                                    "Kölcsönzések száma": "3"
                                }
                            ]
                        },
                        "text/html": "<table><tr><th>Dátum</th><th>Kölcsönzések száma</th></tr><tr><td>2006-10-02</td><td>1</td></tr><tr><td>2006-10-01</td><td>1</td></tr><tr><td>2003-12-11</td><td>3</td></tr></table>"
                    },
                    "metadata": {}
                }
            ],
            "execution_count": 1
        },
        {
            "cell_type": "markdown",
            "source": [
                "2. <span style=\"font-weight: 600; color: rgb(36, 41, 47); font-family: -apple-system, BlinkMacSystemFont, &quot;Segoe UI&quot;, Helvetica, Arial, sans-serif, &quot;Apple Color Emoji&quot;, &quot;Segoe UI Emoji&quot;; font-size: 16px;\">Mennyi a dvd-k átlagos ára stílusonkénti bontásban?</span>\n",
                "\n",
                "1. Csak azokat a stílusokat vegyük figyelembe, ahol az átlagos ár 4500 Ft feletti!\n",
                "2. Az oszlopokat nevezzük el értelemszerűen!\n",
                "3. A listát rendezzük átlagos ár szerint csökkenő sorrendbe!"
            ],
            "metadata": {
                "azdata_cell_guid": "88f5b4bb-f4c1-4bad-a0c7-b2592687b422"
            },
            "attachments": {}
        },
        {
            "cell_type": "code",
            "source": [
                "SELECT AVG(nettoar) AS 'Ár', \r\n",
                "    stilus As 'Stílusok'\r\n",
                "FROM dvd\r\n",
                "GROUP BY stilus\r\n",
                "HAVING AVG(nettoar) > 4500\r\n",
                "ORDER BY 2 DESC"
            ],
            "metadata": {
                "azdata_cell_guid": "e9de5726-f036-4fb9-8c33-a873955ed886",
                "language": "sql"
            },
            "outputs": [
                {
                    "output_type": "display_data",
                    "data": {
                        "text/html": "(30 rows affected)"
                    },
                    "metadata": {}
                },
                {
                    "output_type": "display_data",
                    "data": {
                        "text/html": "Total execution time: 00:00:00.110"
                    },
                    "metadata": {}
                },
                {
                    "output_type": "execute_result",
                    "execution_count": 2,
                    "data": {
                        "application/vnd.dataresource+json": {
                            "schema": {
                                "fields": [
                                    {
                                        "name": "Ár"
                                    },
                                    {
                                        "name": "Stílusok"
                                    }
                                ]
                            },
                            "data": [
                                {
                                    "Ár": "5624",
                                    "Stílusok": "ásványtan"
                                },
                                {
                                    "Ár": "5591",
                                    "Stílusok": "játék (rodeó)"
                                },
                                {
                                    "Ár": "5573",
                                    "Stílusok": "humor"
                                },
                                {
                                    "Ár": "5508",
                                    "Stílusok": "környezetvédelem"
                                },
                                {
                                    "Ár": "5476",
                                    "Stílusok": "kresz"
                                },
                                {
                                    "Ár": "5242",
                                    "Stílusok": "játék (jégkorong)"
                                },
                                {
                                    "Ár": "5158",
                                    "Stílusok": "színház"
                                },
                                {
                                    "Ár": "5118",
                                    "Stílusok": "múvészet"
                                },
                                {
                                    "Ár": "5094",
                                    "Stílusok": "kémia"
                                },
                                {
                                    "Ár": "5036",
                                    "Stílusok": "fordító program"
                                },
                                {
                                    "Ár": "4951",
                                    "Stílusok": "kerttervező"
                                },
                                {
                                    "Ár": "4939,25",
                                    "Stílusok": "művészet"
                                },
                                {
                                    "Ár": "4901",
                                    "Stílusok": "festészet"
                                },
                                {
                                    "Ár": "4855,333333333333",
                                    "Stílusok": "zene"
                                },
                                {
                                    "Ár": "4850,466666666666",
                                    "Stílusok": "játék"
                                },
                                {
                                    "Ár": "4817,333333333333",
                                    "Stílusok": "játék (labdarúgás)"
                                },
                                {
                                    "Ár": "4783,666666666667",
                                    "Stílusok": "állattan"
                                },
                                {
                                    "Ár": "4770,666666666667",
                                    "Stílusok": "nyelvtan"
                                },
                                {
                                    "Ár": "4769",
                                    "Stílusok": "fizika"
                                },
                                {
                                    "Ár": "4759,476190476191",
                                    "Stílusok": "nyelvtanító"
                                },
                                {
                                    "Ár": "4733,571428571428",
                                    "Stílusok": "csillagászat"
                                },
                                {
                                    "Ár": "4726,673913043478",
                                    "Stílusok": "ismeretterjesztő"
                                },
                                {
                                    "Ár": "4704",
                                    "Stílusok": "irodalom, nyelv"
                                },
                                {
                                    "Ár": "4691",
                                    "Stílusok": "gasztronómia"
                                },
                                {
                                    "Ár": "4655,731707317073",
                                    "Stílusok": "történelem"
                                },
                                {
                                    "Ár": "4624,428571428572",
                                    "Stílusok": "szótár"
                                },
                                {
                                    "Ár": "4607",
                                    "Stílusok": "sport"
                                },
                                {
                                    "Ár": "4580,0625",
                                    "Stílusok": "földrajz"
                                },
                                {
                                    "Ár": "4520,777777777777",
                                    "Stílusok": "matematika"
                                },
                                {
                                    "Ár": "4501,333333333333",
                                    "Stílusok": "felvételi"
                                }
                            ]
                        },
                        "text/html": "<table><tr><th>Ár</th><th>Stílusok</th></tr><tr><td>5624</td><td>ásványtan</td></tr><tr><td>5591</td><td>játék (rodeó)</td></tr><tr><td>5573</td><td>humor</td></tr><tr><td>5508</td><td>környezetvédelem</td></tr><tr><td>5476</td><td>kresz</td></tr><tr><td>5242</td><td>játék (jégkorong)</td></tr><tr><td>5158</td><td>színház</td></tr><tr><td>5118</td><td>múvészet</td></tr><tr><td>5094</td><td>kémia</td></tr><tr><td>5036</td><td>fordító program</td></tr><tr><td>4951</td><td>kerttervező</td></tr><tr><td>4939,25</td><td>művészet</td></tr><tr><td>4901</td><td>festészet</td></tr><tr><td>4855,333333333333</td><td>zene</td></tr><tr><td>4850,466666666666</td><td>játék</td></tr><tr><td>4817,333333333333</td><td>játék (labdarúgás)</td></tr><tr><td>4783,666666666667</td><td>állattan</td></tr><tr><td>4770,666666666667</td><td>nyelvtan</td></tr><tr><td>4769</td><td>fizika</td></tr><tr><td>4759,476190476191</td><td>nyelvtanító</td></tr><tr><td>4733,571428571428</td><td>csillagászat</td></tr><tr><td>4726,673913043478</td><td>ismeretterjesztő</td></tr><tr><td>4704</td><td>irodalom, nyelv</td></tr><tr><td>4691</td><td>gasztronómia</td></tr><tr><td>4655,731707317073</td><td>történelem</td></tr><tr><td>4624,428571428572</td><td>szótár</td></tr><tr><td>4607</td><td>sport</td></tr><tr><td>4580,0625</td><td>földrajz</td></tr><tr><td>4520,777777777777</td><td>matematika</td></tr><tr><td>4501,333333333333</td><td>felvételi</td></tr></table>"
                    },
                    "metadata": {}
                }
            ],
            "execution_count": 2
        },
        {
            "cell_type": "markdown",
            "source": [
                "3. <span style=\"color:rgb(36, 41, 47);font-family:-apple-system, BlinkMacSystemFont, &quot;Segoe UI&quot;, Helvetica, Arial, sans-serif, &quot;Apple Color Emoji&quot;, &quot;Segoe UI Emoji&quot;;font-size:16px;\">Listázzuk nyelvenkénti, azon belül stílusonkénti bontásban, hogy mennyi a dvd-k legkisebb és legnagyobb ára!&nbsp;</span> \n",
                "\n",
                "<span style=\"font-size: 16px;\">a. Az oszlopok neve legyen 'Nyelv', 'Stílus', 'MinÁr' és 'MaxÁr'!<br>b.&nbsp;</span> A listából hagyjuk ki azokat a sorokat, ahol a nyelv vagy a stílus nincs megadva!  \n",
                "c. Szintén hagyjuk ki azokat a csoportokat, ahol a csoport elemszáma 3-nál kisebb!"
            ],
            "metadata": {
                "azdata_cell_guid": "9e7249de-1b59-43d8-84b1-26fa7d81fc5a"
            },
            "attachments": {}
        },
        {
            "cell_type": "code",
            "source": [
                "SELECT lang AS 'Nyelv',\r\n",
                "        stilus As 'Stílus',\r\n",
                "        MIN(nettoar) AS 'MinÁr',\r\n",
                "        MAX(nettoar) AS 'MaxÁr'\r\n",
                "FROM dvd\r\n",
                "WHERE lang IS NOT NULL AND stilus IS NOT NULL\r\n",
                "GROUP BY lang, stilus\r\n",
                "HAVING COUNT(*) >=3\r\n",
                ""
            ],
            "metadata": {
                "azdata_cell_guid": "6405d3e8-a9b1-45d7-aa76-3b1e785ef6cc",
                "language": "sql",
                "tags": []
            },
            "outputs": [
                {
                    "output_type": "display_data",
                    "data": {
                        "text/html": "Warning: Null value is eliminated by an aggregate or other SET operation."
                    },
                    "metadata": {}
                },
                {
                    "output_type": "display_data",
                    "data": {
                        "text/html": "(19 rows affected)"
                    },
                    "metadata": {}
                },
                {
                    "output_type": "display_data",
                    "data": {
                        "text/html": "Total execution time: 00:00:00.016"
                    },
                    "metadata": {}
                },
                {
                    "output_type": "execute_result",
                    "execution_count": 6,
                    "data": {
                        "application/vnd.dataresource+json": {
                            "schema": {
                                "fields": [
                                    {
                                        "name": "Nyelv"
                                    },
                                    {
                                        "name": "Stílus"
                                    },
                                    {
                                        "name": "MinÁr"
                                    },
                                    {
                                        "name": "MaxÁr"
                                    }
                                ]
                            },
                            "data": [
                                {
                                    "Nyelv": "1",
                                    "Stílus": "biológia",
                                    "MinÁr": "3482",
                                    "MaxÁr": "5543"
                                },
                                {
                                    "Nyelv": "1",
                                    "Stílus": "csillagászat",
                                    "MinÁr": "3582",
                                    "MaxÁr": "5992"
                                },
                                {
                                    "Nyelv": "1",
                                    "Stílus": "felvételi",
                                    "MinÁr": "3215",
                                    "MaxÁr": "5955"
                                },
                                {
                                    "Nyelv": "1",
                                    "Stílus": "földrajz",
                                    "MinÁr": "3123",
                                    "MaxÁr": "6065"
                                },
                                {
                                    "Nyelv": "1",
                                    "Stílus": "gasztronómia",
                                    "MinÁr": "3258",
                                    "MaxÁr": "5706"
                                },
                                {
                                    "Nyelv": "1",
                                    "Stílus": "irodalom",
                                    "MinÁr": "3391",
                                    "MaxÁr": "5654"
                                },
                                {
                                    "Nyelv": "1",
                                    "Stílus": "ismeretterjesztő",
                                    "MinÁr": "3256",
                                    "MaxÁr": "6072"
                                },
                                {
                                    "Nyelv": "1",
                                    "Stílus": "játék",
                                    "MinÁr": "3110",
                                    "MaxÁr": "6078"
                                },
                                {
                                    "Nyelv": "2",
                                    "Stílus": "játék",
                                    "MinÁr": "3144",
                                    "MaxÁr": "6062"
                                },
                                {
                                    "Nyelv": "2",
                                    "Stílus": "játék (autóverseny)",
                                    "MinÁr": "3106",
                                    "MaxÁr": "5005"
                                },
                                {
                                    "Nyelv": "1",
                                    "Stílus": "matematika",
                                    "MinÁr": "3105",
                                    "MaxÁr": "5995"
                                },
                                {
                                    "Nyelv": "1",
                                    "Stílus": "művészet",
                                    "MinÁr": "3490",
                                    "MaxÁr": "6098"
                                },
                                {
                                    "Nyelv": "2",
                                    "Stílus": "nyelvtanító",
                                    "MinÁr": "3115",
                                    "MaxÁr": "6068"
                                },
                                {
                                    "Nyelv": "3",
                                    "Stílus": "nyelvtanító",
                                    "MinÁr": "3313",
                                    "MaxÁr": "5990"
                                },
                                {
                                    "Nyelv": "4",
                                    "Stílus": "nyelvtanító",
                                    "MinÁr": "3419",
                                    "MaxÁr": "6082"
                                },
                                {
                                    "Nyelv": "6",
                                    "Stílus": "nyelvtanító",
                                    "MinÁr": "3775",
                                    "MaxÁr": "5882"
                                },
                                {
                                    "Nyelv": "7",
                                    "Stílus": "nyelvtanító",
                                    "MinÁr": "3770",
                                    "MaxÁr": "5619"
                                },
                                {
                                    "Nyelv": "1",
                                    "Stílus": "történelem",
                                    "MinÁr": "3122",
                                    "MaxÁr": "6084"
                                },
                                {
                                    "Nyelv": "1",
                                    "Stílus": "zene",
                                    "MinÁr": "3391",
                                    "MaxÁr": "5730"
                                }
                            ]
                        },
                        "text/html": "<table><tr><th>Nyelv</th><th>Stílus</th><th>MinÁr</th><th>MaxÁr</th></tr><tr><td>1</td><td>biológia</td><td>3482</td><td>5543</td></tr><tr><td>1</td><td>csillagászat</td><td>3582</td><td>5992</td></tr><tr><td>1</td><td>felvételi</td><td>3215</td><td>5955</td></tr><tr><td>1</td><td>földrajz</td><td>3123</td><td>6065</td></tr><tr><td>1</td><td>gasztronómia</td><td>3258</td><td>5706</td></tr><tr><td>1</td><td>irodalom</td><td>3391</td><td>5654</td></tr><tr><td>1</td><td>ismeretterjesztő</td><td>3256</td><td>6072</td></tr><tr><td>1</td><td>játék</td><td>3110</td><td>6078</td></tr><tr><td>2</td><td>játék</td><td>3144</td><td>6062</td></tr><tr><td>2</td><td>játék (autóverseny)</td><td>3106</td><td>5005</td></tr><tr><td>1</td><td>matematika</td><td>3105</td><td>5995</td></tr><tr><td>1</td><td>művészet</td><td>3490</td><td>6098</td></tr><tr><td>2</td><td>nyelvtanító</td><td>3115</td><td>6068</td></tr><tr><td>3</td><td>nyelvtanító</td><td>3313</td><td>5990</td></tr><tr><td>4</td><td>nyelvtanító</td><td>3419</td><td>6082</td></tr><tr><td>6</td><td>nyelvtanító</td><td>3775</td><td>5882</td></tr><tr><td>7</td><td>nyelvtanító</td><td>3770</td><td>5619</td></tr><tr><td>1</td><td>történelem</td><td>3122</td><td>6084</td></tr><tr><td>1</td><td>zene</td><td>3391</td><td>5730</td></tr></table>"
                    },
                    "metadata": {}
                }
            ],
            "execution_count": 6
        },
        {
            "cell_type": "markdown",
            "source": [
                "4. <span style=\"color: rgb(36, 41, 47); font-family: -apple-system, BlinkMacSystemFont, &quot;Segoe UI&quot;, Helvetica, Arial, sans-serif, &quot;Apple Color Emoji&quot;, &quot;Segoe UI Emoji&quot;; font-size: 16px;\">Készítsünk listát, amely a csoportokat hoz létre aszerint, hogy a mai naptól számítva hány nap telt el a kölcsönzés kezdete óta. A lista jelenítse meg csoportonkénti bontásban a kikölcsönzött dvd-k számát!</span>\n",
                "\n",
                "1. Az oszlopokat nevezzük el értelemszerűen!\n",
                "2. A listát rendezzük az eltelt napok száma szerint csökkenő sorrendbe!"
            ],
            "metadata": {
                "azdata_cell_guid": "6478e469-c094-472c-a772-ccd5b5c61516"
            },
            "attachments": {}
        },
        {
            "cell_type": "code",
            "source": [
                "SELECT DATEDIFF(day,ki_datum,GETDATE()) \"Kölcsönzés óta eltelt napok\", COUNT(*) AS 'Kikölcsönzött dvd darab'\r\n",
                "FROM kolcsonzesek\r\n",
                "GROUP BY DATEDIFF(day,ki_datum,GETDATE())\r\n",
                "ORDER BY DATEDIFF(day,ki_datum,GETDATE()) DESC"
            ],
            "metadata": {
                "azdata_cell_guid": "02031ea2-3838-458d-839c-228e3b362b61",
                "language": "sql"
            },
            "outputs": [
                {
                    "output_type": "display_data",
                    "data": {
                        "text/html": "(3 rows affected)"
                    },
                    "metadata": {}
                },
                {
                    "output_type": "display_data",
                    "data": {
                        "text/html": "Total execution time: 00:00:00.013"
                    },
                    "metadata": {}
                },
                {
                    "output_type": "execute_result",
                    "execution_count": 13,
                    "data": {
                        "application/vnd.dataresource+json": {
                            "schema": {
                                "fields": [
                                    {
                                        "name": "Kölcsönzés óta eltelt napok"
                                    },
                                    {
                                        "name": "Kikölcsönzött dvd darab"
                                    }
                                ]
                            },
                            "data": [
                                {
                                    "Kölcsönzés óta eltelt napok": "7750",
                                    "Kikölcsönzött dvd darab": "3"
                                },
                                {
                                    "Kölcsönzés óta eltelt napok": "6725",
                                    "Kikölcsönzött dvd darab": "1"
                                },
                                {
                                    "Kölcsönzés óta eltelt napok": "6724",
                                    "Kikölcsönzött dvd darab": "1"
                                }
                            ]
                        },
                        "text/html": "<table><tr><th>Kölcsönzés óta eltelt napok</th><th>Kikölcsönzött dvd darab</th></tr><tr><td>7750</td><td>3</td></tr><tr><td>6725</td><td>1</td></tr><tr><td>6724</td><td>1</td></tr></table>"
                    },
                    "metadata": {}
                }
            ],
            "execution_count": 13
        },
        {
            "cell_type": "markdown",
            "source": [
                "5. <span style=\"color: rgb(36, 41, 47); font-family: -apple-system, BlinkMacSystemFont, &quot;Segoe UI&quot;, Helvetica, Arial, sans-serif, &quot;Apple Color Emoji&quot;, &quot;Segoe UI Emoji&quot;; font-size: 16px;\">A kölcsönző tulajdonosa elhatározza, hogy ezentúl kerekebb árakat alkalmaz. Ezért minden dvd árát 1000 Ft-ra kerekíti. Készítsünk lekérdezést, amely megmutatja, hogy melyik 1000 Ft-ra kerekített ár szerint, azon belül stílus szerint hány db dvd összesen raktáron! **</span>\n",
                "\n",
                "1. Csak olyan csoportokat listázzunk, ahol a raktárkészlet legalább 30!\n",
                "2. A listát rendezzük kerekített ár szerint, azon belül raktárkészlet szerint növekvő sorrendbe!"
            ],
            "metadata": {
                "azdata_cell_guid": "9edbbaf9-c276-4898-9a01-e1b2993c089f"
            },
            "attachments": {}
        },
        {
            "cell_type": "code",
            "source": [
                "SELECT ROUND(nettoar,-3) AS 'Kerekített ár', stilus, SUM([raktár készlet]) AS 'raktár készlet'\r\n",
                "FROM dvd\r\n",
                "GROUP BY ROUND(nettoar,-3), stilus\r\n",
                "HAVING SUM([raktár készlet]) >30\r\n",
                "ORDER BY ROUND(nettoar,-3),  COUNT(ID) ASC"
            ],
            "metadata": {
                "azdata_cell_guid": "5ad5fdcb-2878-4111-861a-833bcd50e935",
                "language": "sql",
                "tags": []
            },
            "outputs": [
                {
                    "output_type": "display_data",
                    "data": {
                        "text/html": "(19 rows affected)"
                    },
                    "metadata": {}
                },
                {
                    "output_type": "display_data",
                    "data": {
                        "text/html": "Total execution time: 00:00:00.121"
                    },
                    "metadata": {}
                },
                {
                    "output_type": "execute_result",
                    "execution_count": 1,
                    "data": {
                        "application/vnd.dataresource+json": {
                            "schema": {
                                "fields": [
                                    {
                                        "name": "(No column name)"
                                    },
                                    {
                                        "name": "stilus"
                                    },
                                    {
                                        "name": "(No column name)"
                                    }
                                ]
                            },
                            "data": [
                                {
                                    "(No column name)": "40",
                                    "stilus": "játék"
                                },
                                {
                                    "(No column name)": "40",
                                    "stilus": "történelem"
                                },
                                {
                                    "(No column name)": "70",
                                    "stilus": "ismeretterjesztő"
                                },
                                {
                                    "(No column name)": "40",
                                    "stilus": "csillagászat"
                                },
                                {
                                    "(No column name)": "50",
                                    "stilus": "földrajz"
                                },
                                {
                                    "(No column name)": "90",
                                    "stilus": "irodalom"
                                },
                                {
                                    "(No column name)": "130",
                                    "stilus": "ismeretterjesztő"
                                },
                                {
                                    "(No column name)": "140",
                                    "stilus": "nyelvtanító"
                                },
                                {
                                    "(No column name)": "160",
                                    "stilus": "történelem"
                                },
                                {
                                    "(No column name)": "180",
                                    "stilus": "játék"
                                },
                                {
                                    "(No column name)": "60",
                                    "stilus": "földrajz"
                                },
                                {
                                    "(No column name)": "120",
                                    "stilus": "történelem"
                                },
                                {
                                    "(No column name)": "140",
                                    "stilus": "nyelvtanító"
                                },
                                {
                                    "(No column name)": "170",
                                    "stilus": "ismeretterjesztő"
                                },
                                {
                                    "(No column name)": "210",
                                    "stilus": "játék"
                                },
                                {
                                    "(No column name)": "90",
                                    "stilus": "ismeretterjesztő"
                                },
                                {
                                    "(No column name)": "88",
                                    "stilus": "történelem"
                                },
                                {
                                    "(No column name)": "110",
                                    "stilus": "nyelvtanító"
                                },
                                {
                                    "(No column name)": "170",
                                    "stilus": "játék"
                                }
                            ]
                        },
                        "text/html": "<table><tr><th>(No column name)</th><th>stilus</th><th>(No column name)</th></tr><tr><td>3000</td><td>játék</td><td>40</td></tr><tr><td>3000</td><td>történelem</td><td>40</td></tr><tr><td>3000</td><td>ismeretterjesztő</td><td>70</td></tr><tr><td>4000</td><td>csillagászat</td><td>40</td></tr><tr><td>4000</td><td>földrajz</td><td>50</td></tr><tr><td>4000</td><td>irodalom</td><td>90</td></tr><tr><td>4000</td><td>ismeretterjesztő</td><td>130</td></tr><tr><td>4000</td><td>nyelvtanító</td><td>140</td></tr><tr><td>4000</td><td>történelem</td><td>160</td></tr><tr><td>4000</td><td>játék</td><td>180</td></tr><tr><td>5000</td><td>földrajz</td><td>60</td></tr><tr><td>5000</td><td>történelem</td><td>120</td></tr><tr><td>5000</td><td>nyelvtanító</td><td>140</td></tr><tr><td>5000</td><td>ismeretterjesztő</td><td>170</td></tr><tr><td>5000</td><td>játék</td><td>210</td></tr><tr><td>6000</td><td>ismeretterjesztő</td><td>90</td></tr><tr><td>6000</td><td>történelem</td><td>88</td></tr><tr><td>6000</td><td>nyelvtanító</td><td>110</td></tr><tr><td>6000</td><td>játék</td><td>170</td></tr></table>"
                    },
                    "metadata": {}
                }
            ],
            "execution_count": 1
        },
        {
            "cell_type": "markdown",
            "source": [
                "6. <span style=\"font-weight: 600; color: rgb(36, 41, 47); font-family: -apple-system, BlinkMacSystemFont, &quot;Segoe UI&quot;, Helvetica, Arial, sans-serif, &quot;Apple Color Emoji&quot;, &quot;Segoe UI Emoji&quot;; font-size: 16px;\">A dvd-ket csoportosíthatjuk aszerint, hogy milyen hosszú a címük. Amelyiknél a cím hosszúsága 10 karakter alatt van, az legyen Rövid, 10-20-ig Átlagos, 20 felett Hosszú. Hány Rövid, Átlagos, illetve Hosszú dvd-van összesen raktáron?</span>\n",
                "\n",
                "1. Az oszlopok neve legyen 'Cím hosszúság' és 'Darabszám"
            ],
            "metadata": {
                "azdata_cell_guid": "5fe65c1c-2479-45ac-ad03-ec99d12eae21"
            },
            "attachments": {}
        },
        {
            "cell_type": "code",
            "source": [
                "SELECT \r\n",
                "    CASE\r\n",
                "        WHEN LEN(cim) < 10 THEN 'Rövid'\r\n",
                "        WHEN LEN(cim) BETWEEN 10 AND 20 THEN 'Átlagos'\r\n",
                "        ELSE 'Hosszú'\r\n",
                "    END AS 'Cím hosszóság',\r\n",
                "    SUM([raktár készlet]) AS 'Darabszám'\r\n",
                "FROM dvd\r\n",
                "GROUP BY CASE\r\n",
                "        WHEN LEN(cim) < 10 THEN 'Rövid'\r\n",
                "        WHEN LEN(cim) BETWEEN 10 AND 20 THEN 'Átlagos'\r\n",
                "        ELSE 'Hosszú'\r\n",
                "    END\r\n",
                ""
            ],
            "metadata": {
                "azdata_cell_guid": "924f2dde-f1c2-4def-a7f9-dbf4bace7735",
                "language": "sql"
            },
            "outputs": [
                {
                    "output_type": "display_data",
                    "data": {
                        "text/html": "(3 rows affected)"
                    },
                    "metadata": {}
                },
                {
                    "output_type": "display_data",
                    "data": {
                        "text/html": "Total execution time: 00:00:00.070"
                    },
                    "metadata": {}
                },
                {
                    "output_type": "execute_result",
                    "execution_count": 14,
                    "data": {
                        "application/vnd.dataresource+json": {
                            "schema": {
                                "fields": [
                                    {
                                        "name": "Cím hosszóság"
                                    },
                                    {
                                        "name": "Darabszám"
                                    }
                                ]
                            },
                            "data": [
                                {
                                    "Cím hosszóság": "Átlagos",
                                    "Darabszám": "930"
                                },
                                {
                                    "Cím hosszóság": "Hosszú",
                                    "Darabszám": "2128"
                                },
                                {
                                    "Cím hosszóság": "Rövid",
                                    "Darabszám": "120"
                                }
                            ]
                        },
                        "text/html": "<table><tr><th>Cím hosszóság</th><th>Darabszám</th></tr><tr><td>Átlagos</td><td>930</td></tr><tr><td>Hosszú</td><td>2128</td></tr><tr><td>Rövid</td><td>120</td></tr></table>"
                    },
                    "metadata": {}
                }
            ],
            "execution_count": 14
        },
        {
            "cell_type": "markdown",
            "source": [
                "7. <span style=\"color: rgb(36, 41, 47); font-family: -apple-system, BlinkMacSystemFont, &quot;Segoe UI&quot;, Helvetica, Arial, sans-serif, &quot;Apple Color Emoji&quot;, &quot;Segoe UI Emoji&quot;; font-size: 16px;\">Készítsünk listát arról, hogy melyik teremben hány óra van!</span>\n",
                "\n",
                "1. Jelenítsük meg a termek azonosítóit és a teremben tartott órák számát!\n",
                "2. Az oszlopokat nevezzük el értelemszerűen!\n",
                "3. Szűrjünk azokra a termekre, ahol az órák száma legalább 3!"
            ],
            "metadata": {
                "azdata_cell_guid": "3aeb6bf5-b111-40d5-92b2-9712ce335696"
            },
            "attachments": {}
        },
        {
            "cell_type": "code",
            "source": [
                "SELECT terem AS 'Terem azonosító',\r\n",
                "    COUNT(*) AS 'Darab'\r\n",
                "FROM Orak\r\n",
                "GROUP BY terem\r\n",
                "HAVING COUNT(*) >= 3"
            ],
            "metadata": {
                "azdata_cell_guid": "3e89b651-f56f-4102-af52-30eb2bbe360d",
                "language": "sql"
            },
            "outputs": [
                {
                    "output_type": "display_data",
                    "data": {
                        "text/html": "(8 rows affected)"
                    },
                    "metadata": {}
                },
                {
                    "output_type": "display_data",
                    "data": {
                        "text/html": "Total execution time: 00:00:00.092"
                    },
                    "metadata": {}
                },
                {
                    "output_type": "execute_result",
                    "metadata": {},
                    "execution_count": 1,
                    "data": {
                        "application/vnd.dataresource+json": {
                            "schema": {
                                "fields": [
                                    {
                                        "name": "Terem azonosító"
                                    },
                                    {
                                        "name": "Darab"
                                    }
                                ]
                            },
                            "data": [
                                {
                                    "Terem azonosító": "2",
                                    "Darab": "5"
                                },
                                {
                                    "Terem azonosító": "3",
                                    "Darab": "11"
                                },
                                {
                                    "Terem azonosító": "4",
                                    "Darab": "8"
                                },
                                {
                                    "Terem azonosító": "5",
                                    "Darab": "5"
                                },
                                {
                                    "Terem azonosító": "6",
                                    "Darab": "6"
                                },
                                {
                                    "Terem azonosító": "7",
                                    "Darab": "6"
                                },
                                {
                                    "Terem azonosító": "8",
                                    "Darab": "6"
                                },
                                {
                                    "Terem azonosító": "13",
                                    "Darab": "5"
                                }
                            ]
                        },
                        "text/html": [
                            "<table>",
                            "<tr><th>Terem azonosító</th><th>Darab</th></tr>",
                            "<tr><td>2</td><td>5</td></tr>",
                            "<tr><td>3</td><td>11</td></tr>",
                            "<tr><td>4</td><td>8</td></tr>",
                            "<tr><td>5</td><td>5</td></tr>",
                            "<tr><td>6</td><td>6</td></tr>",
                            "<tr><td>7</td><td>6</td></tr>",
                            "<tr><td>8</td><td>6</td></tr>",
                            "<tr><td>13</td><td>5</td></tr>",
                            "</table>"
                        ]
                    }
                }
            ],
            "execution_count": 1
        },
        {
            "cell_type": "markdown",
            "source": [
                "8. <span style=\"color: rgb(36, 41, 47); font-family: -apple-system, BlinkMacSystemFont, &quot;Segoe UI&quot;, Helvetica, Arial, sans-serif, &quot;Apple Color Emoji&quot;, &quot;Segoe UI Emoji&quot;; font-size: 16px;\">Készítsünk lekérdezést, amely megadja, hogy minimálian és maximálisan hány kreditet ér egy tantárgy!</span>\n",
                "\n",
                "1. Az oszlopokat nevezzük el értelemszerűen!\n",
                "2. Ne vegyük figyelembe azokat a tantárgyakat, amelyek nevében az „alapjai” szó szerepel, vagy a tantárgy neve 10 karakternél rövidebb!"
            ],
            "metadata": {
                "azdata_cell_guid": "26a504dc-ff6a-439f-94c0-4580eca3eacf"
            },
            "attachments": {}
        },
        {
            "cell_type": "code",
            "source": [
                "SELECT MIN(Kredit) As 'Minimális kredit',\r\n",
                "    MAX(Kredit) AS 'Maximális kredit'\r\n",
                "FROM Tantárgyak\r\n",
                "WHERE Tantárgynév NOT LIKE '%alapjai%' AND LEN(Tantárgynév) <10"
            ],
            "metadata": {
                "azdata_cell_guid": "1cbb8aeb-78b5-4350-aa45-e3202fdab85b",
                "language": "sql"
            },
            "outputs": [
                {
                    "output_type": "display_data",
                    "data": {
                        "text/html": "(1 row affected)"
                    },
                    "metadata": {}
                },
                {
                    "output_type": "display_data",
                    "data": {
                        "text/html": "Total execution time: 00:00:00.033"
                    },
                    "metadata": {}
                },
                {
                    "output_type": "execute_result",
                    "metadata": {},
                    "execution_count": 4,
                    "data": {
                        "application/vnd.dataresource+json": {
                            "schema": {
                                "fields": [
                                    {
                                        "name": "Minimális kredit"
                                    },
                                    {
                                        "name": "Maximális kredit"
                                    }
                                ]
                            },
                            "data": [
                                {
                                    "Minimális kredit": "3",
                                    "Maximális kredit": "6"
                                }
                            ]
                        },
                        "text/html": [
                            "<table>",
                            "<tr><th>Minimális kredit</th><th>Maximális kredit</th></tr>",
                            "<tr><td>3</td><td>6</td></tr>",
                            "</table>"
                        ]
                    }
                }
            ],
            "execution_count": 4
        },
        {
            "cell_type": "markdown",
            "source": [
                "9. <span style=\"color: rgb(36, 41, 47); font-family: -apple-system, BlinkMacSystemFont, &quot;Segoe UI&quot;, Helvetica, Arial, sans-serif, &quot;Apple Color Emoji&quot;, &quot;Segoe UI Emoji&quot;; font-size: 16px;\">A tapasztalat alapján a tanársegédeknek 8, az óraadóknak 10 órájuk van egy héten. A többiek annyi órát tartanak, amennyi az elvárt óraszámuk. Készítsünk lekérdezést, amely minden beosztáshoz megjeleníti, hogy hetente hány túlóra tartozik hozzá!</span>\n",
                "\n",
                "1. A lekérdezés csak a beosztások nevét és a heti túlórák számát jelenítse meg!"
            ],
            "metadata": {
                "azdata_cell_guid": "435e2860-2dd5-4877-90f4-34a43baeb53c"
            },
            "attachments": {}
        },
        {
            "cell_type": "code",
            "source": [
                "SELECT beosztasnev,\r\n",
                "    CASE \r\n",
                "        WHEN beosztasnev = 'Tanársegéd' THEN 8\r\n",
                "        WHEN beosztasnev = 'Óraadó' THEN 10\r\n",
                "        ELSE elvart\r\n",
                "    END -elvart As 'Túlóra '\r\n",
                "FROM Beosztasok"
            ],
            "metadata": {
                "azdata_cell_guid": "ce846351-ddbe-4d8e-b8fb-2a92c73ac80b",
                "language": "sql"
            },
            "outputs": [
                {
                    "output_type": "display_data",
                    "data": {
                        "text/html": "(7 rows affected)"
                    },
                    "metadata": {}
                },
                {
                    "output_type": "display_data",
                    "data": {
                        "text/html": "Total execution time: 00:00:00.054"
                    },
                    "metadata": {}
                },
                {
                    "output_type": "execute_result",
                    "metadata": {},
                    "execution_count": 5,
                    "data": {
                        "application/vnd.dataresource+json": {
                            "schema": {
                                "fields": [
                                    {
                                        "name": "beosztasnev"
                                    },
                                    {
                                        "name": "Túlóra "
                                    }
                                ]
                            },
                            "data": [
                                {
                                    "beosztasnev": "Óraadó",
                                    "Túlóra ": "4"
                                },
                                {
                                    "beosztasnev": "Tanársegéd",
                                    "Túlóra ": "2"
                                },
                                {
                                    "beosztasnev": "Adjunktus",
                                    "Túlóra ": "0"
                                },
                                {
                                    "beosztasnev": "Docens",
                                    "Túlóra ": "0"
                                },
                                {
                                    "beosztasnev": "Professzor",
                                    "Túlóra ": "0"
                                },
                                {
                                    "beosztasnev": "Egyetemi tanár",
                                    "Túlóra ": "0"
                                },
                                {
                                    "beosztasnev": "Tudományos munkatárs",
                                    "Túlóra ": "0"
                                }
                            ]
                        },
                        "text/html": [
                            "<table>",
                            "<tr><th>beosztasnev</th><th>Túlóra </th></tr>",
                            "<tr><td>Óraadó</td><td>4</td></tr>",
                            "<tr><td>Tanársegéd</td><td>2</td></tr>",
                            "<tr><td>Adjunktus</td><td>0</td></tr>",
                            "<tr><td>Docens</td><td>0</td></tr>",
                            "<tr><td>Professzor</td><td>0</td></tr>",
                            "<tr><td>Egyetemi tanár</td><td>0</td></tr>",
                            "<tr><td>Tudományos munkatárs</td><td>0</td></tr>",
                            "</table>"
                        ]
                    }
                }
            ],
            "execution_count": 5
        },
        {
            "cell_type": "markdown",
            "source": [
                "10. <span style=\"font-weight: 600; color: rgb(36, 41, 47); font-family: -apple-system, BlinkMacSystemFont, &quot;Segoe UI&quot;, Helvetica, Arial, sans-serif, &quot;Apple Color Emoji&quot;, &quot;Segoe UI Emoji&quot;; font-size: 16px;\">Melyek azok az oktatók, akiknek nincs órájuk?</span>\n",
                "\n",
                "1. Csak az oktatók neve jelenjen meg!\n",
                "2. ÖTLET: használjunk LEFT JOIN-t, és szűrjünk azokra a rekordokra, ahol NULL érték van a JOIN utáni feltétel jobb oldalán!"
            ],
            "metadata": {
                "azdata_cell_guid": "217c5772-afe2-4a7c-b913-e3a3e09d6411"
            },
            "attachments": {}
        },
        {
            "cell_type": "code",
            "source": [
                "SELECT Oktatok.nev\r\n",
                "FROM Oktatok LEFT JOIN Orak ON Oktatok.oktato_id = Orak.tanar\r\n",
                "WHERE Orak.tanar IS NULL\r\n",
                ""
            ],
            "metadata": {
                "azdata_cell_guid": "a9cc0926-3dbd-4ed8-8179-1c39d64a0762",
                "language": "sql"
            },
            "outputs": [
                {
                    "output_type": "display_data",
                    "data": {
                        "text/html": "(5 rows affected)"
                    },
                    "metadata": {}
                },
                {
                    "output_type": "display_data",
                    "data": {
                        "text/html": "Total execution time: 00:00:00.032"
                    },
                    "metadata": {}
                },
                {
                    "output_type": "execute_result",
                    "metadata": {},
                    "execution_count": 6,
                    "data": {
                        "application/vnd.dataresource+json": {
                            "schema": {
                                "fields": [
                                    {
                                        "name": "nev"
                                    }
                                ]
                            },
                            "data": [
                                {
                                    "nev": "Józsa Gábor"
                                },
                                {
                                    "nev": "Rácz András"
                                },
                                {
                                    "nev": "Kiss István"
                                },
                                {
                                    "nev": "Mészáros Kriszta"
                                },
                                {
                                    "nev": "Kovacs Istvan"
                                }
                            ]
                        },
                        "text/html": [
                            "<table>",
                            "<tr><th>nev</th></tr>",
                            "<tr><td>Józsa Gábor</td></tr>",
                            "<tr><td>Rácz András</td></tr>",
                            "<tr><td>Kiss István</td></tr>",
                            "<tr><td>Mészáros Kriszta</td></tr>",
                            "<tr><td>Kovacs Istvan</td></tr>",
                            "</table>"
                        ]
                    }
                }
            ],
            "execution_count": 6
        },
        {
            "cell_type": "markdown",
            "source": [
                "11. <span style=\"font-weight: 600; color: rgb(36, 41, 47); font-family: -apple-system, BlinkMacSystemFont, &quot;Segoe UI&quot;, Helvetica, Arial, sans-serif, &quot;Apple Color Emoji&quot;, &quot;Segoe UI Emoji&quot;; font-size: 16px;\">Készítsünk lekérdezést, amely részletesen megjeleníti az egyes órák fontosabb adatait, azaz</span>\n",
                "\n",
                "1. Az órák azonosítóit, a tanár nevét, a tantárgy nevét, a terem nevét és a kezdési időpontot!\n",
                "2. Az oszlopokat nevezzük el értelemszerűen!"
            ],
            "metadata": {
                "azdata_cell_guid": "d2340f5f-1614-473c-b937-85740d67f7c1"
            },
            "attachments": {}
        },
        {
            "cell_type": "code",
            "source": [
                "SELECT ora_id As 'Azonosító', \r\n",
                "    okt.nev As 'Tanár neve',\r\n",
                "    Tantárgynév AS 'Tantárgy', \r\n",
                "    tm.Terem As 'Terem',\r\n",
                "    s.Időpont As 'Kezdési időpont'\r\n",
                "FROM Orak o JOIN Oktatok okt ON o.tanar = okt.oktato_id\r\n",
                "    JOIN Tantárgyak t ON o.targy = t.Tkód\r\n",
                "    JOIN Termek tm On o.terem = tm.Tkód\r\n",
                "    JOIN Savok s ON o.sav = s.Sav_id\r\n",
                "\r\n",
                ""
            ],
            "metadata": {
                "azdata_cell_guid": "e99c2c53-898f-4787-b0e6-182d106dc16f",
                "language": "sql"
            },
            "outputs": [
                {
                    "output_type": "display_data",
                    "data": {
                        "text/html": "(67 rows affected)"
                    },
                    "metadata": {}
                },
                {
                    "output_type": "display_data",
                    "data": {
                        "text/html": "Total execution time: 00:00:00.184"
                    },
                    "metadata": {}
                },
                {
                    "output_type": "execute_result",
                    "metadata": {},
                    "execution_count": 10,
                    "data": {
                        "application/vnd.dataresource+json": {
                            "schema": {
                                "fields": [
                                    {
                                        "name": "Azonosító"
                                    },
                                    {
                                        "name": "Tanár neve"
                                    },
                                    {
                                        "name": "Tantárgy"
                                    },
                                    {
                                        "name": "Terem"
                                    },
                                    {
                                        "name": "Kezdési időpont"
                                    }
                                ]
                            },
                            "data": [
                                {
                                    "Azonosító": "159",
                                    "Tanár neve": "Ujfalussi István",
                                    "Tantárgy": "Az ürgeöntés alapjai",
                                    "Terem": "117",
                                    "Kezdési időpont": "8.00"
                                },
                                {
                                    "Azonosító": "160",
                                    "Tanár neve": "Pelikán József",
                                    "Tantárgy": "Az ürgeöntés alapjai",
                                    "Terem": "118",
                                    "Kezdési időpont": "14.00"
                                },
                                {
                                    "Azonosító": "161",
                                    "Tanár neve": "Pelikán József",
                                    "Tantárgy": "Az ürgeöntés alapjai",
                                    "Terem": "118",
                                    "Kezdési időpont": "9.30"
                                },
                                {
                                    "Azonosító": "162",
                                    "Tanár neve": "Kovács András",
                                    "Tantárgy": "Az ürgeöntés alapjai",
                                    "Terem": "119",
                                    "Kezdési időpont": "12.30"
                                },
                                {
                                    "Azonosító": "163",
                                    "Tanár neve": "Szerb László",
                                    "Tantárgy": "Az ürgeöntés alapjai",
                                    "Terem": "120",
                                    "Kezdési időpont": "9.30"
                                },
                                {
                                    "Azonosító": "164",
                                    "Tanár neve": "Kiss János",
                                    "Tantárgy": "Az ürgeöntés alapjai",
                                    "Terem": "119",
                                    "Kezdési időpont": "11.00"
                                },
                                {
                                    "Azonosító": "165",
                                    "Tanár neve": "Szerb László",
                                    "Tantárgy": "Az ürgeöntés alapjai",
                                    "Terem": "119",
                                    "Kezdési időpont": "11.00"
                                },
                                {
                                    "Azonosító": "166",
                                    "Tanár neve": "Szerb László",
                                    "Tantárgy": "Az ürgeöntés alapjai",
                                    "Terem": "119",
                                    "Kezdési időpont": "12.30"
                                },
                                {
                                    "Azonosító": "167",
                                    "Tanár neve": "Szentágotai Istvás",
                                    "Tantárgy": "Az ürgeöntés alapjai",
                                    "Terem": "120",
                                    "Kezdési időpont": "12.30"
                                },
                                {
                                    "Azonosító": "168",
                                    "Tanár neve": "Ujfalussi István",
                                    "Tantárgy": "Az ürgeöntés alapjai",
                                    "Terem": "217",
                                    "Kezdési időpont": "11.00"
                                },
                                {
                                    "Azonosító": "169",
                                    "Tanár neve": "Kovács András",
                                    "Tantárgy": "Az ürgeöntés alapjai",
                                    "Terem": "218",
                                    "Kezdési időpont": "9.30"
                                },
                                {
                                    "Azonosító": "170",
                                    "Tanár neve": "Ludas Mátyás",
                                    "Tantárgy": "Az ürgeöntés alapjai",
                                    "Terem": "120",
                                    "Kezdési időpont": "9.30"
                                },
                                {
                                    "Azonosító": "171",
                                    "Tanár neve": "Szénási ászló",
                                    "Tantárgy": "Az ürgeöntés alapjai",
                                    "Terem": "220",
                                    "Kezdési időpont": "9.30"
                                },
                                {
                                    "Azonosító": "172",
                                    "Tanár neve": "Kiss János",
                                    "Tantárgy": "Az ürgeöntés alapjai",
                                    "Terem": "119",
                                    "Kezdési időpont": "9.30"
                                },
                                {
                                    "Azonosító": "173",
                                    "Tanár neve": "Kovács András",
                                    "Tantárgy": "Az ürgeöntés alapjai",
                                    "Terem": "119",
                                    "Kezdési időpont": "11.00"
                                },
                                {
                                    "Azonosító": "174",
                                    "Tanár neve": "Ludas Mátyás",
                                    "Tantárgy": "Az ürgeöntés alapjai",
                                    "Terem": "219",
                                    "Kezdési időpont": "11.00"
                                },
                                {
                                    "Azonosító": "175",
                                    "Tanár neve": "Szénási ászló",
                                    "Tantárgy": "Az ürgeöntés alapjai",
                                    "Terem": "120",
                                    "Kezdési időpont": "12.30"
                                },
                                {
                                    "Azonosító": "176",
                                    "Tanár neve": "Kovács András",
                                    "Tantárgy": "Az ürgeöntés alapjai",
                                    "Terem": "118",
                                    "Kezdési időpont": "12.30"
                                },
                                {
                                    "Azonosító": "177",
                                    "Tanár neve": "Szentágotai Istvás",
                                    "Tantárgy": "Az ürgeöntés alapjai",
                                    "Terem": "119",
                                    "Kezdési időpont": "14.00"
                                },
                                {
                                    "Azonosító": "178",
                                    "Tanár neve": "Vitéz János",
                                    "Tantárgy": "Az ürgeöntés alapjai",
                                    "Terem": "220",
                                    "Kezdési időpont": "14.00"
                                },
                                {
                                    "Azonosító": "179",
                                    "Tanár neve": "Szentágotai Istvás",
                                    "Tantárgy": "Az ürgeöntés alapjai",
                                    "Terem": "120",
                                    "Kezdési időpont": "15.30"
                                },
                                {
                                    "Azonosító": "180",
                                    "Tanár neve": "Vitéz János",
                                    "Tantárgy": "Az ürgeöntés alapjai",
                                    "Terem": "119",
                                    "Kezdési időpont": "15.30"
                                },
                                {
                                    "Azonosító": "181",
                                    "Tanár neve": "Szentágotai Istvás",
                                    "Tantárgy": "Az ürgeöntés alapjai",
                                    "Terem": "118",
                                    "Kezdési időpont": "8.00"
                                },
                                {
                                    "Azonosító": "182",
                                    "Tanár neve": "Vitéz János",
                                    "Tantárgy": "Az ürgeöntés alapjai",
                                    "Terem": "219",
                                    "Kezdési időpont": "8.00"
                                },
                                {
                                    "Azonosító": "183",
                                    "Tanár neve": "Szentágotai Istvás",
                                    "Tantárgy": "Az ürgeöntés alapjai",
                                    "Terem": "220",
                                    "Kezdési időpont": "9.30"
                                },
                                {
                                    "Azonosító": "184",
                                    "Tanár neve": "Vitéz János",
                                    "Tantárgy": "Az ürgeöntés alapjai",
                                    "Terem": "218",
                                    "Kezdési időpont": "9.30"
                                },
                                {
                                    "Azonosító": "185",
                                    "Tanár neve": "Szentágotai Istvás",
                                    "Tantárgy": "Az ürgeöntés alapjai",
                                    "Terem": "120",
                                    "Kezdési időpont": "11.00"
                                },
                                {
                                    "Azonosító": "186",
                                    "Tanár neve": "Nógrádi Kata",
                                    "Tantárgy": "ü-business",
                                    "Terem": "219",
                                    "Kezdési időpont": "12.30"
                                },
                                {
                                    "Azonosító": "187",
                                    "Tanár neve": "Balkán András",
                                    "Tantárgy": "Bevezetés az ürgeöntésbe",
                                    "Terem": "217",
                                    "Kezdési időpont": "9.30"
                                },
                                {
                                    "Azonosító": "188",
                                    "Tanár neve": "Farkasos Piroska",
                                    "Tantárgy": "Bevezetés az ürgeöntésbe",
                                    "Terem": "VP 203.",
                                    "Kezdési időpont": "15.30"
                                },
                                {
                                    "Azonosító": "189",
                                    "Tanár neve": "Farkasos Piroska",
                                    "Tantárgy": "Bevezetés az ürgeöntésbe",
                                    "Terem": "VP 203.",
                                    "Kezdési időpont": "9.30"
                                },
                                {
                                    "Azonosító": "190",
                                    "Tanár neve": "Farkasos Piroska",
                                    "Tantárgy": "Bevezetés az ürgeöntésbe",
                                    "Terem": "E.2.238",
                                    "Kezdési időpont": "11.00"
                                },
                                {
                                    "Azonosító": "191",
                                    "Tanár neve": "Varga Kata",
                                    "Tantárgy": "Az ürgeöntés hydrológiai alapjai II.",
                                    "Terem": "220",
                                    "Kezdési időpont": "14.00"
                                },
                                {
                                    "Azonosító": "192",
                                    "Tanár neve": "Varga Kata",
                                    "Tantárgy": "Az ürgeöntés hydrológiai alapjai II.",
                                    "Terem": "119",
                                    "Kezdési időpont": "15.30"
                                },
                                {
                                    "Azonosító": "193",
                                    "Tanár neve": "Farkasos Piroska",
                                    "Tantárgy": "Az ürgeöntés hydrológiai alapjai II.",
                                    "Terem": "217",
                                    "Kezdési időpont": "14.00"
                                },
                                {
                                    "Azonosító": "194",
                                    "Tanár neve": "Farkasos Piroska",
                                    "Tantárgy": "Az ürgeöntés hydrológiai alapjai II.",
                                    "Terem": "E.fsz.I",
                                    "Kezdési időpont": "15.30"
                                },
                                {
                                    "Azonosító": "195",
                                    "Tanár neve": "Balkán András",
                                    "Tantárgy": "Az ürgeöntés hydrológiai alapjai II.",
                                    "Terem": "116",
                                    "Kezdési időpont": "14.00"
                                },
                                {
                                    "Azonosító": "196",
                                    "Tanár neve": "Balkán András",
                                    "Tantárgy": "Az ürgeöntés hydrológiai alapjai II.",
                                    "Terem": "218",
                                    "Kezdési időpont": "15.30"
                                },
                                {
                                    "Azonosító": "197",
                                    "Tanár neve": "Farkasos Piroska",
                                    "Tantárgy": "Az ürgeöntés hydrológiai alapjai II.",
                                    "Terem": "116",
                                    "Kezdési időpont": "8.00"
                                },
                                {
                                    "Azonosító": "198",
                                    "Tanár neve": "Farkasos Piroska",
                                    "Tantárgy": "Az ürgeöntés hydrológiai alapjai II.",
                                    "Terem": "119",
                                    "Kezdési időpont": "9.30"
                                },
                                {
                                    "Azonosító": "199",
                                    "Tanár neve": "Szabó Andrera",
                                    "Tantárgy": "Az ürgeöntés hydrológiai alapjai II.",
                                    "Terem": "218",
                                    "Kezdési időpont": "8.00"
                                },
                                {
                                    "Azonosító": "200",
                                    "Tanár neve": "Szabó Andrera",
                                    "Tantárgy": "Az ürgeöntés hydrológiai alapjai II.",
                                    "Terem": "220",
                                    "Kezdési időpont": "9.30"
                                },
                                {
                                    "Azonosító": "201",
                                    "Tanár neve": "Juhász András",
                                    "Tantárgy": "Öntési gyakorlat",
                                    "Terem": "E.2.238",
                                    "Kezdési időpont": "12.30"
                                },
                                {
                                    "Azonosító": "202",
                                    "Tanár neve": "Juhász András",
                                    "Tantárgy": "Öntési gyakorlat",
                                    "Terem": "E.3.332",
                                    "Kezdési időpont": "14.00"
                                },
                                {
                                    "Azonosító": "203",
                                    "Tanár neve": "Aranyi Mária",
                                    "Tantárgy": "Az ürgeöntés hydrológiai alapjai I.",
                                    "Terem": "S.Asor.S3",
                                    "Kezdési időpont": "12.30"
                                },
                                {
                                    "Azonosító": "204",
                                    "Tanár neve": "Róbert Gida",
                                    "Tantárgy": "Az ürgeöntés hydrológiai alapjai I.",
                                    "Terem": "120",
                                    "Kezdési időpont": "14.00"
                                },
                                {
                                    "Azonosító": "205",
                                    "Tanár neve": "Ujfalussi István",
                                    "Tantárgy": "Az öntés elmélete",
                                    "Terem": "220",
                                    "Kezdési időpont": "12.30"
                                },
                                {
                                    "Azonosító": "206",
                                    "Tanár neve": "Varga Kata",
                                    "Tantárgy": "Az öntés elmélete",
                                    "Terem": "S.Asor.S3",
                                    "Kezdési időpont": "8.00"
                                },
                                {
                                    "Azonosító": "207",
                                    "Tanár neve": "Varga Kata",
                                    "Tantárgy": "Az öntés elmélete",
                                    "Terem": "219",
                                    "Kezdési időpont": "12.30"
                                },
                                {
                                    "Azonosító": "208",
                                    "Tanár neve": "Jogrerős Pál",
                                    "Tantárgy": "Ürgevitel",
                                    "Terem": "VP 203.",
                                    "Kezdési időpont": "8.00"
                                },
                                {
                                    "Azonosító": "209",
                                    "Tanár neve": "Jogrerős Pál",
                                    "Tantárgy": "Ürgevitel",
                                    "Terem": "VP 203.",
                                    "Kezdési időpont": "9.30"
                                },
                                {
                                    "Azonosító": "210",
                                    "Tanár neve": "Szép llonka",
                                    "Tantárgy": "Ürgeöntés az EU-ban",
                                    "Terem": "E.2.238",
                                    "Kezdési időpont": "15.30"
                                },
                                {
                                    "Azonosító": "211",
                                    "Tanár neve": "Szép llonka",
                                    "Tantárgy": "Ürgeöntés az EU-ban",
                                    "Terem": "217",
                                    "Kezdési időpont": "17.00"
                                },
                                {
                                    "Azonosító": "212",
                                    "Tanár neve": "Kiss János",
                                    "Tantárgy": "Ürgeöntés az EU-ban",
                                    "Terem": "120",
                                    "Kezdési időpont": "18.30"
                                },
                                {
                                    "Azonosító": "213",
                                    "Tanár neve": "Kiss János",
                                    "Tantárgy": "Ürgeöntés az EU-ban",
                                    "Terem": "218",
                                    "Kezdési időpont": "20.00"
                                },
                                {
                                    "Azonosító": "214",
                                    "Tanár neve": "Pelikán József",
                                    "Tantárgy": "Az ürge anatómiája",
                                    "Terem": "219",
                                    "Kezdési időpont": "11.00"
                                },
                                {
                                    "Azonosító": "215",
                                    "Tanár neve": "Pelikán József",
                                    "Tantárgy": "Az ürge anatómiája",
                                    "Terem": "E.fsz.IV.",
                                    "Kezdési időpont": "12.30"
                                },
                                {
                                    "Azonosító": "216",
                                    "Tanár neve": "Szép llonka",
                                    "Tantárgy": "Az ürge anatómiája",
                                    "Terem": "218",
                                    "Kezdési időpont": "11.00"
                                },
                                {
                                    "Azonosító": "217",
                                    "Tanár neve": "Szép llonka",
                                    "Tantárgy": "Az ürge anatómiája",
                                    "Terem": "217",
                                    "Kezdési időpont": "12.30"
                                },
                                {
                                    "Azonosító": "218",
                                    "Tanár neve": "Pelikán József",
                                    "Tantárgy": "Az ürge anatómiája",
                                    "Terem": "118",
                                    "Kezdési időpont": "15.30"
                                },
                                {
                                    "Azonosító": "219",
                                    "Tanár neve": "Pelikán József",
                                    "Tantárgy": "Az ürge anatómiája",
                                    "Terem": "219",
                                    "Kezdési időpont": "17.00"
                                },
                                {
                                    "Azonosító": "220",
                                    "Tanár neve": "Kovács László",
                                    "Tantárgy": "Fejezetek az ürgék jogaiból",
                                    "Terem": "119",
                                    "Kezdési időpont": "11.00"
                                },
                                {
                                    "Azonosító": "221",
                                    "Tanár neve": "Kovács László",
                                    "Tantárgy": "Fejezetek az ürgék jogaiból",
                                    "Terem": "VP 203.",
                                    "Kezdési időpont": "11.00"
                                },
                                {
                                    "Azonosító": "222",
                                    "Tanár neve": "Kovács László",
                                    "Tantárgy": "Fejezetek az ürgék jogaiból",
                                    "Terem": "116",
                                    "Kezdési időpont": "14.00"
                                },
                                {
                                    "Azonosító": "223",
                                    "Tanár neve": "Kovács László",
                                    "Tantárgy": "Fejezetek az ürgék jogaiból",
                                    "Terem": "S.Asor.S3",
                                    "Kezdési időpont": "8.00"
                                },
                                {
                                    "Azonosító": "226",
                                    "Tanár neve": "Szentágotai Istvás",
                                    "Tantárgy": "ürgefőzés",
                                    "Terem": "117",
                                    "Kezdési időpont": "11.00"
                                },
                                {
                                    "Azonosító": "227",
                                    "Tanár neve": "Szentágotai Istvás",
                                    "Tantárgy": "Az ürgeöntés hydrológiai alapjai I.",
                                    "Terem": "116",
                                    "Kezdési időpont": "14.00"
                                }
                            ]
                        },
                        "text/html": [
                            "<table>",
                            "<tr><th>Azonosító</th><th>Tanár neve</th><th>Tantárgy</th><th>Terem</th><th>Kezdési időpont</th></tr>",
                            "<tr><td>159</td><td>Ujfalussi István</td><td>Az ürgeöntés alapjai</td><td>117</td><td>8.00</td></tr>",
                            "<tr><td>160</td><td>Pelikán József</td><td>Az ürgeöntés alapjai</td><td>118</td><td>14.00</td></tr>",
                            "<tr><td>161</td><td>Pelikán József</td><td>Az ürgeöntés alapjai</td><td>118</td><td>9.30</td></tr>",
                            "<tr><td>162</td><td>Kovács András</td><td>Az ürgeöntés alapjai</td><td>119</td><td>12.30</td></tr>",
                            "<tr><td>163</td><td>Szerb László</td><td>Az ürgeöntés alapjai</td><td>120</td><td>9.30</td></tr>",
                            "<tr><td>164</td><td>Kiss János</td><td>Az ürgeöntés alapjai</td><td>119</td><td>11.00</td></tr>",
                            "<tr><td>165</td><td>Szerb László</td><td>Az ürgeöntés alapjai</td><td>119</td><td>11.00</td></tr>",
                            "<tr><td>166</td><td>Szerb László</td><td>Az ürgeöntés alapjai</td><td>119</td><td>12.30</td></tr>",
                            "<tr><td>167</td><td>Szentágotai Istvás</td><td>Az ürgeöntés alapjai</td><td>120</td><td>12.30</td></tr>",
                            "<tr><td>168</td><td>Ujfalussi István</td><td>Az ürgeöntés alapjai</td><td>217</td><td>11.00</td></tr>",
                            "<tr><td>169</td><td>Kovács András</td><td>Az ürgeöntés alapjai</td><td>218</td><td>9.30</td></tr>",
                            "<tr><td>170</td><td>Ludas Mátyás</td><td>Az ürgeöntés alapjai</td><td>120</td><td>9.30</td></tr>",
                            "<tr><td>171</td><td>Szénási ászló</td><td>Az ürgeöntés alapjai</td><td>220</td><td>9.30</td></tr>",
                            "<tr><td>172</td><td>Kiss János</td><td>Az ürgeöntés alapjai</td><td>119</td><td>9.30</td></tr>",
                            "<tr><td>173</td><td>Kovács András</td><td>Az ürgeöntés alapjai</td><td>119</td><td>11.00</td></tr>",
                            "<tr><td>174</td><td>Ludas Mátyás</td><td>Az ürgeöntés alapjai</td><td>219</td><td>11.00</td></tr>",
                            "<tr><td>175</td><td>Szénási ászló</td><td>Az ürgeöntés alapjai</td><td>120</td><td>12.30</td></tr>",
                            "<tr><td>176</td><td>Kovács András</td><td>Az ürgeöntés alapjai</td><td>118</td><td>12.30</td></tr>",
                            "<tr><td>177</td><td>Szentágotai Istvás</td><td>Az ürgeöntés alapjai</td><td>119</td><td>14.00</td></tr>",
                            "<tr><td>178</td><td>Vitéz János</td><td>Az ürgeöntés alapjai</td><td>220</td><td>14.00</td></tr>",
                            "<tr><td>179</td><td>Szentágotai Istvás</td><td>Az ürgeöntés alapjai</td><td>120</td><td>15.30</td></tr>",
                            "<tr><td>180</td><td>Vitéz János</td><td>Az ürgeöntés alapjai</td><td>119</td><td>15.30</td></tr>",
                            "<tr><td>181</td><td>Szentágotai Istvás</td><td>Az ürgeöntés alapjai</td><td>118</td><td>8.00</td></tr>",
                            "<tr><td>182</td><td>Vitéz János</td><td>Az ürgeöntés alapjai</td><td>219</td><td>8.00</td></tr>",
                            "<tr><td>183</td><td>Szentágotai Istvás</td><td>Az ürgeöntés alapjai</td><td>220</td><td>9.30</td></tr>",
                            "<tr><td>184</td><td>Vitéz János</td><td>Az ürgeöntés alapjai</td><td>218</td><td>9.30</td></tr>",
                            "<tr><td>185</td><td>Szentágotai Istvás</td><td>Az ürgeöntés alapjai</td><td>120</td><td>11.00</td></tr>",
                            "<tr><td>186</td><td>Nógrádi Kata</td><td>ü-business</td><td>219</td><td>12.30</td></tr>",
                            "<tr><td>187</td><td>Balkán András</td><td>Bevezetés az ürgeöntésbe</td><td>217</td><td>9.30</td></tr>",
                            "<tr><td>188</td><td>Farkasos Piroska</td><td>Bevezetés az ürgeöntésbe</td><td>VP 203.</td><td>15.30</td></tr>",
                            "<tr><td>189</td><td>Farkasos Piroska</td><td>Bevezetés az ürgeöntésbe</td><td>VP 203.</td><td>9.30</td></tr>",
                            "<tr><td>190</td><td>Farkasos Piroska</td><td>Bevezetés az ürgeöntésbe</td><td>E.2.238</td><td>11.00</td></tr>",
                            "<tr><td>191</td><td>Varga Kata</td><td>Az ürgeöntés hydrológiai alapjai II.</td><td>220</td><td>14.00</td></tr>",
                            "<tr><td>192</td><td>Varga Kata</td><td>Az ürgeöntés hydrológiai alapjai II.</td><td>119</td><td>15.30</td></tr>",
                            "<tr><td>193</td><td>Farkasos Piroska</td><td>Az ürgeöntés hydrológiai alapjai II.</td><td>217</td><td>14.00</td></tr>",
                            "<tr><td>194</td><td>Farkasos Piroska</td><td>Az ürgeöntés hydrológiai alapjai II.</td><td>E.fsz.I</td><td>15.30</td></tr>",
                            "<tr><td>195</td><td>Balkán András</td><td>Az ürgeöntés hydrológiai alapjai II.</td><td>116</td><td>14.00</td></tr>",
                            "<tr><td>196</td><td>Balkán András</td><td>Az ürgeöntés hydrológiai alapjai II.</td><td>218</td><td>15.30</td></tr>",
                            "<tr><td>197</td><td>Farkasos Piroska</td><td>Az ürgeöntés hydrológiai alapjai II.</td><td>116</td><td>8.00</td></tr>",
                            "<tr><td>198</td><td>Farkasos Piroska</td><td>Az ürgeöntés hydrológiai alapjai II.</td><td>119</td><td>9.30</td></tr>",
                            "<tr><td>199</td><td>Szabó Andrera</td><td>Az ürgeöntés hydrológiai alapjai II.</td><td>218</td><td>8.00</td></tr>",
                            "<tr><td>200</td><td>Szabó Andrera</td><td>Az ürgeöntés hydrológiai alapjai II.</td><td>220</td><td>9.30</td></tr>",
                            "<tr><td>201</td><td>Juhász András</td><td>Öntési gyakorlat</td><td>E.2.238</td><td>12.30</td></tr>",
                            "<tr><td>202</td><td>Juhász András</td><td>Öntési gyakorlat</td><td>E.3.332</td><td>14.00</td></tr>",
                            "<tr><td>203</td><td>Aranyi Mária</td><td>Az ürgeöntés hydrológiai alapjai I.</td><td>S.Asor.S3</td><td>12.30</td></tr>",
                            "<tr><td>204</td><td>Róbert Gida</td><td>Az ürgeöntés hydrológiai alapjai I.</td><td>120</td><td>14.00</td></tr>",
                            "<tr><td>205</td><td>Ujfalussi István</td><td>Az öntés elmélete</td><td>220</td><td>12.30</td></tr>",
                            "<tr><td>206</td><td>Varga Kata</td><td>Az öntés elmélete</td><td>S.Asor.S3</td><td>8.00</td></tr>",
                            "<tr><td>207</td><td>Varga Kata</td><td>Az öntés elmélete</td><td>219</td><td>12.30</td></tr>",
                            "<tr><td>208</td><td>Jogrerős Pál</td><td>Ürgevitel</td><td>VP 203.</td><td>8.00</td></tr>",
                            "<tr><td>209</td><td>Jogrerős Pál</td><td>Ürgevitel</td><td>VP 203.</td><td>9.30</td></tr>",
                            "<tr><td>210</td><td>Szép llonka</td><td>Ürgeöntés az EU-ban</td><td>E.2.238</td><td>15.30</td></tr>",
                            "<tr><td>211</td><td>Szép llonka</td><td>Ürgeöntés az EU-ban</td><td>217</td><td>17.00</td></tr>",
                            "<tr><td>212</td><td>Kiss János</td><td>Ürgeöntés az EU-ban</td><td>120</td><td>18.30</td></tr>",
                            "<tr><td>213</td><td>Kiss János</td><td>Ürgeöntés az EU-ban</td><td>218</td><td>20.00</td></tr>",
                            "<tr><td>214</td><td>Pelikán József</td><td>Az ürge anatómiája</td><td>219</td><td>11.00</td></tr>",
                            "<tr><td>215</td><td>Pelikán József</td><td>Az ürge anatómiája</td><td>E.fsz.IV.</td><td>12.30</td></tr>",
                            "<tr><td>216</td><td>Szép llonka</td><td>Az ürge anatómiája</td><td>218</td><td>11.00</td></tr>",
                            "<tr><td>217</td><td>Szép llonka</td><td>Az ürge anatómiája</td><td>217</td><td>12.30</td></tr>",
                            "<tr><td>218</td><td>Pelikán József</td><td>Az ürge anatómiája</td><td>118</td><td>15.30</td></tr>",
                            "<tr><td>219</td><td>Pelikán József</td><td>Az ürge anatómiája</td><td>219</td><td>17.00</td></tr>",
                            "<tr><td>220</td><td>Kovács László</td><td>Fejezetek az ürgék jogaiból</td><td>119</td><td>11.00</td></tr>",
                            "<tr><td>221</td><td>Kovács László</td><td>Fejezetek az ürgék jogaiból</td><td>VP 203.</td><td>11.00</td></tr>",
                            "<tr><td>222</td><td>Kovács László</td><td>Fejezetek az ürgék jogaiból</td><td>116</td><td>14.00</td></tr>",
                            "<tr><td>223</td><td>Kovács László</td><td>Fejezetek az ürgék jogaiból</td><td>S.Asor.S3</td><td>8.00</td></tr>",
                            "<tr><td>226</td><td>Szentágotai Istvás</td><td>ürgefőzés</td><td>117</td><td>11.00</td></tr>",
                            "<tr><td>227</td><td>Szentágotai Istvás</td><td>Az ürgeöntés hydrológiai alapjai I.</td><td>116</td><td>14.00</td></tr>",
                            "</table>"
                        ]
                    }
                }
            ],
            "execution_count": 10
        },
        {
            "cell_type": "markdown",
            "source": [
                "12. <span style=\"color: rgb(36, 41, 47); font-family: -apple-system, BlinkMacSystemFont, &quot;Segoe UI&quot;, Helvetica, Arial, sans-serif, &quot;Apple Color Emoji&quot;, &quot;Segoe UI Emoji&quot;; font-size: 16px;\">Készítsünk listát, amely tartalmazza az egyes órák azonosítóit, és az órán oktatott tantárgy felelősének nevét!</span>\n",
                "\n",
                "1. Rendezzük a listát a tantárgyfelelős neve szerint csökkenő sorrendbe!"
            ],
            "metadata": {
                "azdata_cell_guid": "a765e9d6-58b3-4171-872a-78f3118fd6e3"
            },
            "attachments": {}
        },
        {
            "cell_type": "code",
            "source": [
                "SELECT o.ora_id AS 'Azonosító',\r\n",
                "    okt.nev As 'Tárgyfelelős'\r\n",
                "FROM Orak o JOIN Tantárgyak t ON o.targy = t.Tkód\r\n",
                "    JOIN Oktatok okt on o.tanar = okt.oktato_id\r\n",
                "ORDER BY okt.nev DESC"
            ],
            "metadata": {
                "azdata_cell_guid": "422e8127-b652-4d3a-bfd7-9b1637b5781e",
                "language": "sql"
            },
            "outputs": [
                {
                    "output_type": "display_data",
                    "data": {
                        "text/html": "(67 rows affected)"
                    },
                    "metadata": {}
                },
                {
                    "output_type": "display_data",
                    "data": {
                        "text/html": "Total execution time: 00:00:00.059"
                    },
                    "metadata": {}
                },
                {
                    "output_type": "execute_result",
                    "metadata": {},
                    "execution_count": 12,
                    "data": {
                        "application/vnd.dataresource+json": {
                            "schema": {
                                "fields": [
                                    {
                                        "name": "Azonosító"
                                    },
                                    {
                                        "name": "Tárgyfelelős"
                                    }
                                ]
                            },
                            "data": [
                                {
                                    "Azonosító": "178",
                                    "Tárgyfelelős": "Vitéz János"
                                },
                                {
                                    "Azonosító": "180",
                                    "Tárgyfelelős": "Vitéz János"
                                },
                                {
                                    "Azonosító": "182",
                                    "Tárgyfelelős": "Vitéz János"
                                },
                                {
                                    "Azonosító": "184",
                                    "Tárgyfelelős": "Vitéz János"
                                },
                                {
                                    "Azonosító": "191",
                                    "Tárgyfelelős": "Varga Kata"
                                },
                                {
                                    "Azonosító": "192",
                                    "Tárgyfelelős": "Varga Kata"
                                },
                                {
                                    "Azonosító": "206",
                                    "Tárgyfelelős": "Varga Kata"
                                },
                                {
                                    "Azonosító": "207",
                                    "Tárgyfelelős": "Varga Kata"
                                },
                                {
                                    "Azonosító": "205",
                                    "Tárgyfelelős": "Ujfalussi István"
                                },
                                {
                                    "Azonosító": "159",
                                    "Tárgyfelelős": "Ujfalussi István"
                                },
                                {
                                    "Azonosító": "168",
                                    "Tárgyfelelős": "Ujfalussi István"
                                },
                                {
                                    "Azonosító": "163",
                                    "Tárgyfelelős": "Szerb László"
                                },
                                {
                                    "Azonosító": "165",
                                    "Tárgyfelelős": "Szerb László"
                                },
                                {
                                    "Azonosító": "166",
                                    "Tárgyfelelős": "Szerb László"
                                },
                                {
                                    "Azonosító": "216",
                                    "Tárgyfelelős": "Szép llonka"
                                },
                                {
                                    "Azonosító": "217",
                                    "Tárgyfelelős": "Szép llonka"
                                },
                                {
                                    "Azonosító": "210",
                                    "Tárgyfelelős": "Szép llonka"
                                },
                                {
                                    "Azonosító": "211",
                                    "Tárgyfelelős": "Szép llonka"
                                },
                                {
                                    "Azonosító": "226",
                                    "Tárgyfelelős": "Szentágotai Istvás"
                                },
                                {
                                    "Azonosító": "227",
                                    "Tárgyfelelős": "Szentágotai Istvás"
                                },
                                {
                                    "Azonosító": "167",
                                    "Tárgyfelelős": "Szentágotai Istvás"
                                },
                                {
                                    "Azonosító": "185",
                                    "Tárgyfelelős": "Szentágotai Istvás"
                                },
                                {
                                    "Azonosító": "183",
                                    "Tárgyfelelős": "Szentágotai Istvás"
                                },
                                {
                                    "Azonosító": "181",
                                    "Tárgyfelelős": "Szentágotai Istvás"
                                },
                                {
                                    "Azonosító": "179",
                                    "Tárgyfelelős": "Szentágotai Istvás"
                                },
                                {
                                    "Azonosító": "177",
                                    "Tárgyfelelős": "Szentágotai Istvás"
                                },
                                {
                                    "Azonosító": "171",
                                    "Tárgyfelelős": "Szénási ászló"
                                },
                                {
                                    "Azonosító": "175",
                                    "Tárgyfelelős": "Szénási ászló"
                                },
                                {
                                    "Azonosító": "199",
                                    "Tárgyfelelős": "Szabó Andrera"
                                },
                                {
                                    "Azonosító": "200",
                                    "Tárgyfelelős": "Szabó Andrera"
                                },
                                {
                                    "Azonosító": "204",
                                    "Tárgyfelelős": "Róbert Gida"
                                },
                                {
                                    "Azonosító": "214",
                                    "Tárgyfelelős": "Pelikán József"
                                },
                                {
                                    "Azonosító": "215",
                                    "Tárgyfelelős": "Pelikán József"
                                },
                                {
                                    "Azonosító": "218",
                                    "Tárgyfelelős": "Pelikán József"
                                },
                                {
                                    "Azonosító": "219",
                                    "Tárgyfelelős": "Pelikán József"
                                },
                                {
                                    "Azonosító": "160",
                                    "Tárgyfelelős": "Pelikán József"
                                },
                                {
                                    "Azonosító": "161",
                                    "Tárgyfelelős": "Pelikán József"
                                },
                                {
                                    "Azonosító": "186",
                                    "Tárgyfelelős": "Nógrádi Kata"
                                },
                                {
                                    "Azonosító": "174",
                                    "Tárgyfelelős": "Ludas Mátyás"
                                },
                                {
                                    "Azonosító": "170",
                                    "Tárgyfelelős": "Ludas Mátyás"
                                },
                                {
                                    "Azonosító": "220",
                                    "Tárgyfelelős": "Kovács László"
                                },
                                {
                                    "Azonosító": "221",
                                    "Tárgyfelelős": "Kovács László"
                                },
                                {
                                    "Azonosító": "222",
                                    "Tárgyfelelős": "Kovács László"
                                },
                                {
                                    "Azonosító": "223",
                                    "Tárgyfelelős": "Kovács László"
                                },
                                {
                                    "Azonosító": "173",
                                    "Tárgyfelelős": "Kovács András"
                                },
                                {
                                    "Azonosító": "176",
                                    "Tárgyfelelős": "Kovács András"
                                },
                                {
                                    "Azonosító": "169",
                                    "Tárgyfelelős": "Kovács András"
                                },
                                {
                                    "Azonosító": "162",
                                    "Tárgyfelelős": "Kovács András"
                                },
                                {
                                    "Azonosító": "164",
                                    "Tárgyfelelős": "Kiss János"
                                },
                                {
                                    "Azonosító": "172",
                                    "Tárgyfelelős": "Kiss János"
                                },
                                {
                                    "Azonosító": "212",
                                    "Tárgyfelelős": "Kiss János"
                                },
                                {
                                    "Azonosító": "213",
                                    "Tárgyfelelős": "Kiss János"
                                },
                                {
                                    "Azonosító": "201",
                                    "Tárgyfelelős": "Juhász András"
                                },
                                {
                                    "Azonosító": "202",
                                    "Tárgyfelelős": "Juhász András"
                                },
                                {
                                    "Azonosító": "208",
                                    "Tárgyfelelős": "Jogrerős Pál"
                                },
                                {
                                    "Azonosító": "209",
                                    "Tárgyfelelős": "Jogrerős Pál"
                                },
                                {
                                    "Azonosító": "188",
                                    "Tárgyfelelős": "Farkasos Piroska"
                                },
                                {
                                    "Azonosító": "189",
                                    "Tárgyfelelős": "Farkasos Piroska"
                                },
                                {
                                    "Azonosító": "190",
                                    "Tárgyfelelős": "Farkasos Piroska"
                                },
                                {
                                    "Azonosító": "197",
                                    "Tárgyfelelős": "Farkasos Piroska"
                                },
                                {
                                    "Azonosító": "198",
                                    "Tárgyfelelős": "Farkasos Piroska"
                                },
                                {
                                    "Azonosító": "193",
                                    "Tárgyfelelős": "Farkasos Piroska"
                                },
                                {
                                    "Azonosító": "194",
                                    "Tárgyfelelős": "Farkasos Piroska"
                                },
                                {
                                    "Azonosító": "195",
                                    "Tárgyfelelős": "Balkán András"
                                },
                                {
                                    "Azonosító": "196",
                                    "Tárgyfelelős": "Balkán András"
                                },
                                {
                                    "Azonosító": "187",
                                    "Tárgyfelelős": "Balkán András"
                                },
                                {
                                    "Azonosító": "203",
                                    "Tárgyfelelős": "Aranyi Mária"
                                }
                            ]
                        },
                        "text/html": [
                            "<table>",
                            "<tr><th>Azonosító</th><th>Tárgyfelelős</th></tr>",
                            "<tr><td>178</td><td>Vitéz János</td></tr>",
                            "<tr><td>180</td><td>Vitéz János</td></tr>",
                            "<tr><td>182</td><td>Vitéz János</td></tr>",
                            "<tr><td>184</td><td>Vitéz János</td></tr>",
                            "<tr><td>191</td><td>Varga Kata</td></tr>",
                            "<tr><td>192</td><td>Varga Kata</td></tr>",
                            "<tr><td>206</td><td>Varga Kata</td></tr>",
                            "<tr><td>207</td><td>Varga Kata</td></tr>",
                            "<tr><td>205</td><td>Ujfalussi István</td></tr>",
                            "<tr><td>159</td><td>Ujfalussi István</td></tr>",
                            "<tr><td>168</td><td>Ujfalussi István</td></tr>",
                            "<tr><td>163</td><td>Szerb László</td></tr>",
                            "<tr><td>165</td><td>Szerb László</td></tr>",
                            "<tr><td>166</td><td>Szerb László</td></tr>",
                            "<tr><td>216</td><td>Szép llonka</td></tr>",
                            "<tr><td>217</td><td>Szép llonka</td></tr>",
                            "<tr><td>210</td><td>Szép llonka</td></tr>",
                            "<tr><td>211</td><td>Szép llonka</td></tr>",
                            "<tr><td>226</td><td>Szentágotai Istvás</td></tr>",
                            "<tr><td>227</td><td>Szentágotai Istvás</td></tr>",
                            "<tr><td>167</td><td>Szentágotai Istvás</td></tr>",
                            "<tr><td>185</td><td>Szentágotai Istvás</td></tr>",
                            "<tr><td>183</td><td>Szentágotai Istvás</td></tr>",
                            "<tr><td>181</td><td>Szentágotai Istvás</td></tr>",
                            "<tr><td>179</td><td>Szentágotai Istvás</td></tr>",
                            "<tr><td>177</td><td>Szentágotai Istvás</td></tr>",
                            "<tr><td>171</td><td>Szénási ászló</td></tr>",
                            "<tr><td>175</td><td>Szénási ászló</td></tr>",
                            "<tr><td>199</td><td>Szabó Andrera</td></tr>",
                            "<tr><td>200</td><td>Szabó Andrera</td></tr>",
                            "<tr><td>204</td><td>Róbert Gida</td></tr>",
                            "<tr><td>214</td><td>Pelikán József</td></tr>",
                            "<tr><td>215</td><td>Pelikán József</td></tr>",
                            "<tr><td>218</td><td>Pelikán József</td></tr>",
                            "<tr><td>219</td><td>Pelikán József</td></tr>",
                            "<tr><td>160</td><td>Pelikán József</td></tr>",
                            "<tr><td>161</td><td>Pelikán József</td></tr>",
                            "<tr><td>186</td><td>Nógrádi Kata</td></tr>",
                            "<tr><td>174</td><td>Ludas Mátyás</td></tr>",
                            "<tr><td>170</td><td>Ludas Mátyás</td></tr>",
                            "<tr><td>220</td><td>Kovács László</td></tr>",
                            "<tr><td>221</td><td>Kovács László</td></tr>",
                            "<tr><td>222</td><td>Kovács László</td></tr>",
                            "<tr><td>223</td><td>Kovács László</td></tr>",
                            "<tr><td>173</td><td>Kovács András</td></tr>",
                            "<tr><td>176</td><td>Kovács András</td></tr>",
                            "<tr><td>169</td><td>Kovács András</td></tr>",
                            "<tr><td>162</td><td>Kovács András</td></tr>",
                            "<tr><td>164</td><td>Kiss János</td></tr>",
                            "<tr><td>172</td><td>Kiss János</td></tr>",
                            "<tr><td>212</td><td>Kiss János</td></tr>",
                            "<tr><td>213</td><td>Kiss János</td></tr>",
                            "<tr><td>201</td><td>Juhász András</td></tr>",
                            "<tr><td>202</td><td>Juhász András</td></tr>",
                            "<tr><td>208</td><td>Jogrerős Pál</td></tr>",
                            "<tr><td>209</td><td>Jogrerős Pál</td></tr>",
                            "<tr><td>188</td><td>Farkasos Piroska</td></tr>",
                            "<tr><td>189</td><td>Farkasos Piroska</td></tr>",
                            "<tr><td>190</td><td>Farkasos Piroska</td></tr>",
                            "<tr><td>197</td><td>Farkasos Piroska</td></tr>",
                            "<tr><td>198</td><td>Farkasos Piroska</td></tr>",
                            "<tr><td>193</td><td>Farkasos Piroska</td></tr>",
                            "<tr><td>194</td><td>Farkasos Piroska</td></tr>",
                            "<tr><td>195</td><td>Balkán András</td></tr>",
                            "<tr><td>196</td><td>Balkán András</td></tr>",
                            "<tr><td>187</td><td>Balkán András</td></tr>",
                            "<tr><td>203</td><td>Aranyi Mária</td></tr>",
                            "</table>"
                        ]
                    }
                }
            ],
            "execution_count": 12
        },
        {
            "cell_type": "markdown",
            "source": [
                "13. <span style=\"color: rgb(36, 41, 47); font-family: -apple-system, BlinkMacSystemFont, &quot;Segoe UI&quot;, Helvetica, Arial, sans-serif, &quot;Apple Color Emoji&quot;, &quot;Segoe UI Emoji&quot;; font-size: 16px;\">Készítsünk listát, amely megjeleníti, hogy az Orak táblában lévő órák közül hányat tart Dr., illetve nem Dr. titulusú tanár!</span>\n",
                "\n",
                "1. Az oszlopokat nevezzük el értelemszerűen!"
            ],
            "metadata": {
                "azdata_cell_guid": "3f9237ae-f109-401c-acb9-31d75e73331b"
            },
            "attachments": {}
        },
        {
            "cell_type": "code",
            "source": [
                "SELECT COUNT(*) As 'Darab',\r\n",
                "    CASE\r\n",
                "        WHEN okt.titulus = 'Dr.' THEN 'Dr'\r\n",
                "        ElSE 'Nem Dr'\r\n",
                "    END AS 'DR?'\r\n",
                "FROM Orak o JOIN Oktatok okt ON o.tanar = okt.oktato_id\r\n",
                "GROUP BY CASE\r\n",
                "        WHEN okt.titulus = 'Dr.' THEN 'Dr'\r\n",
                "        ElSE 'Nem Dr'\r\n",
                "    END\r\n",
                ""
            ],
            "metadata": {
                "azdata_cell_guid": "4b31bb89-cfbc-46b1-8639-85c462877786",
                "language": "sql"
            },
            "outputs": [
                {
                    "output_type": "display_data",
                    "data": {
                        "text/html": "(2 rows affected)"
                    },
                    "metadata": {}
                },
                {
                    "output_type": "display_data",
                    "data": {
                        "text/html": "Total execution time: 00:00:00.036"
                    },
                    "metadata": {}
                },
                {
                    "output_type": "execute_result",
                    "metadata": {},
                    "execution_count": 17,
                    "data": {
                        "application/vnd.dataresource+json": {
                            "schema": {
                                "fields": [
                                    {
                                        "name": "Darab"
                                    },
                                    {
                                        "name": "DR?"
                                    }
                                ]
                            },
                            "data": [
                                {
                                    "Darab": "25",
                                    "DR?": "Dr"
                                },
                                {
                                    "Darab": "42",
                                    "DR?": "Nem Dr"
                                }
                            ]
                        },
                        "text/html": [
                            "<table>",
                            "<tr><th>Darab</th><th>DR?</th></tr>",
                            "<tr><td>25</td><td>Dr</td></tr>",
                            "<tr><td>42</td><td>Nem Dr</td></tr>",
                            "</table>"
                        ]
                    }
                }
            ],
            "execution_count": 17
        },
        {
            "cell_type": "markdown",
            "source": [
                "14. <span style=\"color: rgb(36, 41, 47); font-family: -apple-system, BlinkMacSystemFont, &quot;Segoe UI&quot;, Helvetica, Arial, sans-serif, &quot;Apple Color Emoji&quot;, &quot;Segoe UI Emoji&quot;; font-size: 16px;\">Készítsünk listát arról, hogy beosztásonként hány óra szerepel az Orak táblában!</span>\n",
                "\n",
                "1. Jelenítsük meg a beosztások nevét és az órák számát!\n",
                "2. A listát szűrjük azokra a beosztásokra, ahol ez az óraszám 10 feletti!"
            ],
            "metadata": {
                "azdata_cell_guid": "f634e09a-85ef-4e70-8ec6-ef355dfddaa7"
            },
            "attachments": {}
        },
        {
            "cell_type": "code",
            "source": [
                "SELECT beosztasnev AS 'Beosztás',\r\n",
                "    COUNT(*) AS 'Darab'\r\n",
                "FROM Orak o JOIN Oktatok okt ON o.tanar = okt.oktato_id\r\n",
                "    JOIN Beosztasok bt ON okt.beosztás = bt.beosztas_id\r\n",
                "GROUP BY beosztasnev\r\n",
                "HAVING COUNT(ora_id) >10\r\n",
                ""
            ],
            "metadata": {
                "azdata_cell_guid": "88abc55b-2c78-495b-a72f-3f8f4eb5fe70",
                "language": "sql"
            },
            "outputs": [
                {
                    "output_type": "display_data",
                    "data": {
                        "text/html": "(3 rows affected)"
                    },
                    "metadata": {}
                },
                {
                    "output_type": "display_data",
                    "data": {
                        "text/html": "Total execution time: 00:00:00.031"
                    },
                    "metadata": {}
                },
                {
                    "output_type": "execute_result",
                    "metadata": {},
                    "execution_count": 19,
                    "data": {
                        "application/vnd.dataresource+json": {
                            "schema": {
                                "fields": [
                                    {
                                        "name": "Beosztás"
                                    },
                                    {
                                        "name": "Darab"
                                    }
                                ]
                            },
                            "data": [
                                {
                                    "Beosztás": "Adjunktus",
                                    "Darab": "14"
                                },
                                {
                                    "Beosztás": "Egyetemi tanár",
                                    "Darab": "11"
                                },
                                {
                                    "Beosztás": "Tanársegéd",
                                    "Darab": "22"
                                }
                            ]
                        },
                        "text/html": [
                            "<table>",
                            "<tr><th>Beosztás</th><th>Darab</th></tr>",
                            "<tr><td>Adjunktus</td><td>14</td></tr>",
                            "<tr><td>Egyetemi tanár</td><td>11</td></tr>",
                            "<tr><td>Tanársegéd</td><td>22</td></tr>",
                            "</table>"
                        ]
                    }
                }
            ],
            "execution_count": 19
        },
        {
            "cell_type": "markdown",
            "source": [
                "15. <span style=\"color: rgb(36, 41, 47); font-family: -apple-system, BlinkMacSystemFont, &quot;Segoe UI&quot;, Helvetica, Arial, sans-serif, &quot;Apple Color Emoji&quot;, &quot;Segoe UI Emoji&quot;; font-size: 16px;\">Melyek azok az órák, amelyek kezdési időpontja olyan sávba esik, amely a mostani időpont (óra:perc) után van?</span>\n",
                "\n",
                "1. Listázzuk az órák azonosítóit, valamint az órakezdés napját és időpontját!\n",
                "2. A listát rendezzük az időpont szerint növekvő sorrendbe!"
            ],
            "metadata": {
                "azdata_cell_guid": "4cbf2f0d-a65d-480a-8186-ccdb24498443"
            },
            "attachments": {}
        },
        {
            "cell_type": "code",
            "source": [
                ""
            ],
            "metadata": {
                "azdata_cell_guid": "c148aee8-bc85-40bf-b80a-a4898a6c05cb",
                "language": "sql"
            },
            "outputs": [],
            "execution_count": null
        }
    ]
}