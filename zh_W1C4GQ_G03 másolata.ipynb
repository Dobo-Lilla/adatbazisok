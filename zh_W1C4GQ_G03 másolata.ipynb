{
    "metadata": {
        "kernelspec": {
            "name": "SQL",
            "display_name": "SQL",
            "language": "sql"
        },
        "language_info": {
            "name": "sql",
            "version": ""
        }
    },
    "nbformat_minor": 2,
    "nbformat": 4,
    "cells": [
        {
            "cell_type": "code",
            "source": [
                "--FELADAT 1\r\n",
                "SELECT szh.SZALLAS_ID, \r\n",
                "    szh.SZALLAS_NEV, \r\n",
                "    COUNT(*)\r\n",
                "FROM Szallashely szh JOIN Szoba sz ON szh.SZALLAS_ID = sz.SZALLAS_FK\r\n",
                "WHERE KLIMAS = 'i'\r\n",
                "GROUP BY szh.SZALLAS_ID, szh.SZALLAS_NEV\r\n",
                ""
            ],
            "metadata": {
                "azdata_cell_guid": "afbbd667-d20d-4852-8a16-af1dab772989",
                "language": "sql",
                "tags": []
            },
            "outputs": [
                {
                    "output_type": "display_data",
                    "data": {
                        "text/html": "(20 rows affected)"
                    },
                    "metadata": {}
                },
                {
                    "output_type": "display_data",
                    "data": {
                        "text/html": "Total execution time: 00:00:00.009"
                    },
                    "metadata": {}
                },
                {
                    "output_type": "execute_result",
                    "metadata": {},
                    "execution_count": 13,
                    "data": {
                        "application/vnd.dataresource+json": {
                            "schema": {
                                "fields": [
                                    {
                                        "name": "SZALLAS_ID"
                                    },
                                    {
                                        "name": "SZALLAS_NEV"
                                    },
                                    {
                                        "name": "(No column name)"
                                    }
                                ]
                            },
                            "data": [
                                {
                                    "SZALLAS_ID": "1",
                                    "SZALLAS_NEV": "Sába-Ház",
                                    "(No column name)": "10"
                                },
                                {
                                    "SZALLAS_ID": "2",
                                    "SZALLAS_NEV": "Családi Ház",
                                    "(No column name)": "4"
                                },
                                {
                                    "SZALLAS_ID": "3",
                                    "SZALLAS_NEV": "Fortuna Apartman",
                                    "(No column name)": "5"
                                },
                                {
                                    "SZALLAS_ID": "4",
                                    "SZALLAS_NEV": "Fortuna panzió",
                                    "(No column name)": "12"
                                },
                                {
                                    "SZALLAS_ID": "5",
                                    "SZALLAS_NEV": "Fortuna Panzió",
                                    "(No column name)": "8"
                                },
                                {
                                    "SZALLAS_ID": "6",
                                    "SZALLAS_NEV": "Kentaur Hotel",
                                    "(No column name)": "22"
                                },
                                {
                                    "SZALLAS_ID": "7",
                                    "SZALLAS_NEV": "Szieszta Apartmanház",
                                    "(No column name)": "4"
                                },
                                {
                                    "SZALLAS_ID": "8",
                                    "SZALLAS_NEV": "Hotel Három Hattyú",
                                    "(No column name)": "28"
                                },
                                {
                                    "SZALLAS_ID": "9",
                                    "SZALLAS_NEV": "Jáde panzió",
                                    "(No column name)": "2"
                                },
                                {
                                    "SZALLAS_ID": "10",
                                    "SZALLAS_NEV": "Lagúna Hotel",
                                    "(No column name)": "15"
                                },
                                {
                                    "SZALLAS_ID": "11",
                                    "SZALLAS_NEV": "Partiszél Vendégház",
                                    "(No column name)": "4"
                                },
                                {
                                    "SZALLAS_ID": "12",
                                    "SZALLAS_NEV": "Gold Hotel",
                                    "(No column name)": "42"
                                },
                                {
                                    "SZALLAS_ID": "13",
                                    "SZALLAS_NEV": "Riviéra Panzió",
                                    "(No column name)": "8"
                                },
                                {
                                    "SZALLAS_ID": "14",
                                    "SZALLAS_NEV": "Nyárfás Vendégház",
                                    "(No column name)": "4"
                                },
                                {
                                    "SZALLAS_ID": "15",
                                    "SZALLAS_NEV": "Tímárház Panzió",
                                    "(No column name)": "9"
                                },
                                {
                                    "SZALLAS_ID": "16",
                                    "SZALLAS_NEV": "Bagoly Hotel",
                                    "(No column name)": "14"
                                },
                                {
                                    "SZALLAS_ID": "17",
                                    "SZALLAS_NEV": "Szarvas Hotel",
                                    "(No column name)": "11"
                                },
                                {
                                    "SZALLAS_ID": "18",
                                    "SZALLAS_NEV": "Fortuna Apartman",
                                    "(No column name)": "2"
                                },
                                {
                                    "SZALLAS_ID": "19",
                                    "SZALLAS_NEV": "Nyárfás Vendégház",
                                    "(No column name)": "2"
                                },
                                {
                                    "SZALLAS_ID": "20",
                                    "SZALLAS_NEV": "Kollégium",
                                    "(No column name)": "9"
                                }
                            ]
                        },
                        "text/html": [
                            "<table>",
                            "<tr><th>SZALLAS_ID</th><th>SZALLAS_NEV</th><th>(No column name)</th></tr>",
                            "<tr><td>1</td><td>Sába-Ház</td><td>10</td></tr>",
                            "<tr><td>2</td><td>Családi Ház</td><td>4</td></tr>",
                            "<tr><td>3</td><td>Fortuna Apartman</td><td>5</td></tr>",
                            "<tr><td>4</td><td>Fortuna panzió</td><td>12</td></tr>",
                            "<tr><td>5</td><td>Fortuna Panzió</td><td>8</td></tr>",
                            "<tr><td>6</td><td>Kentaur Hotel</td><td>22</td></tr>",
                            "<tr><td>7</td><td>Szieszta Apartmanház</td><td>4</td></tr>",
                            "<tr><td>8</td><td>Hotel Három Hattyú</td><td>28</td></tr>",
                            "<tr><td>9</td><td>Jáde panzió</td><td>2</td></tr>",
                            "<tr><td>10</td><td>Lagúna Hotel</td><td>15</td></tr>",
                            "<tr><td>11</td><td>Partiszél Vendégház</td><td>4</td></tr>",
                            "<tr><td>12</td><td>Gold Hotel</td><td>42</td></tr>",
                            "<tr><td>13</td><td>Riviéra Panzió</td><td>8</td></tr>",
                            "<tr><td>14</td><td>Nyárfás Vendégház</td><td>4</td></tr>",
                            "<tr><td>15</td><td>Tímárház Panzió</td><td>9</td></tr>",
                            "<tr><td>16</td><td>Bagoly Hotel</td><td>14</td></tr>",
                            "<tr><td>17</td><td>Szarvas Hotel</td><td>11</td></tr>",
                            "<tr><td>18</td><td>Fortuna Apartman</td><td>2</td></tr>",
                            "<tr><td>19</td><td>Nyárfás Vendégház</td><td>2</td></tr>",
                            "<tr><td>20</td><td>Kollégium</td><td>9</td></tr>",
                            "</table>"
                        ]
                    }
                }
            ],
            "execution_count": 13
        },
        {
            "cell_type": "code",
            "source": [
                "-- FELADAT 2\r\n",
                "\r\n",
                "SELECT COUNT(*) AS 'Foglalásszám',\r\n",
                "    CASE\r\n",
                "        WHEN YEAR(v.SZUL_DAT) > 1985 THEN 'fiatal'\r\n",
                "        WHEN  YEAR(SZUL_DAT) < 1970 THEN 'idős'\r\n",
                "        ELSE 'középkorú'\r\n",
                "    END AS 'Kategória'\r\n",
                "FROM Vendeg v JOIN Foglalas f ON v.USERNEV = f.UGYFEL_FK\r\n",
                "WHERE (f.FELNOTT_SZAM +f.GYERMEK_SZAM) >= 2\r\n",
                "GROUP BY    \r\n",
                "    CASE\r\n",
                "        WHEN YEAR(v.SZUL_DAT) > 1985 THEN 'fiatal'\r\n",
                "        WHEN  YEAR(SZUL_DAT) < 1970 THEN 'idős'\r\n",
                "        ELSE 'középkorú'\r\n",
                "    END\r\n",
                "\r\n",
                "\r\n",
                ""
            ],
            "metadata": {
                "azdata_cell_guid": "a2482ad0-2f94-4f6e-8442-f0ecbf9b0f5f",
                "language": "sql"
            },
            "outputs": [
                {
                    "output_type": "display_data",
                    "data": {
                        "text/html": "(3 rows affected)"
                    },
                    "metadata": {}
                },
                {
                    "output_type": "display_data",
                    "data": {
                        "text/html": "Total execution time: 00:00:00.025"
                    },
                    "metadata": {}
                },
                {
                    "output_type": "execute_result",
                    "metadata": {},
                    "execution_count": 19,
                    "data": {
                        "application/vnd.dataresource+json": {
                            "schema": {
                                "fields": [
                                    {
                                        "name": "Foglalásszám"
                                    },
                                    {
                                        "name": "Kategória"
                                    }
                                ]
                            },
                            "data": [
                                {
                                    "Foglalásszám": "342",
                                    "Kategória": "fiatal"
                                },
                                {
                                    "Foglalásszám": "96",
                                    "Kategória": "idős"
                                },
                                {
                                    "Foglalásszám": "442",
                                    "Kategória": "középkorú"
                                }
                            ]
                        },
                        "text/html": [
                            "<table>",
                            "<tr><th>Foglalásszám</th><th>Kategória</th></tr>",
                            "<tr><td>342</td><td>fiatal</td></tr>",
                            "<tr><td>96</td><td>idős</td></tr>",
                            "<tr><td>442</td><td>középkorú</td></tr>",
                            "</table>"
                        ]
                    }
                }
            ],
            "execution_count": 19
        }
    ]
}