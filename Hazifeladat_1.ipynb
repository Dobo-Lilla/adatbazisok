{
    "metadata": {
        "kernelspec": {
            "name": "SQL",
            "display_name": "SQL",
            "language": "sql"
        },
        "language_info": {
            "name": "sql",
            "version": ""
        }
    },
    "nbformat_minor": 2,
    "nbformat": 4,
    "cells": [
        {
            "cell_type": "markdown",
            "source": [
                "**Átlagos megállapítások**"
            ],
            "metadata": {
                "azdata_cell_guid": "eac9e1cc-ee51-4753-8335-941b71fe2851"
            },
            "attachments": {}
        },
        {
            "cell_type": "code",
            "source": [
                "SELECT\r\n",
                "    MIN(LISTAAR) AS 'Minimum ár',\r\n",
                "    MAX(LISTAAR) As 'Maximum ár',\r\n",
                "    AVG(LISTAAR) AS 'Átlagos ár'\r\n",
                "FROM termek\r\n",
                "WHERE LISTAAR >0;\r\n",
                "\r\n",
                ""
            ],
            "metadata": {
                "azdata_cell_guid": "d8684449-e75a-4894-80bc-f5c7869ccfd5",
                "language": "sql",
                "tags": []
            },
            "outputs": [],
            "execution_count": null
        },
        {
            "cell_type": "markdown",
            "source": [
                "NULL ÉRTÉKEKE ARÁNYAA"
            ],
            "metadata": {
                "azdata_cell_guid": "fc17c1f6-3950-4a2a-9f65-d41a63749bfe"
            },
            "attachments": {}
        },
        {
            "cell_type": "code",
            "source": [
                "SELECT \r\n",
                "    COUNT(*) AS osszes_rekord,\r\n",
                "    SUM(CASE WHEN termekkod IS NOT NULL THEN 1 ELSE 0 END) AS nem_null_termekkod,\r\n",
                "    SUM(CASE WHEN LISTAAR IS NOT NULL THEN 1 ELSE 0 END) AS nem_null_listaar,\r\n",
                "    SUM(CASE WHEN KAT_ID IS NOT NULL THEN 1 ELSE 0 END) AS nem_null_kategoria,\r\n",
                "    SUM(CASE WHEN LISTAAR IS NULL THEN 1 ELSE 0 END) * 100.0 / COUNT(*) AS lista_ar_null_arany,\r\n",
                "    SUM(CASE WHEN KAT_ID IS NULL THEN 1 ELSE 0 END) * 100.0 / COUNT(*) AS kategoria_null_arany\r\n",
                "FROM termek;"
            ],
            "metadata": {
                "azdata_cell_guid": "351cb86b-f8bf-4724-bf86-bc3daa368db4",
                "language": "sql",
                "tags": []
            },
            "outputs": [],
            "execution_count": null
        },
        {
            "cell_type": "markdown",
            "source": [
                "**Kategória szerinti csoportosítás**"
            ],
            "metadata": {
                "azdata_cell_guid": "bd2a4217-a346-4f7e-93df-0492ab0bfc6b"
            },
            "attachments": {}
        },
        {
            "cell_type": "code",
            "source": [
                "SELECT KAT_ID, COUNT(*) AS 'Darab'\r\n",
                "FROm termek\r\n",
                "GROUP BY KAT_ID\r\n",
                "ORDER BY 2 DESC"
            ],
            "metadata": {
                "azdata_cell_guid": "c0933c4a-07af-4cb2-8830-5d10c17c0338",
                "language": "sql"
            },
            "outputs": [],
            "execution_count": null
        },
        {
            "cell_type": "code",
            "source": [
                "SELECT \r\n",
                "    YEAR(FELVITEL) AS 'Év',\r\n",
                "    MONTH(FELVITEL) AS 'HÓnap',\r\n",
                "    COUNT(*) AS termek_db\r\n",
                "FROM termek\r\n",
                "WHERE FELVITEL IS NOT NULL\r\n",
                "GROUP BY YEAR(FELVITEL), MONTH(FELVITEL)\r\n",
                "ORDER BY 1 DESC, 2 DESC;"
            ],
            "metadata": {
                "azdata_cell_guid": "1b690969-c894-4ff1-8034-624067a91295",
                "language": "sql"
            },
            "outputs": [],
            "execution_count": null
        }
    ]
}