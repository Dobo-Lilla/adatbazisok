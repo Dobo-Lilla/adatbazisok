{
    "metadata": {
        "kernelspec": {
            "name": "SQL",
            "display_name": "SQL",
            "language": "sql"
        },
        "language_info": {
            "name": "sql",
            "version": ""
        }
    },
    "nbformat_minor": 2,
    "nbformat": 4,
    "cells": [
        {
            "cell_type": "markdown",
            "source": [
                "**Átlagos megállapítások**"
            ],
            "metadata": {
                "azdata_cell_guid": "eac9e1cc-ee51-4753-8335-941b71fe2851"
            },
            "attachments": {}
        },
        {
            "cell_type": "code",
            "source": [
                "SELECT\r\n",
                "    MIN(LISTAAR) AS 'Minimum ár',\r\n",
                "    MAX(LISTAAR) As 'Maximum ár',\r\n",
                "    AVG(LISTAAR) AS 'Átlagos ár'\r\n",
                "FROM termek\r\n",
                "WHERE LISTAAR >0;\r\n",
                "\r\n",
                ""
            ],
            "metadata": {
                "azdata_cell_guid": "d8684449-e75a-4894-80bc-f5c7869ccfd5",
                "language": "sql",
                "tags": []
            },
            "outputs": [
                {
                    "output_type": "display_data",
                    "data": {
                        "text/html": "(1 row affected)"
                    },
                    "metadata": {}
                },
                {
                    "output_type": "display_data",
                    "data": {
                        "text/html": "Total execution time: 00:00:00.011"
                    },
                    "metadata": {}
                },
                {
                    "output_type": "execute_result",
                    "metadata": {},
                    "execution_count": 12,
                    "data": {
                        "application/vnd.dataresource+json": {
                            "schema": {
                                "fields": [
                                    {
                                        "name": "Minimum ár"
                                    },
                                    {
                                        "name": "Maximum ár"
                                    },
                                    {
                                        "name": "Átlagos ár"
                                    }
                                ]
                            },
                            "data": [
                                {
                                    "Minimum ár": "3",
                                    "Maximum ár": "46000",
                                    "Átlagos ár": "787,7109090909091"
                                }
                            ]
                        },
                        "text/html": [
                            "<table>",
                            "<tr><th>Minimum ár</th><th>Maximum ár</th><th>Átlagos ár</th></tr>",
                            "<tr><td>3</td><td>46000</td><td>787,7109090909091</td></tr>",
                            "</table>"
                        ]
                    }
                }
            ],
            "execution_count": 12
        },
        {
            "cell_type": "markdown",
            "source": [
                "NULL ÉRTÉKEKE ARÁNYAA"
            ],
            "metadata": {
                "azdata_cell_guid": "fc17c1f6-3950-4a2a-9f65-d41a63749bfe"
            },
            "attachments": {}
        },
        {
            "cell_type": "code",
            "source": [
                "SELECT \r\n",
                "    COUNT(*) AS osszes_rekord,\r\n",
                "    SUM(CASE WHEN termekkod IS NOT NULL THEN 1 ELSE 0 END) AS nem_null_termekkod,\r\n",
                "    SUM(CASE WHEN LISTAAR IS NOT NULL THEN 1 ELSE 0 END) AS nem_null_listaar,\r\n",
                "    SUM(CASE WHEN KAT_ID IS NOT NULL THEN 1 ELSE 0 END) AS nem_null_kategoria,\r\n",
                "    SUM(CASE WHEN LISTAAR IS NULL THEN 1 ELSE 0 END) * 100.0 / COUNT(*) AS lista_ar_null_arany,\r\n",
                "    SUM(CASE WHEN KAT_ID IS NULL THEN 1 ELSE 0 END) * 100.0 / COUNT(*) AS kategoria_null_arany\r\n",
                "FROM termek;"
            ],
            "metadata": {
                "azdata_cell_guid": "351cb86b-f8bf-4724-bf86-bc3daa368db4",
                "language": "sql",
                "tags": []
            },
            "outputs": [
                {
                    "output_type": "display_data",
                    "data": {
                        "text/html": "(1 row affected)"
                    },
                    "metadata": {}
                },
                {
                    "output_type": "display_data",
                    "data": {
                        "text/html": "Total execution time: 00:00:00.009"
                    },
                    "metadata": {}
                },
                {
                    "output_type": "execute_result",
                    "metadata": {},
                    "execution_count": 17,
                    "data": {
                        "application/vnd.dataresource+json": {
                            "schema": {
                                "fields": [
                                    {
                                        "name": "osszes_rekord"
                                    },
                                    {
                                        "name": "nem_null_termekkod"
                                    },
                                    {
                                        "name": "nem_null_listaar"
                                    },
                                    {
                                        "name": "nem_null_kategoria"
                                    },
                                    {
                                        "name": "lista_ar_null_arany"
                                    },
                                    {
                                        "name": "kategoria_null_arany"
                                    }
                                ]
                            },
                            "data": [
                                {
                                    "osszes_rekord": "551",
                                    "nem_null_termekkod": "551",
                                    "nem_null_listaar": "551",
                                    "nem_null_kategoria": "551",
                                    "lista_ar_null_arany": "0.000000000000",
                                    "kategoria_null_arany": "0.000000000000"
                                }
                            ]
                        },
                        "text/html": [
                            "<table>",
                            "<tr><th>osszes_rekord</th><th>nem_null_termekkod</th><th>nem_null_listaar</th><th>nem_null_kategoria</th><th>lista_ar_null_arany</th><th>kategoria_null_arany</th></tr>",
                            "<tr><td>551</td><td>551</td><td>551</td><td>551</td><td>0.000000000000</td><td>0.000000000000</td></tr>",
                            "</table>"
                        ]
                    }
                }
            ],
            "execution_count": 17
        },
        {
            "cell_type": "markdown",
            "source": [
                "**Kategória szerinti csoportosítás**"
            ],
            "metadata": {
                "azdata_cell_guid": "bd2a4217-a346-4f7e-93df-0492ab0bfc6b"
            },
            "attachments": {}
        },
        {
            "cell_type": "code",
            "source": [
                "SELECT KAT_ID, COUNT(*) AS 'Darab'\r\n",
                "FROm termek\r\n",
                "GROUP BY KAT_ID\r\n",
                "ORDER BY 2 DESC"
            ],
            "metadata": {
                "azdata_cell_guid": "c0933c4a-07af-4cb2-8830-5d10c17c0338",
                "language": "sql"
            },
            "outputs": [
                {
                    "output_type": "display_data",
                    "data": {
                        "text/html": "(143 rows affected)"
                    },
                    "metadata": {}
                },
                {
                    "output_type": "display_data",
                    "data": {
                        "text/html": "Total execution time: 00:00:00.015"
                    },
                    "metadata": {}
                },
                {
                    "output_type": "execute_result",
                    "metadata": {},
                    "execution_count": 20,
                    "data": {
                        "application/vnd.dataresource+json": {
                            "schema": {
                                "fields": [
                                    {
                                        "name": "KAT_ID"
                                    },
                                    {
                                        "name": "Darab"
                                    }
                                ]
                            },
                            "data": [
                                {
                                    "KAT_ID": "52",
                                    "Darab": "26"
                                },
                                {
                                    "KAT_ID": "78",
                                    "Darab": "24"
                                },
                                {
                                    "KAT_ID": "6",
                                    "Darab": "20"
                                },
                                {
                                    "KAT_ID": "19",
                                    "Darab": "19"
                                },
                                {
                                    "KAT_ID": "145",
                                    "Darab": "18"
                                },
                                {
                                    "KAT_ID": "85",
                                    "Darab": "16"
                                },
                                {
                                    "KAT_ID": "4",
                                    "Darab": "15"
                                },
                                {
                                    "KAT_ID": "41",
                                    "Darab": "13"
                                },
                                {
                                    "KAT_ID": "45",
                                    "Darab": "11"
                                },
                                {
                                    "KAT_ID": "97",
                                    "Darab": "10"
                                },
                                {
                                    "KAT_ID": "124",
                                    "Darab": "10"
                                },
                                {
                                    "KAT_ID": "100",
                                    "Darab": "9"
                                },
                                {
                                    "KAT_ID": "96",
                                    "Darab": "9"
                                },
                                {
                                    "KAT_ID": "118",
                                    "Darab": "9"
                                },
                                {
                                    "KAT_ID": "91",
                                    "Darab": "7"
                                },
                                {
                                    "KAT_ID": "93",
                                    "Darab": "7"
                                },
                                {
                                    "KAT_ID": "122",
                                    "Darab": "7"
                                },
                                {
                                    "KAT_ID": "146",
                                    "Darab": "7"
                                },
                                {
                                    "KAT_ID": "46",
                                    "Darab": "7"
                                },
                                {
                                    "KAT_ID": "66",
                                    "Darab": "7"
                                },
                                {
                                    "KAT_ID": "35",
                                    "Darab": "7"
                                },
                                {
                                    "KAT_ID": "24",
                                    "Darab": "7"
                                },
                                {
                                    "KAT_ID": "30",
                                    "Darab": "7"
                                },
                                {
                                    "KAT_ID": "16",
                                    "Darab": "7"
                                },
                                {
                                    "KAT_ID": "54",
                                    "Darab": "6"
                                },
                                {
                                    "KAT_ID": "149",
                                    "Darab": "6"
                                },
                                {
                                    "KAT_ID": "152",
                                    "Darab": "6"
                                },
                                {
                                    "KAT_ID": "133",
                                    "Darab": "6"
                                },
                                {
                                    "KAT_ID": "83",
                                    "Darab": "6"
                                },
                                {
                                    "KAT_ID": "76",
                                    "Darab": "5"
                                },
                                {
                                    "KAT_ID": "106",
                                    "Darab": "5"
                                },
                                {
                                    "KAT_ID": "138",
                                    "Darab": "5"
                                },
                                {
                                    "KAT_ID": "60",
                                    "Darab": "5"
                                },
                                {
                                    "KAT_ID": "21",
                                    "Darab": "5"
                                },
                                {
                                    "KAT_ID": "28",
                                    "Darab": "5"
                                },
                                {
                                    "KAT_ID": "36",
                                    "Darab": "5"
                                },
                                {
                                    "KAT_ID": "25",
                                    "Darab": "4"
                                },
                                {
                                    "KAT_ID": "14",
                                    "Darab": "4"
                                },
                                {
                                    "KAT_ID": "64",
                                    "Darab": "4"
                                },
                                {
                                    "KAT_ID": "79",
                                    "Darab": "4"
                                },
                                {
                                    "KAT_ID": "56",
                                    "Darab": "4"
                                },
                                {
                                    "KAT_ID": "59",
                                    "Darab": "4"
                                },
                                {
                                    "KAT_ID": "47",
                                    "Darab": "4"
                                },
                                {
                                    "KAT_ID": "125",
                                    "Darab": "4"
                                },
                                {
                                    "KAT_ID": "154",
                                    "Darab": "4"
                                },
                                {
                                    "KAT_ID": "151",
                                    "Darab": "4"
                                },
                                {
                                    "KAT_ID": "98",
                                    "Darab": "4"
                                },
                                {
                                    "KAT_ID": "89",
                                    "Darab": "3"
                                },
                                {
                                    "KAT_ID": "119",
                                    "Darab": "3"
                                },
                                {
                                    "KAT_ID": "111",
                                    "Darab": "3"
                                },
                                {
                                    "KAT_ID": "143",
                                    "Darab": "3"
                                },
                                {
                                    "KAT_ID": "137",
                                    "Darab": "3"
                                },
                                {
                                    "KAT_ID": "43",
                                    "Darab": "3"
                                },
                                {
                                    "KAT_ID": "27",
                                    "Darab": "3"
                                },
                                {
                                    "KAT_ID": "51",
                                    "Darab": "3"
                                },
                                {
                                    "KAT_ID": "58",
                                    "Darab": "3"
                                },
                                {
                                    "KAT_ID": "70",
                                    "Darab": "3"
                                },
                                {
                                    "KAT_ID": "5",
                                    "Darab": "3"
                                },
                                {
                                    "KAT_ID": "7",
                                    "Darab": "3"
                                },
                                {
                                    "KAT_ID": "8",
                                    "Darab": "3"
                                },
                                {
                                    "KAT_ID": "20",
                                    "Darab": "3"
                                },
                                {
                                    "KAT_ID": "32",
                                    "Darab": "3"
                                },
                                {
                                    "KAT_ID": "39",
                                    "Darab": "2"
                                },
                                {
                                    "KAT_ID": "22",
                                    "Darab": "2"
                                },
                                {
                                    "KAT_ID": "13",
                                    "Darab": "2"
                                },
                                {
                                    "KAT_ID": "18",
                                    "Darab": "2"
                                },
                                {
                                    "KAT_ID": "9",
                                    "Darab": "2"
                                },
                                {
                                    "KAT_ID": "71",
                                    "Darab": "2"
                                },
                                {
                                    "KAT_ID": "72",
                                    "Darab": "2"
                                },
                                {
                                    "KAT_ID": "73",
                                    "Darab": "2"
                                },
                                {
                                    "KAT_ID": "65",
                                    "Darab": "2"
                                },
                                {
                                    "KAT_ID": "67",
                                    "Darab": "2"
                                },
                                {
                                    "KAT_ID": "68",
                                    "Darab": "2"
                                },
                                {
                                    "KAT_ID": "62",
                                    "Darab": "2"
                                },
                                {
                                    "KAT_ID": "75",
                                    "Darab": "2"
                                },
                                {
                                    "KAT_ID": "57",
                                    "Darab": "2"
                                },
                                {
                                    "KAT_ID": "55",
                                    "Darab": "2"
                                },
                                {
                                    "KAT_ID": "48",
                                    "Darab": "2"
                                },
                                {
                                    "KAT_ID": "49",
                                    "Darab": "2"
                                },
                                {
                                    "KAT_ID": "136",
                                    "Darab": "2"
                                },
                                {
                                    "KAT_ID": "134",
                                    "Darab": "2"
                                },
                                {
                                    "KAT_ID": "141",
                                    "Darab": "2"
                                },
                                {
                                    "KAT_ID": "123",
                                    "Darab": "2"
                                },
                                {
                                    "KAT_ID": "127",
                                    "Darab": "2"
                                },
                                {
                                    "KAT_ID": "128",
                                    "Darab": "2"
                                },
                                {
                                    "KAT_ID": "129",
                                    "Darab": "2"
                                },
                                {
                                    "KAT_ID": "144",
                                    "Darab": "2"
                                },
                                {
                                    "KAT_ID": "150",
                                    "Darab": "2"
                                },
                                {
                                    "KAT_ID": "112",
                                    "Darab": "2"
                                },
                                {
                                    "KAT_ID": "121",
                                    "Darab": "2"
                                },
                                {
                                    "KAT_ID": "116",
                                    "Darab": "2"
                                },
                                {
                                    "KAT_ID": "117",
                                    "Darab": "2"
                                },
                                {
                                    "KAT_ID": "110",
                                    "Darab": "2"
                                },
                                {
                                    "KAT_ID": "104",
                                    "Darab": "2"
                                },
                                {
                                    "KAT_ID": "90",
                                    "Darab": "2"
                                },
                                {
                                    "KAT_ID": "88",
                                    "Darab": "2"
                                },
                                {
                                    "KAT_ID": "94",
                                    "Darab": "2"
                                },
                                {
                                    "KAT_ID": "95",
                                    "Darab": "2"
                                },
                                {
                                    "KAT_ID": "92",
                                    "Darab": "2"
                                },
                                {
                                    "KAT_ID": "99",
                                    "Darab": "1"
                                },
                                {
                                    "KAT_ID": "101",
                                    "Darab": "1"
                                },
                                {
                                    "KAT_ID": "103",
                                    "Darab": "1"
                                },
                                {
                                    "KAT_ID": "84",
                                    "Darab": "1"
                                },
                                {
                                    "KAT_ID": "86",
                                    "Darab": "1"
                                },
                                {
                                    "KAT_ID": "105",
                                    "Darab": "1"
                                },
                                {
                                    "KAT_ID": "107",
                                    "Darab": "1"
                                },
                                {
                                    "KAT_ID": "108",
                                    "Darab": "1"
                                },
                                {
                                    "KAT_ID": "109",
                                    "Darab": "1"
                                },
                                {
                                    "KAT_ID": "114",
                                    "Darab": "1"
                                },
                                {
                                    "KAT_ID": "115",
                                    "Darab": "1"
                                },
                                {
                                    "KAT_ID": "147",
                                    "Darab": "1"
                                },
                                {
                                    "KAT_ID": "148",
                                    "Darab": "1"
                                },
                                {
                                    "KAT_ID": "155",
                                    "Darab": "1"
                                },
                                {
                                    "KAT_ID": "153",
                                    "Darab": "1"
                                },
                                {
                                    "KAT_ID": "130",
                                    "Darab": "1"
                                },
                                {
                                    "KAT_ID": "131",
                                    "Darab": "1"
                                },
                                {
                                    "KAT_ID": "132",
                                    "Darab": "1"
                                },
                                {
                                    "KAT_ID": "126",
                                    "Darab": "1"
                                },
                                {
                                    "KAT_ID": "142",
                                    "Darab": "1"
                                },
                                {
                                    "KAT_ID": "139",
                                    "Darab": "1"
                                },
                                {
                                    "KAT_ID": "140",
                                    "Darab": "1"
                                },
                                {
                                    "KAT_ID": "135",
                                    "Darab": "1"
                                },
                                {
                                    "KAT_ID": "50",
                                    "Darab": "1"
                                },
                                {
                                    "KAT_ID": "44",
                                    "Darab": "1"
                                },
                                {
                                    "KAT_ID": "53",
                                    "Darab": "1"
                                },
                                {
                                    "KAT_ID": "80",
                                    "Darab": "1"
                                },
                                {
                                    "KAT_ID": "82",
                                    "Darab": "1"
                                },
                                {
                                    "KAT_ID": "61",
                                    "Darab": "1"
                                },
                                {
                                    "KAT_ID": "74",
                                    "Darab": "1"
                                },
                                {
                                    "KAT_ID": "10",
                                    "Darab": "1"
                                },
                                {
                                    "KAT_ID": "11",
                                    "Darab": "1"
                                },
                                {
                                    "KAT_ID": "12",
                                    "Darab": "1"
                                },
                                {
                                    "KAT_ID": "15",
                                    "Darab": "1"
                                },
                                {
                                    "KAT_ID": "17",
                                    "Darab": "1"
                                },
                                {
                                    "KAT_ID": "40",
                                    "Darab": "1"
                                },
                                {
                                    "KAT_ID": "42",
                                    "Darab": "1"
                                },
                                {
                                    "KAT_ID": "37",
                                    "Darab": "1"
                                },
                                {
                                    "KAT_ID": "38",
                                    "Darab": "1"
                                },
                                {
                                    "KAT_ID": "33",
                                    "Darab": "1"
                                },
                                {
                                    "KAT_ID": "34",
                                    "Darab": "1"
                                },
                                {
                                    "KAT_ID": "31",
                                    "Darab": "1"
                                },
                                {
                                    "KAT_ID": "26",
                                    "Darab": "1"
                                },
                                {
                                    "KAT_ID": "29",
                                    "Darab": "1"
                                }
                            ]
                        },
                        "text/html": [
                            "<table>",
                            "<tr><th>KAT_ID</th><th>Darab</th></tr>",
                            "<tr><td>52</td><td>26</td></tr>",
                            "<tr><td>78</td><td>24</td></tr>",
                            "<tr><td>6</td><td>20</td></tr>",
                            "<tr><td>19</td><td>19</td></tr>",
                            "<tr><td>145</td><td>18</td></tr>",
                            "<tr><td>85</td><td>16</td></tr>",
                            "<tr><td>4</td><td>15</td></tr>",
                            "<tr><td>41</td><td>13</td></tr>",
                            "<tr><td>45</td><td>11</td></tr>",
                            "<tr><td>97</td><td>10</td></tr>",
                            "<tr><td>124</td><td>10</td></tr>",
                            "<tr><td>100</td><td>9</td></tr>",
                            "<tr><td>96</td><td>9</td></tr>",
                            "<tr><td>118</td><td>9</td></tr>",
                            "<tr><td>91</td><td>7</td></tr>",
                            "<tr><td>93</td><td>7</td></tr>",
                            "<tr><td>122</td><td>7</td></tr>",
                            "<tr><td>146</td><td>7</td></tr>",
                            "<tr><td>46</td><td>7</td></tr>",
                            "<tr><td>66</td><td>7</td></tr>",
                            "<tr><td>35</td><td>7</td></tr>",
                            "<tr><td>24</td><td>7</td></tr>",
                            "<tr><td>30</td><td>7</td></tr>",
                            "<tr><td>16</td><td>7</td></tr>",
                            "<tr><td>54</td><td>6</td></tr>",
                            "<tr><td>149</td><td>6</td></tr>",
                            "<tr><td>152</td><td>6</td></tr>",
                            "<tr><td>133</td><td>6</td></tr>",
                            "<tr><td>83</td><td>6</td></tr>",
                            "<tr><td>76</td><td>5</td></tr>",
                            "<tr><td>106</td><td>5</td></tr>",
                            "<tr><td>138</td><td>5</td></tr>",
                            "<tr><td>60</td><td>5</td></tr>",
                            "<tr><td>21</td><td>5</td></tr>",
                            "<tr><td>28</td><td>5</td></tr>",
                            "<tr><td>36</td><td>5</td></tr>",
                            "<tr><td>25</td><td>4</td></tr>",
                            "<tr><td>14</td><td>4</td></tr>",
                            "<tr><td>64</td><td>4</td></tr>",
                            "<tr><td>79</td><td>4</td></tr>",
                            "<tr><td>56</td><td>4</td></tr>",
                            "<tr><td>59</td><td>4</td></tr>",
                            "<tr><td>47</td><td>4</td></tr>",
                            "<tr><td>125</td><td>4</td></tr>",
                            "<tr><td>154</td><td>4</td></tr>",
                            "<tr><td>151</td><td>4</td></tr>",
                            "<tr><td>98</td><td>4</td></tr>",
                            "<tr><td>89</td><td>3</td></tr>",
                            "<tr><td>119</td><td>3</td></tr>",
                            "<tr><td>111</td><td>3</td></tr>",
                            "<tr><td>143</td><td>3</td></tr>",
                            "<tr><td>137</td><td>3</td></tr>",
                            "<tr><td>43</td><td>3</td></tr>",
                            "<tr><td>27</td><td>3</td></tr>",
                            "<tr><td>51</td><td>3</td></tr>",
                            "<tr><td>58</td><td>3</td></tr>",
                            "<tr><td>70</td><td>3</td></tr>",
                            "<tr><td>5</td><td>3</td></tr>",
                            "<tr><td>7</td><td>3</td></tr>",
                            "<tr><td>8</td><td>3</td></tr>",
                            "<tr><td>20</td><td>3</td></tr>",
                            "<tr><td>32</td><td>3</td></tr>",
                            "<tr><td>39</td><td>2</td></tr>",
                            "<tr><td>22</td><td>2</td></tr>",
                            "<tr><td>13</td><td>2</td></tr>",
                            "<tr><td>18</td><td>2</td></tr>",
                            "<tr><td>9</td><td>2</td></tr>",
                            "<tr><td>71</td><td>2</td></tr>",
                            "<tr><td>72</td><td>2</td></tr>",
                            "<tr><td>73</td><td>2</td></tr>",
                            "<tr><td>65</td><td>2</td></tr>",
                            "<tr><td>67</td><td>2</td></tr>",
                            "<tr><td>68</td><td>2</td></tr>",
                            "<tr><td>62</td><td>2</td></tr>",
                            "<tr><td>75</td><td>2</td></tr>",
                            "<tr><td>57</td><td>2</td></tr>",
                            "<tr><td>55</td><td>2</td></tr>",
                            "<tr><td>48</td><td>2</td></tr>",
                            "<tr><td>49</td><td>2</td></tr>",
                            "<tr><td>136</td><td>2</td></tr>",
                            "<tr><td>134</td><td>2</td></tr>",
                            "<tr><td>141</td><td>2</td></tr>",
                            "<tr><td>123</td><td>2</td></tr>",
                            "<tr><td>127</td><td>2</td></tr>",
                            "<tr><td>128</td><td>2</td></tr>",
                            "<tr><td>129</td><td>2</td></tr>",
                            "<tr><td>144</td><td>2</td></tr>",
                            "<tr><td>150</td><td>2</td></tr>",
                            "<tr><td>112</td><td>2</td></tr>",
                            "<tr><td>121</td><td>2</td></tr>",
                            "<tr><td>116</td><td>2</td></tr>",
                            "<tr><td>117</td><td>2</td></tr>",
                            "<tr><td>110</td><td>2</td></tr>",
                            "<tr><td>104</td><td>2</td></tr>",
                            "<tr><td>90</td><td>2</td></tr>",
                            "<tr><td>88</td><td>2</td></tr>",
                            "<tr><td>94</td><td>2</td></tr>",
                            "<tr><td>95</td><td>2</td></tr>",
                            "<tr><td>92</td><td>2</td></tr>",
                            "<tr><td>99</td><td>1</td></tr>",
                            "<tr><td>101</td><td>1</td></tr>",
                            "<tr><td>103</td><td>1</td></tr>",
                            "<tr><td>84</td><td>1</td></tr>",
                            "<tr><td>86</td><td>1</td></tr>",
                            "<tr><td>105</td><td>1</td></tr>",
                            "<tr><td>107</td><td>1</td></tr>",
                            "<tr><td>108</td><td>1</td></tr>",
                            "<tr><td>109</td><td>1</td></tr>",
                            "<tr><td>114</td><td>1</td></tr>",
                            "<tr><td>115</td><td>1</td></tr>",
                            "<tr><td>147</td><td>1</td></tr>",
                            "<tr><td>148</td><td>1</td></tr>",
                            "<tr><td>155</td><td>1</td></tr>",
                            "<tr><td>153</td><td>1</td></tr>",
                            "<tr><td>130</td><td>1</td></tr>",
                            "<tr><td>131</td><td>1</td></tr>",
                            "<tr><td>132</td><td>1</td></tr>",
                            "<tr><td>126</td><td>1</td></tr>",
                            "<tr><td>142</td><td>1</td></tr>",
                            "<tr><td>139</td><td>1</td></tr>",
                            "<tr><td>140</td><td>1</td></tr>",
                            "<tr><td>135</td><td>1</td></tr>",
                            "<tr><td>50</td><td>1</td></tr>",
                            "<tr><td>44</td><td>1</td></tr>",
                            "<tr><td>53</td><td>1</td></tr>",
                            "<tr><td>80</td><td>1</td></tr>",
                            "<tr><td>82</td><td>1</td></tr>",
                            "<tr><td>61</td><td>1</td></tr>",
                            "<tr><td>74</td><td>1</td></tr>",
                            "<tr><td>10</td><td>1</td></tr>",
                            "<tr><td>11</td><td>1</td></tr>",
                            "<tr><td>12</td><td>1</td></tr>",
                            "<tr><td>15</td><td>1</td></tr>",
                            "<tr><td>17</td><td>1</td></tr>",
                            "<tr><td>40</td><td>1</td></tr>",
                            "<tr><td>42</td><td>1</td></tr>",
                            "<tr><td>37</td><td>1</td></tr>",
                            "<tr><td>38</td><td>1</td></tr>",
                            "<tr><td>33</td><td>1</td></tr>",
                            "<tr><td>34</td><td>1</td></tr>",
                            "<tr><td>31</td><td>1</td></tr>",
                            "<tr><td>26</td><td>1</td></tr>",
                            "<tr><td>29</td><td>1</td></tr>",
                            "</table>"
                        ]
                    }
                }
            ],
            "execution_count": 20
        },
        {
            "cell_type": "code",
            "source": [
                "SELECT \r\n",
                "    YEAR(FELVITEL) AS 'Év',\r\n",
                "    MONTH(FELVITEL) AS 'HÓnap',\r\n",
                "    COUNT(*) AS termek_db\r\n",
                "FROM termek\r\n",
                "WHERE FELVITEL IS NOT NULL\r\n",
                "GROUP BY YEAR(FELVITEL), MONTH(FELVITEL)\r\n",
                "ORDER BY 1 DESC, 2 DESC;"
            ],
            "metadata": {
                "azdata_cell_guid": "1b690969-c894-4ff1-8034-624067a91295",
                "language": "sql"
            },
            "outputs": [
                {
                    "output_type": "display_data",
                    "data": {
                        "text/html": "(4 rows affected)"
                    },
                    "metadata": {}
                },
                {
                    "output_type": "display_data",
                    "data": {
                        "text/html": "Total execution time: 00:00:00.933"
                    },
                    "metadata": {}
                },
                {
                    "output_type": "execute_result",
                    "metadata": {},
                    "execution_count": 23,
                    "data": {
                        "application/vnd.dataresource+json": {
                            "schema": {
                                "fields": [
                                    {
                                        "name": "Év"
                                    },
                                    {
                                        "name": "HÓnap"
                                    },
                                    {
                                        "name": "termek_db"
                                    }
                                ]
                            },
                            "data": [
                                {
                                    "Év": "2016",
                                    "HÓnap": "12",
                                    "termek_db": "1"
                                },
                                {
                                    "Év": "2016",
                                    "HÓnap": "9",
                                    "termek_db": "1"
                                },
                                {
                                    "Év": "2016",
                                    "HÓnap": "8",
                                    "termek_db": "194"
                                },
                                {
                                    "Év": "2016",
                                    "HÓnap": "7",
                                    "termek_db": "355"
                                }
                            ]
                        },
                        "text/html": [
                            "<table>",
                            "<tr><th>Év</th><th>HÓnap</th><th>termek_db</th></tr>",
                            "<tr><td>2016</td><td>12</td><td>1</td></tr>",
                            "<tr><td>2016</td><td>9</td><td>1</td></tr>",
                            "<tr><td>2016</td><td>8</td><td>194</td></tr>",
                            "<tr><td>2016</td><td>7</td><td>355</td></tr>",
                            "</table>"
                        ]
                    }
                }
            ],
            "execution_count": 23
        },
        {
            "cell_type": "code",
            "source": [
                "SELECT termekkod, SUM(RAKTAr_KOD)\r\n",
                "FROM Termek\r\n",
                "WHERE MONTH(Felvitel) = 7\r\n",
                "GROUP BY termekkod\r\n",
                "ORDER BY 2"
            ],
            "metadata": {
                "azdata_cell_guid": "f141782f-16db-4f72-bb9b-7b3c2c85a825",
                "language": "sql"
            },
            "outputs": [],
            "execution_count": null
        }
    ]
}