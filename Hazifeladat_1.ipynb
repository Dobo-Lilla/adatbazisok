{
    "metadata": {
        "kernelspec": {
            "name": "SQL",
            "display_name": "SQL",
            "language": "sql"
        },
        "language_info": {
            "name": "sql",
            "version": ""
        }
    },
    "nbformat_minor": 2,
    "nbformat": 4,
    "cells": [
        {
            "cell_type": "markdown",
            "source": [
                "**Átlagos megállapítások**\n",
                "\n",
                "Meghatározza a webshopban elérhető termékek _legalacsonyabb,_ _legmagasabb_ és _átlagos_ árát."
            ],
            "metadata": {
                "azdata_cell_guid": "eac9e1cc-ee51-4753-8335-941b71fe2851"
            },
            "attachments": {}
        },
        {
            "cell_type": "code",
            "source": [
                "SELECT\r\n",
                "    MIN(LISTAAR) AS 'Minimum ár',\r\n",
                "    MAX(LISTAAR) As 'Maximum ár',\r\n",
                "    AVG(LISTAAR) AS 'Átlagos ár'\r\n",
                "FROM termek\r\n",
                "WHERE LISTAAR >0;"
            ],
            "metadata": {
                "azdata_cell_guid": "d8684449-e75a-4894-80bc-f5c7869ccfd5",
                "language": "sql",
                "tags": []
            },
            "outputs": [
                {
                    "output_type": "display_data",
                    "data": {
                        "text/html": "(1 row affected)"
                    },
                    "metadata": {}
                },
                {
                    "output_type": "display_data",
                    "data": {
                        "text/html": "Total execution time: 00:00:00.012"
                    },
                    "metadata": {}
                },
                {
                    "output_type": "execute_result",
                    "execution_count": 3,
                    "data": {
                        "application/vnd.dataresource+json": {
                            "schema": {
                                "fields": [
                                    {
                                        "name": "Minimum ár"
                                    },
                                    {
                                        "name": "Maximum ár"
                                    },
                                    {
                                        "name": "Átlagos ár"
                                    }
                                ]
                            },
                            "data": [
                                {
                                    "Minimum ár": "3",
                                    "Maximum ár": "46000",
                                    "Átlagos ár": "787,7109090909091"
                                }
                            ]
                        },
                        "text/html": "<table><tr><th>Minimum ár</th><th>Maximum ár</th><th>Átlagos ár</th></tr><tr><td>3</td><td>46000</td><td>787,7109090909091</td></tr></table>"
                    },
                    "metadata": {}
                }
            ],
            "execution_count": 3
        },
        {
            "cell_type": "markdown",
            "source": [
                "**Termékek egyediségének és árkategóriáinak vizsgálata**\n",
                "\n",
                "Statisztikai elemzés, amely megmutatja: h<span style=\"color: var(--vscode-foreground);\">ány termék van az adatbázisba, h</span><span style=\"color: var(--vscode-foreground);\">ány <i>egyedi termékkód</i> van, h</span><span style=\"color: var(--vscode-foreground);\">ány <i>különböző árkategória</i> létezik, h</span><span style=\"color: var(--vscode-foreground);\">ány <i>termékkategória </i>van jelen.</span>"
            ],
            "metadata": {
                "azdata_cell_guid": "fc17c1f6-3950-4a2a-9f65-d41a63749bfe"
            },
            "attachments": {}
        },
        {
            "cell_type": "code",
            "source": [
                "SELECT \r\n",
                "    COUNT(*) AS 'Összes rekord',\r\n",
                "    COUNT(DISTINCT TERMEKKOD) AS 'Egyedi_termékkódok száma',\r\n",
                "    COUNT(DISTINCT LISTAAR) AS 'Különböző listaárak száma',\r\n",
                "    COUNT(DISTINCT KAT_ID) AS 'Különböző kategóriák száma'\r\n",
                "FROM termek"
            ],
            "metadata": {
                "azdata_cell_guid": "351cb86b-f8bf-4724-bf86-bc3daa368db4",
                "language": "sql",
                "tags": []
            },
            "outputs": [
                {
                    "output_type": "display_data",
                    "data": {
                        "text/html": "(1 row affected)"
                    },
                    "metadata": {}
                },
                {
                    "output_type": "display_data",
                    "data": {
                        "text/html": "Total execution time: 00:00:00.017"
                    },
                    "metadata": {}
                },
                {
                    "output_type": "execute_result",
                    "execution_count": 9,
                    "data": {
                        "application/vnd.dataresource+json": {
                            "schema": {
                                "fields": [
                                    {
                                        "name": "osszes_rekord"
                                    },
                                    {
                                        "name": "egyedi_termekkodok"
                                    },
                                    {
                                        "name": "kulonbozo_listaarak_szama"
                                    },
                                    {
                                        "name": "kulonbozo_kategoriak_szama"
                                    }
                                ]
                            },
                            "data": [
                                {
                                    "osszes_rekord": "551",
                                    "egyedi_termekkodok": "551",
                                    "kulonbozo_listaarak_szama": "220",
                                    "kulonbozo_kategoriak_szama": "143"
                                }
                            ]
                        },
                        "text/html": "<table><tr><th>osszes_rekord</th><th>egyedi_termekkodok</th><th>kulonbozo_listaarak_szama</th><th>kulonbozo_kategoriak_szama</th></tr><tr><td>551</td><td>551</td><td>220</td><td>143</td></tr></table>"
                    },
                    "metadata": {}
                }
            ],
            "execution_count": 9
        },
        {
            "cell_type": "markdown",
            "source": [
                "**Kategória szerinti csoportosítás**\n",
                "\n",
                "Kiszámítja, hogy melyik kategóriában van a legtöbb termék.\n",
                "\n",
                "A diagram az első 10 legtöbb darab számmal rendelkező termékkódot mutatja meg.\n",
                "\n",
                "![](data:image/png;base64,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)"
            ],
            "metadata": {
                "azdata_cell_guid": "bd2a4217-a346-4f7e-93df-0492ab0bfc6b"
            },
            "attachments": {}
        },
        {
            "cell_type": "code",
            "source": [
                "SELECT KAT_ID AS 'Kategória azonosító', \r\n",
                "    COUNT(*) AS 'Darab'\r\n",
                "FROm termek\r\n",
                "GROUP BY KAT_ID\r\n",
                "ORDER BY 2 DESC"
            ],
            "metadata": {
                "azdata_cell_guid": "c0933c4a-07af-4cb2-8830-5d10c17c0338",
                "language": "sql",
                "tags": []
            },
            "outputs": [
                {
                    "output_type": "display_data",
                    "data": {
                        "text/html": "(143 rows affected)"
                    },
                    "metadata": {}
                },
                {
                    "output_type": "display_data",
                    "data": {
                        "text/html": "Total execution time: 00:00:00.007"
                    },
                    "metadata": {}
                },
                {
                    "output_type": "execute_result",
                    "execution_count": 5,
                    "data": {
                        "application/vnd.dataresource+json": {
                            "schema": {
                                "fields": [
                                    {
                                        "name": "KAT_ID"
                                    },
                                    {
                                        "name": "Darab"
                                    }
                                ]
                            },
                            "data": [
                                {
                                    "KAT_ID": "52",
                                    "Darab": "26"
                                },
                                {
                                    "KAT_ID": "78",
                                    "Darab": "24"
                                },
                                {
                                    "KAT_ID": "6",
                                    "Darab": "20"
                                },
                                {
                                    "KAT_ID": "19",
                                    "Darab": "19"
                                },
                                {
                                    "KAT_ID": "145",
                                    "Darab": "18"
                                },
                                {
                                    "KAT_ID": "85",
                                    "Darab": "16"
                                },
                                {
                                    "KAT_ID": "4",
                                    "Darab": "15"
                                },
                                {
                                    "KAT_ID": "41",
                                    "Darab": "13"
                                },
                                {
                                    "KAT_ID": "45",
                                    "Darab": "11"
                                },
                                {
                                    "KAT_ID": "97",
                                    "Darab": "10"
                                },
                                {
                                    "KAT_ID": "124",
                                    "Darab": "10"
                                },
                                {
                                    "KAT_ID": "100",
                                    "Darab": "9"
                                },
                                {
                                    "KAT_ID": "96",
                                    "Darab": "9"
                                },
                                {
                                    "KAT_ID": "118",
                                    "Darab": "9"
                                },
                                {
                                    "KAT_ID": "91",
                                    "Darab": "7"
                                },
                                {
                                    "KAT_ID": "93",
                                    "Darab": "7"
                                },
                                {
                                    "KAT_ID": "122",
                                    "Darab": "7"
                                },
                                {
                                    "KAT_ID": "146",
                                    "Darab": "7"
                                },
                                {
                                    "KAT_ID": "46",
                                    "Darab": "7"
                                },
                                {
                                    "KAT_ID": "66",
                                    "Darab": "7"
                                },
                                {
                                    "KAT_ID": "35",
                                    "Darab": "7"
                                },
                                {
                                    "KAT_ID": "24",
                                    "Darab": "7"
                                },
                                {
                                    "KAT_ID": "30",
                                    "Darab": "7"
                                },
                                {
                                    "KAT_ID": "16",
                                    "Darab": "7"
                                },
                                {
                                    "KAT_ID": "54",
                                    "Darab": "6"
                                },
                                {
                                    "KAT_ID": "149",
                                    "Darab": "6"
                                },
                                {
                                    "KAT_ID": "152",
                                    "Darab": "6"
                                },
                                {
                                    "KAT_ID": "133",
                                    "Darab": "6"
                                },
                                {
                                    "KAT_ID": "83",
                                    "Darab": "6"
                                },
                                {
                                    "KAT_ID": "76",
                                    "Darab": "5"
                                },
                                {
                                    "KAT_ID": "106",
                                    "Darab": "5"
                                },
                                {
                                    "KAT_ID": "138",
                                    "Darab": "5"
                                },
                                {
                                    "KAT_ID": "60",
                                    "Darab": "5"
                                },
                                {
                                    "KAT_ID": "21",
                                    "Darab": "5"
                                },
                                {
                                    "KAT_ID": "28",
                                    "Darab": "5"
                                },
                                {
                                    "KAT_ID": "36",
                                    "Darab": "5"
                                },
                                {
                                    "KAT_ID": "25",
                                    "Darab": "4"
                                },
                                {
                                    "KAT_ID": "14",
                                    "Darab": "4"
                                },
                                {
                                    "KAT_ID": "64",
                                    "Darab": "4"
                                },
                                {
                                    "KAT_ID": "79",
                                    "Darab": "4"
                                },
                                {
                                    "KAT_ID": "56",
                                    "Darab": "4"
                                },
                                {
                                    "KAT_ID": "59",
                                    "Darab": "4"
                                },
                                {
                                    "KAT_ID": "47",
                                    "Darab": "4"
                                },
                                {
                                    "KAT_ID": "125",
                                    "Darab": "4"
                                },
                                {
                                    "KAT_ID": "154",
                                    "Darab": "4"
                                },
                                {
                                    "KAT_ID": "151",
                                    "Darab": "4"
                                },
                                {
                                    "KAT_ID": "98",
                                    "Darab": "4"
                                },
                                {
                                    "KAT_ID": "89",
                                    "Darab": "3"
                                },
                                {
                                    "KAT_ID": "119",
                                    "Darab": "3"
                                },
                                {
                                    "KAT_ID": "111",
                                    "Darab": "3"
                                },
                                {
                                    "KAT_ID": "143",
                                    "Darab": "3"
                                },
                                {
                                    "KAT_ID": "137",
                                    "Darab": "3"
                                },
                                {
                                    "KAT_ID": "43",
                                    "Darab": "3"
                                },
                                {
                                    "KAT_ID": "27",
                                    "Darab": "3"
                                },
                                {
                                    "KAT_ID": "51",
                                    "Darab": "3"
                                },
                                {
                                    "KAT_ID": "58",
                                    "Darab": "3"
                                },
                                {
                                    "KAT_ID": "70",
                                    "Darab": "3"
                                },
                                {
                                    "KAT_ID": "5",
                                    "Darab": "3"
                                },
                                {
                                    "KAT_ID": "7",
                                    "Darab": "3"
                                },
                                {
                                    "KAT_ID": "8",
                                    "Darab": "3"
                                },
                                {
                                    "KAT_ID": "20",
                                    "Darab": "3"
                                },
                                {
                                    "KAT_ID": "32",
                                    "Darab": "3"
                                },
                                {
                                    "KAT_ID": "39",
                                    "Darab": "2"
                                },
                                {
                                    "KAT_ID": "22",
                                    "Darab": "2"
                                },
                                {
                                    "KAT_ID": "13",
                                    "Darab": "2"
                                },
                                {
                                    "KAT_ID": "18",
                                    "Darab": "2"
                                },
                                {
                                    "KAT_ID": "9",
                                    "Darab": "2"
                                },
                                {
                                    "KAT_ID": "71",
                                    "Darab": "2"
                                },
                                {
                                    "KAT_ID": "72",
                                    "Darab": "2"
                                },
                                {
                                    "KAT_ID": "73",
                                    "Darab": "2"
                                },
                                {
                                    "KAT_ID": "65",
                                    "Darab": "2"
                                },
                                {
                                    "KAT_ID": "67",
                                    "Darab": "2"
                                },
                                {
                                    "KAT_ID": "68",
                                    "Darab": "2"
                                },
                                {
                                    "KAT_ID": "62",
                                    "Darab": "2"
                                },
                                {
                                    "KAT_ID": "75",
                                    "Darab": "2"
                                },
                                {
                                    "KAT_ID": "57",
                                    "Darab": "2"
                                },
                                {
                                    "KAT_ID": "55",
                                    "Darab": "2"
                                },
                                {
                                    "KAT_ID": "48",
                                    "Darab": "2"
                                },
                                {
                                    "KAT_ID": "49",
                                    "Darab": "2"
                                },
                                {
                                    "KAT_ID": "136",
                                    "Darab": "2"
                                },
                                {
                                    "KAT_ID": "134",
                                    "Darab": "2"
                                },
                                {
                                    "KAT_ID": "141",
                                    "Darab": "2"
                                },
                                {
                                    "KAT_ID": "123",
                                    "Darab": "2"
                                },
                                {
                                    "KAT_ID": "127",
                                    "Darab": "2"
                                },
                                {
                                    "KAT_ID": "128",
                                    "Darab": "2"
                                },
                                {
                                    "KAT_ID": "129",
                                    "Darab": "2"
                                },
                                {
                                    "KAT_ID": "144",
                                    "Darab": "2"
                                },
                                {
                                    "KAT_ID": "150",
                                    "Darab": "2"
                                },
                                {
                                    "KAT_ID": "112",
                                    "Darab": "2"
                                },
                                {
                                    "KAT_ID": "121",
                                    "Darab": "2"
                                },
                                {
                                    "KAT_ID": "116",
                                    "Darab": "2"
                                },
                                {
                                    "KAT_ID": "117",
                                    "Darab": "2"
                                },
                                {
                                    "KAT_ID": "110",
                                    "Darab": "2"
                                },
                                {
                                    "KAT_ID": "104",
                                    "Darab": "2"
                                },
                                {
                                    "KAT_ID": "90",
                                    "Darab": "2"
                                },
                                {
                                    "KAT_ID": "88",
                                    "Darab": "2"
                                },
                                {
                                    "KAT_ID": "94",
                                    "Darab": "2"
                                },
                                {
                                    "KAT_ID": "95",
                                    "Darab": "2"
                                },
                                {
                                    "KAT_ID": "92",
                                    "Darab": "2"
                                },
                                {
                                    "KAT_ID": "99",
                                    "Darab": "1"
                                },
                                {
                                    "KAT_ID": "101",
                                    "Darab": "1"
                                },
                                {
                                    "KAT_ID": "103",
                                    "Darab": "1"
                                },
                                {
                                    "KAT_ID": "84",
                                    "Darab": "1"
                                },
                                {
                                    "KAT_ID": "86",
                                    "Darab": "1"
                                },
                                {
                                    "KAT_ID": "105",
                                    "Darab": "1"
                                },
                                {
                                    "KAT_ID": "107",
                                    "Darab": "1"
                                },
                                {
                                    "KAT_ID": "108",
                                    "Darab": "1"
                                },
                                {
                                    "KAT_ID": "109",
                                    "Darab": "1"
                                },
                                {
                                    "KAT_ID": "114",
                                    "Darab": "1"
                                },
                                {
                                    "KAT_ID": "115",
                                    "Darab": "1"
                                },
                                {
                                    "KAT_ID": "147",
                                    "Darab": "1"
                                },
                                {
                                    "KAT_ID": "148",
                                    "Darab": "1"
                                },
                                {
                                    "KAT_ID": "155",
                                    "Darab": "1"
                                },
                                {
                                    "KAT_ID": "153",
                                    "Darab": "1"
                                },
                                {
                                    "KAT_ID": "130",
                                    "Darab": "1"
                                },
                                {
                                    "KAT_ID": "131",
                                    "Darab": "1"
                                },
                                {
                                    "KAT_ID": "132",
                                    "Darab": "1"
                                },
                                {
                                    "KAT_ID": "126",
                                    "Darab": "1"
                                },
                                {
                                    "KAT_ID": "142",
                                    "Darab": "1"
                                },
                                {
                                    "KAT_ID": "139",
                                    "Darab": "1"
                                },
                                {
                                    "KAT_ID": "140",
                                    "Darab": "1"
                                },
                                {
                                    "KAT_ID": "135",
                                    "Darab": "1"
                                },
                                {
                                    "KAT_ID": "50",
                                    "Darab": "1"
                                },
                                {
                                    "KAT_ID": "44",
                                    "Darab": "1"
                                },
                                {
                                    "KAT_ID": "53",
                                    "Darab": "1"
                                },
                                {
                                    "KAT_ID": "80",
                                    "Darab": "1"
                                },
                                {
                                    "KAT_ID": "82",
                                    "Darab": "1"
                                },
                                {
                                    "KAT_ID": "61",
                                    "Darab": "1"
                                },
                                {
                                    "KAT_ID": "74",
                                    "Darab": "1"
                                },
                                {
                                    "KAT_ID": "10",
                                    "Darab": "1"
                                },
                                {
                                    "KAT_ID": "11",
                                    "Darab": "1"
                                },
                                {
                                    "KAT_ID": "12",
                                    "Darab": "1"
                                },
                                {
                                    "KAT_ID": "15",
                                    "Darab": "1"
                                },
                                {
                                    "KAT_ID": "17",
                                    "Darab": "1"
                                },
                                {
                                    "KAT_ID": "40",
                                    "Darab": "1"
                                },
                                {
                                    "KAT_ID": "42",
                                    "Darab": "1"
                                },
                                {
                                    "KAT_ID": "37",
                                    "Darab": "1"
                                },
                                {
                                    "KAT_ID": "38",
                                    "Darab": "1"
                                },
                                {
                                    "KAT_ID": "33",
                                    "Darab": "1"
                                },
                                {
                                    "KAT_ID": "34",
                                    "Darab": "1"
                                },
                                {
                                    "KAT_ID": "31",
                                    "Darab": "1"
                                },
                                {
                                    "KAT_ID": "26",
                                    "Darab": "1"
                                },
                                {
                                    "KAT_ID": "29",
                                    "Darab": "1"
                                }
                            ]
                        },
                        "text/html": "<table><tr><th>KAT_ID</th><th>Darab</th></tr><tr><td>52</td><td>26</td></tr><tr><td>78</td><td>24</td></tr><tr><td>6</td><td>20</td></tr><tr><td>19</td><td>19</td></tr><tr><td>145</td><td>18</td></tr><tr><td>85</td><td>16</td></tr><tr><td>4</td><td>15</td></tr><tr><td>41</td><td>13</td></tr><tr><td>45</td><td>11</td></tr><tr><td>97</td><td>10</td></tr><tr><td>124</td><td>10</td></tr><tr><td>100</td><td>9</td></tr><tr><td>96</td><td>9</td></tr><tr><td>118</td><td>9</td></tr><tr><td>91</td><td>7</td></tr><tr><td>93</td><td>7</td></tr><tr><td>122</td><td>7</td></tr><tr><td>146</td><td>7</td></tr><tr><td>46</td><td>7</td></tr><tr><td>66</td><td>7</td></tr><tr><td>35</td><td>7</td></tr><tr><td>24</td><td>7</td></tr><tr><td>30</td><td>7</td></tr><tr><td>16</td><td>7</td></tr><tr><td>54</td><td>6</td></tr><tr><td>149</td><td>6</td></tr><tr><td>152</td><td>6</td></tr><tr><td>133</td><td>6</td></tr><tr><td>83</td><td>6</td></tr><tr><td>76</td><td>5</td></tr><tr><td>106</td><td>5</td></tr><tr><td>138</td><td>5</td></tr><tr><td>60</td><td>5</td></tr><tr><td>21</td><td>5</td></tr><tr><td>28</td><td>5</td></tr><tr><td>36</td><td>5</td></tr><tr><td>25</td><td>4</td></tr><tr><td>14</td><td>4</td></tr><tr><td>64</td><td>4</td></tr><tr><td>79</td><td>4</td></tr><tr><td>56</td><td>4</td></tr><tr><td>59</td><td>4</td></tr><tr><td>47</td><td>4</td></tr><tr><td>125</td><td>4</td></tr><tr><td>154</td><td>4</td></tr><tr><td>151</td><td>4</td></tr><tr><td>98</td><td>4</td></tr><tr><td>89</td><td>3</td></tr><tr><td>119</td><td>3</td></tr><tr><td>111</td><td>3</td></tr><tr><td>143</td><td>3</td></tr><tr><td>137</td><td>3</td></tr><tr><td>43</td><td>3</td></tr><tr><td>27</td><td>3</td></tr><tr><td>51</td><td>3</td></tr><tr><td>58</td><td>3</td></tr><tr><td>70</td><td>3</td></tr><tr><td>5</td><td>3</td></tr><tr><td>7</td><td>3</td></tr><tr><td>8</td><td>3</td></tr><tr><td>20</td><td>3</td></tr><tr><td>32</td><td>3</td></tr><tr><td>39</td><td>2</td></tr><tr><td>22</td><td>2</td></tr><tr><td>13</td><td>2</td></tr><tr><td>18</td><td>2</td></tr><tr><td>9</td><td>2</td></tr><tr><td>71</td><td>2</td></tr><tr><td>72</td><td>2</td></tr><tr><td>73</td><td>2</td></tr><tr><td>65</td><td>2</td></tr><tr><td>67</td><td>2</td></tr><tr><td>68</td><td>2</td></tr><tr><td>62</td><td>2</td></tr><tr><td>75</td><td>2</td></tr><tr><td>57</td><td>2</td></tr><tr><td>55</td><td>2</td></tr><tr><td>48</td><td>2</td></tr><tr><td>49</td><td>2</td></tr><tr><td>136</td><td>2</td></tr><tr><td>134</td><td>2</td></tr><tr><td>141</td><td>2</td></tr><tr><td>123</td><td>2</td></tr><tr><td>127</td><td>2</td></tr><tr><td>128</td><td>2</td></tr><tr><td>129</td><td>2</td></tr><tr><td>144</td><td>2</td></tr><tr><td>150</td><td>2</td></tr><tr><td>112</td><td>2</td></tr><tr><td>121</td><td>2</td></tr><tr><td>116</td><td>2</td></tr><tr><td>117</td><td>2</td></tr><tr><td>110</td><td>2</td></tr><tr><td>104</td><td>2</td></tr><tr><td>90</td><td>2</td></tr><tr><td>88</td><td>2</td></tr><tr><td>94</td><td>2</td></tr><tr><td>95</td><td>2</td></tr><tr><td>92</td><td>2</td></tr><tr><td>99</td><td>1</td></tr><tr><td>101</td><td>1</td></tr><tr><td>103</td><td>1</td></tr><tr><td>84</td><td>1</td></tr><tr><td>86</td><td>1</td></tr><tr><td>105</td><td>1</td></tr><tr><td>107</td><td>1</td></tr><tr><td>108</td><td>1</td></tr><tr><td>109</td><td>1</td></tr><tr><td>114</td><td>1</td></tr><tr><td>115</td><td>1</td></tr><tr><td>147</td><td>1</td></tr><tr><td>148</td><td>1</td></tr><tr><td>155</td><td>1</td></tr><tr><td>153</td><td>1</td></tr><tr><td>130</td><td>1</td></tr><tr><td>131</td><td>1</td></tr><tr><td>132</td><td>1</td></tr><tr><td>126</td><td>1</td></tr><tr><td>142</td><td>1</td></tr><tr><td>139</td><td>1</td></tr><tr><td>140</td><td>1</td></tr><tr><td>135</td><td>1</td></tr><tr><td>50</td><td>1</td></tr><tr><td>44</td><td>1</td></tr><tr><td>53</td><td>1</td></tr><tr><td>80</td><td>1</td></tr><tr><td>82</td><td>1</td></tr><tr><td>61</td><td>1</td></tr><tr><td>74</td><td>1</td></tr><tr><td>10</td><td>1</td></tr><tr><td>11</td><td>1</td></tr><tr><td>12</td><td>1</td></tr><tr><td>15</td><td>1</td></tr><tr><td>17</td><td>1</td></tr><tr><td>40</td><td>1</td></tr><tr><td>42</td><td>1</td></tr><tr><td>37</td><td>1</td></tr><tr><td>38</td><td>1</td></tr><tr><td>33</td><td>1</td></tr><tr><td>34</td><td>1</td></tr><tr><td>31</td><td>1</td></tr><tr><td>26</td><td>1</td></tr><tr><td>29</td><td>1</td></tr></table>"
                    },
                    "metadata": {}
                }
            ],
            "execution_count": 5
        },
        {
            "cell_type": "markdown",
            "source": [
                "**Havi bontásban a termékek vásárlásának száma**\n",
                "\n",
                "Megmutatja, hogy melyik _hónapban hány új terméket_ rögzítettek az adatbázisba.\n",
                "\n",
                "A diagram a havi bontást ábrázolja, hiszen minden adatot 2016-ban rögzítettek.\n",
                "\n",
                "![](data:image/png;base64,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)"
            ],
            "metadata": {
                "azdata_cell_guid": "03f3ce1e-10dd-436f-9773-f656407e89df"
            },
            "attachments": {}
        },
        {
            "cell_type": "code",
            "source": [
                "SELECT \r\n",
                "    YEAR(FELVITEL) AS 'Év',\r\n",
                "    MONTH(FELVITEL) AS 'Hónap',\r\n",
                "    COUNT(*) AS 'Darabszám'\r\n",
                "FROM termek\r\n",
                "WHERE FELVITEL IS NOT NULL\r\n",
                "GROUP BY YEAR(FELVITEL), MONTH(FELVITEL)\r\n",
                "ORDER BY 1, 2 DESC;"
            ],
            "metadata": {
                "azdata_cell_guid": "1b690969-c894-4ff1-8034-624067a91295",
                "language": "sql",
                "tags": []
            },
            "outputs": [
                {
                    "output_type": "display_data",
                    "data": {
                        "text/html": "(4 rows affected)"
                    },
                    "metadata": {}
                },
                {
                    "output_type": "display_data",
                    "data": {
                        "text/html": "Total execution time: 00:00:00.006"
                    },
                    "metadata": {}
                },
                {
                    "output_type": "execute_result",
                    "execution_count": 10,
                    "data": {
                        "application/vnd.dataresource+json": {
                            "schema": {
                                "fields": [
                                    {
                                        "name": "Év"
                                    },
                                    {
                                        "name": "HÓnap"
                                    },
                                    {
                                        "name": "termek_db"
                                    }
                                ]
                            },
                            "data": [
                                {
                                    "Év": "2016",
                                    "HÓnap": "12",
                                    "termek_db": "1"
                                },
                                {
                                    "Év": "2016",
                                    "HÓnap": "9",
                                    "termek_db": "1"
                                },
                                {
                                    "Év": "2016",
                                    "HÓnap": "8",
                                    "termek_db": "194"
                                },
                                {
                                    "Év": "2016",
                                    "HÓnap": "7",
                                    "termek_db": "355"
                                }
                            ]
                        },
                        "text/html": "<table><tr><th>Év</th><th>HÓnap</th><th>termek_db</th></tr><tr><td>2016</td><td>12</td><td>1</td></tr><tr><td>2016</td><td>9</td><td>1</td></tr><tr><td>2016</td><td>8</td><td>194</td></tr><tr><td>2016</td><td>7</td><td>355</td></tr></table>"
                    },
                    "metadata": {}
                }
            ],
            "execution_count": 10
        },
        {
            "cell_type": "markdown",
            "source": [
                "**Termékkód és készlet kapcsolat**\n",
                "\n",
                "Azon termékek kilistázása, amelyeket _júliusban_ vettek fel az adatbázisba, és amelyekből még van készleten."
            ],
            "metadata": {
                "azdata_cell_guid": "e11506df-cd69-4073-949f-60e74de59b8b"
            },
            "attachments": {}
        },
        {
            "cell_type": "code",
            "source": [
                "SELECT TERMEKKOD AS 'Termékkód', \r\n",
                "    SUM(KESZLET) AS 'Készleten'\r\n",
                "FROM termek\r\n",
                "WHERE MONTH(FELVITEL) = 7\r\n",
                "GROUP BY TERMEKKOD\r\n",
                "HAVING SUM(KESZLET) > 0\r\n",
                "ORDER BY 2 DESC"
            ],
            "metadata": {
                "azdata_cell_guid": "cd1e225d-c6cd-4bba-bb73-310e165f9620",
                "language": "sql"
            },
            "outputs": [
                {
                    "output_type": "display_data",
                    "data": {
                        "text/html": "(353 rows affected)"
                    },
                    "metadata": {}
                },
                {
                    "output_type": "display_data",
                    "data": {
                        "text/html": "Total execution time: 00:00:00.041"
                    },
                    "metadata": {}
                },
                {
                    "output_type": "execute_result",
                    "execution_count": 14,
                    "data": {
                        "application/vnd.dataresource+json": {
                            "schema": {
                                "fields": [
                                    {
                                        "name": "termekkod"
                                    },
                                    {
                                        "name": "(No column name)"
                                    }
                                ]
                            },
                            "data": [
                                {
                                    "termekkod": "03050457T",
                                    "(No column name)": "50000"
                                },
                                {
                                    "termekkod": "03050079T",
                                    "(No column name)": "40000"
                                },
                                {
                                    "termekkod": "03050080T",
                                    "(No column name)": "26000"
                                },
                                {
                                    "termekkod": "02080435T",
                                    "(No column name)": "10000"
                                },
                                {
                                    "termekkod": "02030044T",
                                    "(No column name)": "10000"
                                },
                                {
                                    "termekkod": "02040002T",
                                    "(No column name)": "10000"
                                },
                                {
                                    "termekkod": "04030236T",
                                    "(No column name)": "10000"
                                },
                                {
                                    "termekkod": "02040293T",
                                    "(No column name)": "9000"
                                },
                                {
                                    "termekkod": "03050458T",
                                    "(No column name)": "8000"
                                },
                                {
                                    "termekkod": "04040090T",
                                    "(No column name)": "7700"
                                },
                                {
                                    "termekkod": "02040292T",
                                    "(No column name)": "6900"
                                },
                                {
                                    "termekkod": "01020299T",
                                    "(No column name)": "6600"
                                },
                                {
                                    "termekkod": "04110273T",
                                    "(No column name)": "6200"
                                },
                                {
                                    "termekkod": "05010027T",
                                    "(No column name)": "5900"
                                },
                                {
                                    "termekkod": "04030287T",
                                    "(No column name)": "5100"
                                },
                                {
                                    "termekkod": "06080336T",
                                    "(No column name)": "4900"
                                },
                                {
                                    "termekkod": "02040149T",
                                    "(No column name)": "4700"
                                },
                                {
                                    "termekkod": "06040357T",
                                    "(No column name)": "4400"
                                },
                                {
                                    "termekkod": "02040406T",
                                    "(No column name)": "4200"
                                },
                                {
                                    "termekkod": "02040295T",
                                    "(No column name)": "4100"
                                },
                                {
                                    "termekkod": "03080438T",
                                    "(No column name)": "3900"
                                },
                                {
                                    "termekkod": "03080437T",
                                    "(No column name)": "3600"
                                },
                                {
                                    "termekkod": "06080338T",
                                    "(No column name)": "3600"
                                },
                                {
                                    "termekkod": "02040146T",
                                    "(No column name)": "3200"
                                },
                                {
                                    "termekkod": "01100071T",
                                    "(No column name)": "3100"
                                },
                                {
                                    "termekkod": "01010001T",
                                    "(No column name)": "3000"
                                },
                                {
                                    "termekkod": "06080334T",
                                    "(No column name)": "3000"
                                },
                                {
                                    "termekkod": "07010372T",
                                    "(No column name)": "3000"
                                },
                                {
                                    "termekkod": "06040396T",
                                    "(No column name)": "2900"
                                },
                                {
                                    "termekkod": "02020444T",
                                    "(No column name)": "2700"
                                },
                                {
                                    "termekkod": "03050459T",
                                    "(No column name)": "2600"
                                },
                                {
                                    "termekkod": "03080018T",
                                    "(No column name)": "2600"
                                },
                                {
                                    "termekkod": "06080414T",
                                    "(No column name)": "2600"
                                },
                                {
                                    "termekkod": "06040325T",
                                    "(No column name)": "2600"
                                },
                                {
                                    "termekkod": "03080005T",
                                    "(No column name)": "2500"
                                },
                                {
                                    "termekkod": "02030043T",
                                    "(No column name)": "2500"
                                },
                                {
                                    "termekkod": "02040210T",
                                    "(No column name)": "2500"
                                },
                                {
                                    "termekkod": "06040328T",
                                    "(No column name)": "2400"
                                },
                                {
                                    "termekkod": "04030289T",
                                    "(No column name)": "2400"
                                },
                                {
                                    "termekkod": "04030241T",
                                    "(No column name)": "2300"
                                },
                                {
                                    "termekkod": "04030242T",
                                    "(No column name)": "2300"
                                },
                                {
                                    "termekkod": "03080011T",
                                    "(No column name)": "2300"
                                },
                                {
                                    "termekkod": "03080008T",
                                    "(No column name)": "2200"
                                },
                                {
                                    "termekkod": "06040327T",
                                    "(No column name)": "2200"
                                },
                                {
                                    "termekkod": "06040247T",
                                    "(No column name)": "2200"
                                },
                                {
                                    "termekkod": "07010371T",
                                    "(No column name)": "2200"
                                },
                                {
                                    "termekkod": "04030234T",
                                    "(No column name)": "2100"
                                },
                                {
                                    "termekkod": "03080031T",
                                    "(No column name)": "2100"
                                },
                                {
                                    "termekkod": "03080007T",
                                    "(No column name)": "2000"
                                },
                                {
                                    "termekkod": "02040296T",
                                    "(No column name)": "2000"
                                },
                                {
                                    "termekkod": "02030041T",
                                    "(No column name)": "2000"
                                },
                                {
                                    "termekkod": "02030042T",
                                    "(No column name)": "2000"
                                },
                                {
                                    "termekkod": "06080123T",
                                    "(No column name)": "2000"
                                },
                                {
                                    "termekkod": "02040297T",
                                    "(No column name)": "1900"
                                },
                                {
                                    "termekkod": "03080010T",
                                    "(No column name)": "1900"
                                },
                                {
                                    "termekkod": "06080440T",
                                    "(No column name)": "1900"
                                },
                                {
                                    "termekkod": "07040048T",
                                    "(No column name)": "1900"
                                },
                                {
                                    "termekkod": "07010136T",
                                    "(No column name)": "1800"
                                },
                                {
                                    "termekkod": "01090498T",
                                    "(No column name)": "1800"
                                },
                                {
                                    "termekkod": "06040185T",
                                    "(No column name)": "1800"
                                },
                                {
                                    "termekkod": "06040329T",
                                    "(No column name)": "1700"
                                },
                                {
                                    "termekkod": "04030240T",
                                    "(No column name)": "1600"
                                },
                                {
                                    "termekkod": "04030260T",
                                    "(No column name)": "1600"
                                },
                                {
                                    "termekkod": "04050035T",
                                    "(No column name)": "1500"
                                },
                                {
                                    "termekkod": "06040324T",
                                    "(No column name)": "1500"
                                },
                                {
                                    "termekkod": "06080126T",
                                    "(No column name)": "1500"
                                },
                                {
                                    "termekkod": "06080332T",
                                    "(No column name)": "1500"
                                },
                                {
                                    "termekkod": "01090499T",
                                    "(No column name)": "1500"
                                },
                                {
                                    "termekkod": "02040207T",
                                    "(No column name)": "1500"
                                },
                                {
                                    "termekkod": "02040147T",
                                    "(No column name)": "1500"
                                },
                                {
                                    "termekkod": "02040291T",
                                    "(No column name)": "1400"
                                },
                                {
                                    "termekkod": "03080015T",
                                    "(No column name)": "1300"
                                },
                                {
                                    "termekkod": "02080081T",
                                    "(No column name)": "1300"
                                },
                                {
                                    "termekkod": "02080226T",
                                    "(No column name)": "1300"
                                },
                                {
                                    "termekkod": "04030263T",
                                    "(No column name)": "1300"
                                },
                                {
                                    "termekkod": "04110362T",
                                    "(No column name)": "1200"
                                },
                                {
                                    "termekkod": "02060448T",
                                    "(No column name)": "1200"
                                },
                                {
                                    "termekkod": "02040176T",
                                    "(No column name)": "1200"
                                },
                                {
                                    "termekkod": "07010140T",
                                    "(No column name)": "1200"
                                },
                                {
                                    "termekkod": "01010304T",
                                    "(No column name)": "1100"
                                },
                                {
                                    "termekkod": "02080432T",
                                    "(No column name)": "1100"
                                },
                                {
                                    "termekkod": "02040403T",
                                    "(No column name)": "1100"
                                },
                                {
                                    "termekkod": "03010344T",
                                    "(No column name)": "1100"
                                },
                                {
                                    "termekkod": "06040330T",
                                    "(No column name)": "1100"
                                },
                                {
                                    "termekkod": "03080439T",
                                    "(No column name)": "1100"
                                },
                                {
                                    "termekkod": "04030261T",
                                    "(No column name)": "1000"
                                },
                                {
                                    "termekkod": "04030243T",
                                    "(No column name)": "1000"
                                },
                                {
                                    "termekkod": "04050023T",
                                    "(No column name)": "1000"
                                },
                                {
                                    "termekkod": "04050024T",
                                    "(No column name)": "1000"
                                },
                                {
                                    "termekkod": "06080190T",
                                    "(No column name)": "1000"
                                },
                                {
                                    "termekkod": "06040393T",
                                    "(No column name)": "1000"
                                },
                                {
                                    "termekkod": "03080014T",
                                    "(No column name)": "1000"
                                },
                                {
                                    "termekkod": "01090516T",
                                    "(No column name)": "1000"
                                },
                                {
                                    "termekkod": "01090517T",
                                    "(No column name)": "1000"
                                },
                                {
                                    "termekkod": "01100504T",
                                    "(No column name)": "1000"
                                },
                                {
                                    "termekkod": "02040178T",
                                    "(No column name)": "1000"
                                },
                                {
                                    "termekkod": "07030107T",
                                    "(No column name)": "1000"
                                },
                                {
                                    "termekkod": "06080430T",
                                    "(No column name)": "900"
                                },
                                {
                                    "termekkod": "01100503T",
                                    "(No column name)": "900"
                                },
                                {
                                    "termekkod": "02080455T",
                                    "(No column name)": "900"
                                },
                                {
                                    "termekkod": "02040402T",
                                    "(No column name)": "900"
                                },
                                {
                                    "termekkod": "02060447T",
                                    "(No column name)": "900"
                                },
                                {
                                    "termekkod": "06080188T",
                                    "(No column name)": "900"
                                },
                                {
                                    "termekkod": "06080124T",
                                    "(No column name)": "900"
                                },
                                {
                                    "termekkod": "06080339T",
                                    "(No column name)": "900"
                                },
                                {
                                    "termekkod": "04030235T",
                                    "(No column name)": "900"
                                },
                                {
                                    "termekkod": "04110277T",
                                    "(No column name)": "900"
                                },
                                {
                                    "termekkod": "06040354T",
                                    "(No column name)": "800"
                                },
                                {
                                    "termekkod": "02080436T",
                                    "(No column name)": "800"
                                },
                                {
                                    "termekkod": "03050076T",
                                    "(No column name)": "800"
                                },
                                {
                                    "termekkod": "03080030T",
                                    "(No column name)": "800"
                                },
                                {
                                    "termekkod": "03080020T",
                                    "(No column name)": "800"
                                },
                                {
                                    "termekkod": "03080009T",
                                    "(No column name)": "700"
                                },
                                {
                                    "termekkod": "02060034T",
                                    "(No column name)": "700"
                                },
                                {
                                    "termekkod": "02040211T",
                                    "(No column name)": "700"
                                },
                                {
                                    "termekkod": "06040395T",
                                    "(No column name)": "700"
                                },
                                {
                                    "termekkod": "06040397T",
                                    "(No column name)": "700"
                                },
                                {
                                    "termekkod": "04110279T",
                                    "(No column name)": "700"
                                },
                                {
                                    "termekkod": "06040186T",
                                    "(No column name)": "700"
                                },
                                {
                                    "termekkod": "04050187T",
                                    "(No column name)": "700"
                                },
                                {
                                    "termekkod": "07030106T",
                                    "(No column name)": "700"
                                },
                                {
                                    "termekkod": "07040101T",
                                    "(No column name)": "700"
                                },
                                {
                                    "termekkod": "07010141T",
                                    "(No column name)": "600"
                                },
                                {
                                    "termekkod": "07010137T",
                                    "(No column name)": "600"
                                },
                                {
                                    "termekkod": "04040387T",
                                    "(No column name)": "600"
                                },
                                {
                                    "termekkod": "04020445T",
                                    "(No column name)": "600"
                                },
                                {
                                    "termekkod": "04030262T",
                                    "(No column name)": "600"
                                },
                                {
                                    "termekkod": "05040349T",
                                    "(No column name)": "600"
                                },
                                {
                                    "termekkod": "06080117T",
                                    "(No column name)": "600"
                                },
                                {
                                    "termekkod": "06040355T",
                                    "(No column name)": "600"
                                },
                                {
                                    "termekkod": "06040353T",
                                    "(No column name)": "600"
                                },
                                {
                                    "termekkod": "02040209T",
                                    "(No column name)": "600"
                                },
                                {
                                    "termekkod": "01100070T",
                                    "(No column name)": "600"
                                },
                                {
                                    "termekkod": "02080434T",
                                    "(No column name)": "600"
                                },
                                {
                                    "termekkod": "02080453T",
                                    "(No column name)": "600"
                                },
                                {
                                    "termekkod": "03080013T",
                                    "(No column name)": "600"
                                },
                                {
                                    "termekkod": "03080019T",
                                    "(No column name)": "600"
                                },
                                {
                                    "termekkod": "03010345T",
                                    "(No column name)": "500"
                                },
                                {
                                    "termekkod": "02080456T",
                                    "(No column name)": "500"
                                },
                                {
                                    "termekkod": "02080109T",
                                    "(No column name)": "500"
                                },
                                {
                                    "termekkod": "01100096T",
                                    "(No column name)": "500"
                                },
                                {
                                    "termekkod": "02040194T",
                                    "(No column name)": "500"
                                },
                                {
                                    "termekkod": "06040380T",
                                    "(No column name)": "500"
                                },
                                {
                                    "termekkod": "06040382T",
                                    "(No column name)": "500"
                                },
                                {
                                    "termekkod": "06040384T",
                                    "(No column name)": "500"
                                },
                                {
                                    "termekkod": "06050249T",
                                    "(No column name)": "500"
                                },
                                {
                                    "termekkod": "06080189T",
                                    "(No column name)": "500"
                                },
                                {
                                    "termekkod": "06080333T",
                                    "(No column name)": "500"
                                },
                                {
                                    "termekkod": "06080424T",
                                    "(No column name)": "500"
                                },
                                {
                                    "termekkod": "06080428T",
                                    "(No column name)": "500"
                                },
                                {
                                    "termekkod": "04110278T",
                                    "(No column name)": "500"
                                },
                                {
                                    "termekkod": "06040350T",
                                    "(No column name)": "500"
                                },
                                {
                                    "termekkod": "04050022T",
                                    "(No column name)": "500"
                                },
                                {
                                    "termekkod": "04030266T",
                                    "(No column name)": "500"
                                },
                                {
                                    "termekkod": "04050221T",
                                    "(No column name)": "500"
                                },
                                {
                                    "termekkod": "04050171T",
                                    "(No column name)": "500"
                                },
                                {
                                    "termekkod": "07030108T",
                                    "(No column name)": "500"
                                },
                                {
                                    "termekkod": "07040051T",
                                    "(No column name)": "500"
                                },
                                {
                                    "termekkod": "L029-FE307",
                                    "(No column name)": "470"
                                },
                                {
                                    "termekkod": "07030104T",
                                    "(No column name)": "400"
                                },
                                {
                                    "termekkod": "04030239T",
                                    "(No column name)": "400"
                                },
                                {
                                    "termekkod": "04050220T",
                                    "(No column name)": "400"
                                },
                                {
                                    "termekkod": "04110276T",
                                    "(No column name)": "400"
                                },
                                {
                                    "termekkod": "06080429T",
                                    "(No column name)": "400"
                                },
                                {
                                    "termekkod": "06080425T",
                                    "(No column name)": "400"
                                },
                                {
                                    "termekkod": "06080125T",
                                    "(No column name)": "400"
                                },
                                {
                                    "termekkod": "06050302T",
                                    "(No column name)": "400"
                                },
                                {
                                    "termekkod": "06040392T",
                                    "(No column name)": "400"
                                },
                                {
                                    "termekkod": "02040195T",
                                    "(No column name)": "400"
                                },
                                {
                                    "termekkod": "02020245T",
                                    "(No column name)": "400"
                                },
                                {
                                    "termekkod": "02040208T",
                                    "(No column name)": "400"
                                },
                                {
                                    "termekkod": "02040145T",
                                    "(No column name)": "400"
                                },
                                {
                                    "termekkod": "01100072T",
                                    "(No column name)": "400"
                                },
                                {
                                    "termekkod": "01090515T",
                                    "(No column name)": "400"
                                },
                                {
                                    "termekkod": "02080069T",
                                    "(No column name)": "400"
                                },
                                {
                                    "termekkod": "02080454T",
                                    "(No column name)": "400"
                                },
                                {
                                    "termekkod": "03080003T",
                                    "(No column name)": "400"
                                },
                                {
                                    "termekkod": "L033-FE311",
                                    "(No column name)": "373"
                                },
                                {
                                    "termekkod": "L023-FE301",
                                    "(No column name)": "369"
                                },
                                {
                                    "termekkod": "N035-AL218",
                                    "(No column name)": "369"
                                },
                                {
                                    "termekkod": "L041-AL211",
                                    "(No column name)": "325"
                                },
                                {
                                    "termekkod": "L073-CI410",
                                    "(No column name)": "323"
                                },
                                {
                                    "termekkod": "07030103T",
                                    "(No column name)": "300"
                                },
                                {
                                    "termekkod": "06080441T",
                                    "(No column name)": "300"
                                },
                                {
                                    "termekkod": "07040061T",
                                    "(No column name)": "300"
                                },
                                {
                                    "termekkod": "02080514T",
                                    "(No column name)": "300"
                                },
                                {
                                    "termekkod": "03080012T",
                                    "(No column name)": "300"
                                },
                                {
                                    "termekkod": "02040404T",
                                    "(No column name)": "300"
                                },
                                {
                                    "termekkod": "02040405T",
                                    "(No column name)": "300"
                                },
                                {
                                    "termekkod": "02040401T",
                                    "(No column name)": "300"
                                },
                                {
                                    "termekkod": "02040294T",
                                    "(No column name)": "300"
                                },
                                {
                                    "termekkod": "01080093T",
                                    "(No column name)": "300"
                                },
                                {
                                    "termekkod": "01100094T",
                                    "(No column name)": "300"
                                },
                                {
                                    "termekkod": "01100496T",
                                    "(No column name)": "300"
                                },
                                {
                                    "termekkod": "02020037T",
                                    "(No column name)": "300"
                                },
                                {
                                    "termekkod": "02040199T",
                                    "(No column name)": "300"
                                },
                                {
                                    "termekkod": "02040200T",
                                    "(No column name)": "300"
                                },
                                {
                                    "termekkod": "02040214T",
                                    "(No column name)": "300"
                                },
                                {
                                    "termekkod": "02040290T",
                                    "(No column name)": "300"
                                },
                                {
                                    "termekkod": "02040298T",
                                    "(No column name)": "300"
                                },
                                {
                                    "termekkod": "02040308T",
                                    "(No column name)": "300"
                                },
                                {
                                    "termekkod": "06040383T",
                                    "(No column name)": "300"
                                },
                                {
                                    "termekkod": "06080121T",
                                    "(No column name)": "300"
                                },
                                {
                                    "termekkod": "06080122T",
                                    "(No column name)": "300"
                                },
                                {
                                    "termekkod": "06080118T",
                                    "(No column name)": "300"
                                },
                                {
                                    "termekkod": "06080191T",
                                    "(No column name)": "300"
                                },
                                {
                                    "termekkod": "06080426T",
                                    "(No column name)": "300"
                                },
                                {
                                    "termekkod": "04110274T",
                                    "(No column name)": "300"
                                },
                                {
                                    "termekkod": "04110280T",
                                    "(No column name)": "300"
                                },
                                {
                                    "termekkod": "05040310T",
                                    "(No column name)": "300"
                                },
                                {
                                    "termekkod": "04110282T",
                                    "(No column name)": "300"
                                },
                                {
                                    "termekkod": "06040248T",
                                    "(No column name)": "300"
                                },
                                {
                                    "termekkod": "04030264T",
                                    "(No column name)": "300"
                                },
                                {
                                    "termekkod": "04030238T",
                                    "(No column name)": "300"
                                },
                                {
                                    "termekkod": "04050203T",
                                    "(No column name)": "300"
                                },
                                {
                                    "termekkod": "04050204T",
                                    "(No column name)": "300"
                                },
                                {
                                    "termekkod": "04030285T",
                                    "(No column name)": "300"
                                },
                                {
                                    "termekkod": "04030286T",
                                    "(No column name)": "300"
                                },
                                {
                                    "termekkod": "N008-NA201",
                                    "(No column name)": "289"
                                },
                                {
                                    "termekkod": "N029-AL212",
                                    "(No column name)": "283"
                                },
                                {
                                    "termekkod": "L082-CI419",
                                    "(No column name)": "264"
                                },
                                {
                                    "termekkod": "N039-AL222",
                                    "(No column name)": "238"
                                },
                                {
                                    "termekkod": "07040050T",
                                    "(No column name)": "200"
                                },
                                {
                                    "termekkod": "07040129T",
                                    "(No column name)": "200"
                                },
                                {
                                    "termekkod": "07040130T",
                                    "(No column name)": "200"
                                },
                                {
                                    "termekkod": "07040099T",
                                    "(No column name)": "200"
                                },
                                {
                                    "termekkod": "07040100T",
                                    "(No column name)": "200"
                                },
                                {
                                    "termekkod": "07040053T",
                                    "(No column name)": "200"
                                },
                                {
                                    "termekkod": "07040047T",
                                    "(No column name)": "200"
                                },
                                {
                                    "termekkod": "06080116T",
                                    "(No column name)": "200"
                                },
                                {
                                    "termekkod": "07010143T",
                                    "(No column name)": "200"
                                },
                                {
                                    "termekkod": "07010144T",
                                    "(No column name)": "200"
                                },
                                {
                                    "termekkod": "07010244T",
                                    "(No column name)": "200"
                                },
                                {
                                    "termekkod": "07030105T",
                                    "(No column name)": "200"
                                },
                                {
                                    "termekkod": "04030265T",
                                    "(No column name)": "200"
                                },
                                {
                                    "termekkod": "06040323T",
                                    "(No column name)": "200"
                                },
                                {
                                    "termekkod": "06040205T",
                                    "(No column name)": "200"
                                },
                                {
                                    "termekkod": "06040351T",
                                    "(No column name)": "200"
                                },
                                {
                                    "termekkod": "06040331T",
                                    "(No column name)": "200"
                                },
                                {
                                    "termekkod": "06040347T",
                                    "(No column name)": "200"
                                },
                                {
                                    "termekkod": "05040348T",
                                    "(No column name)": "200"
                                },
                                {
                                    "termekkod": "05050045T",
                                    "(No column name)": "200"
                                },
                                {
                                    "termekkod": "04110275T",
                                    "(No column name)": "200"
                                },
                                {
                                    "termekkod": "06080427T",
                                    "(No column name)": "200"
                                },
                                {
                                    "termekkod": "06080417T",
                                    "(No column name)": "200"
                                },
                                {
                                    "termekkod": "06080422T",
                                    "(No column name)": "200"
                                },
                                {
                                    "termekkod": "06080423T",
                                    "(No column name)": "200"
                                },
                                {
                                    "termekkod": "06080335T",
                                    "(No column name)": "200"
                                },
                                {
                                    "termekkod": "06080415T",
                                    "(No column name)": "200"
                                },
                                {
                                    "termekkod": "06080192T",
                                    "(No column name)": "200"
                                },
                                {
                                    "termekkod": "06040400T",
                                    "(No column name)": "200"
                                },
                                {
                                    "termekkod": "06040446T",
                                    "(No column name)": "200"
                                },
                                {
                                    "termekkod": "06040379T",
                                    "(No column name)": "200"
                                },
                                {
                                    "termekkod": "02040198T",
                                    "(No column name)": "200"
                                },
                                {
                                    "termekkod": "02040025T",
                                    "(No column name)": "200"
                                },
                                {
                                    "termekkod": "02040177T",
                                    "(No column name)": "200"
                                },
                                {
                                    "termekkod": "02040148T",
                                    "(No column name)": "200"
                                },
                                {
                                    "termekkod": "02020029T",
                                    "(No column name)": "200"
                                },
                                {
                                    "termekkod": "02020032T",
                                    "(No column name)": "200"
                                },
                                {
                                    "termekkod": "01100505T",
                                    "(No column name)": "200"
                                },
                                {
                                    "termekkod": "01100510T",
                                    "(No column name)": "200"
                                },
                                {
                                    "termekkod": "01100095T",
                                    "(No column name)": "200"
                                },
                                {
                                    "termekkod": "01010110T",
                                    "(No column name)": "200"
                                },
                                {
                                    "termekkod": "01040307T",
                                    "(No column name)": "200"
                                },
                                {
                                    "termekkod": "01020300T",
                                    "(No column name)": "200"
                                },
                                {
                                    "termekkod": "01030091T",
                                    "(No column name)": "200"
                                },
                                {
                                    "termekkod": "02050460T",
                                    "(No column name)": "200"
                                },
                                {
                                    "termekkod": "02080452T",
                                    "(No column name)": "200"
                                },
                                {
                                    "termekkod": "02080450T",
                                    "(No column name)": "200"
                                },
                                {
                                    "termekkod": "02080433T",
                                    "(No column name)": "200"
                                },
                                {
                                    "termekkod": "02080431T",
                                    "(No column name)": "200"
                                },
                                {
                                    "termekkod": "03080016T",
                                    "(No column name)": "200"
                                },
                                {
                                    "termekkod": "03080021T",
                                    "(No column name)": "200"
                                },
                                {
                                    "termekkod": "03080004T",
                                    "(No column name)": "200"
                                },
                                {
                                    "termekkod": "L019-NA207",
                                    "(No column name)": "162"
                                },
                                {
                                    "termekkod": "L064-CI401",
                                    "(No column name)": "119"
                                },
                                {
                                    "termekkod": "L048-PO218",
                                    "(No column name)": "113"
                                },
                                {
                                    "termekkod": "07010142T",
                                    "(No column name)": "100"
                                },
                                {
                                    "termekkod": "07040049T",
                                    "(No column name)": "100"
                                },
                                {
                                    "termekkod": "07040054T",
                                    "(No column name)": "100"
                                },
                                {
                                    "termekkod": "07040052T",
                                    "(No column name)": "100"
                                },
                                {
                                    "termekkod": "07040097T",
                                    "(No column name)": "100"
                                },
                                {
                                    "termekkod": "07040098T",
                                    "(No column name)": "100"
                                },
                                {
                                    "termekkod": "07040102T",
                                    "(No column name)": "100"
                                },
                                {
                                    "termekkod": "07040127T",
                                    "(No column name)": "100"
                                },
                                {
                                    "termekkod": "07040128T",
                                    "(No column name)": "100"
                                },
                                {
                                    "termekkod": "03080006T",
                                    "(No column name)": "100"
                                },
                                {
                                    "termekkod": "03010342T",
                                    "(No column name)": "100"
                                },
                                {
                                    "termekkod": "02080511T",
                                    "(No column name)": "100"
                                },
                                {
                                    "termekkod": "03050077T",
                                    "(No column name)": "100"
                                },
                                {
                                    "termekkod": "03050078T",
                                    "(No column name)": "100"
                                },
                                {
                                    "termekkod": "03080017T",
                                    "(No column name)": "100"
                                },
                                {
                                    "termekkod": "02080451T",
                                    "(No column name)": "100"
                                },
                                {
                                    "termekkod": "02080449T",
                                    "(No column name)": "100"
                                },
                                {
                                    "termekkod": "02050461T",
                                    "(No column name)": "100"
                                },
                                {
                                    "termekkod": "02060038T",
                                    "(No column name)": "100"
                                },
                                {
                                    "termekkod": "02060039T",
                                    "(No column name)": "100"
                                },
                                {
                                    "termekkod": "02040506T",
                                    "(No column name)": "100"
                                },
                                {
                                    "termekkod": "02040507T",
                                    "(No column name)": "100"
                                },
                                {
                                    "termekkod": "02040508T",
                                    "(No column name)": "100"
                                },
                                {
                                    "termekkod": "01030092T",
                                    "(No column name)": "100"
                                },
                                {
                                    "termekkod": "01040502T",
                                    "(No column name)": "100"
                                },
                                {
                                    "termekkod": "01080512T",
                                    "(No column name)": "100"
                                },
                                {
                                    "termekkod": "01080513T",
                                    "(No column name)": "100"
                                },
                                {
                                    "termekkod": "01090500T",
                                    "(No column name)": "100"
                                },
                                {
                                    "termekkod": "01090501T",
                                    "(No column name)": "100"
                                },
                                {
                                    "termekkod": "01100497T",
                                    "(No column name)": "100"
                                },
                                {
                                    "termekkod": "02010028T",
                                    "(No column name)": "100"
                                },
                                {
                                    "termekkod": "01100509T",
                                    "(No column name)": "100"
                                },
                                {
                                    "termekkod": "02020033T",
                                    "(No column name)": "100"
                                },
                                {
                                    "termekkod": "02040196T",
                                    "(No column name)": "100"
                                },
                                {
                                    "termekkod": "02040197T",
                                    "(No column name)": "100"
                                },
                                {
                                    "termekkod": "02030040T",
                                    "(No column name)": "100"
                                },
                                {
                                    "termekkod": "02040206T",
                                    "(No column name)": "100"
                                },
                                {
                                    "termekkod": "02040309T",
                                    "(No column name)": "100"
                                },
                                {
                                    "termekkod": "06040381T",
                                    "(No column name)": "100"
                                },
                                {
                                    "termekkod": "06040356T",
                                    "(No column name)": "100"
                                },
                                {
                                    "termekkod": "06040378T",
                                    "(No column name)": "100"
                                },
                                {
                                    "termekkod": "06040385T",
                                    "(No column name)": "100"
                                },
                                {
                                    "termekkod": "06040386T",
                                    "(No column name)": "100"
                                },
                                {
                                    "termekkod": "06040394T",
                                    "(No column name)": "100"
                                },
                                {
                                    "termekkod": "06050301T",
                                    "(No column name)": "100"
                                },
                                {
                                    "termekkod": "06040398T",
                                    "(No column name)": "100"
                                },
                                {
                                    "termekkod": "06040399T",
                                    "(No column name)": "100"
                                },
                                {
                                    "termekkod": "06080119T",
                                    "(No column name)": "100"
                                },
                                {
                                    "termekkod": "06080120T",
                                    "(No column name)": "100"
                                },
                                {
                                    "termekkod": "06050303T",
                                    "(No column name)": "100"
                                },
                                {
                                    "termekkod": "06080193T",
                                    "(No column name)": "100"
                                },
                                {
                                    "termekkod": "06080407T",
                                    "(No column name)": "100"
                                },
                                {
                                    "termekkod": "06080408T",
                                    "(No column name)": "100"
                                },
                                {
                                    "termekkod": "06080409T",
                                    "(No column name)": "100"
                                },
                                {
                                    "termekkod": "06080410T",
                                    "(No column name)": "100"
                                },
                                {
                                    "termekkod": "06080411T",
                                    "(No column name)": "100"
                                },
                                {
                                    "termekkod": "06080412T",
                                    "(No column name)": "100"
                                },
                                {
                                    "termekkod": "06080413T",
                                    "(No column name)": "100"
                                },
                                {
                                    "termekkod": "06080416T",
                                    "(No column name)": "100"
                                },
                                {
                                    "termekkod": "06080337T",
                                    "(No column name)": "100"
                                },
                                {
                                    "termekkod": "04110281T",
                                    "(No column name)": "100"
                                },
                                {
                                    "termekkod": "06040184T",
                                    "(No column name)": "100"
                                },
                                {
                                    "termekkod": "04110283T",
                                    "(No column name)": "100"
                                },
                                {
                                    "termekkod": "04110284T",
                                    "(No column name)": "100"
                                },
                                {
                                    "termekkod": "05010026T",
                                    "(No column name)": "100"
                                },
                                {
                                    "termekkod": "06040213T",
                                    "(No column name)": "100"
                                },
                                {
                                    "termekkod": "06040246T",
                                    "(No column name)": "100"
                                },
                                {
                                    "termekkod": "06040326T",
                                    "(No column name)": "100"
                                },
                                {
                                    "termekkod": "04030237T",
                                    "(No column name)": "100"
                                },
                                {
                                    "termekkod": "04030288T",
                                    "(No column name)": "100"
                                },
                                {
                                    "termekkod": "04050222T",
                                    "(No column name)": "100"
                                },
                                {
                                    "termekkod": "04050074T",
                                    "(No column name)": "100"
                                },
                                {
                                    "termekkod": "04050075T",
                                    "(No column name)": "100"
                                },
                                {
                                    "termekkod": "U001-KI501",
                                    "(No column name)": "77"
                                },
                                {
                                    "termekkod": "N001-KB101",
                                    "(No column name)": "77"
                                },
                                {
                                    "termekkod": "N019-FE301",
                                    "(No column name)": "53"
                                }
                            ]
                        },
                        "text/html": "<table><tr><th>termekkod</th><th>(No column name)</th></tr><tr><td>03050457T</td><td>50000</td></tr><tr><td>03050079T</td><td>40000</td></tr><tr><td>03050080T</td><td>26000</td></tr><tr><td>02080435T</td><td>10000</td></tr><tr><td>02030044T</td><td>10000</td></tr><tr><td>02040002T</td><td>10000</td></tr><tr><td>04030236T</td><td>10000</td></tr><tr><td>02040293T</td><td>9000</td></tr><tr><td>03050458T</td><td>8000</td></tr><tr><td>04040090T</td><td>7700</td></tr><tr><td>02040292T</td><td>6900</td></tr><tr><td>01020299T</td><td>6600</td></tr><tr><td>04110273T</td><td>6200</td></tr><tr><td>05010027T</td><td>5900</td></tr><tr><td>04030287T</td><td>5100</td></tr><tr><td>06080336T</td><td>4900</td></tr><tr><td>02040149T</td><td>4700</td></tr><tr><td>06040357T</td><td>4400</td></tr><tr><td>02040406T</td><td>4200</td></tr><tr><td>02040295T</td><td>4100</td></tr><tr><td>03080438T</td><td>3900</td></tr><tr><td>03080437T</td><td>3600</td></tr><tr><td>06080338T</td><td>3600</td></tr><tr><td>02040146T</td><td>3200</td></tr><tr><td>01100071T</td><td>3100</td></tr><tr><td>01010001T</td><td>3000</td></tr><tr><td>06080334T</td><td>3000</td></tr><tr><td>07010372T</td><td>3000</td></tr><tr><td>06040396T</td><td>2900</td></tr><tr><td>02020444T</td><td>2700</td></tr><tr><td>03050459T</td><td>2600</td></tr><tr><td>03080018T</td><td>2600</td></tr><tr><td>06080414T</td><td>2600</td></tr><tr><td>06040325T</td><td>2600</td></tr><tr><td>03080005T</td><td>2500</td></tr><tr><td>02030043T</td><td>2500</td></tr><tr><td>02040210T</td><td>2500</td></tr><tr><td>06040328T</td><td>2400</td></tr><tr><td>04030289T</td><td>2400</td></tr><tr><td>04030241T</td><td>2300</td></tr><tr><td>04030242T</td><td>2300</td></tr><tr><td>03080011T</td><td>2300</td></tr><tr><td>03080008T</td><td>2200</td></tr><tr><td>06040327T</td><td>2200</td></tr><tr><td>06040247T</td><td>2200</td></tr><tr><td>07010371T</td><td>2200</td></tr><tr><td>04030234T</td><td>2100</td></tr><tr><td>03080031T</td><td>2100</td></tr><tr><td>03080007T</td><td>2000</td></tr><tr><td>02040296T</td><td>2000</td></tr><tr><td>02030041T</td><td>2000</td></tr><tr><td>02030042T</td><td>2000</td></tr><tr><td>06080123T</td><td>2000</td></tr><tr><td>02040297T</td><td>1900</td></tr><tr><td>03080010T</td><td>1900</td></tr><tr><td>06080440T</td><td>1900</td></tr><tr><td>07040048T</td><td>1900</td></tr><tr><td>07010136T</td><td>1800</td></tr><tr><td>01090498T</td><td>1800</td></tr><tr><td>06040185T</td><td>1800</td></tr><tr><td>06040329T</td><td>1700</td></tr><tr><td>04030240T</td><td>1600</td></tr><tr><td>04030260T</td><td>1600</td></tr><tr><td>04050035T</td><td>1500</td></tr><tr><td>06040324T</td><td>1500</td></tr><tr><td>06080126T</td><td>1500</td></tr><tr><td>06080332T</td><td>1500</td></tr><tr><td>01090499T</td><td>1500</td></tr><tr><td>02040207T</td><td>1500</td></tr><tr><td>02040147T</td><td>1500</td></tr><tr><td>02040291T</td><td>1400</td></tr><tr><td>03080015T</td><td>1300</td></tr><tr><td>02080081T</td><td>1300</td></tr><tr><td>02080226T</td><td>1300</td></tr><tr><td>04030263T</td><td>1300</td></tr><tr><td>04110362T</td><td>1200</td></tr><tr><td>02060448T</td><td>1200</td></tr><tr><td>02040176T</td><td>1200</td></tr><tr><td>07010140T</td><td>1200</td></tr><tr><td>01010304T</td><td>1100</td></tr><tr><td>02080432T</td><td>1100</td></tr><tr><td>02040403T</td><td>1100</td></tr><tr><td>03010344T</td><td>1100</td></tr><tr><td>06040330T</td><td>1100</td></tr><tr><td>03080439T</td><td>1100</td></tr><tr><td>04030261T</td><td>1000</td></tr><tr><td>04030243T</td><td>1000</td></tr><tr><td>04050023T</td><td>1000</td></tr><tr><td>04050024T</td><td>1000</td></tr><tr><td>06080190T</td><td>1000</td></tr><tr><td>06040393T</td><td>1000</td></tr><tr><td>03080014T</td><td>1000</td></tr><tr><td>01090516T</td><td>1000</td></tr><tr><td>01090517T</td><td>1000</td></tr><tr><td>01100504T</td><td>1000</td></tr><tr><td>02040178T</td><td>1000</td></tr><tr><td>07030107T</td><td>1000</td></tr><tr><td>06080430T</td><td>900</td></tr><tr><td>01100503T</td><td>900</td></tr><tr><td>02080455T</td><td>900</td></tr><tr><td>02040402T</td><td>900</td></tr><tr><td>02060447T</td><td>900</td></tr><tr><td>06080188T</td><td>900</td></tr><tr><td>06080124T</td><td>900</td></tr><tr><td>06080339T</td><td>900</td></tr><tr><td>04030235T</td><td>900</td></tr><tr><td>04110277T</td><td>900</td></tr><tr><td>06040354T</td><td>800</td></tr><tr><td>02080436T</td><td>800</td></tr><tr><td>03050076T</td><td>800</td></tr><tr><td>03080030T</td><td>800</td></tr><tr><td>03080020T</td><td>800</td></tr><tr><td>03080009T</td><td>700</td></tr><tr><td>02060034T</td><td>700</td></tr><tr><td>02040211T</td><td>700</td></tr><tr><td>06040395T</td><td>700</td></tr><tr><td>06040397T</td><td>700</td></tr><tr><td>04110279T</td><td>700</td></tr><tr><td>06040186T</td><td>700</td></tr><tr><td>04050187T</td><td>700</td></tr><tr><td>07030106T</td><td>700</td></tr><tr><td>07040101T</td><td>700</td></tr><tr><td>07010141T</td><td>600</td></tr><tr><td>07010137T</td><td>600</td></tr><tr><td>04040387T</td><td>600</td></tr><tr><td>04020445T</td><td>600</td></tr><tr><td>04030262T</td><td>600</td></tr><tr><td>05040349T</td><td>600</td></tr><tr><td>06080117T</td><td>600</td></tr><tr><td>06040355T</td><td>600</td></tr><tr><td>06040353T</td><td>600</td></tr><tr><td>02040209T</td><td>600</td></tr><tr><td>01100070T</td><td>600</td></tr><tr><td>02080434T</td><td>600</td></tr><tr><td>02080453T</td><td>600</td></tr><tr><td>03080013T</td><td>600</td></tr><tr><td>03080019T</td><td>600</td></tr><tr><td>03010345T</td><td>500</td></tr><tr><td>02080456T</td><td>500</td></tr><tr><td>02080109T</td><td>500</td></tr><tr><td>01100096T</td><td>500</td></tr><tr><td>02040194T</td><td>500</td></tr><tr><td>06040380T</td><td>500</td></tr><tr><td>06040382T</td><td>500</td></tr><tr><td>06040384T</td><td>500</td></tr><tr><td>06050249T</td><td>500</td></tr><tr><td>06080189T</td><td>500</td></tr><tr><td>06080333T</td><td>500</td></tr><tr><td>06080424T</td><td>500</td></tr><tr><td>06080428T</td><td>500</td></tr><tr><td>04110278T</td><td>500</td></tr><tr><td>06040350T</td><td>500</td></tr><tr><td>04050022T</td><td>500</td></tr><tr><td>04030266T</td><td>500</td></tr><tr><td>04050221T</td><td>500</td></tr><tr><td>04050171T</td><td>500</td></tr><tr><td>07030108T</td><td>500</td></tr><tr><td>07040051T</td><td>500</td></tr><tr><td>L029-FE307</td><td>470</td></tr><tr><td>07030104T</td><td>400</td></tr><tr><td>04030239T</td><td>400</td></tr><tr><td>04050220T</td><td>400</td></tr><tr><td>04110276T</td><td>400</td></tr><tr><td>06080429T</td><td>400</td></tr><tr><td>06080425T</td><td>400</td></tr><tr><td>06080125T</td><td>400</td></tr><tr><td>06050302T</td><td>400</td></tr><tr><td>06040392T</td><td>400</td></tr><tr><td>02040195T</td><td>400</td></tr><tr><td>02020245T</td><td>400</td></tr><tr><td>02040208T</td><td>400</td></tr><tr><td>02040145T</td><td>400</td></tr><tr><td>01100072T</td><td>400</td></tr><tr><td>01090515T</td><td>400</td></tr><tr><td>02080069T</td><td>400</td></tr><tr><td>02080454T</td><td>400</td></tr><tr><td>03080003T</td><td>400</td></tr><tr><td>L033-FE311</td><td>373</td></tr><tr><td>L023-FE301</td><td>369</td></tr><tr><td>N035-AL218</td><td>369</td></tr><tr><td>L041-AL211</td><td>325</td></tr><tr><td>L073-CI410</td><td>323</td></tr><tr><td>07030103T</td><td>300</td></tr><tr><td>06080441T</td><td>300</td></tr><tr><td>07040061T</td><td>300</td></tr><tr><td>02080514T</td><td>300</td></tr><tr><td>03080012T</td><td>300</td></tr><tr><td>02040404T</td><td>300</td></tr><tr><td>02040405T</td><td>300</td></tr><tr><td>02040401T</td><td>300</td></tr><tr><td>02040294T</td><td>300</td></tr><tr><td>01080093T</td><td>300</td></tr><tr><td>01100094T</td><td>300</td></tr><tr><td>01100496T</td><td>300</td></tr><tr><td>02020037T</td><td>300</td></tr><tr><td>02040199T</td><td>300</td></tr><tr><td>02040200T</td><td>300</td></tr><tr><td>02040214T</td><td>300</td></tr><tr><td>02040290T</td><td>300</td></tr><tr><td>02040298T</td><td>300</td></tr><tr><td>02040308T</td><td>300</td></tr><tr><td>06040383T</td><td>300</td></tr><tr><td>06080121T</td><td>300</td></tr><tr><td>06080122T</td><td>300</td></tr><tr><td>06080118T</td><td>300</td></tr><tr><td>06080191T</td><td>300</td></tr><tr><td>06080426T</td><td>300</td></tr><tr><td>04110274T</td><td>300</td></tr><tr><td>04110280T</td><td>300</td></tr><tr><td>05040310T</td><td>300</td></tr><tr><td>04110282T</td><td>300</td></tr><tr><td>06040248T</td><td>300</td></tr><tr><td>04030264T</td><td>300</td></tr><tr><td>04030238T</td><td>300</td></tr><tr><td>04050203T</td><td>300</td></tr><tr><td>04050204T</td><td>300</td></tr><tr><td>04030285T</td><td>300</td></tr><tr><td>04030286T</td><td>300</td></tr><tr><td>N008-NA201</td><td>289</td></tr><tr><td>N029-AL212</td><td>283</td></tr><tr><td>L082-CI419</td><td>264</td></tr><tr><td>N039-AL222</td><td>238</td></tr><tr><td>07040050T</td><td>200</td></tr><tr><td>07040129T</td><td>200</td></tr><tr><td>07040130T</td><td>200</td></tr><tr><td>07040099T</td><td>200</td></tr><tr><td>07040100T</td><td>200</td></tr><tr><td>07040053T</td><td>200</td></tr><tr><td>07040047T</td><td>200</td></tr><tr><td>06080116T</td><td>200</td></tr><tr><td>07010143T</td><td>200</td></tr><tr><td>07010144T</td><td>200</td></tr><tr><td>07010244T</td><td>200</td></tr><tr><td>07030105T</td><td>200</td></tr><tr><td>04030265T</td><td>200</td></tr><tr><td>06040323T</td><td>200</td></tr><tr><td>06040205T</td><td>200</td></tr><tr><td>06040351T</td><td>200</td></tr><tr><td>06040331T</td><td>200</td></tr><tr><td>06040347T</td><td>200</td></tr><tr><td>05040348T</td><td>200</td></tr><tr><td>05050045T</td><td>200</td></tr><tr><td>04110275T</td><td>200</td></tr><tr><td>06080427T</td><td>200</td></tr><tr><td>06080417T</td><td>200</td></tr><tr><td>06080422T</td><td>200</td></tr><tr><td>06080423T</td><td>200</td></tr><tr><td>06080335T</td><td>200</td></tr><tr><td>06080415T</td><td>200</td></tr><tr><td>06080192T</td><td>200</td></tr><tr><td>06040400T</td><td>200</td></tr><tr><td>06040446T</td><td>200</td></tr><tr><td>06040379T</td><td>200</td></tr><tr><td>02040198T</td><td>200</td></tr><tr><td>02040025T</td><td>200</td></tr><tr><td>02040177T</td><td>200</td></tr><tr><td>02040148T</td><td>200</td></tr><tr><td>02020029T</td><td>200</td></tr><tr><td>02020032T</td><td>200</td></tr><tr><td>01100505T</td><td>200</td></tr><tr><td>01100510T</td><td>200</td></tr><tr><td>01100095T</td><td>200</td></tr><tr><td>01010110T</td><td>200</td></tr><tr><td>01040307T</td><td>200</td></tr><tr><td>01020300T</td><td>200</td></tr><tr><td>01030091T</td><td>200</td></tr><tr><td>02050460T</td><td>200</td></tr><tr><td>02080452T</td><td>200</td></tr><tr><td>02080450T</td><td>200</td></tr><tr><td>02080433T</td><td>200</td></tr><tr><td>02080431T</td><td>200</td></tr><tr><td>03080016T</td><td>200</td></tr><tr><td>03080021T</td><td>200</td></tr><tr><td>03080004T</td><td>200</td></tr><tr><td>L019-NA207</td><td>162</td></tr><tr><td>L064-CI401</td><td>119</td></tr><tr><td>L048-PO218</td><td>113</td></tr><tr><td>07010142T</td><td>100</td></tr><tr><td>07040049T</td><td>100</td></tr><tr><td>07040054T</td><td>100</td></tr><tr><td>07040052T</td><td>100</td></tr><tr><td>07040097T</td><td>100</td></tr><tr><td>07040098T</td><td>100</td></tr><tr><td>07040102T</td><td>100</td></tr><tr><td>07040127T</td><td>100</td></tr><tr><td>07040128T</td><td>100</td></tr><tr><td>03080006T</td><td>100</td></tr><tr><td>03010342T</td><td>100</td></tr><tr><td>02080511T</td><td>100</td></tr><tr><td>03050077T</td><td>100</td></tr><tr><td>03050078T</td><td>100</td></tr><tr><td>03080017T</td><td>100</td></tr><tr><td>02080451T</td><td>100</td></tr><tr><td>02080449T</td><td>100</td></tr><tr><td>02050461T</td><td>100</td></tr><tr><td>02060038T</td><td>100</td></tr><tr><td>02060039T</td><td>100</td></tr><tr><td>02040506T</td><td>100</td></tr><tr><td>02040507T</td><td>100</td></tr><tr><td>02040508T</td><td>100</td></tr><tr><td>01030092T</td><td>100</td></tr><tr><td>01040502T</td><td>100</td></tr><tr><td>01080512T</td><td>100</td></tr><tr><td>01080513T</td><td>100</td></tr><tr><td>01090500T</td><td>100</td></tr><tr><td>01090501T</td><td>100</td></tr><tr><td>01100497T</td><td>100</td></tr><tr><td>02010028T</td><td>100</td></tr><tr><td>01100509T</td><td>100</td></tr><tr><td>02020033T</td><td>100</td></tr><tr><td>02040196T</td><td>100</td></tr><tr><td>02040197T</td><td>100</td></tr><tr><td>02030040T</td><td>100</td></tr><tr><td>02040206T</td><td>100</td></tr><tr><td>02040309T</td><td>100</td></tr><tr><td>06040381T</td><td>100</td></tr><tr><td>06040356T</td><td>100</td></tr><tr><td>06040378T</td><td>100</td></tr><tr><td>06040385T</td><td>100</td></tr><tr><td>06040386T</td><td>100</td></tr><tr><td>06040394T</td><td>100</td></tr><tr><td>06050301T</td><td>100</td></tr><tr><td>06040398T</td><td>100</td></tr><tr><td>06040399T</td><td>100</td></tr><tr><td>06080119T</td><td>100</td></tr><tr><td>06080120T</td><td>100</td></tr><tr><td>06050303T</td><td>100</td></tr><tr><td>06080193T</td><td>100</td></tr><tr><td>06080407T</td><td>100</td></tr><tr><td>06080408T</td><td>100</td></tr><tr><td>06080409T</td><td>100</td></tr><tr><td>06080410T</td><td>100</td></tr><tr><td>06080411T</td><td>100</td></tr><tr><td>06080412T</td><td>100</td></tr><tr><td>06080413T</td><td>100</td></tr><tr><td>06080416T</td><td>100</td></tr><tr><td>06080337T</td><td>100</td></tr><tr><td>04110281T</td><td>100</td></tr><tr><td>06040184T</td><td>100</td></tr><tr><td>04110283T</td><td>100</td></tr><tr><td>04110284T</td><td>100</td></tr><tr><td>05010026T</td><td>100</td></tr><tr><td>06040213T</td><td>100</td></tr><tr><td>06040246T</td><td>100</td></tr><tr><td>06040326T</td><td>100</td></tr><tr><td>04030237T</td><td>100</td></tr><tr><td>04030288T</td><td>100</td></tr><tr><td>04050222T</td><td>100</td></tr><tr><td>04050074T</td><td>100</td></tr><tr><td>04050075T</td><td>100</td></tr><tr><td>U001-KI501</td><td>77</td></tr><tr><td>N001-KB101</td><td>77</td></tr><tr><td>N019-FE301</td><td>53</td></tr></table>"
                    },
                    "metadata": {}
                }
            ],
            "execution_count": 14
        }
    ]
}