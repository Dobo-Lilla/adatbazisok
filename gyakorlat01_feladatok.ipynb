{
    "metadata": {
        "kernelspec": {
            "name": "SQL",
            "display_name": "SQL",
            "language": "sql"
        },
        "language_info": {
            "name": "sql",
            "version": ""
        },
        "extensions": {
            "azuredatastudio": {
                "version": 1,
                "views": []
            }
        }
    },
    "nbformat_minor": 2,
    "nbformat": 4,
    "cells": [
        {
            "cell_type": "markdown",
            "source": [
                "1. Listázzuk a <span style=\"color: #800000;\">`kolcsonzes`</span> tábla következő oszlopait: ID, ki\\_datum, vissza\\_datum! \n",
                "\n",
                "  \n",
                "\n",
                "a.  Az ID oszlop neve legyen Azonosító\n",
                "\n",
                "b.  A ki\\_datum oszlop neve legyen Kölcsönzés\\_dátuma\n",
                "\n",
                "c.  A vissza\\_datum oszlop neve legyen Visszahozatal\\_dátuma"
            ],
            "metadata": {
                "azdata_cell_guid": "77f2d5b3-38e9-41cc-893f-f5afd02b97ef"
            },
            "attachments": {}
        },
        {
            "cell_type": "code",
            "source": [
                "SELECT ID AS \"Azonosító\",\r\n",
                "    ki_datum AS \"Kölcsönzés_dátuma\", \r\n",
                "    vissza_datum AS \"Visszahozatal_dátuma\" --a visszahozatal dátuma\r\n",
                "FROM kolcsonzesek"
            ],
            "metadata": {
                "azdata_cell_guid": "bd3cef1a-4e6e-4ece-9dc3-aaa9d2b5d66d",
                "language": "sql",
                "tags": []
            },
            "outputs": [],
            "execution_count": null
        },
        {
            "cell_type": "markdown",
            "source": [
                "2. Melyek azok a kölcsönzések, amelyek 2005.01.01 és 2007.01.01 között történtek?"
            ],
            "metadata": {
                "azdata_cell_guid": "88f5b4bb-f4c1-4bad-a0c7-b2592687b422"
            },
            "attachments": {}
        },
        {
            "cell_type": "code",
            "source": [
                "SELECT * --az összes oszlop listája\r\n",
                "FROM kolcsonzesek\r\n",
                "WHERE ki_datum >= '2005.01.01' AND \r\n",
                "      ki_datum <= '2007.01.01'\r\n",
                "--WHERE ki_datum Between '2005-01-01' AND '2007-01-01'"
            ],
            "metadata": {
                "azdata_cell_guid": "e9de5726-f036-4fb9-8c33-a873955ed886",
                "language": "sql"
            },
            "outputs": [],
            "execution_count": null
        },
        {
            "cell_type": "markdown",
            "source": [
                "3. Melyek azok a tagok, akiknek kedvenc stílusa a játék, és nevük a-ra végződik?\n",
                "\n",
                "  \n",
                "\n",
                "a.  Csak a tagok neve jelenjen meg, az oszlop neve Név legyen"
            ],
            "metadata": {
                "azdata_cell_guid": "9e7249de-1b59-43d8-84b1-26fa7d81fc5a"
            },
            "attachments": {}
        },
        {
            "cell_type": "code",
            "source": [
                "SELECT nev AS 'NÉV'\r\n",
                "FROM tagok\r\n",
                "WHERE kedvencstilus = 'játék' AND \r\n",
                "      nev LIKE '%a'"
            ],
            "metadata": {
                "azdata_cell_guid": "6405d3e8-a9b1-45d7-aa76-3b1e785ef6cc",
                "language": "sql"
            },
            "outputs": [],
            "execution_count": null
        },
        {
            "cell_type": "markdown",
            "source": [
                "4. Listázzuk egy oszlopban a tagok nevét, címét és kedvenc stílusát összefűzve! \n",
                "\n",
                "  \n",
                "\n",
                "a.  A nevet, címet és a stílust kötőjellel válasszuk el\n",
                "\n",
                "b.  A kötőjelek előtt és után legyen 1-1 szóköz\n",
                "\n",
                "c.  Az oszlop neve legyen TAG\n",
                "\n",
                "d.  Kinga keresztnevű tagok ne legyenek benne a listában"
            ],
            "metadata": {
                "azdata_cell_guid": "6478e469-c094-472c-a772-ccd5b5c61516"
            },
            "attachments": {}
        },
        {
            "cell_type": "code",
            "source": [
                "SELECT nev+' - '+cim+' - '+kedvencstilus AS 'TAG'\r\n",
                "FROM tagok\r\n",
                "WHERE nev NOT LIKE '%Kinga'"
            ],
            "metadata": {
                "azdata_cell_guid": "02031ea2-3838-458d-839c-228e3b362b61",
                "language": "sql",
                "tags": [
                    "hide_input"
                ]
            },
            "outputs": [],
            "execution_count": null
        },
        {
            "cell_type": "markdown",
            "source": [
                "5. Mennyi lenne a dvd-k nettó ára, ha 20%-kal csökkenne? \n",
                "\n",
                "  \n",
                "\n",
                "a.  Csak a dvd-k címét és a csökkentett árat jelenítsük meg\n",
                "\n",
                "b.  A csökkentett árat nevezzük el diszkont\\_ar-nak"
            ],
            "metadata": {
                "azdata_cell_guid": "9edbbaf9-c276-4898-9a01-e1b2993c089f"
            },
            "attachments": {}
        },
        {
            "cell_type": "code",
            "source": [
                "SELECT cim AS'Cím', \r\n",
                "    nettoar*0.8 AS 'diszkont_ar'\r\n",
                "FROM dvd"
            ],
            "metadata": {
                "azdata_cell_guid": "5ad5fdcb-2878-4111-861a-833bcd50e935",
                "language": "sql"
            },
            "outputs": [],
            "execution_count": null
        },
        {
            "cell_type": "markdown",
            "source": [
                "6. Melyek azok a kölcsönzések, ahol még nem hozták vissza a dvd-t?"
            ],
            "metadata": {
                "azdata_cell_guid": "5fe65c1c-2479-45ac-ad03-ec99d12eae21"
            },
            "attachments": {}
        },
        {
            "cell_type": "code",
            "source": [
                "SELECT ID AS 'Azonosító'\r\n",
                "FROM kolcsonzesek\r\n",
                "WHERE vissza_datum IS NULL"
            ],
            "metadata": {
                "azdata_cell_guid": "924f2dde-f1c2-4def-a7f9-dbf4bace7735",
                "language": "sql"
            },
            "outputs": [],
            "execution_count": null
        },
        {
            "cell_type": "markdown",
            "source": [
                "7. Listázzuk azon diákok nevét és születési idejét, akik 1984-ben vagy 1985-ben születtek!  \n",
                "\n",
                "  \n",
                "\n",
                "a.  A születési dátum csak az évet, hónapot és a napot tartalmazza! \n",
                "\n",
                "b.  A születési dátum oszlopát nevezzük el 'Születési idő'-nek!"
            ],
            "metadata": {
                "azdata_cell_guid": "3aeb6bf5-b111-40d5-92b2-9712ce335696"
            },
            "attachments": {}
        },
        {
            "cell_type": "code",
            "source": [
                "SELECT Nev,\r\n",
                "    --CAST(Szulido AS nvarchar(11))\r\n",
                "    CAST(YEAR(Szulido) AS nvarchar(4)) + '.' +\r\n",
                "    CAST(MONTH(Szulido) AS nvarchar(2)) + '.' +\r\n",
                "    CAST(DAY(Szulido) AS nvarchar(2))\r\n",
                "    -- CAST(Szulido AS date)\r\n",
                "    --Format? majd nézz rá\r\n",
                "FROM diak\r\n",
                "WHERE YEAR(Szulido) IN (1984, 1985)"
            ],
            "metadata": {
                "azdata_cell_guid": "3e89b651-f56f-4102-af52-30eb2bbe360d",
                "language": "sql"
            },
            "outputs": [],
            "execution_count": null
        },
        {
            "cell_type": "markdown",
            "source": [
                "8. Készítsünk lekérdezést, amely a tanulók nevét és az ebből képzett felhasználói nevét tartalmazza. \n",
                "\n",
                "  \n",
                "\n",
                "a.  A felhasználói név álljon a név első kettő, illetve utolsó kettő betűjének összefűzéséből!\n",
                "\n",
                "b.  A listát szűrjük azon tanulókra, akik teljes neve - szóközzel együtt - legalább 10 betűs!"
            ],
            "metadata": {
                "azdata_cell_guid": "26a504dc-ff6a-439f-94c0-4580eca3eacf"
            },
            "attachments": {}
        },
        {
            "cell_type": "code",
            "source": [
                "SELECT Nev,\r\n",
                "     LEFT(Nev,2) + RIGHT(Nev,2) AS 'Felhasználó név'\r\n",
                "FROM diak\r\n",
                "WHERE LEN(Nev) >= 10"
            ],
            "metadata": {
                "azdata_cell_guid": "1cbb8aeb-78b5-4350-aa45-e3202fdab85b",
                "language": "sql"
            },
            "outputs": [],
            "execution_count": null
        },
        {
            "cell_type": "markdown",
            "source": [
                "9. Készítsünk listát a diákok adatairól, ahol a diákok neve úgy jelenik meg, hogy először a keresztnév, majd a vezetéknév, közöttük szóközzel!  \n",
                "\n",
                "a.  Ezen felül a születési idő három külön oszlopban jelenjen meg (év, hónap, nap). \n",
                "\n",
                "b.  Az oszlopokat nevezzük el értelemszerűen!"
            ],
            "metadata": {
                "azdata_cell_guid": "435e2860-2dd5-4877-90f4-34a43baeb53c"
            },
            "attachments": {}
        },
        {
            "cell_type": "code",
            "source": [
                "SELECT Concat(RIGHT(Nev, LEN(Nev) - CHARINDEX(' ',Nev)),' ',LEFT(Nev,CHARINDEX(' ',Nev)-1)) As 'Nev',\r\n",
                "    YEAR(Szulido) AS 'Év', \r\n",
                "    MONTH(Szulido) AS 'Hónap', \r\n",
                "    DAY(Szulido) AS 'Nap'\r\n",
                "FROM diak"
            ],
            "metadata": {
                "azdata_cell_guid": "ce846351-ddbe-4d8e-b8fb-2a92c73ac80b",
                "language": "sql"
            },
            "outputs": [
                {
                    "output_type": "display_data",
                    "data": {
                        "text/html": "(10 rows affected)"
                    },
                    "metadata": {}
                },
                {
                    "output_type": "display_data",
                    "data": {
                        "text/html": "Total execution time: 00:00:00.043"
                    },
                    "metadata": {}
                },
                {
                    "output_type": "execute_result",
                    "metadata": {},
                    "execution_count": 9,
                    "data": {
                        "application/vnd.dataresource+json": {
                            "schema": {
                                "fields": [
                                    {
                                        "name": "Nev"
                                    },
                                    {
                                        "name": "Év"
                                    },
                                    {
                                        "name": "Hónap"
                                    },
                                    {
                                        "name": "Nap"
                                    }
                                ]
                            },
                            "data": [
                                {
                                    "Nev": "Péter Kos",
                                    "Év": "1987",
                                    "Hónap": "11",
                                    "Nap": "5"
                                },
                                {
                                    "Nev": "Imre Port",
                                    "Év": "1990",
                                    "Hónap": "5",
                                    "Nap": "5"
                                },
                                {
                                    "Nev": "Imre Kovács",
                                    "Év": "1984",
                                    "Hónap": "3",
                                    "Nap": "2"
                                },
                                {
                                    "Nev": "Emil Horváth",
                                    "Év": "1988",
                                    "Hónap": "5",
                                    "Nap": "2"
                                },
                                {
                                    "Nev": "Petra Kapos",
                                    "Év": "1985",
                                    "Hónap": "12",
                                    "Nap": "23"
                                },
                                {
                                    "Nev": "Anna Csóka",
                                    "Év": "1981",
                                    "Hónap": "11",
                                    "Nap": "30"
                                },
                                {
                                    "Nev": "Tamás Nyúl",
                                    "Év": "1988",
                                    "Hónap": "2",
                                    "Nap": "16"
                                },
                                {
                                    "Nev": "Emma Ordasi",
                                    "Év": "1989",
                                    "Hónap": "1",
                                    "Nap": "3"
                                },
                                {
                                    "Nev": "Olga Koppány",
                                    "Év": "1984",
                                    "Hónap": "2",
                                    "Nap": "28"
                                },
                                {
                                    "Nev": "Patrícia Kozma",
                                    "Év": "1983",
                                    "Hónap": "6",
                                    "Nap": "1"
                                }
                            ]
                        },
                        "text/html": [
                            "<table>",
                            "<tr><th>Nev</th><th>Év</th><th>Hónap</th><th>Nap</th></tr>",
                            "<tr><td>Péter Kos</td><td>1987</td><td>11</td><td>5</td></tr>",
                            "<tr><td>Imre Port</td><td>1990</td><td>5</td><td>5</td></tr>",
                            "<tr><td>Imre Kovács</td><td>1984</td><td>3</td><td>2</td></tr>",
                            "<tr><td>Emil Horváth</td><td>1988</td><td>5</td><td>2</td></tr>",
                            "<tr><td>Petra Kapos</td><td>1985</td><td>12</td><td>23</td></tr>",
                            "<tr><td>Anna Csóka</td><td>1981</td><td>11</td><td>30</td></tr>",
                            "<tr><td>Tamás Nyúl</td><td>1988</td><td>2</td><td>16</td></tr>",
                            "<tr><td>Emma Ordasi</td><td>1989</td><td>1</td><td>3</td></tr>",
                            "<tr><td>Olga Koppány</td><td>1984</td><td>2</td><td>28</td></tr>",
                            "<tr><td>Patrícia Kozma</td><td>1983</td><td>6</td><td>1</td></tr>",
                            "</table>"
                        ]
                    }
                }
            ],
            "execution_count": 9
        },
        {
            "cell_type": "markdown",
            "source": [
                "10. Készítsünk listát a munkák azonosítójáról és megnevezéséről! Egy új oszlopban azt is jelenítsük meg, hogy melyik munka hetente mennyit fizet! \n",
                "\n",
                "a.  Az oszlop neve legyen Heti bér, az értéket kerekítsük 1000 forintra! \n",
                "\n",
                "b.  A listát szűrjük azon rekordokra, ahol a kerekített heti bér 10000 Ft felett van!"
            ],
            "metadata": {
                "azdata_cell_guid": "217c5772-afe2-4a7c-b913-e3a3e09d6411"
            },
            "attachments": {}
        },
        {
            "cell_type": "code",
            "source": [
                "SELECT munkaId AS 'Azonosító',\r\n",
                "    allas AS 'Állás',\r\n",
                "    ROUND(oradij *oraszam*5,-3) AS 'Heti bér'\r\n",
                "FROM munka\r\n",
                "WHERE ROUND(oradij *oraszam*5,-3) > 10000"
            ],
            "metadata": {
                "azdata_cell_guid": "a9cc0926-3dbd-4ed8-8179-1c39d64a0762",
                "language": "sql"
            },
            "outputs": [],
            "execution_count": null
        },
        {
            "cell_type": "markdown",
            "source": [
                "11. A diákok számára differenciált béremelést terveznek: a középiskolások esetében 33%, egyéb esetben 17% mértékben. Készítsünk listát, amely tartalmazza a munkák azonosítóját, az állás nevét, az eredeti óradíjat és a tervezett emelt óradíjat.\n",
                "\n",
                "  \n",
                "\n",
                "a.  Az oszlopoknak adjuk nevet értelemszerűen!\n",
                "\n",
                "b.  Az emelt óradíj összegét kerekítsük egészre! (Az esetlegesen megjelenő 0 tizedesjegyekkel ne foglalkozzunk)"
            ],
            "metadata": {
                "azdata_cell_guid": "d2340f5f-1614-473c-b937-85740d67f7c1"
            },
            "attachments": {}
        },
        {
            "cell_type": "code",
            "source": [
                "SELECT munkaId AS 'Azonosító',\r\n",
                "    allas AS 'Állás név',\r\n",
                "    oradij AS 'Óra díj',\r\n",
                "    CASE\r\n",
                "        WHEN kozepiskolas IS NULL THEN ROUND(oradij * 1.17,0)\r\n",
                "        WHEN kozepiskolas IS NOT NULL THEN ROUND(oradij*1.33,0)\r\n",
                "    END AS \"Emelt\"\r\n",
                "FROM munka\r\n",
                ""
            ],
            "metadata": {
                "azdata_cell_guid": "e99c2c53-898f-4787-b0e6-182d106dc16f",
                "language": "sql"
            },
            "outputs": [],
            "execution_count": null
        },
        {
            "cell_type": "markdown",
            "source": [
                "12. A diákok számára próbaidőt írnak elő, amely a munka kezdetétől számítva 3 hónapig tart.    Jelenítsük meg a munka tábla adatait egy új oszloppal kiegészítve, amelyik a próbaidő    végének dátumát mutatja!  \n",
                "\n",
                "  \n",
                "\n",
                "a.  Az oszlop neve Próbaidő vége legyen! \n",
                "\n",
                "b.  A lista ne tartalmazza azokat a munkákat, ahol a diákok azonosítója nincs megadva!"
            ],
            "metadata": {
                "azdata_cell_guid": "a765e9d6-58b3-4171-872a-78f3118fd6e3"
            },
            "attachments": {}
        },
        {
            "cell_type": "code",
            "source": [
                "SELECT *,\r\n",
                "     DATEADD(month,3,CAST(datum AS date)) AS \"Próbaidő vége\"\r\n",
                "FROM munka\r\n",
                "WHERE DiakAz IS NOT NULL"
            ],
            "metadata": {
                "azdata_cell_guid": "422e8127-b652-4d3a-bfd7-9b1637b5781e",
                "language": "sql"
            },
            "outputs": [],
            "execution_count": null
        },
        {
            "cell_type": "markdown",
            "source": [
                "13. Készítsünk listát a munkák azonosítóiról és a megnevezésükről! A megnevezés allas-óraszám formában jelenjen meg, pl: eladó-4. \n",
                "\n",
                "  \n",
                "\n",
                "a.  Jelenítsük meg a dátumot is, de csak a évet és a hónapot, pl: 2003-07! \n",
                "\n",
                "b.  Ennek az oszlopnak 'Kezdés hónapja' legyen a neve! A listát szűrjük a nyári hónapokra!"
            ],
            "metadata": {
                "azdata_cell_guid": "3f9237ae-f109-401c-acb9-31d75e73331b"
            },
            "attachments": {}
        },
        {
            "cell_type": "code",
            "source": [
                "SELECT munkaId,\r\n",
                "    CONCAT(allas,'-',oraszam) As 'Megnevezés',\r\n",
                "    CONCAT(YEAR(datum),'-',MONTH(datum)) As 'Kezdés hónapja'\r\n",
                "FROM munka\r\n",
                "WHERE MONTH(datum) IN (6,7,8)"
            ],
            "metadata": {
                "azdata_cell_guid": "4b31bb89-cfbc-46b1-8639-85c462877786",
                "language": "sql"
            },
            "outputs": [],
            "execution_count": null
        },
        {
            "cell_type": "markdown",
            "source": [
                "14. Készítsünk listát a diákok adatairól, amely a Nev oszlop helyén a diák monogramját jeleníti meg (keresztnév, illetve vezetéknév első betűje összefűzve). \n",
                "\n",
                "a.  A listát szűrjük 1983.01.01 és 1987.06.01 között született diákokra!"
            ],
            "metadata": {
                "azdata_cell_guid": "f634e09a-85ef-4e70-8ec6-ef355dfddaa7"
            },
            "attachments": {}
        },
        {
            "cell_type": "code",
            "source": [
                "SELECT DiakAz,\r\n",
                "    CONCAT(UPPER(LEFT(NEV,1)),UPPER(LEFT(RIGHT(Nev,LEN(Nev)-CHARINDEX(' ',Nev)),1))) AS Név,\r\n",
                "    Szulido\r\n",
                "FROM diak\r\n",
                "WHERE Szulido BETWEEN '1983-01-01' AND '1987-06-01'"
            ],
            "metadata": {
                "azdata_cell_guid": "88abc55b-2c78-495b-a72f-3f8f4eb5fe70",
                "language": "sql",
                "tags": []
            },
            "outputs": [
                {
                    "output_type": "display_data",
                    "data": {
                        "text/html": "(4 rows affected)"
                    },
                    "metadata": {}
                },
                {
                    "output_type": "display_data",
                    "data": {
                        "text/html": "Total execution time: 00:00:00.091"
                    },
                    "metadata": {}
                },
                {
                    "output_type": "execute_result",
                    "metadata": {},
                    "execution_count": 12,
                    "data": {
                        "application/vnd.dataresource+json": {
                            "schema": {
                                "fields": [
                                    {
                                        "name": "DiakAz"
                                    },
                                    {
                                        "name": "Név"
                                    },
                                    {
                                        "name": "Szulido"
                                    }
                                ]
                            },
                            "data": [
                                {
                                    "DiakAz": "3",
                                    "Név": "KI",
                                    "Szulido": "1984-03-02 00:00:00.000"
                                },
                                {
                                    "DiakAz": "5",
                                    "Név": "KP",
                                    "Szulido": "1985-12-23 00:00:00.000"
                                },
                                {
                                    "DiakAz": "9",
                                    "Név": "KO",
                                    "Szulido": "1984-02-28 00:00:00.000"
                                },
                                {
                                    "DiakAz": "10",
                                    "Név": "KP",
                                    "Szulido": "1983-06-01 00:00:00.000"
                                }
                            ]
                        },
                        "text/html": [
                            "<table>",
                            "<tr><th>DiakAz</th><th>Név</th><th>Szulido</th></tr>",
                            "<tr><td>3</td><td>KI</td><td>1984-03-02 00:00:00.000</td></tr>",
                            "<tr><td>5</td><td>KP</td><td>1985-12-23 00:00:00.000</td></tr>",
                            "<tr><td>9</td><td>KO</td><td>1984-02-28 00:00:00.000</td></tr>",
                            "<tr><td>10</td><td>KP</td><td>1983-06-01 00:00:00.000</td></tr>",
                            "</table>"
                        ]
                    }
                }
            ],
            "execution_count": 12
        },
        {
            "cell_type": "markdown",
            "source": [
                "15. A diákok a munkakezdés évének utolsó napján bónuszt kapnak, amennyiben az adott évben legalább 6 hónapot dolgoznak. \n",
                "\n",
                "  \n",
                "\n",
                "a.  Jelenítsük meg, hogy az egyes munkák adatait, egy új oszlopban az éves bónusz napját is 'Bónusz dátum' néven! \n",
                "\n",
                "b.  A lista csak a bónuszra jogosultak adatait tartalmazza!"
            ],
            "metadata": {
                "azdata_cell_guid": "4cbf2f0d-a65d-480a-8186-ccdb24498443"
            },
            "attachments": {}
        },
        {
            "cell_type": "code",
            "source": [
                "SELECT *, CAST(CAST(YEAR(datum) AS nvarchar)+ '-12-31'AS date) AS 'Bónusz dátum'\r\n",
                "FROM munka\r\n",
                "WHERE DATEDIFF(MONTH, datum, CAST(CAST(YEAR(datum) AS nvarchar)+ '-12-31'AS date)) >=6"
            ],
            "metadata": {
                "azdata_cell_guid": "c148aee8-bc85-40bf-b80a-a4898a6c05cb",
                "language": "sql"
            },
            "outputs": [
                {
                    "output_type": "display_data",
                    "data": {
                        "text/html": "(14 rows affected)"
                    },
                    "metadata": {}
                },
                {
                    "output_type": "display_data",
                    "data": {
                        "text/html": "Total execution time: 00:00:00.084"
                    },
                    "metadata": {}
                },
                {
                    "output_type": "execute_result",
                    "metadata": {},
                    "execution_count": 7,
                    "data": {
                        "application/vnd.dataresource+json": {
                            "schema": {
                                "fields": [
                                    {
                                        "name": "munkaId"
                                    },
                                    {
                                        "name": "MhelyId"
                                    },
                                    {
                                        "name": "DiakAz"
                                    },
                                    {
                                        "name": "allas"
                                    },
                                    {
                                        "name": "datum"
                                    },
                                    {
                                        "name": "oradij"
                                    },
                                    {
                                        "name": "oraszam"
                                    },
                                    {
                                        "name": "kozepiskolas"
                                    },
                                    {
                                        "name": "Bónusz dátum"
                                    }
                                ]
                            },
                            "data": [
                                {
                                    "munkaId": "8",
                                    "MhelyId": "9",
                                    "DiakAz": "NULL",
                                    "allas": "kisegítő",
                                    "datum": "2003-06-19 00:00:00.000",
                                    "oradij": "300",
                                    "oraszam": "4",
                                    "kozepiskolas": "0",
                                    "Bónusz dátum": "2003-12-31"
                                },
                                {
                                    "munkaId": "9",
                                    "MhelyId": "9",
                                    "DiakAz": "6",
                                    "allas": "takarító",
                                    "datum": "2003-06-19 00:00:00.000",
                                    "oradij": "400",
                                    "oraszam": "4",
                                    "kozepiskolas": "0",
                                    "Bónusz dátum": "2003-12-31"
                                },
                                {
                                    "munkaId": "10",
                                    "MhelyId": "9",
                                    "DiakAz": "6",
                                    "allas": "takarító",
                                    "datum": "2003-06-20 00:00:00.000",
                                    "oradij": "400",
                                    "oraszam": "4",
                                    "kozepiskolas": "0",
                                    "Bónusz dátum": "2003-12-31"
                                },
                                {
                                    "munkaId": "11",
                                    "MhelyId": "9",
                                    "DiakAz": "8",
                                    "allas": "kisegítő",
                                    "datum": "2003-06-21 00:00:00.000",
                                    "oradij": "300",
                                    "oraszam": "6",
                                    "kozepiskolas": "1",
                                    "Bónusz dátum": "2003-12-31"
                                },
                                {
                                    "munkaId": "12",
                                    "MhelyId": "9",
                                    "DiakAz": "8",
                                    "allas": "kisegítő",
                                    "datum": "2003-06-22 00:00:00.000",
                                    "oradij": "300",
                                    "oraszam": "6",
                                    "kozepiskolas": "1",
                                    "Bónusz dátum": "2003-12-31"
                                },
                                {
                                    "munkaId": "13",
                                    "MhelyId": "9",
                                    "DiakAz": "6",
                                    "allas": "takarító",
                                    "datum": "2003-06-23 00:00:00.000",
                                    "oradij": "400",
                                    "oraszam": "4",
                                    "kozepiskolas": "0",
                                    "Bónusz dátum": "2003-12-31"
                                },
                                {
                                    "munkaId": "16",
                                    "MhelyId": "6",
                                    "DiakAz": "5",
                                    "allas": "pincér",
                                    "datum": "2003-06-11 00:00:00.000",
                                    "oradij": "450",
                                    "oraszam": "6",
                                    "kozepiskolas": "0",
                                    "Bónusz dátum": "2003-12-31"
                                },
                                {
                                    "munkaId": "17",
                                    "MhelyId": "6",
                                    "DiakAz": "5",
                                    "allas": "pincér",
                                    "datum": "2003-06-12 00:00:00.000",
                                    "oradij": "450",
                                    "oraszam": "6",
                                    "kozepiskolas": "0",
                                    "Bónusz dátum": "2003-12-31"
                                },
                                {
                                    "munkaId": "22",
                                    "MhelyId": "11",
                                    "DiakAz": "5",
                                    "allas": "eladó",
                                    "datum": "2003-05-10 00:00:00.000",
                                    "oradij": "400",
                                    "oraszam": "4",
                                    "kozepiskolas": "0",
                                    "Bónusz dátum": "2003-12-31"
                                },
                                {
                                    "munkaId": "23",
                                    "MhelyId": "11",
                                    "DiakAz": "6",
                                    "allas": "raktáros",
                                    "datum": "2003-05-20 00:00:00.000",
                                    "oradij": "300",
                                    "oraszam": "4",
                                    "kozepiskolas": "0",
                                    "Bónusz dátum": "2003-12-31"
                                },
                                {
                                    "munkaId": "24",
                                    "MhelyId": "11",
                                    "DiakAz": "5",
                                    "allas": "eladó",
                                    "datum": "2003-06-23 00:00:00.000",
                                    "oradij": "300",
                                    "oraszam": "6",
                                    "kozepiskolas": "0",
                                    "Bónusz dátum": "2003-12-31"
                                },
                                {
                                    "munkaId": "38",
                                    "MhelyId": "5",
                                    "DiakAz": "7",
                                    "allas": "eladó",
                                    "datum": "2003-06-05 00:00:00.000",
                                    "oradij": "400",
                                    "oraszam": "4",
                                    "kozepiskolas": "0",
                                    "Bónusz dátum": "2003-12-31"
                                },
                                {
                                    "munkaId": "39",
                                    "MhelyId": "5",
                                    "DiakAz": "7",
                                    "allas": "eladó",
                                    "datum": "2003-06-06 00:00:00.000",
                                    "oradij": "400",
                                    "oraszam": "4",
                                    "kozepiskolas": "0",
                                    "Bónusz dátum": "2003-12-31"
                                },
                                {
                                    "munkaId": "40",
                                    "MhelyId": "5",
                                    "DiakAz": "7",
                                    "allas": "eladó",
                                    "datum": "2003-06-07 00:00:00.000",
                                    "oradij": "400",
                                    "oraszam": "4",
                                    "kozepiskolas": "0",
                                    "Bónusz dátum": "2003-12-31"
                                }
                            ]
                        },
                        "text/html": [
                            "<table>",
                            "<tr><th>munkaId</th><th>MhelyId</th><th>DiakAz</th><th>allas</th><th>datum</th><th>oradij</th><th>oraszam</th><th>kozepiskolas</th><th>Bónusz dátum</th></tr>",
                            "<tr><td>8</td><td>9</td><td>NULL</td><td>kisegítő</td><td>2003-06-19 00:00:00.000</td><td>300</td><td>4</td><td>0</td><td>2003-12-31</td></tr>",
                            "<tr><td>9</td><td>9</td><td>6</td><td>takarító</td><td>2003-06-19 00:00:00.000</td><td>400</td><td>4</td><td>0</td><td>2003-12-31</td></tr>",
                            "<tr><td>10</td><td>9</td><td>6</td><td>takarító</td><td>2003-06-20 00:00:00.000</td><td>400</td><td>4</td><td>0</td><td>2003-12-31</td></tr>",
                            "<tr><td>11</td><td>9</td><td>8</td><td>kisegítő</td><td>2003-06-21 00:00:00.000</td><td>300</td><td>6</td><td>1</td><td>2003-12-31</td></tr>",
                            "<tr><td>12</td><td>9</td><td>8</td><td>kisegítő</td><td>2003-06-22 00:00:00.000</td><td>300</td><td>6</td><td>1</td><td>2003-12-31</td></tr>",
                            "<tr><td>13</td><td>9</td><td>6</td><td>takarító</td><td>2003-06-23 00:00:00.000</td><td>400</td><td>4</td><td>0</td><td>2003-12-31</td></tr>",
                            "<tr><td>16</td><td>6</td><td>5</td><td>pincér</td><td>2003-06-11 00:00:00.000</td><td>450</td><td>6</td><td>0</td><td>2003-12-31</td></tr>",
                            "<tr><td>17</td><td>6</td><td>5</td><td>pincér</td><td>2003-06-12 00:00:00.000</td><td>450</td><td>6</td><td>0</td><td>2003-12-31</td></tr>",
                            "<tr><td>22</td><td>11</td><td>5</td><td>eladó</td><td>2003-05-10 00:00:00.000</td><td>400</td><td>4</td><td>0</td><td>2003-12-31</td></tr>",
                            "<tr><td>23</td><td>11</td><td>6</td><td>raktáros</td><td>2003-05-20 00:00:00.000</td><td>300</td><td>4</td><td>0</td><td>2003-12-31</td></tr>",
                            "<tr><td>24</td><td>11</td><td>5</td><td>eladó</td><td>2003-06-23 00:00:00.000</td><td>300</td><td>6</td><td>0</td><td>2003-12-31</td></tr>",
                            "<tr><td>38</td><td>5</td><td>7</td><td>eladó</td><td>2003-06-05 00:00:00.000</td><td>400</td><td>4</td><td>0</td><td>2003-12-31</td></tr>",
                            "<tr><td>39</td><td>5</td><td>7</td><td>eladó</td><td>2003-06-06 00:00:00.000</td><td>400</td><td>4</td><td>0</td><td>2003-12-31</td></tr>",
                            "<tr><td>40</td><td>5</td><td>7</td><td>eladó</td><td>2003-06-07 00:00:00.000</td><td>400</td><td>4</td><td>0</td><td>2003-12-31</td></tr>",
                            "</table>"
                        ]
                    }
                }
            ],
            "execution_count": 7
        }
    ]
}